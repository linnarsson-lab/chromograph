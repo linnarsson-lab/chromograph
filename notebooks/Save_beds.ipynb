{
 "cells": [
  {
   "cell_type": "markdown",
   "metadata": {},
   "source": [
    "## Export bed files per sample"
   ]
  },
  {
   "cell_type": "code",
   "execution_count": 16,
   "metadata": {},
   "outputs": [],
   "source": [
    "import loompy\n",
    "import numpy as np\n",
    "import os\n",
    "import sys\n",
    "import pybedtools\n",
    "\n",
    "sys.path.append('/home/camiel/chromograph/')\n",
    "import chromograph\n",
    "from chromograph.peak_calling.utils import *"
   ]
  },
  {
   "cell_type": "code",
   "execution_count": 17,
   "metadata": {},
   "outputs": [
    {
     "name": "stdout",
     "output_type": "stream",
     "text": [
      "fragments: 4079833\n",
      "intervals 4079833\n",
      "Saved 10X232_1\n",
      "fragments: 4938272\n",
      "intervals 4938272\n",
      "Saved 10X232_2\n",
      "fragments: 5756753\n",
      "intervals 5756753\n",
      "Saved 10X232_3\n",
      "fragments: 6291423\n",
      "intervals 6291423\n",
      "Saved 10X232_4\n"
     ]
    }
   ],
   "source": [
    "samples = ['10X232_1', '10X232_2', '10X232_3', '10X232_4']\n",
    "\n",
    "path = '/data/proj/scATAC/chromograph/'\n",
    "for sample in samples:\n",
    "    p = os.path.join(path, sample, sample)\n",
    "    with loompy.connect(p + '_10kb.loom') as ds:\n",
    "        bed_file = p + '.bed'\n",
    "        fragments = [strFrags_to_list(x) for x in ds.ca['fragments']]\n",
    "        frags = [x for l in fragments for x in l]\n",
    "        print('fragments: {}'.format(len(frags)))\n",
    "        bed = pybedtools.BedTool(frags)\n",
    "        print('intervals {}'.format(len(bed)))\n",
    "        bed.saveas(bed_file)\n",
    "        print('Saved {}'.format(sample))"
   ]
  },
  {
   "cell_type": "code",
   "execution_count": 19,
   "metadata": {},
   "outputs": [
    {
     "data": {
      "text/plain": [
       "6291423"
      ]
     },
     "execution_count": 19,
     "metadata": {},
     "output_type": "execute_result"
    }
   ],
   "source": [
    "bed = pybedtools.BedTool(bed_file)\n",
    "len(bed)"
   ]
  }
 ],
 "metadata": {
  "kernelspec": {
   "display_name": "Chromograph (py3.7)",
   "language": "python",
   "name": "chromograph"
  },
  "language_info": {
   "codemirror_mode": {
    "name": "ipython",
    "version": 3
   },
   "file_extension": ".py",
   "mimetype": "text/x-python",
   "name": "python",
   "nbconvert_exporter": "python",
   "pygments_lexer": "ipython3",
   "version": "3.7.4"
  }
 },
 "nbformat": 4,
 "nbformat_minor": 4
}
