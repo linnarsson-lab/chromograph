{
 "cells": [
  {
   "cell_type": "markdown",
   "metadata": {},
   "source": [
    "## Generate 10kb and 20kb bin files"
   ]
  },
  {
   "cell_type": "code",
   "execution_count": 1,
   "metadata": {},
   "outputs": [
    {
     "name": "stderr",
     "output_type": "stream",
     "text": [
      "/home/camiel/anaconda3/envs/chromograph/lib/python3.7/site-packages/statsmodels/tools/_testing.py:19: FutureWarning: pandas.util.testing is deprecated. Use the functions in the public API at pandas.testing instead.\n",
      "  import pandas.util.testing as tm\n"
     ]
    }
   ],
   "source": [
    "\n",
    "import numpy as np\n",
    "import os\n",
    "import sys\n",
    "import pybedtools\n",
    "from pybedtools import BedTool\n",
    "import collections\n",
    "import csv\n",
    "import matplotlib.pyplot as plt\n",
    "import gzip\n",
    "import loompy\n",
    "import scipy.sparse as sparse\n",
    "import json\n",
    "import urllib.request\n",
    "import logging\n",
    "import pickle\n",
    "import importlib\n",
    "import scipy.sparse as sparse\n",
    "\n",
    "sys.path.append('/home/camiel/chromograph/')\n",
    "from chromograph.pipeline import config\n",
    "from chromograph.preprocessing.utils import *\n",
    "from chromograph.features.feature_count import *\n",
    "from chromograph.preprocessing.doublet_finder import doublet_finder"
   ]
  },
  {
   "cell_type": "code",
   "execution_count": 101,
   "metadata": {},
   "outputs": [],
   "source": [
    "def rebin(a, shape):\n",
    "    sh = shape[0],a.shape[0]//shape[0],shape[1],a.shape[1]//shape[1]\n",
    "    return a.reshape(sh).sum(-1).sum(1)\n",
    "\n",
    "def mergeBins(f, bin_size):\n",
    "    with loompy.connect(f, 'r') as ds:\n",
    "        factor = int(bin_size/5000)\n",
    "        \n",
    "        logging.info(f'Getting dense matrix')\n",
    "        data = ds[:,:].astype('int8')   \n",
    "        new_data = []\n",
    "\n",
    "        new_bins = {'chrom' : [], 'start': [], 'end': [], 'loc': []}\n",
    "        sizes = []\n",
    "        \n",
    "        ## Loop over chromosomes to compact bins\n",
    "        for i in np.unique(ds.ra.chrom):\n",
    "\n",
    "            ## If no remainder from dividing N original bins by factor\n",
    "            vals = data[ds.ra.chrom==i,:]\n",
    "            if vals.shape[0]%factor == 0:\n",
    "                X = rebin(vals, (int(vals.shape[0]/factor), vals.shape[1]))\n",
    "            else:\n",
    "                rem = vals.shape[0]%factor\n",
    "                X = rebin(vals[:-rem,:], (int(vals.shape[0]/factor), vals.shape[1]))\n",
    "                X2 = rebin(vals[-rem:,:], (1, vals.shape[1])) ## Merge the last (or last few) bins to one bin\n",
    "                X = np.vstack((X, X2))\n",
    "\n",
    "            new_data.append(X.astype('int8'))\n",
    "\n",
    "            for start, end in zip(ds.ra.start[ds.ra.chrom==i][::factor], ds.ra.end[ds.ra.chrom==i][(factor-1)::factor]):\n",
    "                new_bins['chrom'].append(i)\n",
    "                new_bins['start'].append(start)\n",
    "                new_bins['end'].append(end)\n",
    "                new_bins['loc'].append(f'{i}:{start}:{end}')\n",
    "\n",
    "            ## If there was a remainder, name of last bin will be the added to the dictionary\n",
    "            if len(ds.ra.end[ds.ra.chrom==i][(factor-1)::factor]) < X.shape[0]:\n",
    "                start = str(int(new_bins['end'][-1]) + 1)\n",
    "                end = np.max(ds.ra.end[ds.ra.chrom==i])\n",
    "                new_bins['chrom'].append(i)\n",
    "                new_bins['start'].append(start)\n",
    "                new_bins['end'].append(end)\n",
    "                new_bins['loc'].append(f'{i}:{start}:{end}')\n",
    "\n",
    "        logging.info(f'Generating sparse matrix')\n",
    "        matrix = sparse.coo_matrix(np.vstack(new_data)).tocsr()\n",
    "        \n",
    "        ## Create loomfile\n",
    "        logging.info(\"Constructing loomfile\")\n",
    "        sampleid = f.split('/')[-2] + '_' + str(int(bin_size/1000)) + 'kb'\n",
    "        floom = os.path.join(os.path.dirname(f), sampleid + '.loom')\n",
    "        \n",
    "        loompy.create(filename=floom, \n",
    "                      layers=matrix, \n",
    "                      row_attrs=new_bins, \n",
    "                      col_attrs=ds.ca,\n",
    "                      file_attrs=f_attrs)\n",
    "        \n",
    "        ## Change bin_size in attributes\n",
    "        with loompy.connect(floom) as dsout:\n",
    "            dsout.attrs['bin_size'] = bin_size\n",
    "        \n",
    "        logging.info(f\"Loom-file with {str(int(bin_size/1000)) + 'kb'} bins saved as {floom}\")"
   ]
  },
  {
   "cell_type": "code",
   "execution_count": 108,
   "metadata": {},
   "outputs": [
    {
     "name": "stdout",
     "output_type": "stream",
     "text": [
      "/data/proj/scATAC/samples/10X232_1/10X232_1_5k.loom\n"
     ]
    }
   ],
   "source": [
    "f = '/data/proj/scATAC/samples/10X232_1/10X232_1_30kb.loom'\n",
    "\n",
    "if not os.path.exists(f):\n",
    "    print(os.path.join(os.path.dirname(f), f'{f.split(\"/\")[-2]}_5k.loom'))"
   ]
  },
  {
   "cell_type": "code",
   "execution_count": 185,
   "metadata": {},
   "outputs": [
    {
     "name": "stderr",
     "output_type": "stream",
     "text": [
      "12:22:32 INFO     Finished chr1\n"
     ]
    },
    {
     "name": "stdout",
     "output_type": "stream",
     "text": [
      "(24896, 9510)\n",
      "24896\n"
     ]
    }
   ],
   "source": [
    "f = '/data/proj/scATAC/samples/10X232_1/10X232_1_5kb.loom'\n",
    "bsize = 10000\n",
    "\n",
    "# del out\n",
    "with loompy.connect(f, 'r') as ds:\n",
    "    factor = int(bsize/5000)\n",
    "    data = ds[:,:].astype('int8')   \n",
    "    new_data = []\n",
    "\n",
    "    new_bins = {'chrom' : [], 'start': [], 'end': [], 'loc': []}\n",
    "    sizes = []\n",
    "    for i in np.unique(ds.ra.chrom):\n",
    "\n",
    "        vals = data[ds.ra.chrom==i,:]\n",
    "        if vals.shape[0]%factor == 0:\n",
    "            X = rebin(vals, (int(vals.shape[0]/factor), vals.shape[1]))\n",
    "        else:\n",
    "            rem = vals.shape[0]%factor\n",
    "            X = rebin(vals[:-rem,:], (int(vals.shape[0]/factor), vals.shape[1]))\n",
    "            X2 = rebin(vals[-rem:,:], (1, vals.shape[1]))\n",
    "            X = np.vstack((X, X2))\n",
    "\n",
    "        new_data.append(X.astype('int8'))\n",
    "        \n",
    "        for start, end in zip(ds.ra.start[ds.ra.chrom==i][::factor], ds.ra.end[ds.ra.chrom==i][(factor-1)::factor]):\n",
    "            new_bins['chrom'].append(i)\n",
    "            new_bins['start'].append(start)\n",
    "            new_bins['end'].append(end)\n",
    "            new_bins['loc'].append(f'{i}:{start}:{end}')\n",
    "        \n",
    "        if len(ds.ra.end[ds.ra.chrom==i][(factor-1)::factor]) < X.shape[0]:\n",
    "            start = str(int(new_bins['end'][-1]) + 1)\n",
    "            end = np.max(ds.ra.end[ds.ra.chrom==i].astype('int'))\n",
    "            new_bins['chrom'].append(i)\n",
    "            new_bins['start'].append(start)\n",
    "            new_bins['end'].append(end)\n",
    "            new_bins['loc'].append(f'{i}:{start}:{end}')\n",
    "        \n",
    "        logging.info(f'Finished {i}')\n",
    "    out = np.vstack(new_data)\n",
    "print(out.shape)\n",
    "print(len(new_bins['loc']))"
   ]
  },
  {
   "cell_type": "code",
   "execution_count": 186,
   "metadata": {},
   "outputs": [
    {
     "name": "stdout",
     "output_type": "stream",
     "text": [
      "248915001 248925000\n",
      "248925001 248935000\n",
      "248935001 248945000\n",
      "248945001 248955000\n",
      "248955001 248956422\n"
     ]
    },
    {
     "data": {
      "text/plain": [
       "[None, None, None, None, None]"
      ]
     },
     "execution_count": 186,
     "metadata": {},
     "output_type": "execute_result"
    }
   ],
   "source": [
    "[print(x, y) for x, y in zip(new_bins['start'][-5:], new_bins['end'][-5:])]"
   ]
  },
  {
   "cell_type": "code",
   "execution_count": 150,
   "metadata": {},
   "outputs": [
    {
     "name": "stdout",
     "output_type": "stream",
     "text": [
      "[[0.49892199 0.0249461  0.00498922 0.00249461]\n",
      " [0.33328511 0.01666426 0.00333285 0.00166643]\n",
      " [0.27033918 0.01351696 0.00270339 0.0013517 ]]\n",
      "[[0.15019048 0.01057181 0.00215603 0.0010807 ]\n",
      " [0.10032882 0.00706208 0.00144025 0.00072192]\n",
      " [0.0813802  0.0057283  0.00116824 0.00058557]]\n",
      "[[0.13488133 0.0997844  0.08754599 0.08315366]\n",
      " [0.09010214 0.06665702 0.05848164 0.05554752]\n",
      " [0.07308499 0.05406784 0.0474365  0.04505653]]\n",
      "comparison 1 / 2\n",
      "[[3.32192809 2.35968164 2.31407893 2.30833677]\n",
      " [3.32192809 2.35968164 2.31407893 2.30833677]\n",
      " [3.32192809 2.35968164 2.31407893 2.30833677]]\n",
      "comparison 1 / 3\n",
      "[[3698970.00433602  250000.           56989.70004336   30000.        ]\n",
      " [3698970.00433602  250000.           56989.70004336   30000.        ]\n",
      " [3698970.00433602  250000.           56989.70004336   30000.        ]]\n",
      "comparison 2 / 3\n",
      "[[1.11350092 0.1059465  0.02462738 0.01299637]\n",
      " [1.11350092 0.1059465  0.02462738 0.01299637]\n",
      " [1.11350092 0.1059465  0.02462738 0.01299637]]\n"
     ]
    }
   ],
   "source": [
    "totals = np.array([5e3, 1e5, 5e5, 1e6])\n",
    "DF = np.log10(np.array([1e2, 1e3, 5e3]) + 1)\n",
    "\n",
    "TF = 1 / totals\n",
    "IDF = 1/ DF\n",
    "\n",
    "tf_idf1 = TF * 5000 * IDF[:,None]\n",
    "tf_idf2 = np.log10(TF*5000 + 1) * IDF[:,None]\n",
    "print(tf_idf1)\n",
    "print(tf_idf2)\n",
    "\n",
    "TF = 5000 / np.log10(totals)\n",
    "tf_idf3 = (1 / np.log10(totals)) * IDF[:,None]\n",
    "print(tf_idf3)\n",
    "\n",
    "print('comparison 1 / 2')\n",
    "print(tf_idf1/tf_idf2)\n",
    "\n",
    "print('comparison 1 / 3')\n",
    "print(tf_idf1*1000/tf_idf3*1000)   \n",
    "\n",
    "print('comparison 2 / 3')\n",
    "print(tf_idf2/tf_idf3) "
   ]
  },
  {
   "cell_type": "code",
   "execution_count": 148,
   "metadata": {},
   "outputs": [
    {
     "data": {
      "image/png": "[encoded data removed]",
      "text/plain": [
       "<Figure size 432x288 with 1 Axes>"
      ]
     },
     "metadata": {
      "needs_background": "light"
     },
     "output_type": "display_data"
    }
   ],
   "source": [
    "import scipy\n",
    "f = '/data/proj/scATAC/chromograph/build_20200608/Midbrain/Midbrain.loom'\n",
    "\n",
    "with loompy.connect(f) as ds:\n",
    "    v = ds['TF-IDF'].sparse()\n",
    "    plt.hist(v.data, bins=30)\n",
    "    "
   ]
  },
  {
   "cell_type": "code",
   "execution_count": 149,
   "metadata": {},
   "outputs": [
    {
     "data": {
      "image/png": "[encoded data removed]",
      "text/plain": [
       "<Figure size 432x288 with 1 Axes>"
      ]
     },
     "metadata": {
      "needs_background": "light"
     },
     "output_type": "display_data"
    }
   ],
   "source": [
    "import scipy\n",
    "f = '/data/proj/scATAC/chromograph/build_20200511/Midbrain/Midbrain.loom'\n",
    "\n",
    "with loompy.connect(f) as ds:\n",
    "    v = ds['TF-IDF'].sparse()\n",
    "    plt.hist(v.data, bins=30)"
   ]
  },
  {
   "cell_type": "code",
   "execution_count": 153,
   "metadata": {},
   "outputs": [
    {
     "data": {
      "text/plain": [
       "(array([2.3744250e+07, 6.6615502e+07, 7.2591691e+07, 7.4588610e+07,\n",
       "        5.8048523e+07, 3.8085015e+07, 2.6460825e+07, 1.9736248e+07,\n",
       "        1.4393351e+07, 1.0739374e+07, 8.0832770e+06, 6.0993030e+06,\n",
       "        4.6707390e+06, 3.7176860e+06, 2.9056850e+06, 2.2511390e+06,\n",
       "        1.6841070e+06, 1.1998060e+06, 8.3902500e+05, 6.2164900e+05,\n",
       "        4.2876500e+05, 3.1363800e+05, 2.3105900e+05, 1.6633400e+05,\n",
       "        1.2709300e+05, 8.8978000e+04, 5.4834000e+04, 2.7526000e+04,\n",
       "        8.8000000e+03, 1.7510000e+03]),\n",
       " array([0.05264, 0.0899 , 0.1272 , 0.1644 , 0.2018 , 0.239  , 0.2764 ,\n",
       "        0.3135 , 0.3508 , 0.3882 , 0.4253 , 0.4626 , 0.5    , 0.537  ,\n",
       "        0.5747 , 0.612  , 0.649  , 0.6865 , 0.7236 , 0.7607 , 0.7983 ,\n",
       "        0.8354 , 0.8726 , 0.91   , 0.9473 , 0.9844 , 1.021  , 1.059  ,\n",
       "        1.097  , 1.134  , 1.171  ], dtype=float16),\n",
       " <a list of 30 Patch objects>)"
      ]
     },
     "execution_count": 153,
     "metadata": {},
     "output_type": "execute_result"
    },
    {
     "data": {
      "image/png": "[encoded data removed]",
      "text/plain": [
       "<Figure size 432x288 with 1 Axes>"
      ]
     },
     "metadata": {
      "needs_background": "light"
     },
     "output_type": "display_data"
    }
   ],
   "source": [
    "plt.hist(np.log10(v.data+1), bins=30)"
   ]
  },
  {
   "cell_type": "code",
   "execution_count": 180,
   "metadata": {},
   "outputs": [
    {
     "name": "stdout",
     "output_type": "stream",
     "text": [
      "0.10613217383653581\n",
      "0.009545317906230361\n"
     ]
    }
   ],
   "source": [
    "TF = (1 / 15000) * 5000\n",
    "freq = 30000/2000\n",
    "IDF = np.log10(freq + 1)\n",
    "print(np.log10(TF/IDF + 1))\n",
    "\n",
    "IDF = freq\n",
    "print(np.log10(TF/IDF + 1))"
   ]
  },
  {
   "cell_type": "code",
   "execution_count": null,
   "metadata": {},
   "outputs": [],
   "source": []
  },
  {
   "cell_type": "code",
   "execution_count": 156,
   "metadata": {},
   "outputs": [
    {
     "data": {
      "text/plain": [
       "-0.1111111111111111"
      ]
     },
     "execution_count": 156,
     "metadata": {},
     "output_type": "execute_result"
    }
   ],
   "source": [
    "TF/IDF"
   ]
  },
  {
   "cell_type": "code",
   "execution_count": 83,
   "metadata": {},
   "outputs": [
    {
     "name": "stdout",
     "output_type": "stream",
     "text": [
      "(308827, 9510)\n",
      "308827\n",
      "(617643, 9510)\n"
     ]
    }
   ],
   "source": [
    "print(out.shape)\n",
    "print(len(new_bins['loc']))\n",
    "\n",
    "with loompy.connect(f, 'r') as ds:\n",
    "    print(ds.shape)"
   ]
  },
  {
   "cell_type": "code",
   "execution_count": 64,
   "metadata": {},
   "outputs": [
    {
     "name": "stdout",
     "output_type": "stream",
     "text": [
      "(14, 8)\n",
      "2\n",
      "[[3 0 0 1 1 0 2 3]\n",
      " [3 0 0 3 1 0 3 1]\n",
      " [2 0 0 2 2 0 1 4]\n",
      " [2 0 0 2 0 0 2 0]]\n"
     ]
    }
   ],
   "source": [
    "data = np.array([[1,0,0,0,0,0,1,0],\n",
    "                 [0,0,0,0,0,0,0,1], \n",
    "                 [1,0,0,0,1,0,1,1], \n",
    "                 [1,0,0,1,0,0,0,1],\n",
    "                 [0,0,0,1,1,0,0,1],\n",
    "                 [1,0,0,1,0,0,1,0],\n",
    "                 [1,0,0,1,0,0,1,0],\n",
    "                 [1,0,0,0,0,0,1,0],\n",
    "                 [0,0,0,0,0,0,0,1], \n",
    "                 [1,0,0,0,1,0,1,1], \n",
    "                 [1,0,0,1,0,0,0,1],\n",
    "                 [0,0,0,1,1,0,0,1],\n",
    "                 [1,0,0,1,0,0,1,0],\n",
    "                 [1,0,0,1,0,0,1,0]])\n",
    "\n",
    "print(data.shape)\n",
    "\n",
    "factor = 4\n",
    "\n",
    "def rebin(a, shape):\n",
    "    sh = shape[0],a.shape[0]//shape[0],shape[1],a.shape[1]//shape[1]\n",
    "    return a.reshape(sh).sum(-1).sum(1)\n",
    "\n",
    "if data.shape[0]%factor == 0:\n",
    "    X = rebin(data, (int(data.shape[0]/factor), data.shape[1]))\n",
    "\n",
    "else:\n",
    "    rem = data.shape[0]%factor\n",
    "    print(rem)\n",
    "    X = rebin(data[:-rem,:], (int(data.shape[0]/factor), data.shape[1]))\n",
    "    X2 = rebin(data[-rem:,:], (1, data.shape[1]))\n",
    "    X = np.vstack((X, X2))\n",
    "    \n",
    "print(X)"
   ]
  },
  {
   "cell_type": "code",
   "execution_count": 39,
   "metadata": {},
   "outputs": [
    {
     "data": {
      "text/plain": [
       "\u001b[0;31mDocstring:\u001b[0m\n",
       "a.reshape(shape, order='C')\n",
       "\n",
       "Returns an array containing the same data with a new shape.\n",
       "\n",
       "Refer to `numpy.reshape` for full documentation.\n",
       "\n",
       "See Also\n",
       "--------\n",
       "numpy.reshape : equivalent function\n",
       "\n",
       "Notes\n",
       "-----\n",
       "Unlike the free function `numpy.reshape`, this method on `ndarray` allows\n",
       "the elements of the shape parameter to be passed in as separate arguments.\n",
       "For example, ``a.reshape(10, 11)`` is equivalent to\n",
       "``a.reshape((10, 11))``.\n",
       "\u001b[0;31mType:\u001b[0m      builtin_function_or_method\n"
      ]
     },
     "metadata": {},
     "output_type": "display_data"
    }
   ],
   "source": [
    "?data.reshape"
   ]
  },
  {
   "cell_type": "code",
   "execution_count": null,
   "metadata": {},
   "outputs": [],
   "source": []
  }
 ],
 "metadata": {
  "kernelspec": {
   "display_name": "Chromograph (py3.7)",
   "language": "python",
   "name": "chromograph"
  },
  "language_info": {
   "codemirror_mode": {
    "name": "ipython",
    "version": 3
   },
   "file_extension": ".py",
   "mimetype": "text/x-python",
   "name": "python",
   "nbconvert_exporter": "python",
   "pygments_lexer": "ipython3",
   "version": "3.7.0"
  }
 },
 "nbformat": 4,
 "nbformat_minor": 4
}
