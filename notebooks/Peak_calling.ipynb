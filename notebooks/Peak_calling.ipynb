{
 "cells": [
  {
   "cell_type": "markdown",
   "metadata": {},
   "source": [
    "## Identify peaks per cluster"
   ]
  },
  {
   "cell_type": "code",
   "execution_count": 14,
   "metadata": {},
   "outputs": [
    {
     "name": "stderr",
     "output_type": "stream",
     "text": [
      "10:11:39 INFO     Read fragments into dict\n",
      "10:14:23 INFO     barcodes: 873   fragments: 53894596\n"
     ]
    }
   ],
   "source": [
    "import os\n",
    "import sys\n",
    "import loompy\n",
    "import numpy as np\n",
    "import pybedtools\n",
    "from pybedtools import BedTool\n",
    "\n",
    "from chromograph.preprocessing.utils import *\n",
    "from chromograph.pipeline import config\n",
    "config = config.load_config()\n",
    "\n",
    "logger = logging.getLogger()\n",
    "logging.basicConfig(\n",
    "    format='%(asctime)s %(levelname)-8s %(message)s',\n",
    "    level=logging.INFO,\n",
    "    datefmt='%H:%M:%S')\n",
    "\n",
    "# sample = sys.argv[1]\n",
    "sample = 'SF11215'\n",
    "\n",
    "file = os.path.join(config.paths.samples, f'10X{sample}', f'10X{sample}_20kb.loom')\n",
    "fdir = os.path.join(config.paths.samples, f'10X{sample}', 'fragments')\n",
    "ff = os.path.join('/data/proj/tumor/Kriegstein/ATAC_cellranger',  f'10X{sample}','outs/fragments.tsv.gz')\n",
    "\n",
    "## Read Fragments and generate size bins\n",
    "logging.info(\"Read fragments into dict\")\n",
    "frag_dict = read_fragments(ff)"
   ]
  },
  {
   "cell_type": "code",
   "execution_count": 19,
   "metadata": {},
   "outputs": [
    {
     "name": "stderr",
     "output_type": "stream",
     "text": [
      "10:26:05 INFO     barcoees with missing values 0\n"
     ]
    },
    {
     "data": {
      "image/png": "[encoded data removed]",
      "text/plain": [
       "<Figure size 432x288 with 1 Axes>"
      ]
     },
     "metadata": {
      "needs_background": "light"
     },
     "output_type": "display_data"
    }
   ],
   "source": [
    "tmp = []\n",
    "\n",
    "with loompy.connect(file, 'r') as ds:\n",
    "    barcodes = np.unique(ds.ca.barcode)\n",
    "    i = 0\n",
    "    for x in barcodes:\n",
    "        try:\n",
    "            tmp.append(BedTool(frag_dict[x]).count())\n",
    "        except:\n",
    "            i += 1        \n",
    "        \n",
    "plt.hist(tmp)\n",
    "logging.info(f'barcoees with missing values {i}')"
   ]
  },
  {
   "cell_type": "code",
   "execution_count": 29,
   "metadata": {},
   "outputs": [
    {
     "name": "stdout",
     "output_type": "stream",
     "text": [
      "['Annotation', 'Chr', 'CpG%', 'Detailed Annotation', 'Distance to TSS', 'End', 'Entrez ID', 'Focus Ratio-Region Size', 'GC%', 'Gene Alias', 'Gene Description', 'Gene Name', 'Gene Type', 'ID', 'NCells', 'Nearest Ensembl', 'Nearest PromoterID', 'Nearest Refseq', 'Nearest Unigene', 'Peak Score', 'Start', 'Strand']\n",
      "['chr1:10155-10326' 'chr1:181364-181783' 'chr1:190752-191885'\n",
      " 'chr1:778234-779397' 'chr1:794862-795186' 'chr1:817042-817492'\n",
      " 'chr1:817964-818355' 'chr1:818935-819622' 'chr1:821232-821611'\n",
      " 'chr1:826712-827920']\n"
     ]
    }
   ],
   "source": [
    "with loompy.connect('/data/proj/scATAC/chromograph/build_20200611/All/All_peaks.loom', 'r') as ds:\n",
    "    print(ds.ra.keys())\n",
    "    print(ds.ra.ID[:10])"
   ]
  },
  {
   "cell_type": "code",
   "execution_count": 7,
   "metadata": {},
   "outputs": [
    {
     "name": "stdout",
     "output_type": "stream",
     "text": [
      "/data/proj/scATAC/samples\n"
     ]
    }
   ],
   "source": [
    "## Split fragments to seperate files for fast indexing\n",
    "logging.info(f\"Saving fragments to separate folder for fast indexing\")\n",
    "if not os.path.isdir(fdir):\n",
    "    os.mkdir(fdir)\n",
    "\n",
    "\n",
    "## Save fragments to folder\n",
    "with loompy.connect(file, 'r') as ds:\n",
    "    barcodes = np.unique(ds.ca.barcode)\n",
    "    i = 0\n",
    "    for x in barcodes:\n",
    "        f = os.path.join(fdir, f'{x}.tsv.gz')\n",
    "        frags = BedTool(frag_dict[x]).saveas(f)\n",
    "        i += 1\n",
    "        if i%1000 == 0:\n",
    "            logging.info(f'Finished separating fragments for {i} cells')\n",
    "            \n",
    "logging.info(f'Exported all fragments for {sample}')"
   ]
  },
  {
   "cell_type": "code",
   "execution_count": 23,
   "metadata": {},
   "outputs": [],
   "source": [
    "# cBed = BedTool('/data/proj/scATAC/samples/10XSF11612/fragments/GGTTGCGTCCCGATTC-1.tsv.gz').remove_invalid()\n",
    "cBed = BedTool('/data/proj/scATAC/samples/10XSF11612/fragments/GGTTGCGTCCCGATTC-1.tsv.gz').sort()\n",
    "peaks = BedTool('/proj/DEV_ATAC/Kriegstein_20200711/All/peaks/Compounded_peaks.bed')\n",
    "\n",
    "inter = peaks.intersect(cBed, wa=True)"
   ]
  },
  {
   "cell_type": "code",
   "execution_count": 1,
   "metadata": {},
   "outputs": [],
   "source": [
    "import numpy as np\n",
    "import os\n",
    "import sys\n",
    "import logging\n",
    "import collections\n",
    "import matplotlib.pyplot as plt\n",
    "import gzip\n",
    "import glob\n",
    "import loompy\n",
    "import pybedtools\n",
    "from pybedtools import BedTool\n",
    "import multiprocessing as mp\n",
    "from typing import *\n",
    "\n",
    "sys.path.append('/home/camiel/chromograph/')\n",
    "import chromograph\n",
    "from chromograph.peak_calling.utils import *            \n",
    "from chromograph.pipeline import config\n",
    "from chromograph.peak_calling import call_MACS\n",
    "import shutil\n",
    "\n",
    "logger = logging.getLogger()\n",
    "logging.basicConfig(\n",
    "    format='%(asctime)s %(levelname)-8s %(message)s',\n",
    "    level=logging.INFO,\n",
    "    datefmt='%H:%M:%S')\n",
    "\n",
    "from chromograph.pipeline import config\n",
    "config = config.load_config()\n",
    "\n",
    "# # Parameters\n",
    "# ds = loompy.connect('/data/proj/scATAC/chromograph/build_20191206/Cerebellum.loom')\n",
    "# logging.info(f'ds connection: {ds.shape}')"
   ]
  },
  {
   "cell_type": "code",
   "execution_count": 3,
   "metadata": {},
   "outputs": [
    {
     "ename": "BEDToolsError",
     "evalue": "\nCommand was:\n\n\tbedtools intersect -wa -b /data/proj/scATAC/samples/10XSF11964/fragments/TCAAGACAGAGAACCC-1.tsv.gz -a /proj/DEV_ATAC/Kriegstein_20200711/All/peaks/Compounded_peaks.bed\n\nError message was:\nError: line number 32060 of file /data/proj/scATAC/samples/10XSF11964/fragments/TCAAGACAGAGAACCC-1.tsv.gz has 2 fields, but 3 were expected.\n",
     "output_type": "error",
     "traceback": [
      "\u001b[0;31m---------------------------------------------------------------------------\u001b[0m",
      "\u001b[0;31mBEDToolsError\u001b[0m                             Traceback (most recent call last)",
      "\u001b[0;32m<ipython-input-3-bb6e3b94415e>\u001b[0m in \u001b[0;36m<module>\u001b[0;34m\u001b[0m\n\u001b[1;32m      7\u001b[0m \u001b[0mpeaks\u001b[0m \u001b[0;34m=\u001b[0m \u001b[0mBedTool\u001b[0m\u001b[0;34m(\u001b[0m\u001b[0mf2\u001b[0m\u001b[0;34m)\u001b[0m\u001b[0;34m\u001b[0m\u001b[0;34m\u001b[0m\u001b[0m\n\u001b[1;32m      8\u001b[0m \u001b[0;34m\u001b[0m\u001b[0m\n\u001b[0;32m----> 9\u001b[0;31m \u001b[0mpks\u001b[0m \u001b[0;34m=\u001b[0m \u001b[0mpeaks\u001b[0m\u001b[0;34m.\u001b[0m\u001b[0mintersect\u001b[0m\u001b[0;34m(\u001b[0m\u001b[0mcBed\u001b[0m\u001b[0;34m,\u001b[0m \u001b[0mwa\u001b[0m\u001b[0;34m=\u001b[0m\u001b[0;32mTrue\u001b[0m\u001b[0;34m)\u001b[0m\u001b[0;34m\u001b[0m\u001b[0;34m\u001b[0m\u001b[0m\n\u001b[0m",
      "\u001b[0;32m~/anaconda3/envs/chromo/lib/python3.7/site-packages/pybedtools/bedtool.py\u001b[0m in \u001b[0;36mdecorated\u001b[0;34m(self, *args, **kwargs)\u001b[0m\n\u001b[1;32m    915\u001b[0m             \u001b[0;31m# this calls the actual method in the first place; *result* is\u001b[0m\u001b[0;34m\u001b[0m\u001b[0;34m\u001b[0m\u001b[0;34m\u001b[0m\u001b[0m\n\u001b[1;32m    916\u001b[0m             \u001b[0;31m# whatever you get back\u001b[0m\u001b[0;34m\u001b[0m\u001b[0;34m\u001b[0m\u001b[0;34m\u001b[0m\u001b[0m\n\u001b[0;32m--> 917\u001b[0;31m             \u001b[0mresult\u001b[0m \u001b[0;34m=\u001b[0m \u001b[0mmethod\u001b[0m\u001b[0;34m(\u001b[0m\u001b[0mself\u001b[0m\u001b[0;34m,\u001b[0m \u001b[0;34m*\u001b[0m\u001b[0margs\u001b[0m\u001b[0;34m,\u001b[0m \u001b[0;34m**\u001b[0m\u001b[0mkwargs\u001b[0m\u001b[0;34m)\u001b[0m\u001b[0;34m\u001b[0m\u001b[0;34m\u001b[0m\u001b[0m\n\u001b[0m\u001b[1;32m    918\u001b[0m \u001b[0;34m\u001b[0m\u001b[0m\n\u001b[1;32m    919\u001b[0m             \u001b[0;31m# add appropriate tags\u001b[0m\u001b[0;34m\u001b[0m\u001b[0;34m\u001b[0m\u001b[0;34m\u001b[0m\u001b[0m\n",
      "\u001b[0;32m~/anaconda3/envs/chromo/lib/python3.7/site-packages/pybedtools/bedtool.py\u001b[0m in \u001b[0;36mwrapped\u001b[0;34m(self, *args, **kwargs)\u001b[0m\n\u001b[1;32m    399\u001b[0m                 \u001b[0mstdin\u001b[0m\u001b[0;34m=\u001b[0m\u001b[0mstdin\u001b[0m\u001b[0;34m,\u001b[0m\u001b[0;34m\u001b[0m\u001b[0;34m\u001b[0m\u001b[0m\n\u001b[1;32m    400\u001b[0m                 \u001b[0mcheck_stderr\u001b[0m\u001b[0;34m=\u001b[0m\u001b[0mcheck_stderr\u001b[0m\u001b[0;34m,\u001b[0m\u001b[0;34m\u001b[0m\u001b[0;34m\u001b[0m\u001b[0m\n\u001b[0;32m--> 401\u001b[0;31m                 \u001b[0mdecode_output\u001b[0m\u001b[0;34m=\u001b[0m\u001b[0mdecode_output\u001b[0m\u001b[0;34m,\u001b[0m\u001b[0;34m\u001b[0m\u001b[0;34m\u001b[0m\u001b[0m\n\u001b[0m\u001b[1;32m    402\u001b[0m             )\n\u001b[1;32m    403\u001b[0m \u001b[0;34m\u001b[0m\u001b[0m\n",
      "\u001b[0;32m~/anaconda3/envs/chromo/lib/python3.7/site-packages/pybedtools/helpers.py\u001b[0m in \u001b[0;36mcall_bedtools\u001b[0;34m(cmds, tmpfn, stdin, check_stderr, decode_output, encode_input)\u001b[0m\n\u001b[1;32m    453\u001b[0m                 \u001b[0msys\u001b[0m\u001b[0;34m.\u001b[0m\u001b[0mstderr\u001b[0m\u001b[0;34m.\u001b[0m\u001b[0mwrite\u001b[0m\u001b[0;34m(\u001b[0m\u001b[0mstderr\u001b[0m\u001b[0;34m)\u001b[0m\u001b[0;34m\u001b[0m\u001b[0;34m\u001b[0m\u001b[0m\n\u001b[1;32m    454\u001b[0m             \u001b[0;32melse\u001b[0m\u001b[0;34m:\u001b[0m\u001b[0;34m\u001b[0m\u001b[0;34m\u001b[0m\u001b[0m\n\u001b[0;32m--> 455\u001b[0;31m                 \u001b[0;32mraise\u001b[0m \u001b[0mBEDToolsError\u001b[0m\u001b[0;34m(\u001b[0m\u001b[0msubprocess\u001b[0m\u001b[0;34m.\u001b[0m\u001b[0mlist2cmdline\u001b[0m\u001b[0;34m(\u001b[0m\u001b[0mcmds\u001b[0m\u001b[0;34m)\u001b[0m\u001b[0;34m,\u001b[0m \u001b[0mstderr\u001b[0m\u001b[0;34m)\u001b[0m\u001b[0;34m\u001b[0m\u001b[0;34m\u001b[0m\u001b[0m\n\u001b[0m\u001b[1;32m    456\u001b[0m \u001b[0;34m\u001b[0m\u001b[0m\n\u001b[1;32m    457\u001b[0m     \u001b[0;32mexcept\u001b[0m \u001b[0;34m(\u001b[0m\u001b[0mOSError\u001b[0m\u001b[0;34m,\u001b[0m \u001b[0mIOError\u001b[0m\u001b[0;34m)\u001b[0m \u001b[0;32mas\u001b[0m \u001b[0merr\u001b[0m\u001b[0;34m:\u001b[0m\u001b[0;34m\u001b[0m\u001b[0;34m\u001b[0m\u001b[0m\n",
      "\u001b[0;31mBEDToolsError\u001b[0m: \nCommand was:\n\n\tbedtools intersect -wa -b /data/proj/scATAC/samples/10XSF11964/fragments/TCAAGACAGAGAACCC-1.tsv.gz -a /proj/DEV_ATAC/Kriegstein_20200711/All/peaks/Compounded_peaks.bed\n\nError message was:\nError: line number 32060 of file /data/proj/scATAC/samples/10XSF11964/fragments/TCAAGACAGAGAACCC-1.tsv.gz has 2 fields, but 3 were expected.\n"
     ]
    }
   ],
   "source": [
    "from chromograph.peak_calling.utils import export_bigwig\n",
    "\n",
    "f1 = '/data/proj/scATAC/samples/10XSF11964/fragments/TCAAGACAGAGAACCC-1.tsv.gz'\n",
    "f2 = '/proj/DEV_ATAC/Kriegstein_20200711/All/peaks/Compounded_peaks.bed'\n",
    "\n",
    "cBed = BedTool(f1)\n",
    "peaks = BedTool(f2)\n",
    "\n",
    "pks = peaks.intersect(cBed, wa=True)"
   ]
  },
  {
   "cell_type": "code",
   "execution_count": 4,
   "metadata": {},
   "outputs": [
    {
     "data": {
      "text/plain": [
       "32252"
      ]
     },
     "execution_count": 4,
     "metadata": {},
     "output_type": "execute_result"
    }
   ],
   "source": [
    "cBed.count()"
   ]
  },
  {
   "cell_type": "markdown",
   "metadata": {},
   "source": [
    "## Bigwig"
   ]
  },
  {
   "cell_type": "code",
   "execution_count": 77,
   "metadata": {
    "collapsed": true,
    "jupyter": {
     "outputs_hidden": true
    }
   },
   "outputs": [
    {
     "name": "stderr",
     "output_type": "stream",
     "text": [
      "13:19:43 INFO     Start merging fragments by cluster\n",
      "13:19:44 INFO     Finished with cluster 0\n",
      "13:19:45 INFO     Finished with cluster 1\n",
      "13:19:46 INFO     Finished with cluster 2\n",
      "13:19:47 INFO     Finished with cluster 3\n",
      "13:19:48 INFO     Finished with cluster 4\n",
      "13:19:50 INFO     Finished with cluster 5\n",
      "13:19:52 INFO     Finished with cluster 6\n",
      "13:19:52 INFO     Finished with cluster 7\n",
      "13:19:53 INFO     Finished with cluster 8\n",
      "13:19:54 INFO     Finished with cluster 9\n",
      "13:19:55 INFO     Finished with cluster 10\n",
      "13:19:55 INFO     Finished with cluster 11\n",
      "13:19:58 INFO     Finished with cluster 12\n",
      "13:19:59 INFO     Finished with cluster 13\n",
      "13:20:01 INFO     Finished with cluster 14\n",
      "13:20:01 INFO     Finished with cluster 15\n",
      "13:20:03 INFO     Finished with cluster 16\n",
      "13:20:03 INFO     Downsample\n",
      "13:20:23 INFO     cluster 0 was not downsampled\n",
      "13:20:37 INFO     cluster 1 was not downsampled\n",
      "13:20:57 INFO     cluster 2 was not downsampled\n",
      "13:21:07 INFO     cluster 3 was not downsampled\n",
      "13:21:23 INFO     cluster 4 was not downsampled\n",
      "13:21:40 INFO     cluster 5 was not downsampled\n",
      "13:21:59 INFO     cluster 6 was not downsampled\n",
      "13:22:13 INFO     cluster 7 was not downsampled\n",
      "13:22:18 INFO     cluster 8 was not downsampled\n",
      "13:22:35 INFO     cluster 9 was not downsampled\n",
      "13:22:50 INFO     cluster 10 was not downsampled\n",
      "13:22:58 INFO     cluster 11 was not downsampled\n",
      "13:23:33 INFO     cluster 12 was not downsampled\n",
      "13:23:56 INFO     cluster 13 was not downsampled\n",
      "13:24:19 INFO     cluster 14 was not downsampled\n",
      "13:24:32 INFO     cluster 15 was not downsampled\n",
      "13:24:47 INFO     cluster 16 was not downsampled\n",
      "13:25:19 INFO     finished sorting 0\n"
     ]
    },
    {
     "name": "stdout",
     "output_type": "stream",
     "text": [
      "chr1\t88262\t88705\n",
      " chr1\t135189\t135222\n",
      " chr1\t183795\t183826\n",
      " chr1\t191414\t191567\n",
      " chr1\t202474\t202518\n",
      " chr1\t277594\t277629\n",
      " chr1\t629918\t629957\n",
      " chr1\t629925\t630034\n",
      " chr1\t631733\t632053\n",
      " chr1\t634005\t634051\n",
      " None\n"
     ]
    },
    {
     "name": "stderr",
     "output_type": "stream",
     "text": [
      "13:25:41 INFO     finished sorting 1\n"
     ]
    },
    {
     "name": "stdout",
     "output_type": "stream",
     "text": [
      "chr1\t85704\t85789\n",
      " chr1\t181428\t181463\n",
      " chr1\t181466\t181520\n",
      " chr1\t599309\t599398\n",
      " chr1\t777907\t777935\n",
      " chr1\t778370\t778618\n",
      " chr1\t778429\t778637\n",
      " chr1\t778570\t778663\n",
      " chr1\t778575\t778615\n",
      " chr1\t778608\t778687\n",
      " None\n"
     ]
    },
    {
     "name": "stderr",
     "output_type": "stream",
     "text": [
      "13:26:13 INFO     finished sorting 2\n"
     ]
    },
    {
     "name": "stdout",
     "output_type": "stream",
     "text": [
      "chr1\t17408\t17494\n",
      " chr1\t77060\t77127\n",
      " chr1\t78907\t79098\n",
      " chr1\t181421\t181712\n",
      " chr1\t181473\t181629\n",
      " chr1\t181519\t181548\n",
      " chr1\t182461\t182809\n",
      " chr1\t184302\t184494\n",
      " chr1\t191422\t191509\n",
      " chr1\t191439\t191503\n",
      " None\n"
     ]
    },
    {
     "name": "stderr",
     "output_type": "stream",
     "text": [
      "13:26:30 INFO     finished sorting 3\n"
     ]
    },
    {
     "name": "stdout",
     "output_type": "stream",
     "text": [
      "chr1\t16236\t16267\n",
      " chr1\t191311\t191344\n",
      " chr1\t191318\t191503\n",
      " chr1\t191526\t191743\n",
      " chr1\t268717\t269067\n",
      " chr1\t274012\t274087\n",
      " chr1\t629913\t630434\n",
      " chr1\t629918\t629962\n",
      " chr1\t634006\t634038\n",
      " chr1\t634015\t634037\n",
      " None\n"
     ]
    },
    {
     "name": "stderr",
     "output_type": "stream",
     "text": [
      "13:26:57 INFO     finished sorting 4\n"
     ]
    },
    {
     "name": "stdout",
     "output_type": "stream",
     "text": [
      "chr1\t79651\t80048\n",
      " chr1\t181348\t181505\n",
      " chr1\t181479\t181780\n",
      " chr1\t191316\t191532\n",
      " chr1\t191412\t191558\n",
      " chr1\t191426\t191863\n",
      " chr1\t191429\t191496\n",
      " chr1\t191437\t191483\n",
      " chr1\t191447\t191560\n",
      " chr1\t191450\t191560\n",
      " None\n"
     ]
    },
    {
     "name": "stderr",
     "output_type": "stream",
     "text": [
      "13:27:25 INFO     finished sorting 5\n"
     ]
    },
    {
     "name": "stdout",
     "output_type": "stream",
     "text": [
      "chr1\t181471\t181602\n",
      " chr1\t184459\t184728\n",
      " chr1\t191415\t191481\n",
      " chr1\t191415\t191488\n",
      " chr1\t191421\t191483\n",
      " chr1\t191427\t191535\n",
      " chr1\t191429\t191532\n",
      " chr1\t191432\t191493\n",
      " chr1\t191445\t191554\n",
      " chr1\t191530\t191709\n",
      " None\n"
     ]
    },
    {
     "name": "stderr",
     "output_type": "stream",
     "text": [
      "13:27:55 INFO     finished sorting 6\n"
     ]
    },
    {
     "name": "stdout",
     "output_type": "stream",
     "text": [
      "chr1\t181434\t181576\n",
      " chr1\t182024\t182053\n",
      " chr1\t184459\t184742\n",
      " chr1\t190815\t191066\n",
      " chr1\t190824\t190934\n",
      " chr1\t191236\t191445\n",
      " chr1\t191412\t191509\n",
      " chr1\t191415\t191501\n",
      " chr1\t191415\t191542\n",
      " chr1\t191422\t191501\n",
      " None\n"
     ]
    },
    {
     "name": "stderr",
     "output_type": "stream",
     "text": [
      "13:28:17 INFO     finished sorting 7\n"
     ]
    },
    {
     "name": "stdout",
     "output_type": "stream",
     "text": [
      "chr1\t181044\t181166\n",
      " chr1\t191254\t191450\n",
      " chr1\t191422\t191491\n",
      " chr1\t191530\t191588\n",
      " chr1\t191530\t191706\n",
      " chr1\t586196\t586221\n",
      " chr1\t629758\t629942\n",
      " chr1\t629925\t629967\n",
      " chr1\t629927\t630148\n",
      " chr1\t633957\t634045\n",
      " None\n"
     ]
    },
    {
     "name": "stderr",
     "output_type": "stream",
     "text": [
      "13:28:26 INFO     finished sorting 8\n"
     ]
    },
    {
     "name": "stdout",
     "output_type": "stream",
     "text": [
      "chr1\t118581\t118777\n",
      " chr1\t181369\t181457\n",
      " chr1\t191422\t191450\n",
      " chr1\t191479\t191535\n",
      " chr1\t634015\t634057\n",
      " chr1\t729357\t729709\n",
      " chr1\t778477\t778554\n",
      " chr1\t778553\t778712\n",
      " chr1\t778599\t778667\n",
      " chr1\t778602\t778750\n",
      " None\n"
     ]
    },
    {
     "name": "stderr",
     "output_type": "stream",
     "text": [
      "13:28:54 INFO     finished sorting 9\n"
     ]
    },
    {
     "name": "stdout",
     "output_type": "stream",
     "text": [
      "chr1\t55506\t55572\n",
      " chr1\t184460\t184695\n",
      " chr1\t186609\t186924\n",
      " chr1\t190822\t191048\n",
      " chr1\t190971\t191045\n",
      " chr1\t191377\t191530\n",
      " chr1\t191525\t191708\n",
      " chr1\t278060\t278163\n",
      " chr1\t606596\t606824\n",
      " chr1\t629913\t629957\n",
      " None\n"
     ]
    },
    {
     "name": "stderr",
     "output_type": "stream",
     "text": [
      "13:29:17 INFO     finished sorting 10\n"
     ]
    },
    {
     "name": "stdout",
     "output_type": "stream",
     "text": [
      "chr1\t16236\t16270\n",
      " chr1\t181109\t181260\n",
      " chr1\t181129\t181160\n",
      " chr1\t181357\t181547\n",
      " chr1\t181446\t181506\n",
      " chr1\t181470\t181495\n",
      " chr1\t184468\t184579\n",
      " chr1\t190822\t191044\n",
      " chr1\t191377\t191535\n",
      " chr1\t191411\t191447\n",
      " None\n"
     ]
    },
    {
     "name": "stderr",
     "output_type": "stream",
     "text": [
      "13:29:32 INFO     finished sorting 11\n"
     ]
    },
    {
     "name": "stdout",
     "output_type": "stream",
     "text": [
      "chr1\t10157\t10186\n",
      " chr1\t133146\t133200\n",
      " chr1\t181350\t181381\n",
      " chr1\t181434\t181481\n",
      " chr1\t191412\t191447\n",
      " chr1\t191428\t191509\n",
      " chr1\t191526\t191557\n",
      " chr1\t191526\t191838\n",
      " chr1\t729357\t729703\n",
      " chr1\t733826\t733893\n",
      " None\n"
     ]
    },
    {
     "name": "stderr",
     "output_type": "stream",
     "text": [
      "13:30:26 INFO     finished sorting 12\n"
     ]
    },
    {
     "name": "stdout",
     "output_type": "stream",
     "text": [
      "chr1\t17478\t17556\n",
      " chr1\t87163\t87202\n",
      " chr1\t88302\t88719\n",
      " chr1\t109155\t109198\n",
      " chr1\t123757\t123797\n",
      " chr1\t181047\t181160\n",
      " chr1\t181247\t181393\n",
      " chr1\t181357\t181451\n",
      " chr1\t181376\t181488\n",
      " chr1\t181405\t181466\n",
      " None\n"
     ]
    },
    {
     "name": "stderr",
     "output_type": "stream",
     "text": [
      "13:31:02 INFO     finished sorting 13\n"
     ]
    },
    {
     "name": "stdout",
     "output_type": "stream",
     "text": [
      "chr1\t55499\t55562\n",
      " chr1\t89840\t89896\n",
      " chr1\t180991\t181160\n",
      " chr1\t181441\t181479\n",
      " chr1\t181446\t181556\n",
      " chr1\t182771\t182855\n",
      " chr1\t184459\t184507\n",
      " chr1\t184459\t184641\n",
      " chr1\t186997\t187080\n",
      " chr1\t190815\t190980\n",
      " None\n"
     ]
    },
    {
     "name": "stderr",
     "output_type": "stream",
     "text": [
      "13:31:39 INFO     finished sorting 14\n"
     ]
    },
    {
     "name": "stdout",
     "output_type": "stream",
     "text": [
      "chr1\t10247\t10309\n",
      " chr1\t17298\t17506\n",
      " chr1\t55546\t55680\n",
      " chr1\t64567\t64676\n",
      " chr1\t88158\t88193\n",
      " chr1\t101802\t101842\n",
      " chr1\t115635\t115752\n",
      " chr1\t180513\t180916\n",
      " chr1\t181095\t181124\n",
      " chr1\t181323\t181458\n",
      " None\n"
     ]
    },
    {
     "name": "stderr",
     "output_type": "stream",
     "text": [
      "13:32:00 INFO     finished sorting 15\n"
     ]
    },
    {
     "name": "stdout",
     "output_type": "stream",
     "text": [
      "chr1\t16216\t16248\n",
      " chr1\t79639\t79704\n",
      " chr1\t181248\t181446\n",
      " chr1\t181389\t181531\n",
      " chr1\t181402\t181494\n",
      " chr1\t184326\t184480\n",
      " chr1\t185704\t185852\n",
      " chr1\t190820\t191008\n",
      " chr1\t190961\t191264\n",
      " chr1\t190973\t191344\n",
      " None\n"
     ]
    },
    {
     "name": "stderr",
     "output_type": "stream",
     "text": [
      "13:32:24 INFO     finished sorting 16\n"
     ]
    },
    {
     "name": "stdout",
     "output_type": "stream",
     "text": [
      "chr1\t10085\t10273\n",
      " chr1\t48165\t48192\n",
      " chr1\t87148\t87441\n",
      " chr1\t180798\t181032\n",
      " chr1\t181124\t181151\n",
      " chr1\t181129\t181271\n",
      " chr1\t181346\t181462\n",
      " chr1\t181431\t181500\n",
      " chr1\t181446\t181519\n",
      " chr1\t190819\t191044\n",
      " None\n"
     ]
    }
   ],
   "source": [
    "## Create an example pileup\n",
    "fdir = '/data/proj/scATAC/chromograph/build_20200513_glioma/Glioma/'\n",
    "f = os.path.join(fdir, 'Glioma.loom')\n",
    "fsamples = '/data/proj/scATAC/samples'\n",
    "peakdir = '/data/proj/scATAC/chromograph/tmp/peaks'\n",
    "\n",
    "with loompy.connect(f, 'r') as ds:\n",
    "    chunks = []\n",
    "    for i in np.unique(ds.ca.Clusters):\n",
    "        cells = [x.split(':') for x in ds.ca['CellID'][ds.ca['Clusters'] == i]]\n",
    "        files = [os.path.join(fsamples, x[0], 'fragments', f'{x[1]}.tsv.gz') for x in cells]\n",
    "        if len(cells) > 50:\n",
    "            chunks.append([i,files])\n",
    "\n",
    "    logging.info('Start merging fragments by cluster')\n",
    "    piles = []\n",
    "    for ck in chunks:\n",
    "        files = np.array(ck[1])\n",
    "        ex = np.array([os.path.exists(x) for x in files])\n",
    "        files = files[ex]\n",
    "\n",
    "        fmerge = os.path.join(peakdir, f'fragments_{ck[0]}.tsv.gz')\n",
    "        with open(fmerge, 'wb') as out:\n",
    "            for f in files:\n",
    "                with open(f, 'rb') as file:\n",
    "                    shutil.copyfileobj(file, out)\n",
    "        piles.append([ck[0], fmerge])\n",
    "        logging.info(f'Finished with cluster {ck[0]}')\n",
    "   \n",
    "    logging.info('Downsample')\n",
    "    for pile in piles:\n",
    "        bed_downsample(pile, 2.5e7)\n",
    "        \n",
    "    for pile in piles:\n",
    "        f_unzip = f'{pile[1].split(\".\")[0]}.tsv'\n",
    "        f_sort = f'{pile[1].split(\".\")[0]}_sorted.bed'\n",
    "        os.system(f'gunzip {pile[1]}')\n",
    "        cmd = f'sort -k 1,1 -k2,2n {f_unzip} > {f_sort}'\n",
    "        os.system(cmd)\n",
    "        \n",
    "        ## Save only sorted result\n",
    "        os.system(f'rm {pile[1]} {f_unzip}')\n",
    "        pile[1] = f_sort\n",
    "        logging.info(f'finished sorting {pile[0]}')"
   ]
  },
  {
   "cell_type": "code",
   "execution_count": null,
   "metadata": {},
   "outputs": [
    {
     "name": "stderr",
     "output_type": "stream",
     "text": [
      "16:34:18 INFO     Finished merging files\n",
      "16:34:23 INFO     cluster 0 was not downsampled\n",
      "16:34:31 INFO     finished sorting\n",
      "16:35:00 INFO     Exported bigwig for cluster 0\n",
      "16:36:46 INFO     Finished merging files\n",
      "16:50:56 INFO     Total fragments: 90237522 in cluster 1, downsampled to 24996909\n",
      "16:53:47 INFO     finished sorting\n",
      "16:57:35 INFO     Exported bigwig for cluster 1\n",
      "16:59:06 INFO     Finished merging files\n",
      "17:13:04 INFO     Total fragments: 89456720 in cluster 2, downsampled to 25007089\n",
      "17:15:54 INFO     finished sorting\n",
      "17:19:45 INFO     Exported bigwig for cluster 2\n",
      "17:19:49 INFO     Finished merging files\n",
      "17:19:58 INFO     cluster 3 was not downsampled\n",
      "17:20:13 INFO     finished sorting\n",
      "17:20:51 INFO     Exported bigwig for cluster 3\n",
      "17:20:56 INFO     Finished merging files\n",
      "17:21:05 INFO     cluster 4 was not downsampled\n",
      "17:21:21 INFO     finished sorting\n",
      "17:21:58 INFO     Exported bigwig for cluster 4\n",
      "17:22:01 INFO     Finished merging files\n",
      "17:22:07 INFO     cluster 5 was not downsampled\n",
      "17:22:19 INFO     finished sorting\n",
      "17:22:51 INFO     Exported bigwig for cluster 5\n",
      "17:22:59 INFO     Finished merging files\n",
      "17:23:13 INFO     cluster 6 was not downsampled\n",
      "17:23:37 INFO     finished sorting\n",
      "17:24:25 INFO     Exported bigwig for cluster 6\n",
      "17:24:32 INFO     Finished merging files\n",
      "17:24:56 INFO     cluster 7 was not downsampled\n",
      "17:25:38 INFO     finished sorting\n",
      "17:26:52 INFO     Exported bigwig for cluster 7\n",
      "17:27:10 INFO     Finished merging files\n",
      "17:28:07 INFO     cluster 8 was not downsampled\n",
      "17:29:50 INFO     finished sorting\n",
      "17:32:31 INFO     Exported bigwig for cluster 8\n",
      "17:32:38 INFO     Finished merging files\n",
      "17:33:02 INFO     cluster 9 was not downsampled\n",
      "17:33:43 INFO     finished sorting\n",
      "17:34:56 INFO     Exported bigwig for cluster 9\n",
      "17:36:18 INFO     Finished merging files\n",
      "17:49:27 INFO     Total fragments: 82708699 in cluster 10, downsampled to 24998709\n",
      "17:52:22 INFO     finished sorting\n",
      "17:56:16 INFO     Exported bigwig for cluster 10\n",
      "17:56:46 INFO     Finished merging files\n",
      "18:03:03 INFO     Total fragments: 27340634 in cluster 11, downsampled to 24999484\n",
      "18:05:49 INFO     finished sorting\n",
      "18:09:38 INFO     Exported bigwig for cluster 11\n",
      "18:10:53 INFO     Finished merging files\n",
      "18:21:14 INFO     Total fragments: 60534720 in cluster 12, downsampled to 24997242\n",
      "18:24:05 INFO     finished sorting\n",
      "18:27:58 INFO     Exported bigwig for cluster 12\n",
      "18:29:14 INFO     Finished merging files\n",
      "18:41:00 INFO     Total fragments: 71093109 in cluster 13, downsampled to 24996510\n",
      "18:43:52 INFO     finished sorting\n",
      "18:47:40 INFO     Exported bigwig for cluster 13\n",
      "18:48:40 INFO     Finished merging files\n",
      "18:57:46 INFO     Total fragments: 49490286 in cluster 14, downsampled to 24996522\n",
      "19:00:36 INFO     finished sorting\n",
      "19:04:21 INFO     Exported bigwig for cluster 14\n",
      "19:04:32 INFO     Finished merging files\n",
      "19:04:54 INFO     cluster 15 was not downsampled\n",
      "19:05:32 INFO     finished sorting\n",
      "19:06:38 INFO     Exported bigwig for cluster 15\n",
      "19:07:20 INFO     Finished merging files\n",
      "19:14:42 INFO     Total fragments: 36016229 in cluster 16, downsampled to 25004536\n",
      "19:17:41 INFO     finished sorting\n",
      "19:21:21 INFO     Exported bigwig for cluster 16\n",
      "19:21:59 INFO     Finished merging files\n",
      "19:28:33 INFO     Total fragments: 29544376 in cluster 17, downsampled to 25000202\n",
      "19:31:25 INFO     finished sorting\n",
      "19:35:09 INFO     Exported bigwig for cluster 17\n",
      "19:35:16 INFO     Finished merging files\n",
      "19:35:42 INFO     cluster 18 was not downsampled\n",
      "19:36:27 INFO     finished sorting\n",
      "19:37:43 INFO     Exported bigwig for cluster 18\n",
      "19:38:44 INFO     Finished merging files\n"
     ]
    }
   ],
   "source": [
    "def export_bigwig(ds: loompy.LoomConnection, sample_dir, peak_dir, cluster):\n",
    "    '''\n",
    "    Calculates coverage for a cluster and exports as a bigwig file\n",
    "    '''\n",
    "    cells = [x.split(':') for x in ds.ca['CellID'][ds.ca['Clusters'] == i]]\n",
    "    files = np.array([os.path.join(sample_dir, x[0], 'fragments', f'{x[1]}.tsv.gz') for x in cells])\n",
    "\n",
    "    ## Check if all files exist\n",
    "    ex = np.array([os.path.exists(x) for x in files])\n",
    "    files = files[ex]\n",
    "\n",
    "    fmerge = os.path.join(peak_dir, f'fragments_{cluster}.tsv.gz')\n",
    "    with open(fmerge, 'wb') as out:\n",
    "        for f in files:\n",
    "            with open(f, 'rb') as file:\n",
    "                shutil.copyfileobj(file, out)\n",
    "    logging.info(f'Finished merging files')\n",
    "    \n",
    "    ## Downsample\n",
    "    bed_downsample([cluster, fmerge], 2.5e7)\n",
    "   \n",
    "    ## Unzip and sort\n",
    "    f_unzip = f'{fmerge.split(\".\")[0]}.tsv'\n",
    "    f_sort = f'{fmerge.split(\".\")[0]}_sorted.bed'\n",
    "    os.system(f'gunzip {fmerge}')\n",
    "    os.system(f'sort -k 1,1 -k2,2n {f_unzip} > {f_sort}')\n",
    "    os.system(f'rm {fmerge} {f_unzip}')\n",
    "    logging.info(f'finished sorting')\n",
    "    \n",
    "    ## Calculate coverage and scale to CPM\n",
    "    cov = 1e6 / BedTool(f_sort).count()\n",
    "    f_bg = f'{f_sort.split(\".\")[0]}.bdg'\n",
    "    f_genome = os.path.join(chromograph.__path__[0], 'references/male.GRCh38.chrom.sizes')\n",
    "    os.system(f'bedtools genomecov -i {f_sort} -g {f_genome} -scale {cov} -bg > {f_bg}')\n",
    "    \n",
    "    ## Convert to bigwig\n",
    "    outfile = os.path.join(peak_dir, f'cluster_{str(cluster)}.bw')\n",
    "    pybedtools.contrib.bigwig.bedgraph_to_bigwig(BedTool(f_bg), genome='hg38', output=outfile)\n",
    "    \n",
    "    ## Clean up\n",
    "    os.system(f'rm {f_bg} {f_sort}')        4\n",
    "    logging.info(f'Exported bigwig for cluster {cluster}')\n",
    "    \n",
    "    return\n",
    "\n",
    "## Create an example pileup\n",
    "build = '/data/proj/scATAC/chromograph/build_20200611/Cerebellum'\n",
    "peak_dir = os.path.join(build, 'peaks')\n",
    "fsamples = '/data/proj/scATAC/samples'\n",
    "f = os.path.join(build, 'Cerebellum_GA.loom')\n",
    "\n",
    "with loompy.connect(f, 'r') as ds:\n",
    "    for i in np.unique(ds.ca.Clusters):\n",
    "        export_bigwig(ds, fsamples, peak_dir, cluster = i)"
   ]
  },
  {
   "cell_type": "code",
   "execution_count": 87,
   "metadata": {},
   "outputs": [
    {
     "name": "stderr",
     "output_type": "stream",
     "text": [
      "14:47:14 INFO     Finished calculating coverage for 0\n",
      "14:48:06 INFO     Finished calculating coverage for 1\n",
      "14:49:07 INFO     Finished calculating coverage for 2\n",
      "14:49:45 INFO     Finished calculating coverage for 3\n",
      "14:50:38 INFO     Finished calculating coverage for 4\n",
      "14:51:35 INFO     Finished calculating coverage for 5\n",
      "14:52:32 INFO     Finished calculating coverage for 6\n",
      "14:53:22 INFO     Finished calculating coverage for 7\n",
      "14:53:51 INFO     Finished calculating coverage for 8\n",
      "14:54:48 INFO     Finished calculating coverage for 9\n",
      "14:55:36 INFO     Finished calculating coverage for 10\n",
      "14:56:15 INFO     Finished calculating coverage for 11\n",
      "14:57:54 INFO     Finished calculating coverage for 12\n",
      "14:59:02 INFO     Finished calculating coverage for 13\n",
      "15:00:08 INFO     Finished calculating coverage for 14\n",
      "15:00:55 INFO     Finished calculating coverage for 15\n",
      "15:01:45 INFO     Finished calculating coverage for 16\n"
     ]
    }
   ],
   "source": [
    "## Calculate genomve coverage\n",
    "for pile in piles:\n",
    "    cov = 1e6 / BedTool(pile[1]).count()\n",
    "    f_bg = f'{pile[1].split(\".\")[0]}.bdg'\n",
    "    f_genome = os.path.join(chromograph.__path__[0], 'references/male.GRCh38.chrom.sizes')\n",
    "    cmd = f'bedtools genomecov -i {pile[1]} -g {f_genome} -scale {cov} -bg > {f_bg}'\n",
    "    os.system(cmd)\n",
    "    \n",
    "    outfile = os.path.join(peakdir, f'cluster_{str(pile[0])}.bw')\n",
    "    pybedtools.contrib.bigwig.bedgraph_to_bigwig(BedTool(f_bg), genome='hg38', output=outfile)\n",
    "    \n",
    "    os.system(f'rm {f_bg} {pile[1]}')\n",
    "    logging.info(f'Converted to bigwig {pile[0]}')"
   ]
  },
  {
   "cell_type": "code",
   "execution_count": 26,
   "metadata": {},
   "outputs": [],
   "source": [
    "# # pybedtools.helpers.set_bedtools_path(\"/home/camiel/anaconda3/envs/chromograph/bin/\")\n",
    "f = '/data/proj/scATAC/chromograph/build_20191205/peaks/NA_treat_pileup.bdg'\n",
    "f2 = '/data/proj/scATAC/chromograph/tmp/peaks/sorted.bdg'\n",
    "# cmd = f'sort -k1,1 -k2,2 {f} > {f2}'\n",
    "# os.system(cmd)\n",
    "cov = BedTool(f)\n",
    "\n",
    "# outfile = '/data/proj/scATAC/chromograph/tmp/peaks/NA_pileup.bw'\n",
    "# pybedtools.contrib.bigwig.bedgraph_to_bigwig(cov, genome='hg38', output=outfile)\n",
    "# f'~/anaconda3/envs/chromograph/bin/bedGraphToBigWig {f} /home/camiel/chromograph/chromograph/references/male.GRCh38.chrom.sizes {outfile}'"
   ]
  },
  {
   "cell_type": "code",
   "execution_count": 46,
   "metadata": {},
   "outputs": [
    {
     "data": {
      "text/plain": [
       "'/data/proj/scATAC/chromograph/tmp/peaks/test_pile.bw'"
      ]
     },
     "execution_count": 46,
     "metadata": {},
     "output_type": "execute_result"
    }
   ],
   "source": [
    "f = '/data/proj/scATAC/chromograph/tmp/peaks/cluster_1_copy.bdg'\n",
    "cov = BedTool(f)\n",
    "\n",
    "outfile = '/data/proj/scATAC/chromograph/tmp/peaks/test_pile.bw'\n",
    "pybedtools.contrib.bigwig.bedgraph_to_bigwig(cov, genome='hg38', output=outfile)"
   ]
  },
  {
   "cell_type": "code",
   "execution_count": 44,
   "metadata": {},
   "outputs": [
    {
     "name": "stdout",
     "output_type": "stream",
     "text": [
      "chrY\t56879856\t56881549\t0.00000\n",
      "chrY\t56881549\t56881620\t0.04012\n",
      "chrY\t56881620\t56882796\t0.00000\n",
      "chrY\t56882796\t56882973\t0.04012\n",
      "chrY\t56882973\t56884615\t0.00000\n",
      "chrY\t56884615\t56884794\t0.04012\n",
      "chrY\t56884794\t56886330\t0.00000\n",
      "chrY\t56886330\t56886567\t0.04012\n",
      "chrY\t56886567\t56886870\t0.00000\n",
      "chrY\t56886870\t56887056\t0.04012\n",
      "\n"
     ]
    }
   ],
   "source": [
    "f = '/data/proj/scATAC/chromograph/tmp/peaks/cluster_1_treat_pileup.bdg'\n",
    "cov = BedTool(f)\n",
    "cov.tail()"
   ]
  },
  {
   "cell_type": "markdown",
   "metadata": {},
   "source": [
    "## Downsample"
   ]
  },
  {
   "cell_type": "code",
   "execution_count": 2,
   "metadata": {},
   "outputs": [
    {
     "name": "stderr",
     "output_type": "stream",
     "text": [
      "18:08:45 INFO     cluster test has fraction: 0.07093095028038296\n",
      "18:09:57 INFO     Total fragments: 14098218 in cluster test, downsampled to 998549\n"
     ]
    }
   ],
   "source": [
    "f = ['test', '/home/camiel/chromograph/notebooks/tmp/fragments_0.tsv.gz']\n",
    "chromograph.peak_calling.utils.bed_downsample(f, 1e6)"
   ]
  },
  {
   "cell_type": "code",
   "execution_count": 14,
   "metadata": {},
   "outputs": [
    {
     "name": "stderr",
     "output_type": "stream",
     "text": [
      "100%|██████████| 15569/15569 [00:00<00:00, 139146.98it/s]"
     ]
    },
    {
     "name": "stdout",
     "output_type": "stream",
     "text": [
      "15570\n"
     ]
    },
    {
     "name": "stderr",
     "output_type": "stream",
     "text": [
      "\n"
     ]
    }
   ],
   "source": [
    "from tqdm import tqdm\n",
    "\n",
    "f = '/data/proj/scATAC/samples/10X232_3/fragments/CTGGCAGAGTCGTACT-1.tsv.gz'\n",
    "f_all = '/data/proj/scATAC/chromograph/build_20200426/All/peaks/Compounded_peaks.bed'\n",
    "tmp = BedTool(f)\n",
    "peaks = BedTool(f_all)\n",
    "              \n",
    "pks = peaks.intersect(tmp, wa=True)\n",
    "\n",
    "i = 1\n",
    "\n",
    "for x in tqdm(pks):\n",
    "    i += 1\n",
    "print(i)"
   ]
  },
  {
   "cell_type": "markdown",
   "metadata": {},
   "source": [
    "## Compare peak files"
   ]
  },
  {
   "cell_type": "code",
   "execution_count": 2,
   "metadata": {},
   "outputs": [],
   "source": [
    "f_cerebellum = '/data/proj/scATAC/chromograph/build_20200426/Cerebellum/peaks/Compounded_peaks.bed'\n",
    "f_all = '/data/proj/scATAC/chromograph/build_20200426/All/peaks/Compounded_peaks.bed'"
   ]
  },
  {
   "cell_type": "code",
   "execution_count": 3,
   "metadata": {},
   "outputs": [],
   "source": [
    "Cerebellum = BedTool(f_cerebellum)\n",
    "All = BedTool(f_all)"
   ]
  },
  {
   "cell_type": "code",
   "execution_count": 4,
   "metadata": {},
   "outputs": [
    {
     "name": "stderr",
     "output_type": "stream",
     "text": [
      "17:03:44 INFO     Peaks in Cerebellum: 289275. Count in full set: 436220\n"
     ]
    }
   ],
   "source": [
    "Count_Cerebellum = Cerebellum.count()\n",
    "Count_all = All.count()\n",
    "\n",
    "logging.info(f'Peaks in Cerebellum: {Count_Cerebellum}. Count in full set: {Count_all}')"
   ]
  },
  {
   "cell_type": "code",
   "execution_count": 7,
   "metadata": {},
   "outputs": [
    {
     "name": "stderr",
     "output_type": "stream",
     "text": [
      "17:06:19 INFO     Cerebellum peaks in full set 247820, 85.66934577823871 %\n"
     ]
    }
   ],
   "source": [
    "inter = Cerebellum.intersect(All, wa=True).count()\n",
    "logging.info(f'Cerebellum peaks in full set {inter}, {(inter/Count_Cerebellum)*100} %')"
   ]
  },
  {
   "cell_type": "markdown",
   "metadata": {},
   "source": [
    "## Explore peaks"
   ]
  },
  {
   "cell_type": "code",
   "execution_count": 8,
   "metadata": {},
   "outputs": [],
   "source": [
    "## Merge Peak lists\n",
    "peakdir = '/data/proj/scATAC/chromograph/build_20200414_Hindbrain/peaks/'"
   ]
  },
  {
   "cell_type": "code",
   "execution_count": 3,
   "metadata": {},
   "outputs": [
    {
     "name": "stderr",
     "output_type": "stream",
     "text": [
      "10:42:12 INFO     Length of the BedTools: 270213\n"
     ]
    }
   ],
   "source": [
    "peaks = BedTool(os.path.join(peakdir, 'Compounded_peaks.bed'))\n",
    "l = peaks.count()\n",
    "\n",
    "logging.info(f'Length of the BedTools: {l}')"
   ]
  },
  {
   "cell_type": "code",
   "execution_count": 4,
   "metadata": {},
   "outputs": [
    {
     "data": {
      "text/plain": [
       "(270213, 21)"
      ]
     },
     "execution_count": 4,
     "metadata": {},
     "output_type": "execute_result"
    }
   ],
   "source": [
    "f_annot = os.path.join(peakdir, 'annotated_peaks.txt')\n",
    "cols, table = read_HOMER_annotation(f_annot)\n",
    "table.shape"
   ]
  },
  {
   "cell_type": "code",
   "execution_count": 7,
   "metadata": {},
   "outputs": [],
   "source": [
    "peak_IDs = np.array([x[3] for x in peaks])\n",
    "\n",
    "table = reorder_by_IDs(table, peak_IDs)"
   ]
  },
  {
   "cell_type": "code",
   "execution_count": 8,
   "metadata": {},
   "outputs": [],
   "source": [
    "## Save as dict    \n",
    "annot = {cols[i]: table[:,i] for i in range(table.shape[1])}"
   ]
  },
  {
   "cell_type": "code",
   "execution_count": 44,
   "metadata": {},
   "outputs": [
    {
     "data": {
      "text/plain": [
       "{'ID': array(['chr1:28958-29333', 'chr1:180967-181164', 'chr1:181357-181709',\n",
       "        ..., 'chrY:56839027-56839223', 'chrY:56842612-56842884',\n",
       "        'chrY:56855817-56856007'], dtype=object),\n",
       " 'Chr': array(['chr1', 'chr1', 'chr1', ..., 'chrY', 'chrY', 'chrY'], dtype=object),\n",
       " 'Start': array(['28959', '180968', '181358', ..., '56839028', '56842613',\n",
       "        '56855818'], dtype=object),\n",
       " 'End': array(['29333', '181164', '181709', ..., '56839223', '56842884',\n",
       "        '56856007'], dtype=object),\n",
       " 'Strand': array(['+', '+', '+', ..., '+', '+', '+'], dtype=object),\n",
       " 'Peak Score': array(['.', '.', '.', ..., '.', '.', '.'], dtype=object),\n",
       " 'Focus Ratio/Region Size': array(['NA', 'NA', 'NA', ..., 'NA', 'NA', 'NA'], dtype=object),\n",
       " 'Annotation': array(['promoter-TSS (ENST00000473358.1)', 'Intergenic', 'Intergenic',\n",
       "        ..., 'Intergenic', 'Intergenic', 'TTS (ENST00000431853.1)'],\n",
       "       dtype=object),\n",
       " 'Detailed Annotation': array(['lincRNA-promoter-TSS (ENST00000473358.1)', 'Intergenic',\n",
       "        'Intergenic', ..., 'Intergenic', 'Intergenic',\n",
       "        'processed_pseudogene-TTS (ENST00000431853.1)'], dtype=object),\n",
       " 'Distance to TSS': array(['-408', '-1630', '-1163', ..., '-16119', '-12496', '668'],\n",
       "       dtype=object),\n",
       " 'Nearest PromoterID': array(['ENST00000473358.1', 'ENST00000624431.2', 'ENST00000624431.2', ...,\n",
       "        'ENST00000431853.1', 'ENST00000431853.1', 'ENST00000431853.1'],\n",
       "       dtype=object),\n",
       " 'Entrez ID': array(['ENSG00000243485', 'ENSG00000279928', 'ENSG00000279928', ...,\n",
       "        'ENSG00000235857', 'ENSG00000235857', 'ENSG00000235857'],\n",
       "       dtype=object),\n",
       " 'Nearest Unigene': array(['ENST00000469289', 'ENST00000624431', 'ENST00000624431', ...,\n",
       "        'ENST00000431853', 'ENST00000431853', 'ENST00000431853'],\n",
       "       dtype=object),\n",
       " 'Nearest Refseq': array(['', '', '', ..., '', '', ''], dtype=object),\n",
       " 'Nearest Ensembl': array(['', '', '', ..., '', '', ''], dtype=object),\n",
       " 'Gene Name': array(['RP11-34P13.3', 'ABC7-43046700E7.1', 'ABC7-43046700E7.1', ...,\n",
       "        'AC025226.2', 'AC025226.2', 'AC025226.2'], dtype=object),\n",
       " 'Gene Alias': array(['', '', '', ..., '', '', ''], dtype=object),\n",
       " 'Gene Description': array(['', '', '', ..., '', '', ''], dtype=object),\n",
       " 'Gene Type': array(['lincRNA', 'unprocessed_pseudogene', 'unprocessed_pseudogene', ...,\n",
       "        'processed_pseudogene', 'processed_pseudogene',\n",
       "        'processed_pseudogene'], dtype=object),\n",
       " 'CpG%': array(['0.112299', '0.091837', '0.122507', ..., '0.020513', '0.011070',\n",
       "        '0.005291'], dtype=object),\n",
       " 'GC%': array(['0.768000', '0.644670', '0.730114', ..., '0.489796', '0.492647',\n",
       "        '0.405263'], dtype=object)}"
      ]
     },
     "execution_count": 44,
     "metadata": {},
     "output_type": "execute_result"
    }
   ],
   "source": [
    "annot"
   ]
  },
  {
   "cell_type": "code",
   "execution_count": 10,
   "metadata": {},
   "outputs": [],
   "source": [
    "r_dict = {k: v for v,k in enumerate(annot['ID'])}"
   ]
  },
  {
   "cell_type": "code",
   "execution_count": null,
   "metadata": {},
   "outputs": [],
   "source": [
    "def plot_peak_annotation_wheel(annotation, outfile):\n",
    "    '''\n",
    "    '''\n",
    "    simple_annotation = np.array([x.split(' ')[0] for x in annotation['Annotation']])\n",
    "\n",
    "    counts = {}\n",
    "    for x in np.unique(simple_annotation):\n",
    "        counts[x] = np.sum(simple_annotation == x)\n",
    "        \n",
    "    labels = 'Intergenic', 'Intron', 'Promoter-TSS', 'Exon', 'TTS'\n",
    "\n",
    "    fig, ax = plt.subplots(figsize = (12,10))\n",
    "    plt.rcParams[\"font.size\"] = \"10\"\n",
    "\n",
    "    size = 0.4\n",
    "    vals = np.array([counts[x] for x in labels])\n",
    "\n",
    "    cmap = plt.get_cmap(\"tab20c\")\n",
    "    outer_colors = cmap(np.arange(2)*4 + 1)[[1,0],:]\n",
    "    inner_colors = cmap(np.array([0,1,2,3,4]))[::-1,:]\n",
    "\n",
    "    ax.pie([vals[0], sum(vals[1:])], radius=1, colors=outer_colors,\n",
    "           wedgeprops=dict(width=size, edgecolor='w'), startangle=90)\n",
    "\n",
    "    def func(pct, allvals):\n",
    "        absolute = int(pct/100.*np.sum(allvals))\n",
    "        return \"{:.1f}%\\n({:d})\".format(pct, absolute)\n",
    "\n",
    "    wedges, texts, autotexts = ax.pie(vals.flatten(), radius=1-size, colors=inner_colors, autopct=lambda pct: func(pct, vals), pctdistance=1.2, \n",
    "           wedgeprops=dict(width=size, edgecolor='w'), startangle=90)\n",
    "\n",
    "    ax.set(aspect=\"equal\")\n",
    "    ax.set_title('Intra- vs. Intergenic Peaks', fontsize=24)\n",
    "\n",
    "    ax.legend(wedges, labels,\n",
    "              title=\"Regions\",\n",
    "              loc=\"center left\",\n",
    "              bbox_to_anchor=(1, 0, 0.5, 1))\n",
    "\n",
    "    plt.savefig(outfile)"
   ]
  },
  {
   "cell_type": "code",
   "execution_count": null,
   "metadata": {},
   "outputs": [],
   "source": [
    "f = os.path.join('/Users/camima/data/scATAC/', 'annotated_peaks.txt')\n",
    "peaks_all = BedTool(f)\n"
   ]
  },
  {
   "cell_type": "code",
   "execution_count": 11,
   "metadata": {},
   "outputs": [
    {
     "name": "stdout",
     "output_type": "stream",
     "text": [
      "{'Intergenic': 92716, 'TTS': 8049, 'exon': 12630, 'intron': 139889, 'promoter-TSS': 16929}\n"
     ]
    }
   ],
   "source": [
    "simple_annotation = np.array([x.split(' ')[0] for x in annot['Annotation']])\n",
    "\n",
    "counts = {}\n",
    "for x in np.unique(simple_annotation):\n",
    "    counts[x] = np.sum(simple_annotation == x)\n",
    "    \n",
    "print(counts)"
   ]
  },
  {
   "cell_type": "code",
   "execution_count": 38,
   "metadata": {},
   "outputs": [
    {
     "data": {
      "image/png": "[encoded data removed]",
      "text/plain": [
       "<Figure size 864x720 with 1 Axes>"
      ]
     },
     "metadata": {},
     "output_type": "display_data"
    }
   ],
   "source": [
    "labels = 'Intergenic', 'Intron', 'Promoter-TSS', 'Exon', 'TTS'\n",
    "\n",
    "fig, ax = plt.subplots(figsize = (12,10))\n",
    "plt.rcParams[\"font.size\"] = \"10\"\n",
    "\n",
    "size = 0.4\n",
    "vals = np.array([counts['Intergenic'], counts['intron'], counts['promoter-TSS'], counts['exon'], counts['TTS']])\n",
    "\n",
    "cmap = plt.get_cmap(\"tab20c\")\n",
    "outer_colors = cmap(np.arange(2)*4 + 1)[[1,0],:]\n",
    "inner_colors = cmap(np.array([0,1,2,3,4]))[::-1,:]\n",
    "\n",
    "ax.pie([vals[0], sum(vals[1:])], radius=1, colors=outer_colors,\n",
    "       wedgeprops=dict(width=size, edgecolor='w'), startangle=90)\n",
    "\n",
    "def func(pct, allvals):\n",
    "    absolute = int(pct/100.*np.sum(allvals))\n",
    "    return \"{:.1f}%\\n({:d})\".format(pct, absolute)\n",
    "\n",
    "wedges, texts, autotexts = ax.pie(vals.flatten(), radius=1-size, colors=inner_colors, autopct=lambda pct: func(pct, vals), pctdistance=1.2, \n",
    "       wedgeprops=dict(width=size, edgecolor='w'), startangle=90)\n",
    "\n",
    "ax.set(aspect=\"equal\")\n",
    "ax.set_title('Intra- vs. Intergenic Peaks', fontsize=24)\n",
    "\n",
    "ax.legend(wedges, labels,\n",
    "          title=\"Regions\",\n",
    "          loc=\"center left\",\n",
    "          bbox_to_anchor=(1, 0, 0.5, 1))\n",
    "\n",
    "plt.savefig('/data/proj/scATAC/chromograph/tmp/Midbrain_peaks.png')\n",
    "plt.show()"
   ]
  },
  {
   "cell_type": "code",
   "execution_count": 21,
   "metadata": {},
   "outputs": [
    {
     "name": "stdout",
     "output_type": "stream",
     "text": [
      "22786\n"
     ]
    }
   ],
   "source": [
    "peak_list = BedTool([(annot['Chr'][x], str(annot['Start'][x]), str(annot['End'][x]), str(annot['ID'][x])) for x in range(len(annot['Chr']))]).saveas()\n",
    "\n",
    "for x in ['tss', 'transcripts', 'promoter', 'enhancer', 'dnase', 'ctcf', 'blacklist']:\n",
    "    sub = BedTool(os.path.join(config.paths.ref, 'regions', f'{x}.bed'))\n",
    "    peak_list = peak_list.subtract(sub, A=True)\n",
    "    \n",
    "for x in ['regulatory.gff', 'genes.gtf']:\n",
    "    sub = BedTool(os.path.join(config.paths.ref, 'genes', x))\n",
    "    peak_list = peak_list.subtract(sub, A=True)\n",
    "    \n",
    "peak_list.saveas()\n",
    "print(peak_list.count())"
   ]
  },
  {
   "cell_type": "code",
   "execution_count": 22,
   "metadata": {},
   "outputs": [],
   "source": [
    "unknown_peaks = [x[3] for x in peak_list]"
   ]
  },
  {
   "cell_type": "code",
   "execution_count": 24,
   "metadata": {},
   "outputs": [
    {
     "name": "stderr",
     "output_type": "stream",
     "text": [
      "11:02:33 INFO     Finished 0 out of 270213\n",
      "11:02:58 INFO     Finished 100000 out of 270213\n",
      "11:03:24 INFO     Finished 200000 out of 270213\n"
     ]
    }
   ],
   "source": [
    "regs = []\n",
    "nPeaks = len(annot['Annotation'])\n",
    "for i in range(len(annot['Annotation'])):\n",
    "    \n",
    "    if annot['ID'][i] in unknown_peaks:\n",
    "        regs.append(annot['Annotation'][i])\n",
    "\n",
    "    if i%100000 == 0:\n",
    "        logging.info(f'Finished {i} out of {nPeaks}')\n",
    "unknown_annotation = np.array([x.split(' ')[0] for x in regs])"
   ]
  },
  {
   "cell_type": "code",
   "execution_count": 25,
   "metadata": {},
   "outputs": [
    {
     "name": "stdout",
     "output_type": "stream",
     "text": [
      "{'Intergenic': 21954, 'TTS': 550, 'promoter-TSS': 282}\n"
     ]
    }
   ],
   "source": [
    "unk_counts = {}\n",
    "for x in np.unique(unknown_annotation):\n",
    "    unk_counts[x] = np.sum(unknown_annotation == x)\n",
    "    \n",
    "print(unk_counts)"
   ]
  },
  {
   "cell_type": "code",
   "execution_count": 26,
   "metadata": {},
   "outputs": [
    {
     "data": {
      "text/plain": [
       "0.23678760947409294"
      ]
     },
     "execution_count": 26,
     "metadata": {},
     "output_type": "execute_result"
    }
   ],
   "source": [
    "unk_counts['Intergenic'] / counts['Intergenic']"
   ]
  },
  {
   "cell_type": "markdown",
   "metadata": {},
   "source": [
    "## Find Differentially accessible regions for the identified clusters"
   ]
  }
 ],
 "metadata": {
  "kernelspec": {
   "display_name": "Chromograph (py3.7)",
   "language": "python",
   "name": "chromo"
  },
  "language_info": {
   "codemirror_mode": {
    "name": "ipython",
    "version": 3
   },
   "file_extension": ".py",
   "mimetype": "text/x-python",
   "name": "python",
   "nbconvert_exporter": "python",
   "pygments_lexer": "ipython3",
   "version": "3.7.3"
  }
 },
 "nbformat": 4,
 "nbformat_minor": 4
}
