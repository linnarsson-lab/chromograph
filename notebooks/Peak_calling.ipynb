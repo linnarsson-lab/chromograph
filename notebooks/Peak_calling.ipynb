{
 "cells": [
  {
   "cell_type": "markdown",
   "metadata": {},
   "source": [
    "## Identify peaks per cluster"
   ]
  },
  {
   "cell_type": "code",
   "execution_count": 1,
   "metadata": {},
   "outputs": [],
   "source": [
    "import numpy as np\n",
    "import os\n",
    "import sys\n",
    "import logging\n",
    "import collections\n",
    "import matplotlib.pyplot as plt\n",
    "import gzip\n",
    "import glob\n",
    "import loompy\n",
    "import pybedtools\n",
    "from pybedtools import BedTool\n",
    "import MACS2\n",
    "import multiprocessing as mp\n",
    "from typing import *\n",
    "\n",
    "sys.path.append('/home/camiel/chromograph/')\n",
    "import chromograph\n",
    "from chromograph.peak_calling.utils import *            \n",
    "from chromograph.pipeline import config\n",
    "from chromograph.peak_calling import call_MACS\n",
    "import shutil\n",
    "\n",
    "logger = logging.getLogger()\n",
    "logging.basicConfig(\n",
    "    format='%(asctime)s %(levelname)-8s %(message)s',\n",
    "    level=logging.INFO,\n",
    "    datefmt='%H:%M:%S')\n",
    "\n",
    "from chromograph.pipeline import config\n",
    "config = config.load_config()\n",
    "\n",
    "# # Parameters\n",
    "# ds = loompy.connect('/data/proj/scATAC/chromograph/build_20191206/Cerebellum.loom')\n",
    "# logging.info(f'ds connection: {ds.shape}')"
   ]
  },
  {
   "cell_type": "code",
   "execution_count": 2,
   "metadata": {},
   "outputs": [
    {
     "name": "stderr",
     "output_type": "stream",
     "text": [
      "18:08:45 INFO     cluster test has fraction: 0.07093095028038296\n",
      "18:09:57 INFO     Total fragments: 14098218 in cluster test, downsampled to 998549\n"
     ]
    }
   ],
   "source": [
    "f = ['test', '/home/camiel/chromograph/notebooks/tmp/fragments_0.tsv.gz']\n",
    "chromograph.peak_calling.utils.bed_downsample(f, 1e6)"
   ]
  },
  {
   "cell_type": "markdown",
   "metadata": {},
   "source": [
    "## Explore peaks"
   ]
  },
  {
   "cell_type": "code",
   "execution_count": 8,
   "metadata": {},
   "outputs": [],
   "source": [
    "## Merge Peak lists\n",
    "peakdir = '/data/proj/scATAC/chromograph/build_20200220_Midbrain/peaks/'"
   ]
  },
  {
   "cell_type": "code",
   "execution_count": 3,
   "metadata": {},
   "outputs": [
    {
     "name": "stderr",
     "output_type": "stream",
     "text": [
      "10:42:12 INFO     Length of the BedTools: 270213\n"
     ]
    }
   ],
   "source": [
    "peaks = BedTool(os.path.join(peakdir, 'Compounded_peaks.bed'))\n",
    "l = peaks.count()\n",
    "\n",
    "logging.info(f'Length of the BedTools: {l}')"
   ]
  },
  {
   "cell_type": "code",
   "execution_count": 14,
   "metadata": {},
   "outputs": [
    {
     "name": "stdout",
     "output_type": "stream",
     "text": [
      "fragments_0.tsv.gz, : 28530865\n",
      "fragments_1.tsv.gz, : 44668532\n",
      "fragments_2.tsv.gz, : 51471900\n",
      "fragments_3.tsv.gz, : 26781083\n",
      "fragments_4.tsv.gz, : 31151164\n",
      "fragments_5.tsv.gz, : 9572715\n",
      "fragments_6.tsv.gz, : 18056227\n",
      "fragments_7.tsv.gz, : 25675789\n",
      "fragments_8.tsv.gz, : 17535199\n",
      "fragments_9.tsv.gz, : 19542728\n",
      "fragments_10.tsv.gz, : 30975204\n",
      "fragments_11.tsv.gz, : 1455532\n"
     ]
    },
    {
     "ename": "KeyboardInterrupt",
     "evalue": "",
     "output_type": "error",
     "traceback": [
      "\u001b[0;31m---------------------------------------------------------------------------\u001b[0m",
      "\u001b[0;31mKeyboardInterrupt\u001b[0m                         Traceback (most recent call last)",
      "\u001b[0;32m<ipython-input-14-fda7ef24f81e>\u001b[0m in \u001b[0;36m<module>\u001b[0;34m\u001b[0m\n\u001b[1;32m      4\u001b[0m \u001b[0;32mfor\u001b[0m \u001b[0mf\u001b[0m \u001b[0;32min\u001b[0m \u001b[0mglob\u001b[0m\u001b[0;34m.\u001b[0m\u001b[0mglob\u001b[0m\u001b[0;34m(\u001b[0m\u001b[0mos\u001b[0m\u001b[0;34m.\u001b[0m\u001b[0mpath\u001b[0m\u001b[0;34m.\u001b[0m\u001b[0mjoin\u001b[0m\u001b[0;34m(\u001b[0m\u001b[0mpeakdir\u001b[0m\u001b[0;34m,\u001b[0m \u001b[0;34m'*.tsv.gz'\u001b[0m\u001b[0;34m)\u001b[0m\u001b[0;34m)\u001b[0m\u001b[0;34m:\u001b[0m\u001b[0;34m\u001b[0m\u001b[0;34m\u001b[0m\u001b[0m\n\u001b[1;32m      5\u001b[0m     \u001b[0mp\u001b[0m \u001b[0;34m=\u001b[0m \u001b[0mBedTool\u001b[0m\u001b[0;34m(\u001b[0m\u001b[0mf\u001b[0m\u001b[0;34m)\u001b[0m\u001b[0;34m\u001b[0m\u001b[0;34m\u001b[0m\u001b[0m\n\u001b[0;32m----> 6\u001b[0;31m     \u001b[0mc\u001b[0m \u001b[0;34m=\u001b[0m \u001b[0mp\u001b[0m\u001b[0;34m.\u001b[0m\u001b[0mcount\u001b[0m\u001b[0;34m(\u001b[0m\u001b[0;34m)\u001b[0m\u001b[0;34m\u001b[0m\u001b[0;34m\u001b[0m\u001b[0m\n\u001b[0m\u001b[1;32m      7\u001b[0m     \u001b[0mcounts\u001b[0m\u001b[0;34m.\u001b[0m\u001b[0mappend\u001b[0m\u001b[0;34m(\u001b[0m\u001b[0mc\u001b[0m\u001b[0;34m)\u001b[0m\u001b[0;34m\u001b[0m\u001b[0;34m\u001b[0m\u001b[0m\n\u001b[1;32m      8\u001b[0m     \u001b[0mprint\u001b[0m\u001b[0;34m(\u001b[0m\u001b[0;34mf'{f.split(\"/\")[-1]}, : {c}'\u001b[0m\u001b[0;34m)\u001b[0m\u001b[0;34m\u001b[0m\u001b[0;34m\u001b[0m\u001b[0m\n",
      "\u001b[0;32m~/anaconda3/envs/chromograph/lib/python3.7/site-packages/pybedtools/bedtool.py\u001b[0m in \u001b[0;36mcount\u001b[0;34m(self)\u001b[0m\n\u001b[1;32m   2657\u001b[0m         \u001b[0;32mif\u001b[0m \u001b[0mhasattr\u001b[0m\u001b[0;34m(\u001b[0m\u001b[0mself\u001b[0m\u001b[0;34m,\u001b[0m \u001b[0;34m\"next\"\u001b[0m\u001b[0;34m)\u001b[0m \u001b[0;32mor\u001b[0m \u001b[0mhasattr\u001b[0m\u001b[0;34m(\u001b[0m\u001b[0mself\u001b[0m\u001b[0;34m,\u001b[0m \u001b[0;34m\"__next__\"\u001b[0m\u001b[0;34m)\u001b[0m\u001b[0;34m:\u001b[0m\u001b[0;34m\u001b[0m\u001b[0;34m\u001b[0m\u001b[0m\n\u001b[1;32m   2658\u001b[0m             \u001b[0;32mreturn\u001b[0m \u001b[0msum\u001b[0m\u001b[0;34m(\u001b[0m\u001b[0;36m1\u001b[0m \u001b[0;32mfor\u001b[0m \u001b[0m_\u001b[0m \u001b[0;32min\u001b[0m \u001b[0mself\u001b[0m\u001b[0;34m)\u001b[0m\u001b[0;34m\u001b[0m\u001b[0;34m\u001b[0m\u001b[0m\n\u001b[0;32m-> 2659\u001b[0;31m         \u001b[0;32mreturn\u001b[0m \u001b[0msum\u001b[0m\u001b[0;34m(\u001b[0m\u001b[0;36m1\u001b[0m \u001b[0;32mfor\u001b[0m \u001b[0m_\u001b[0m \u001b[0;32min\u001b[0m \u001b[0miter\u001b[0m\u001b[0;34m(\u001b[0m\u001b[0mself\u001b[0m\u001b[0;34m)\u001b[0m\u001b[0;34m)\u001b[0m\u001b[0;34m\u001b[0m\u001b[0;34m\u001b[0m\u001b[0m\n\u001b[0m\u001b[1;32m   2660\u001b[0m \u001b[0;34m\u001b[0m\u001b[0m\n\u001b[1;32m   2661\u001b[0m     \u001b[0;32mdef\u001b[0m \u001b[0mprint_sequence\u001b[0m\u001b[0;34m(\u001b[0m\u001b[0mself\u001b[0m\u001b[0;34m)\u001b[0m\u001b[0;34m:\u001b[0m\u001b[0;34m\u001b[0m\u001b[0;34m\u001b[0m\u001b[0m\n",
      "\u001b[0;32m~/anaconda3/envs/chromograph/lib/python3.7/site-packages/pybedtools/bedtool.py\u001b[0m in \u001b[0;36m<genexpr>\u001b[0;34m(.0)\u001b[0m\n\u001b[1;32m   2657\u001b[0m         \u001b[0;32mif\u001b[0m \u001b[0mhasattr\u001b[0m\u001b[0;34m(\u001b[0m\u001b[0mself\u001b[0m\u001b[0;34m,\u001b[0m \u001b[0;34m\"next\"\u001b[0m\u001b[0;34m)\u001b[0m \u001b[0;32mor\u001b[0m \u001b[0mhasattr\u001b[0m\u001b[0;34m(\u001b[0m\u001b[0mself\u001b[0m\u001b[0;34m,\u001b[0m \u001b[0;34m\"__next__\"\u001b[0m\u001b[0;34m)\u001b[0m\u001b[0;34m:\u001b[0m\u001b[0;34m\u001b[0m\u001b[0;34m\u001b[0m\u001b[0m\n\u001b[1;32m   2658\u001b[0m             \u001b[0;32mreturn\u001b[0m \u001b[0msum\u001b[0m\u001b[0;34m(\u001b[0m\u001b[0;36m1\u001b[0m \u001b[0;32mfor\u001b[0m \u001b[0m_\u001b[0m \u001b[0;32min\u001b[0m \u001b[0mself\u001b[0m\u001b[0;34m)\u001b[0m\u001b[0;34m\u001b[0m\u001b[0;34m\u001b[0m\u001b[0m\n\u001b[0;32m-> 2659\u001b[0;31m         \u001b[0;32mreturn\u001b[0m \u001b[0msum\u001b[0m\u001b[0;34m(\u001b[0m\u001b[0;36m1\u001b[0m \u001b[0;32mfor\u001b[0m \u001b[0m_\u001b[0m \u001b[0;32min\u001b[0m \u001b[0miter\u001b[0m\u001b[0;34m(\u001b[0m\u001b[0mself\u001b[0m\u001b[0;34m)\u001b[0m\u001b[0;34m)\u001b[0m\u001b[0;34m\u001b[0m\u001b[0;34m\u001b[0m\u001b[0m\n\u001b[0m\u001b[1;32m   2660\u001b[0m \u001b[0;34m\u001b[0m\u001b[0m\n\u001b[1;32m   2661\u001b[0m     \u001b[0;32mdef\u001b[0m \u001b[0mprint_sequence\u001b[0m\u001b[0;34m(\u001b[0m\u001b[0mself\u001b[0m\u001b[0;34m)\u001b[0m\u001b[0;34m:\u001b[0m\u001b[0;34m\u001b[0m\u001b[0;34m\u001b[0m\u001b[0m\n",
      "\u001b[0;31mKeyboardInterrupt\u001b[0m: "
     ]
    }
   ],
   "source": [
    "import glob\n",
    "\n",
    "counts = []\n",
    "for f in glob.glob(os.path.join(peakdir, '*.tsv.gz')):\n",
    "    p = BedTool(f)\n",
    "    c = p.count()\n",
    "    counts.append(c)\n",
    "    print(f'{f.split(\"/\")[-1]}, : {c}')"
   ]
  },
  {
   "cell_type": "code",
   "execution_count": 32,
   "metadata": {},
   "outputs": [
    {
     "data": {
      "text/plain": [
       "25000000.0"
      ]
     },
     "execution_count": 32,
     "metadata": {},
     "output_type": "execute_result"
    }
   ],
   "source": [
    "2.5e7"
   ]
  },
  {
   "cell_type": "code",
   "execution_count": 32,
   "metadata": {},
   "outputs": [
    {
     "name": "stderr",
     "output_type": "stream",
     "text": [
      "17:35:37 INFO     FPKM for: 511 cells out of 9452\n",
      "17:35:37 INFO     FPKM for: 1023 cells out of 9452\n",
      "17:35:38 INFO     FPKM for: 1535 cells out of 9452\n",
      "17:35:38 INFO     FPKM for: 2047 cells out of 9452\n",
      "17:35:39 INFO     FPKM for: 2559 cells out of 9452\n",
      "17:35:39 INFO     FPKM for: 3071 cells out of 9452\n",
      "17:35:40 INFO     FPKM for: 3583 cells out of 9452\n",
      "17:35:40 INFO     FPKM for: 4095 cells out of 9452\n",
      "17:35:41 INFO     FPKM for: 4607 cells out of 9452\n",
      "17:35:41 INFO     FPKM for: 5119 cells out of 9452\n",
      "17:35:42 INFO     FPKM for: 5631 cells out of 9452\n",
      "17:35:42 INFO     FPKM for: 6143 cells out of 9452\n",
      "17:35:43 INFO     FPKM for: 6655 cells out of 9452\n",
      "17:35:43 INFO     FPKM for: 7167 cells out of 9452\n",
      "17:35:43 INFO     FPKM for: 7679 cells out of 9452\n",
      "17:35:44 INFO     FPKM for: 8191 cells out of 9452\n",
      "17:35:44 INFO     FPKM for: 8703 cells out of 9452\n",
      "17:35:45 INFO     FPKM for: 9215 cells out of 9452\n",
      "17:35:45 INFO     FPKM for: 9451 cells out of 9452\n",
      "17:35:59 INFO     FPKM for: 511 cells out of 17369\n",
      "17:36:00 INFO     FPKM for: 1023 cells out of 17369\n",
      "17:36:00 INFO     FPKM for: 1535 cells out of 17369\n",
      "17:36:00 INFO     FPKM for: 2047 cells out of 17369\n",
      "17:36:01 INFO     FPKM for: 2559 cells out of 17369\n",
      "17:36:01 INFO     FPKM for: 3071 cells out of 17369\n",
      "17:36:02 INFO     FPKM for: 3583 cells out of 17369\n",
      "17:36:02 INFO     FPKM for: 4095 cells out of 17369\n",
      "17:36:03 INFO     FPKM for: 4607 cells out of 17369\n",
      "17:36:03 INFO     FPKM for: 5119 cells out of 17369\n",
      "17:36:04 INFO     FPKM for: 5631 cells out of 17369\n",
      "17:36:04 INFO     FPKM for: 6143 cells out of 17369\n",
      "17:36:04 INFO     FPKM for: 6655 cells out of 17369\n",
      "17:36:05 INFO     FPKM for: 7167 cells out of 17369\n",
      "17:36:05 INFO     FPKM for: 7679 cells out of 17369\n",
      "17:36:06 INFO     FPKM for: 8191 cells out of 17369\n",
      "17:36:06 INFO     FPKM for: 8703 cells out of 17369\n",
      "17:36:06 INFO     FPKM for: 9215 cells out of 17369\n",
      "17:36:07 INFO     FPKM for: 9727 cells out of 17369\n",
      "17:36:07 INFO     FPKM for: 10239 cells out of 17369\n",
      "17:36:08 INFO     FPKM for: 10751 cells out of 17369\n",
      "17:36:08 INFO     FPKM for: 11263 cells out of 17369\n",
      "17:36:09 INFO     FPKM for: 11775 cells out of 17369\n",
      "17:36:09 INFO     FPKM for: 12287 cells out of 17369\n",
      "17:36:10 INFO     FPKM for: 12799 cells out of 17369\n",
      "17:36:10 INFO     FPKM for: 13311 cells out of 17369\n",
      "17:36:11 INFO     FPKM for: 13823 cells out of 17369\n",
      "17:36:11 INFO     FPKM for: 14335 cells out of 17369\n",
      "17:36:12 INFO     FPKM for: 14847 cells out of 17369\n",
      "17:36:12 INFO     FPKM for: 15359 cells out of 17369\n",
      "17:36:13 INFO     FPKM for: 15871 cells out of 17369\n",
      "17:36:13 INFO     FPKM for: 16383 cells out of 17369\n",
      "17:36:13 INFO     FPKM for: 16895 cells out of 17369\n",
      "17:36:14 INFO     FPKM for: 17368 cells out of 17369\n"
     ]
    },
    {
     "data": {
      "text/plain": [
       "array([[ 0.        ,  0.        ,  7.90904772, ...,  0.        ,\n",
       "         0.        ,  0.        ],\n",
       "       [ 0.        ,  0.        ,  0.        , ...,  0.        ,\n",
       "         0.        ,  0.        ],\n",
       "       [ 0.        ,  0.        , 13.74600376, ...,  0.        ,\n",
       "         0.        ,  6.5824624 ],\n",
       "       ...,\n",
       "       [ 0.        ,  0.        ,  2.99093965, ...,  0.        ,\n",
       "         4.03221569,  0.        ],\n",
       "       [ 0.        ,  0.        ,  0.        , ...,  0.        ,\n",
       "         0.        ,  0.        ],\n",
       "       [ 2.24996198,  0.        ,  1.29367517, ...,  0.        ,\n",
       "         0.        ,  1.85848229]])"
      ]
     },
     "execution_count": 32,
     "metadata": {},
     "output_type": "execute_result"
    }
   ],
   "source": [
    "## TEMPS\n",
    "from chromograph.pipeline.utils import div0\n",
    "tissues = ['Midbrain', 'Cerebellum']\n",
    "files = [os.path.join(f'/data/proj/scATAC/chromograph/build_20200220_{x}', x + '_GA.loom') for x in tissues]\n",
    "for f in files:\n",
    "    with loompy.connect(f, 'r') as ds:\n",
    "        GA_colsum = ds.map([np.count_nonzero], axis=1)[0]\n",
    "        for (ix, selection, view) in ds.scan(axis=1):\n",
    "            tmp = div0(div0(view[''][:,:], 1e-3 * ds.ra['BPs'].reshape(ds.shape[0], 1)), (1e-6 * GA_colsum[selection]))\n",
    "            logging.info(f\"FPKM for: {max(selection)} cells out of {ds.shape[1]}\")\n",
    "tmp"
   ]
  },
  {
   "cell_type": "code",
   "execution_count": 4,
   "metadata": {},
   "outputs": [
    {
     "data": {
      "text/plain": [
       "(270213, 21)"
      ]
     },
     "execution_count": 4,
     "metadata": {},
     "output_type": "execute_result"
    }
   ],
   "source": [
    "f_annot = os.path.join(peakdir, 'annotated_peaks.txt')\n",
    "cols, table = read_HOMER_annotation(f_annot)\n",
    "table.shape"
   ]
  },
  {
   "cell_type": "code",
   "execution_count": 7,
   "metadata": {},
   "outputs": [],
   "source": [
    "peak_IDs = np.array([x[3] for x in peaks])\n",
    "\n",
    "table = reorder_by_IDs(table, peak_IDs)"
   ]
  },
  {
   "cell_type": "code",
   "execution_count": 8,
   "metadata": {},
   "outputs": [],
   "source": [
    "## Save as dict    \n",
    "annot = {cols[i]: table[:,i] for i in range(table.shape[1])}"
   ]
  },
  {
   "cell_type": "code",
   "execution_count": 44,
   "metadata": {},
   "outputs": [
    {
     "data": {
      "text/plain": [
       "{'ID': array(['chr1:28958-29333', 'chr1:180967-181164', 'chr1:181357-181709',\n",
       "        ..., 'chrY:56839027-56839223', 'chrY:56842612-56842884',\n",
       "        'chrY:56855817-56856007'], dtype=object),\n",
       " 'Chr': array(['chr1', 'chr1', 'chr1', ..., 'chrY', 'chrY', 'chrY'], dtype=object),\n",
       " 'Start': array(['28959', '180968', '181358', ..., '56839028', '56842613',\n",
       "        '56855818'], dtype=object),\n",
       " 'End': array(['29333', '181164', '181709', ..., '56839223', '56842884',\n",
       "        '56856007'], dtype=object),\n",
       " 'Strand': array(['+', '+', '+', ..., '+', '+', '+'], dtype=object),\n",
       " 'Peak Score': array(['.', '.', '.', ..., '.', '.', '.'], dtype=object),\n",
       " 'Focus Ratio/Region Size': array(['NA', 'NA', 'NA', ..., 'NA', 'NA', 'NA'], dtype=object),\n",
       " 'Annotation': array(['promoter-TSS (ENST00000473358.1)', 'Intergenic', 'Intergenic',\n",
       "        ..., 'Intergenic', 'Intergenic', 'TTS (ENST00000431853.1)'],\n",
       "       dtype=object),\n",
       " 'Detailed Annotation': array(['lincRNA-promoter-TSS (ENST00000473358.1)', 'Intergenic',\n",
       "        'Intergenic', ..., 'Intergenic', 'Intergenic',\n",
       "        'processed_pseudogene-TTS (ENST00000431853.1)'], dtype=object),\n",
       " 'Distance to TSS': array(['-408', '-1630', '-1163', ..., '-16119', '-12496', '668'],\n",
       "       dtype=object),\n",
       " 'Nearest PromoterID': array(['ENST00000473358.1', 'ENST00000624431.2', 'ENST00000624431.2', ...,\n",
       "        'ENST00000431853.1', 'ENST00000431853.1', 'ENST00000431853.1'],\n",
       "       dtype=object),\n",
       " 'Entrez ID': array(['ENSG00000243485', 'ENSG00000279928', 'ENSG00000279928', ...,\n",
       "        'ENSG00000235857', 'ENSG00000235857', 'ENSG00000235857'],\n",
       "       dtype=object),\n",
       " 'Nearest Unigene': array(['ENST00000469289', 'ENST00000624431', 'ENST00000624431', ...,\n",
       "        'ENST00000431853', 'ENST00000431853', 'ENST00000431853'],\n",
       "       dtype=object),\n",
       " 'Nearest Refseq': array(['', '', '', ..., '', '', ''], dtype=object),\n",
       " 'Nearest Ensembl': array(['', '', '', ..., '', '', ''], dtype=object),\n",
       " 'Gene Name': array(['RP11-34P13.3', 'ABC7-43046700E7.1', 'ABC7-43046700E7.1', ...,\n",
       "        'AC025226.2', 'AC025226.2', 'AC025226.2'], dtype=object),\n",
       " 'Gene Alias': array(['', '', '', ..., '', '', ''], dtype=object),\n",
       " 'Gene Description': array(['', '', '', ..., '', '', ''], dtype=object),\n",
       " 'Gene Type': array(['lincRNA', 'unprocessed_pseudogene', 'unprocessed_pseudogene', ...,\n",
       "        'processed_pseudogene', 'processed_pseudogene',\n",
       "        'processed_pseudogene'], dtype=object),\n",
       " 'CpG%': array(['0.112299', '0.091837', '0.122507', ..., '0.020513', '0.011070',\n",
       "        '0.005291'], dtype=object),\n",
       " 'GC%': array(['0.768000', '0.644670', '0.730114', ..., '0.489796', '0.492647',\n",
       "        '0.405263'], dtype=object)}"
      ]
     },
     "execution_count": 44,
     "metadata": {},
     "output_type": "execute_result"
    }
   ],
   "source": [
    "annot"
   ]
  },
  {
   "cell_type": "code",
   "execution_count": 10,
   "metadata": {},
   "outputs": [],
   "source": [
    "r_dict = {k: v for v,k in enumerate(annot['ID'])}"
   ]
  },
  {
   "cell_type": "code",
   "execution_count": 11,
   "metadata": {},
   "outputs": [
    {
     "name": "stdout",
     "output_type": "stream",
     "text": [
      "{'Intergenic': 92716, 'TTS': 8049, 'exon': 12630, 'intron': 139889, 'promoter-TSS': 16929}\n"
     ]
    }
   ],
   "source": [
    "simple_annotation = np.array([x.split(' ')[0] for x in annot['Annotation']])\n",
    "\n",
    "counts = {}\n",
    "for x in np.unique(simple_annotation):\n",
    "    counts[x] = np.sum(simple_annotation == x)\n",
    "    \n",
    "print(counts)"
   ]
  },
  {
   "cell_type": "code",
   "execution_count": 9,
   "metadata": {},
   "outputs": [],
   "source": [
    "# def Count_peaks(cells, sample_dir, f_peaks):\n",
    "#     '''\n",
    "#     Count peaks\n",
    "#     '''\n",
    "#     Count_dict = {k: {} for k in cells}\n",
    "#     peaks = BedTool(f_peaks)\n",
    "#     i = 0\n",
    "#     for x in cells:\n",
    "#         try:\n",
    "#             s, c = x.split(':')\n",
    "#             f = os.path.join(sample_dir, s, 'fragments', f'{c}.tsv.gz')\n",
    "#             cBed = BedTool(f)\n",
    "#             pks = peaks.intersect(cBed, wa=True)\n",
    "\n",
    "#             cDict = {}\n",
    "#             for line in pks:\n",
    "#                 cDict[line[3]] = 1\n",
    "\n",
    "#             Count_dict[x] = cDict\n",
    "#             i += 1\n",
    "#             if i%1000==0:\n",
    "#                 logging.info(f'Finished counting {i} cells')\n",
    "#         except:\n",
    "#             Count_dict[x] = []\n",
    "#     logging.info('Finished job')\n",
    "#     return Count_dict\n",
    "\n",
    "# Count_dict1 = Count_peaks(ds.ca['CellID'][:10], config.paths.samples, fpeaks)\n",
    "# Count_dict2 = Count_peaks(ds.ca['CellID'][10:20], config.paths.samples, fpeaks)\n",
    "# Count_dict3 = Count_peaks(ds.ca['CellID'][20:30], config.paths.samples, fpeaks)\n",
    "# dicts = [Count_dict1, Count_dict2, Count_dict3]\n",
    "# Counts = {k: v for d in dicts for k, v in d.items()}"
   ]
  },
  {
   "cell_type": "code",
   "execution_count": 12,
   "metadata": {},
   "outputs": [
    {
     "name": "stderr",
     "output_type": "stream",
     "text": [
      "10:43:33 INFO     Generating Sparse matrix\n"
     ]
    },
    {
     "ename": "NameError",
     "evalue": "name 'Counts' is not defined",
     "output_type": "error",
     "traceback": [
      "\u001b[0;31m---------------------------------------------------------------------------\u001b[0m",
      "\u001b[0;31mNameError\u001b[0m                                 Traceback (most recent call last)",
      "\u001b[0;32m<ipython-input-12-a088e2db34af>\u001b[0m in \u001b[0;36m<module>\u001b[0;34m\u001b[0m\n\u001b[1;32m      8\u001b[0m \u001b[0;32mfor\u001b[0m \u001b[0mcell\u001b[0m \u001b[0;32min\u001b[0m \u001b[0mds\u001b[0m\u001b[0;34m.\u001b[0m\u001b[0mca\u001b[0m\u001b[0;34m[\u001b[0m\u001b[0;34m'CellID'\u001b[0m\u001b[0;34m]\u001b[0m\u001b[0;34m[\u001b[0m\u001b[0;34m:\u001b[0m\u001b[0;36m30\u001b[0m\u001b[0;34m]\u001b[0m\u001b[0;34m:\u001b[0m\u001b[0;34m\u001b[0m\u001b[0;34m\u001b[0m\u001b[0m\n\u001b[1;32m      9\u001b[0m \u001b[0;34m\u001b[0m\u001b[0m\n\u001b[0;32m---> 10\u001b[0;31m     \u001b[0;32mfor\u001b[0m \u001b[0mkey\u001b[0m \u001b[0;32min\u001b[0m \u001b[0;34m(\u001b[0m\u001b[0mCounts\u001b[0m\u001b[0;34m[\u001b[0m\u001b[0mcell\u001b[0m\u001b[0;34m]\u001b[0m\u001b[0;34m)\u001b[0m\u001b[0;34m:\u001b[0m\u001b[0;34m\u001b[0m\u001b[0;34m\u001b[0m\u001b[0m\n\u001b[0m\u001b[1;32m     11\u001b[0m         \u001b[0mcol\u001b[0m\u001b[0;34m.\u001b[0m\u001b[0mappend\u001b[0m\u001b[0;34m(\u001b[0m\u001b[0mcix\u001b[0m\u001b[0;34m)\u001b[0m\u001b[0;34m\u001b[0m\u001b[0;34m\u001b[0m\u001b[0m\n\u001b[1;32m     12\u001b[0m         \u001b[0mrow\u001b[0m\u001b[0;34m.\u001b[0m\u001b[0mappend\u001b[0m\u001b[0;34m(\u001b[0m\u001b[0mr_dict\u001b[0m\u001b[0;34m[\u001b[0m\u001b[0mkey\u001b[0m\u001b[0;34m]\u001b[0m\u001b[0;34m)\u001b[0m\u001b[0;34m\u001b[0m\u001b[0;34m\u001b[0m\u001b[0m\n",
      "\u001b[0;31mNameError\u001b[0m: name 'Counts' is not defined"
     ]
    }
   ],
   "source": [
    "# from scipy import sparse\n",
    "# logging.info(\"Generating Sparse matrix\")\n",
    "# col = []\n",
    "# row = []\n",
    "# v = []\n",
    "\n",
    "# cix = 0\n",
    "# for cell in ds.ca['CellID'][:30]:\n",
    "\n",
    "#     for key in (Counts[cell]):\n",
    "#         col.append(cix)\n",
    "#         row.append(r_dict[key])\n",
    "#         v.append(Counts[cell][key])\n",
    "#     cix+=1\n",
    "# matrix = sparse.coo_matrix((v, (row,col)), shape=(len(r_dict.keys()), len(ds.ca['CellID'][:30])))\n",
    "\n",
    "# ## Create loomfile\n",
    "# logging.info(\"Constructing loomfile\")\n",
    "# floom = f'{ds.filename.split(\".\")[0]}_peaks.loom'\n",
    "\n",
    "# loompy.create(filename=floom, \n",
    "#               layers=matrix, \n",
    "#               row_attrs=annot, \n",
    "#               col_attrs=dict(ds.ca),\n",
    "#               file_attrs=dict(ds.attrs))\n",
    "# self.loom = floom\n",
    "# logging.info(\"Loom peaks file saved as {}\".format(floom))"
   ]
  },
  {
   "cell_type": "code",
   "execution_count": 38,
   "metadata": {},
   "outputs": [
    {
     "data": {
      "image/png": "[encoded data removed]",
      "text/plain": [
       "<Figure size 864x720 with 1 Axes>"
      ]
     },
     "metadata": {},
     "output_type": "display_data"
    }
   ],
   "source": [
    "labels = 'Intergenic', 'Intron', 'Promoter-TSS', 'Exon', 'TTS'\n",
    "\n",
    "fig, ax = plt.subplots(figsize = (12,10))\n",
    "plt.rcParams[\"font.size\"] = \"10\"\n",
    "\n",
    "size = 0.4\n",
    "vals = np.array([counts['Intergenic'], counts['intron'], counts['promoter-TSS'], counts['exon'], counts['TTS']])\n",
    "\n",
    "cmap = plt.get_cmap(\"tab20c\")\n",
    "outer_colors = cmap(np.arange(2)*4 + 1)[[1,0],:]\n",
    "inner_colors = cmap(np.array([0,1,2,3,4]))[::-1,:]\n",
    "\n",
    "ax.pie([vals[0], sum(vals[1:])], radius=1, colors=outer_colors,\n",
    "       wedgeprops=dict(width=size, edgecolor='w'), startangle=90)\n",
    "\n",
    "def func(pct, allvals):\n",
    "    absolute = int(pct/100.*np.sum(allvals))\n",
    "    return \"{:.1f}%\\n({:d})\".format(pct, absolute)\n",
    "\n",
    "wedges, texts, autotexts = ax.pie(vals.flatten(), radius=1-size, colors=inner_colors, autopct=lambda pct: func(pct, vals), pctdistance=1.2, \n",
    "       wedgeprops=dict(width=size, edgecolor='w'), startangle=90)\n",
    "\n",
    "ax.set(aspect=\"equal\")\n",
    "ax.set_title('Intra- vs. Intergenic Peaks', fontsize=24)\n",
    "\n",
    "ax.legend(wedges, labels,\n",
    "          title=\"Regions\",\n",
    "          loc=\"center left\",\n",
    "          bbox_to_anchor=(1, 0, 0.5, 1))\n",
    "\n",
    "plt.savefig('/data/proj/scATAC/chromograph/tmp/Midbrain_peaks.png')\n",
    "plt.show()"
   ]
  },
  {
   "cell_type": "code",
   "execution_count": 21,
   "metadata": {},
   "outputs": [
    {
     "name": "stdout",
     "output_type": "stream",
     "text": [
      "22786\n"
     ]
    }
   ],
   "source": [
    "peak_list = BedTool([(annot['Chr'][x], str(annot['Start'][x]), str(annot['End'][x]), str(annot['ID'][x])) for x in range(len(annot['Chr']))]).saveas()\n",
    "\n",
    "for x in ['tss', 'transcripts', 'promoter', 'enhancer', 'dnase', 'ctcf', 'blacklist']:\n",
    "    sub = BedTool(os.path.join(config.paths.ref, 'regions', f'{x}.bed'))\n",
    "    peak_list = peak_list.subtract(sub, A=True)\n",
    "    \n",
    "for x in ['regulatory.gff', 'genes.gtf']:\n",
    "    sub = BedTool(os.path.join(config.paths.ref, 'genes', x))\n",
    "    peak_list = peak_list.subtract(sub, A=True)\n",
    "    \n",
    "peak_list.saveas()\n",
    "print(peak_list.count())"
   ]
  },
  {
   "cell_type": "code",
   "execution_count": 22,
   "metadata": {},
   "outputs": [],
   "source": [
    "unknown_peaks = [x[3] for x in peak_list]"
   ]
  },
  {
   "cell_type": "code",
   "execution_count": 24,
   "metadata": {},
   "outputs": [
    {
     "name": "stderr",
     "output_type": "stream",
     "text": [
      "11:02:33 INFO     Finished 0 out of 270213\n",
      "11:02:58 INFO     Finished 100000 out of 270213\n",
      "11:03:24 INFO     Finished 200000 out of 270213\n"
     ]
    }
   ],
   "source": [
    "regs = []\n",
    "nPeaks = len(annot['Annotation'])\n",
    "for i in range(len(annot['Annotation'])):\n",
    "    \n",
    "    if annot['ID'][i] in unknown_peaks:\n",
    "        regs.append(annot['Annotation'][i])\n",
    "\n",
    "    if i%100000 == 0:\n",
    "        logging.info(f'Finished {i} out of {nPeaks}')\n",
    "unknown_annotation = np.array([x.split(' ')[0] for x in regs])"
   ]
  },
  {
   "cell_type": "code",
   "execution_count": 25,
   "metadata": {},
   "outputs": [
    {
     "name": "stdout",
     "output_type": "stream",
     "text": [
      "{'Intergenic': 21954, 'TTS': 550, 'promoter-TSS': 282}\n"
     ]
    }
   ],
   "source": [
    "unk_counts = {}\n",
    "for x in np.unique(unknown_annotation):\n",
    "    unk_counts[x] = np.sum(unknown_annotation == x)\n",
    "    \n",
    "print(unk_counts)"
   ]
  },
  {
   "cell_type": "code",
   "execution_count": 26,
   "metadata": {},
   "outputs": [
    {
     "data": {
      "text/plain": [
       "0.23678760947409294"
      ]
     },
     "execution_count": 26,
     "metadata": {},
     "output_type": "execute_result"
    }
   ],
   "source": [
    "unk_counts['Intergenic'] / counts['Intergenic']"
   ]
  },
  {
   "cell_type": "markdown",
   "metadata": {},
   "source": [
    "## Find Differentially accessible regions for the identified clusters"
   ]
  }
 ],
 "metadata": {
  "kernelspec": {
   "display_name": "Chromograph (py3.7)",
   "language": "python",
   "name": "chromograph"
  },
  "language_info": {
   "codemirror_mode": {
    "name": "ipython",
    "version": 3
   },
   "file_extension": ".py",
   "mimetype": "text/x-python",
   "name": "python",
   "nbconvert_exporter": "python",
   "pygments_lexer": "ipython3",
   "version": "3.7.4"
  }
 },
 "nbformat": 4,
 "nbformat_minor": 4
}
