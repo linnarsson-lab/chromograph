{
 "cells": [
  {
   "cell_type": "markdown",
   "metadata": {},
   "source": [
    "## Identify peaks per cluster"
   ]
  },
  {
   "cell_type": "code",
   "execution_count": 89,
   "metadata": {},
   "outputs": [],
   "source": [
    "import numpy as np\n",
    "import os\n",
    "import sys\n",
    "import logging\n",
    "import collections\n",
    "import matplotlib.pyplot as plt\n",
    "import gzip\n",
    "import glob\n",
    "import loompy\n",
    "import scipy.sparse as sparsourse\n",
    "import urllib.request\n",
    "import pybedtools\n",
    "from pybedtools import BedTool\n",
    "import MACS2\n",
    "\n",
    "import sklearn.metrics\n",
    "from scipy.spatial import distance\n",
    "import community\n",
    "import networkx as nx\n",
    "from scipy import sparse\n",
    "from typing import *\n",
    "\n",
    "sys.path.append('/home/camiel/chromograph/')\n",
    "from chromograph.peak_calling.utils import *\n",
    "import chromograph\n",
    "\n",
    "\n",
    "## Parameters\n",
    "indir = '/data/proj/scATAC/chromograph/mouse_test2/'\n",
    "f = os.path.join(indir, '10X_test_10kb.loom')\n",
    "pf = os.path.join(indir, 'peaks')\n",
    "macs_path = '/home/camiel/anaconda3/envs/chromograph/bin/macs2'\n",
    "ref = '/data/ref/cellranger-atac/refdata-cellranger-atac-GRCh38-1.1.0'\n",
    "gf = None\n",
    "    \n",
    "logger = logging.getLogger()\n",
    "logger.setLevel(logging.INFO)\n",
    "\n",
    "if not os.path.isdir(pf):\n",
    "    os.mkdir(pf)"
   ]
  },
  {
   "cell_type": "code",
   "execution_count": 54,
   "metadata": {},
   "outputs": [
    {
     "name": "stdout",
     "output_type": "stream",
     "text": [
      "(271145, 4273)\n"
     ]
    }
   ],
   "source": [
    "ds = loompy.connect(f)\n",
    "print(ds.shape)\n",
    "\n",
    "if ds.attrs['reference_organism'] == 'Homo_sapiens':\n",
    "    g = 'hs'\n",
    "elif ds.attrs['reference_organism'] == 'Mus_musculus':\n",
    "    g = 'mm'"
   ]
  },
  {
   "cell_type": "code",
   "execution_count": 105,
   "metadata": {},
   "outputs": [],
   "source": [
    "ds.close()"
   ]
  },
  {
   "cell_type": "code",
   "execution_count": 5,
   "metadata": {},
   "outputs": [
    {
     "name": "stdout",
     "output_type": "stream",
     "text": [
      "7 7\n"
     ]
    },
    {
     "data": {
      "image/png": "[encoded data removed]",
      "text/plain": [
       "<Figure size 432x288 with 1 Axes>"
      ]
     },
     "metadata": {
      "needs_background": "light"
     },
     "output_type": "display_data"
    }
   ],
   "source": [
    "data = [ds.ca['passed_filters'][ds.ca['Clusters'] == x] for x in np.unique(ds.ca['Clusters'])]\n",
    "# data = [np.log10(ds.ca['passed_filters'][ds.ca['Clusters'] == x]) for x in np.unique(ds.ca['Clusters'])]\n",
    "print(len(data), len(np.unique(ds.ca['Clusters'])))\n",
    "plt.violinplot(data, positions=np.unique(ds.ca['Clusters']), showmeans=True);"
   ]
  },
  {
   "cell_type": "code",
   "execution_count": 6,
   "metadata": {},
   "outputs": [
    {
     "name": "stdout",
     "output_type": "stream",
     "text": [
      "13374967\n"
     ]
    }
   ],
   "source": [
    "# for clus in np.unique(ds.ca['Clusters']):\n",
    "#     cas = ds.ca['fragments'][ds.ca['Clusters'] == clus]\n",
    "#     frags = [strFrags_to_list(x) for x in cas]\n",
    "#     frags = [x for l in frags for x in l]\n",
    "#     logging.info(\"Total fragments in cluster {}:  {}\".format(clus, len(frags)))\n",
    "\n",
    "#     fbed = os.path.join(pf, \"fragments_cluster_{}.bed.gz\".format(clus))\n",
    "#     fpeaks = os.path.join(pf, \"cluster_{}\".format(clus))\n",
    "\n",
    "#     print(g, fpeaks)\n",
    "#     bed = BedTool(frags)\n",
    "#     bed.saveas(fbed)\n",
    "\n",
    "#     ## Call Peaks\n",
    "#     cmd = \"{} callpeak -t {} -f BEDPE -g {} --nomodel --shift 100 --ext 200 --qval 5e-2 -B --SPMR -n {}\".format(macs_path, fbed, g, fpeaks)\n",
    "#     os.system(cmd)\n",
    "\n",
    "#     logging.info('Called peaks for cluster {} out of {}'.format(clus, np.unique(ds.ca['Clusters'])))\n",
    "    \n",
    "#     ## We only need the narrowPeak file, so clean up the rest\n",
    "#     os.system(\"rm {}\".format(os.path.join(pf, 'cluster_' + str(clus) + '_peaks.xls'))\n",
    "#     os.system(\"rm {}\".format(os.path.join(pf, 'cluster_' + str(clus) + '_control_lambda.bdg'))\n",
    "#     os.system(\"rm {}\".format(os.path.join(pf, 'cluster_' + str(clus) + '_summits.bed'))"
   ]
  },
  {
   "cell_type": "markdown",
   "metadata": {},
   "source": [
    "## Generate compound peak list and count peaks"
   ]
  },
  {
   "cell_type": "code",
   "execution_count": 40,
   "metadata": {},
   "outputs": [
    {
     "name": "stderr",
     "output_type": "stream",
     "text": [
      "INFO:root:Identified on average 61746 peaks per cluster\n"
     ]
    }
   ],
   "source": [
    "## Get all the narrowPeak files\n",
    "\n",
    "peaks = [BedTool(x) for x in glob.glob(os.path.join(pf, '*.narrowPeak'))]\n",
    "logging.info('Identified on average {} peaks per cluster'.format(np.int(np.mean([len(x) for x in peaks]))))\n",
    "peaks_all = peaks[0].cat(*peaks[1:])\n",
    "logging.info('Identified {} peaks after compounding list'.format(len(peaks_all)))"
   ]
  },
  {
   "cell_type": "code",
   "execution_count": 62,
   "metadata": {},
   "outputs": [
    {
     "data": {
      "text/plain": [
       "'mm10'"
      ]
     },
     "execution_count": 62,
     "metadata": {},
     "output_type": "execute_result"
    }
   ],
   "source": [
    "ds.attrs['reference_assembly']"
   ]
  },
  {
   "cell_type": "code",
   "execution_count": 104,
   "metadata": {},
   "outputs": [
    {
     "name": "stdout",
     "output_type": "stream",
     "text": [
      "chr1\t10137\t10352\tchr1:10137-10352\t857\t.\n",
      " chr1\t10448\t10574\tchr1:10448-10574\t781\t.\n",
      " chr1\t16201\t16288\tchr1:16201-16288\t771\t.\n",
      " chr1\t17467\t17526\tchr1:17467-17526\t838\t.\n",
      " chr1\t96535\t96647\tchr1:96535-96647\t986\t.\n",
      " chr1\t96570\t96670\tchr2:243181094-243181194\t994\t.\n",
      " chr1\t99581\t99757\tchr1:99581-99757\t991\t.\n",
      " chr1\t104950\t105019\tchr1:104950-105019\t995\t.\n",
      " chr1\t115661\t115809\tchr1:115661-115809\t993\t.\n",
      " chr1\t136365\t136492\tchr1:136365-136492\t966\t.\n",
      " None\n",
      "chr1\t19714\t23399\t.\t.\t.\n",
      " chr1\t49800\t70600\t.\t.\t.\n",
      " chr1\t71800\t73000\t.\t.\t.\n",
      " chr1\t73200\t73800\t.\t.\t.\n",
      " chr1\t78200\t79400\t.\t.\t.\n",
      " chr1\t81000\t83400\t.\t.\t.\n",
      " chr1\t83600\t91599\t.\t.\t.\n",
      " chr1\t92000\t92200\t.\t.\t.\n",
      " chr1\t101600\t101800\t.\t.\t.\n",
      " chr1\t103601\t105399\t.\t.\t.\n",
      " None\n",
      "chr1\t27599\t31401\t.\t.\t.\n",
      " chr1\t36199\t37001\t.\t.\t.\n",
      " chr1\t267999\t268201\t.\t.\t.\n",
      " chr1\t272999\t274401\t.\t.\t.\n",
      " chr1\t586199\t586601\t.\t.\t.\n",
      " chr1\t587799\t588001\t.\t.\t.\n",
      " chr1\t628999\t630001\t.\t.\t.\n",
      " chr1\t630799\t635200\t.\t.\t.\n",
      " chr1\t777399\t780401\t.\t.\t.\n",
      " chr1\t816399\t818201\t.\t.\t.\n",
      " None\n",
      "chr1\t11868\t11869\tDDX11L1\t.\t+\ttranscribed_unprocessed_pseudogene\n",
      " chr1\t12009\t12010\tDDX11L1\t.\t+\ttranscribed_unprocessed_pseudogene\n",
      " chr1\t17435\t17436\tMIR6859-1\t.\t-\tmiRNA\n",
      " chr1\t29553\t29554\tRP11-34P13.3\t.\t+\tlincRNA\n",
      " chr1\t29569\t29570\tWASH7P\t.\t-\tunprocessed_pseudogene\n",
      " chr1\t30266\t30267\tRP11-34P13.3\t.\t+\tlincRNA\n",
      " chr1\t30365\t30366\tMIR1302-2\t.\t+\tmiRNA\n",
      " chr1\t36080\t36081\tFAM138A\t.\t-\tlincRNA\n",
      " chr1\t52472\t52473\tOR4G4P\t.\t+\tunprocessed_pseudogene\n",
      " chr1\t57597\t57598\tOR4G11P\t.\t+\ttranscribed_unprocessed_pseudogene\n",
      " None\n",
      "chr1\t11868\t14409\tDDX11L1\t.\t+\ttranscribed_unprocessed_pseudogene\n",
      " chr1\t12009\t13670\tDDX11L1\t.\t+\ttranscribed_unprocessed_pseudogene\n",
      " chr1\t14403\t29570\tWASH7P\t.\t-\tunprocessed_pseudogene\n",
      " chr1\t17368\t17436\tMIR6859-1\t.\t-\tmiRNA\n",
      " chr1\t29553\t31097\tRP11-34P13.3\t.\t+\tlincRNA\n",
      " chr1\t30266\t31109\tRP11-34P13.3\t.\t+\tlincRNA\n",
      " chr1\t30365\t30503\tMIR1302-2\t.\t+\tmiRNA\n",
      " chr1\t34553\t36081\tFAM138A\t.\t-\tlincRNA\n",
      " chr1\t52472\t53312\tOR4G4P\t.\t+\tunprocessed_pseudogene\n",
      " chr1\t57597\t64116\tOR4G11P\t.\t+\ttranscribed_unprocessed_pseudogene\n",
      " None\n"
     ]
    }
   ],
   "source": [
    "#### Import the elements you want to use to annotate the peaks\n",
    "ref = '/data/ref/cellranger-atac/refdata-cellranger-atac-GRCh38-1.1.0'\n",
    "\n",
    "elements = ['dnase', 'enhancer', 'promoter', 'tss', 'transcripts']\n",
    "\n",
    "for x in elements:\n",
    "    el = BedTool(os.path.join(ref, 'regions', x + '.bed'))\n",
    "    print(el.head())"
   ]
  },
  {
   "cell_type": "code",
   "execution_count": 97,
   "metadata": {},
   "outputs": [
    {
     "name": "stdout",
     "output_type": "stream",
     "text": [
      "##gff-version 3\n",
      " #description: evidence-based annotation of the mouse genome (GRCm38), version M23 (Ensembl 98)\n",
      " #provider: GENCODE\n",
      " #contact: gencode-help@ebi.ac.uk\n",
      " #format: gff3\n",
      " #date: 2019-09-06\n",
      " ##sequence-region chr1 1 195471971\n",
      " chr1\tHAVANA\tgene\t3073253\t3074322\t.\t+\t.\tID=ENSMUSG00000102693.1;gene_id=ENSMUSG00000102693.1;gene_type=TEC;gene_name=4933401J01Rik;level=2;mgi_id=MGI:1918292;havana_gene=OTTMUSG00000049935.1\n",
      " chr1\tHAVANA\ttranscript\t3073253\t3074322\t.\t+\t.\tID=ENSMUST00000193812.1;Parent=ENSMUSG00000102693.1;gene_id=ENSMUSG00000102693.1;transcript_id=ENSMUST00000193812.1;gene_type=TEC;gene_name=4933401J01Rik;transcript_type=TEC;transcript_name=4933401J01Rik-201;level=2;transcript_support_level=NA;mgi_id=MGI:1918292;tag=basic;havana_gene=OTTMUSG00000049935.1;havana_transcript=OTTMUST00000127109.1\n",
      " chr1\tHAVANA\texon\t3073253\t3074322\t.\t+\t.\tID=exon:ENSMUST00000193812.1:1;Parent=ENSMUST00000193812.1;gene_id=ENSMUSG00000102693.1;transcript_id=ENSMUST00000193812.1;gene_type=TEC;gene_name=4933401J01Rik;transcript_type=TEC;transcript_name=4933401J01Rik-201;exon_number=1;exon_id=ENSMUSE00001343744.1;level=2;transcript_support_level=NA;mgi_id=MGI:1918292;tag=basic;havana_gene=OTTMUSG00000049935.1;havana_transcript=OTTMUST00000127109.1\n",
      " "
     ]
    }
   ],
   "source": [
    "# for x in Gencode[0]:\n",
    "#     print(x)\n",
    "# for x in ensemble[0]:\n",
    "#     print(x)\n",
    "Gencode.head()"
   ]
  },
  {
   "cell_type": "code",
   "execution_count": 99,
   "metadata": {},
   "outputs": [
    {
     "name": "stdout",
     "output_type": "stream",
     "text": [
      "155345     344326\n"
     ]
    },
    {
     "data": {
      "text/plain": [
       "Interval(chr1:3205900-3671498)"
      ]
     },
     "execution_count": 99,
     "metadata": {},
     "output_type": "execute_result"
    }
   ],
   "source": [
    "annot = Gencode.intersect(peaks_all, u=True)\n",
    "print(len(peaks_all), '   ', len(annot))\n",
    "annot[0] "
   ]
  },
  {
   "cell_type": "markdown",
   "metadata": {},
   "source": [
    "gene,transcript,exon,CDS,UTR,start_codon,stop_codon,Selenocysteine"
   ]
  },
  {
   "cell_type": "code",
   "execution_count": 100,
   "metadata": {},
   "outputs": [
    {
     "name": "stdout",
     "output_type": "stream",
     "text": [
      "['CDS' 'exon' 'five_prime_UTR' 'gene' 'start_codon' 'stop_codon'\n",
      " 'stop_codon_redefined_as_selenocysteine' 'three_prime_UTR' 'transcript']\n"
     ]
    }
   ],
   "source": [
    "feature = []\n",
    "for x in annot:\n",
    "    feature.append(x[2])\n",
    "    \n",
    "print(np.unique(feature))"
   ]
  },
  {
   "cell_type": "markdown",
   "metadata": {},
   "source": [
    "## Find Differentially accessible regions for the identified clusters"
   ]
  },
  {
   "cell_type": "code",
   "execution_count": null,
   "metadata": {},
   "outputs": [],
   "source": []
  },
  {
   "cell_type": "code",
   "execution_count": null,
   "metadata": {},
   "outputs": [],
   "source": []
  },
  {
   "cell_type": "code",
   "execution_count": 26,
   "metadata": {},
   "outputs": [
    {
     "name": "stderr",
     "output_type": "stream",
     "text": [
      "INFO:root:url: https://www.encodeproject.org/files/gencode.vM4.annotation/@@download/gencode.vM4.annotation.gtf.gz\n",
      "INFO:root:downloaded: tmp/GENCODE_vM4.gtf.gz\n"
     ]
    },
    {
     "data": {
      "text/plain": [
       "Interval(chr1:3073252-3074322)"
      ]
     },
     "execution_count": 26,
     "metadata": {},
     "output_type": "execute_result"
    }
   ],
   "source": [
    "## Get GENCODE annotion\n",
    "gf = None\n",
    "\n",
    "def download_GENCODE(ref: str):\n",
    "    '''\n",
    "    '''\n",
    "\n",
    "    if ref == 'GRCh38':\n",
    "        url = 'ftp://ftp.ebi.ac.uk/pub/databases/gencode/Gencode_human/release_32/gencode.v32.annotation.gtf.gz'\n",
    "        logging.info(\"url: {}\".format(url))\n",
    "        ver = 'v32'\n",
    "    elif ref == 'hg19':\n",
    "        url = 'https://www.encodeproject.org/files/gencode.v19.annotation/@@download/gencode.v19.annotation.gtf.gz'        \n",
    "        logging.info(\"url: {}\".format(url))\n",
    "        ver = 'v19'\n",
    "    elif ref == 'mm10':\n",
    "        url = 'https://www.encodeproject.org/files/gencode.vM4.annotation/@@download/gencode.vM4.annotation.gtf.gz'\n",
    "        logging.info(\"url: {}\".format(url))\n",
    "        ver = 'vM4'\n",
    "    else:\n",
    "        logging.info(\"Genome not recognised\")\n",
    "        return\n",
    "    \n",
    "    tmp = urllib.request.urlopen(url)\n",
    "    datatowrite = tmp.read()\n",
    "\n",
    "    if not os.path.isdir('./tmp'):\n",
    "        os.mkdir('tmp')\n",
    "\n",
    "    file = 'tmp/GENCODE_{}.gtf.gz'.format(ver)\n",
    "        \n",
    "    with open(file, 'wb') as f:\n",
    "        f.write(datatowrite)\n",
    "\n",
    "    return file;\n",
    "\n",
    "if gf == None:\n",
    "    gf = download_GENCODE(ds.attrs['reference_assembly'])\n",
    "    logging.info(\"downloaded: {}\".format(gf))\n",
    "    \n",
    "GENCODE = BedTool(gf)\n",
    "GENCODE[0]"
   ]
  }
 ],
 "metadata": {
  "kernelspec": {
   "display_name": "Chromograph (py3.7)",
   "language": "python",
   "name": "chromograph"
  },
  "language_info": {
   "codemirror_mode": {
    "name": "ipython",
    "version": 3
   },
   "file_extension": ".py",
   "mimetype": "text/x-python",
   "name": "python",
   "nbconvert_exporter": "python",
   "pygments_lexer": "ipython3",
   "version": "3.7.4"
  }
 },
 "nbformat": 4,
 "nbformat_minor": 4
}
