{
 "cells": [
  {
   "cell_type": "markdown",
   "metadata": {},
   "source": [
    "## Identify peaks per cluster"
   ]
  },
  {
   "cell_type": "code",
   "execution_count": 357,
   "metadata": {},
   "outputs": [
    {
     "name": "stderr",
     "output_type": "stream",
     "text": [
      "17:38:22 INFO     ds connection: (617643, 17811)\n"
     ]
    }
   ],
   "source": [
    "import numpy as np\n",
    "import os\n",
    "import sys\n",
    "import logging\n",
    "import collections\n",
    "import matplotlib.pyplot as plt\n",
    "import gzip\n",
    "import glob\n",
    "import loompy\n",
    "import pybedtools\n",
    "from pybedtools import BedTool\n",
    "import MACS2\n",
    "import multiprocessing as mp\n",
    "from typing import *\n",
    "\n",
    "sys.path.append('/home/camiel/chromograph/')\n",
    "from chromograph.peak_calling.utils import *            \n",
    "from chromograph.pipeline import config\n",
    "from  chromograph.peak_calling import call_MACS\n",
    "import shutil\n",
    "\n",
    "logger = logging.getLogger()\n",
    "logging.basicConfig(\n",
    "    format='%(asctime)s %(levelname)-8s %(message)s',\n",
    "    level=logging.INFO,\n",
    "    datefmt='%H:%M:%S')\n",
    "\n",
    "from chromograph.pipeline import config\n",
    "config = config.load_config()\n",
    "\n",
    "# Parameters\n",
    "ds = loompy.connect('/data/proj/scATAC/chromograph/build_20191206/Cerebellum.loom')\n",
    "logging.info(f'ds connection: {ds.shape}')"
   ]
  },
  {
   "cell_type": "code",
   "execution_count": 431,
   "metadata": {},
   "outputs": [
    {
     "data": {
      "text/plain": [
       "['CreationDate',\n",
       " 'LOOM_SPEC_VERSION',\n",
       " 'bin_max_cutoff',\n",
       " 'bin_min_cutoff',\n",
       " 'bin_size',\n",
       " 'cellranger-atac_version',\n",
       " 'level',\n",
       " 'radius',\n",
       " 'reference_assembly',\n",
       " 'reference_assembly_accession',\n",
       " 'reference_assembly_fasta_url',\n",
       " 'reference_organism',\n",
       " 'reference_version',\n",
       " 'tissue']"
      ]
     },
     "execution_count": 431,
     "metadata": {},
     "output_type": "execute_result"
    }
   ],
   "source": [
    "ds.attrs.keys()"
   ]
  },
  {
   "cell_type": "code",
   "execution_count": 3,
   "metadata": {},
   "outputs": [
    {
     "name": "stderr",
     "output_type": "stream",
     "text": [
      "19:02:11 INFO     Peak Caller initialised\n"
     ]
    }
   ],
   "source": [
    "class Peak_caller:\n",
    "    def __init__(self) -> None:\n",
    "        \"\"\"\n",
    "        Generate fragments piles based on cluster identities and use MACS to call peaks\n",
    "        \n",
    "        Args:\n",
    "            ds                    Loom connection\n",
    "\n",
    "        Remarks:\n",
    "        \n",
    "        \"\"\"\n",
    "        self.config = config.load_config()\n",
    "        self.peakdir = os.path.join(self.config.paths.build, 'peaks')\n",
    "        logging.info(\"Peak Caller initialised\")\n",
    "    \n",
    "    def fit(self, ds: loompy.LoomConnection) -> None:\n",
    "        \"\"\"\n",
    "        Generate fragments piles based on cluster identities and use MACS to call peaks\n",
    "        \n",
    "        Args:\n",
    "\n",
    "        Returns:\n",
    "        \n",
    "        Remarks:\n",
    "        \n",
    "        \"\"\"\n",
    "        \n",
    "        ## Check if location for peaks and compounded fragments exists\n",
    "        if not os.path.isdir(self.peakdir):\n",
    "            os.mkdir(self.peakdir)\n",
    "\n",
    "        config = config.load_config()\n",
    "        pf = os.path.join(config.paths.build, 'peaks')\n",
    "\n",
    "        if not os.path.isdir(self.peakdir):\n",
    "            os.mkdir(self.peakdir)   \n",
    "\n",
    "        chunks = []\n",
    "        for i in np.unique(ds.ca['Clusters']):\n",
    "            cells = ds.ca[\"sample\", \"barcode\"][ds.ca['Clusters'] == i]\n",
    "            files = [os.path.join(config.paths.samples, x[0], 'fragments', f'{x[1]}.tsv.gz') for x in cells]\n",
    "            chunks.append([i,files])\n",
    "\n",
    "        logging.info('Start merging fragments by cluster')\n",
    "        piles = []\n",
    "        for ck in chunks:\n",
    "            files = np.array(ck[1])\n",
    "            ex = np.array([os.path.exists(x) for x in files])\n",
    "            files = files[ex]\n",
    "\n",
    "            fmerge = os.path.join(pf, f'fragments_{ck[0]}.tsv.gz')\n",
    "            with open(fmerge, 'wb') as out:\n",
    "                for f in files:\n",
    "                    with open(f, 'rb') as file:\n",
    "                        shutil.copyfileobj(file, out)\n",
    "            piles.append([ck[0], fmerge])\n",
    "            logging.info(f'Finished with cluster {ck[0]}')\n",
    "            \n",
    "        if __name__ == '__main__':\n",
    "            jobs = []\n",
    "            for pile in piles:\n",
    "                p = mp.Process(target=call_MACS, args=(pile, self.peakdir, self.config.paths.MACS,))\n",
    "                jobs.append(p)\n",
    "                p.start()\n",
    "                \n",
    "        ## Compound the peak lists\n",
    "        peaks = [BedTool(x) for x in glob.glob(os.path.join(self.peakdir, '*.narrowPeak'))]\n",
    "        logging.info('Identified on average {} peaks per cluster'.format(np.int(np.mean([len(x) for x in peaks]))))\n",
    "        peaks_all = peaks[0].cat(*peaks[1:])\n",
    "        logging.info('Identified {} peaks after compounding list'.format(len(peaks_all)))\n",
    "        \n",
    "        return peaks_all\n",
    "            \n",
    "peak_caller = Peak_caller()\n"
   ]
  },
  {
   "cell_type": "code",
   "execution_count": 428,
   "metadata": {},
   "outputs": [
    {
     "name": "stdout",
     "output_type": "stream",
     "text": [
      "['Accession', 'Gene', 'loc']\n"
     ]
    }
   ],
   "source": [
    "with loompy.connect('/data/proj/scATAC/samples/10X232_1/10X232_1_GA.loom') as dsi:\n",
    "    print(dsi.ra.keys())"
   ]
  },
  {
   "cell_type": "code",
   "execution_count": 429,
   "metadata": {},
   "outputs": [
    {
     "data": {
      "text/plain": [
       "\u001b[0;31mSignature:\u001b[0m\n",
       "\u001b[0mloompy\u001b[0m\u001b[0;34m.\u001b[0m\u001b[0mcombine\u001b[0m\u001b[0;34m(\u001b[0m\u001b[0;34m\u001b[0m\n",
       "\u001b[0;34m\u001b[0m    \u001b[0mfiles\u001b[0m\u001b[0;34m:\u001b[0m \u001b[0mList\u001b[0m\u001b[0;34m[\u001b[0m\u001b[0mstr\u001b[0m\u001b[0;34m]\u001b[0m\u001b[0;34m,\u001b[0m\u001b[0;34m\u001b[0m\n",
       "\u001b[0;34m\u001b[0m    \u001b[0moutput_file\u001b[0m\u001b[0;34m:\u001b[0m \u001b[0mstr\u001b[0m\u001b[0;34m,\u001b[0m\u001b[0;34m\u001b[0m\n",
       "\u001b[0;34m\u001b[0m    \u001b[0mkey\u001b[0m\u001b[0;34m:\u001b[0m \u001b[0mstr\u001b[0m \u001b[0;34m=\u001b[0m \u001b[0;32mNone\u001b[0m\u001b[0;34m,\u001b[0m\u001b[0;34m\u001b[0m\n",
       "\u001b[0;34m\u001b[0m    \u001b[0mfile_attrs\u001b[0m\u001b[0;34m:\u001b[0m \u001b[0mDict\u001b[0m\u001b[0;34m[\u001b[0m\u001b[0mstr\u001b[0m\u001b[0;34m,\u001b[0m \u001b[0mstr\u001b[0m\u001b[0;34m]\u001b[0m \u001b[0;34m=\u001b[0m \u001b[0;32mNone\u001b[0m\u001b[0;34m,\u001b[0m\u001b[0;34m\u001b[0m\n",
       "\u001b[0;34m\u001b[0m    \u001b[0mbatch_size\u001b[0m\u001b[0;34m:\u001b[0m \u001b[0mint\u001b[0m \u001b[0;34m=\u001b[0m \u001b[0;36m1000\u001b[0m\u001b[0;34m,\u001b[0m\u001b[0;34m\u001b[0m\n",
       "\u001b[0;34m\u001b[0m    \u001b[0mconvert_attrs\u001b[0m\u001b[0;34m:\u001b[0m \u001b[0mbool\u001b[0m \u001b[0;34m=\u001b[0m \u001b[0;32mFalse\u001b[0m\u001b[0;34m,\u001b[0m\u001b[0;34m\u001b[0m\n",
       "\u001b[0;34m\u001b[0m\u001b[0;34m)\u001b[0m \u001b[0;34m->\u001b[0m \u001b[0;32mNone\u001b[0m\u001b[0;34m\u001b[0m\u001b[0;34m\u001b[0m\u001b[0m\n",
       "\u001b[0;31mDocstring:\u001b[0m\n",
       "Combine two or more loom files and save as a new loom file\n",
       "\n",
       "Args:\n",
       "        files (list of str):    the list of input files (full paths)\n",
       "        output_file (str):      full path of the output loom file\n",
       "        key (string):           Row attribute to use to verify row ordering\n",
       "        file_attrs (dict):      file attributes (title, description, url, etc.)\n",
       "        batch_size (int):       limits the batch or cols/rows read in memory (default: 1000)\n",
       "        convert_attrs (bool):   convert file attributes that differ between files into column attributes\n",
       "\n",
       "Returns:\n",
       "        Nothing, but creates a new loom file combining the input files.\n",
       "        Note that the loom files must have exactly the same\n",
       "        number of rows, and must have exactly the same column attributes.\n",
       "        Named layers not present in the first file are discarded.\n",
       "\n",
       "        .. warning::\n",
       "                If you don't give a ``key`` argument, the files will be combined without changing\n",
       "                the ordering of rows or columns. Row attributes will be taken from the first file.\n",
       "                Hence, if rows are not in the same order in all files, the result may be meaningless.\n",
       "\n",
       "        To guard against this issue, you are strongly advised to provide a ``key`` argument,\n",
       "        which is used to sort files while merging. The ``key`` should be the name of a row\n",
       "        attribute that contains a unique value for each row. For example, to order rows by\n",
       "        the attribute ``Accession``:\n",
       "\n",
       "        .. highlight:: python\n",
       "        .. code-block:: python\n",
       "\n",
       "                import loompy\n",
       "                loompy.combine(files, key=\"Accession\")\n",
       "\u001b[0;31mFile:\u001b[0m      ~/anaconda3/envs/chromograph/lib/python3.7/site-packages/loompy/loompy.py\n",
       "\u001b[0;31mType:\u001b[0m      function\n"
      ]
     },
     "metadata": {},
     "output_type": "display_data"
    }
   ],
   "source": [
    "?loompy.combine"
   ]
  },
  {
   "cell_type": "code",
   "execution_count": 359,
   "metadata": {},
   "outputs": [],
   "source": [
    "# IDs = [f'{x[0]}:{x[1]}' for x in ds.ca[\"sample\", \"barcode\"]]\n",
    "# ds.ca['CellID'] = IDs"
   ]
  },
  {
   "cell_type": "code",
   "execution_count": 5,
   "metadata": {},
   "outputs": [
    {
     "name": "stdout",
     "output_type": "stream",
     "text": [
      "7 7\n"
     ]
    },
    {
     "data": {
      "image/png": "[encoded data removed]",
      "text/plain": [
       "<Figure size 432x288 with 1 Axes>"
      ]
     },
     "metadata": {
      "needs_background": "light"
     },
     "output_type": "display_data"
    }
   ],
   "source": [
    "data = [ds.ca['passed_filters'][ds.ca['Clusters'] == x] for x in np.unique(ds.ca['Clusters'])]\n",
    "# data = [np.log10(ds.ca['passed_filters'][ds.ca['Clusters'] == x]) for x in np.unique(ds.ca['Clusters'])]\n",
    "print(len(data), len(np.unique(ds.ca['Clusters'])))\n",
    "plt.violinplot(data, positions=np.unique(ds.ca['Clusters']), showmeans=True);"
   ]
  },
  {
   "cell_type": "code",
   "execution_count": 6,
   "metadata": {},
   "outputs": [
    {
     "name": "stdout",
     "output_type": "stream",
     "text": [
      "13374967\n"
     ]
    }
   ],
   "source": [
    "# for clus in np.unique(ds.ca['Clusters']):\n",
    "#     cas = ds.ca['fragments'][ds.ca['Clusters'] == clus]\n",
    "#     frags = [strFrags_to_list(x) for x in cas]\n",
    "#     frags = [x for l in frags for x in l]\n",
    "#     logging.info(\"Total fragments in cluster {}:  {}\".format(clus, len(frags)))\n",
    "\n",
    "#     fbed = os.path.join(pf, \"fragments_cluster_{}.bed.gz\".format(clus))\n",
    "#     fpeaks = os.path.join(pf, \"cluster_{}\".format(clus))\n",
    "\n",
    "#     print(g, fpeaks)\n",
    "#     bed = BedTool(frags)\n",
    "#     bed.saveas(fbed)\n",
    "\n",
    "#     ## Call Peaks\n",
    "#     cmd = \"{} callpeak -t {} -f BEDPE -g {} --nomodel --shift 100 --ext 200 --qval 5e-2 -B --SPMR -n {}\".format(macs_path, fbed, g, fpeaks)\n",
    "#     os.system(cmd)\n",
    "\n",
    "#     logging.info('Called peaks for cluster {} out of {}'.format(clus, np.unique(ds.ca['Clusters'])))\n",
    "    \n",
    "#     ## We only need the narrowPeak file, so clean up the rest\n",
    "#     os.system(\"rm {}\".format(os.path.join(pf, 'cluster_' + str(clus) + '_peaks.xls'))\n",
    "#     os.system(\"rm {}\".format(os.path.join(pf, 'cluster_' + str(clus) + '_control_lambda.bdg'))\n",
    "#     os.system(\"rm {}\".format(os.path.join(pf, 'cluster_' + str(clus) + '_summits.bed'))"
   ]
  },
  {
   "cell_type": "markdown",
   "metadata": {},
   "source": [
    "## Generate compound peak list and count peaks"
   ]
  },
  {
   "cell_type": "code",
   "execution_count": 10,
   "metadata": {},
   "outputs": [
    {
     "name": "stderr",
     "output_type": "stream",
     "text": [
      "10:23:22 INFO     Identified on average 76138 peaks per cluster\n",
      "10:23:43 INFO     Identified 229634 peaks after compounding list\n"
     ]
    }
   ],
   "source": [
    "## Get all the narrowPeak files\n",
    "\n",
    "pf = '/data/proj/scATAC/chromograph/build_20191206/peaks/'\n",
    "\n",
    "peaks = [BedTool(x) for x in glob.glob(os.path.join(pf, '*.narrowPeak'))]\n",
    "logging.info('Identified on average {} peaks per cluster'.format(np.int(np.mean([len(x) for x in peaks]))))\n",
    "\n",
    "peaks_all = peaks[0].cat(*peaks[1:]).saveas(os.path.join(pf, 'Compound_peaklist.narrowPeak'))\n",
    "logging.info('Identified {} peaks after compounding list'.format(len(peaks_all)))"
   ]
  },
  {
   "cell_type": "code",
   "execution_count": 2,
   "metadata": {},
   "outputs": [
    {
     "name": "stderr",
     "output_type": "stream",
     "text": [
      "13:30:26 INFO     Length of the BedTools: [229634, 269373]\n"
     ]
    }
   ],
   "source": [
    "## Merge Peak lists\n",
    "pwdl = ['/data/proj/scATAC/chromograph/build_20191206/peaks/', '/data/proj/scATAC/chromograph/build_20191205/peaks/']\n",
    "\n",
    "peaks = [BedTool(os.path.join(p, 'Compound_peaklist.narrowPeak')) for p in pwdl]\n",
    "l = [len(x) for x in peaks]\n",
    "\n",
    "logging.info(f'Length of the BedTools: {l}')"
   ]
  },
  {
   "cell_type": "code",
   "execution_count": 255,
   "metadata": {},
   "outputs": [
    {
     "name": "stderr",
     "output_type": "stream",
     "text": [
      "13:59:18 INFO     Length after merging 325484\n"
     ]
    },
    {
     "name": "stdout",
     "output_type": "stream",
     "text": [
      "chr1\t180892\t181154\tchr1:180892-181154\t.\t+\n",
      " chr1\t181357\t181841\tchr1:181357-181841\t.\t+\n",
      " chr1\t190796\t191880\tchr1:190796-191880\t.\t+\n",
      " chr1\t778221\t779507\tchr1:778221-779507\t.\t+\n",
      " chr1\t788815\t789212\tchr1:788815-789212\t.\t+\n",
      " chr1\t794857\t795186\tchr1:794857-795186\t.\t+\n",
      " chr1\t817182\t817417\tchr1:817182-817417\t.\t+\n",
      " chr1\t817850\t818358\tchr1:817850-818358\t.\t+\n",
      " chr1\t818744\t819631\tchr1:818744-819631\t.\t+\n",
      " chr1\t820146\t820322\tchr1:820146-820322\t.\t+\n",
      " "
     ]
    }
   ],
   "source": [
    "from chromograph.peak_calling.utils import *\n",
    "# def extend_fields(feature, n):\n",
    "#     fields = feature.fields[:]\n",
    "#     while len(fields) < n:\n",
    "#         fields.append('.')\n",
    "#     return pybedtools.create_interval_from_list(fields)\n",
    "\n",
    "# def add_ID(feature):\n",
    "#     feature[3] = f'{feature[0]}:{feature[1]}-{feature[2]}'\n",
    "#     return feature\n",
    "\n",
    "# def add_strand(feature, strand):\n",
    "#     feature[5] = strand\n",
    "#     return feature\n",
    "\n",
    "tmp = peaks[0].cat(peaks[1])\n",
    "tmp = tmp.each(extend_fields, 6).each(add_ID).each(add_strand, '+').saveas('/data/proj/scATAC/chromograph/tmp/compound_peaks.bed')\n",
    "\n",
    "logging.info(f'Length after merging {tmp.count()}')\n",
    "tmp.head()"
   ]
  },
  {
   "cell_type": "code",
   "execution_count": 395,
   "metadata": {},
   "outputs": [],
   "source": [
    "fpeaks = os.path.join(pwdl[0], 'Compounded_peaks.bed')\n",
    "peaks_all = BedTool('/data/proj/scATAC/chromograph/build_20191206/peaks/Compound_peaklist.narrowPeak')\n",
    "peaks_all = peaks_all.each(extend_fields, 6).each(add_ID).each(add_strand, '+').saveas(fpeaks)   ## Pad out the BED-file and save"
   ]
  },
  {
   "cell_type": "code",
   "execution_count": 396,
   "metadata": {},
   "outputs": [
    {
     "data": {
      "text/plain": [
       "229634"
      ]
     },
     "execution_count": 396,
     "metadata": {},
     "output_type": "execute_result"
    }
   ],
   "source": [
    "peaks_all.count()"
   ]
  },
  {
   "cell_type": "code",
   "execution_count": 285,
   "metadata": {},
   "outputs": [
    {
     "data": {
      "text/plain": [
       "0"
      ]
     },
     "execution_count": 285,
     "metadata": {},
     "output_type": "execute_result"
    }
   ],
   "source": [
    "# ## Change to right configs\n",
    "# peakdir = pwdl[0]\n",
    "\n",
    "# homer = os.path.join(config.paths.HOMER, 'annotatePeaks.pl')\n",
    "# genes = os.path.join(config.paths.ref, 'genes', 'genes.gtf')\n",
    "# motifs = os.path.join(config.paths.ref, 'regions', 'motifs.pfm')\n",
    "# f_annot = os.path.join(peakdir, 'annotated_peaks.txt')\n",
    "# cmd = f'{homer} {fpeaks} hg38 -gtf {genes} -m {motifs} > {f_annot}'\n",
    "\n",
    "# os.system(cmd)"
   ]
  },
  {
   "cell_type": "code",
   "execution_count": 288,
   "metadata": {},
   "outputs": [
    {
     "data": {
      "text/plain": [
       "(229634, 21)"
      ]
     },
     "execution_count": 288,
     "metadata": {},
     "output_type": "execute_result"
    }
   ],
   "source": [
    "def read_HOMER_annotation(file):\n",
    "    '''\n",
    "    Read the output of HOMER into a numpy array\n",
    "    '''\n",
    "    table = []\n",
    "    with open(file) as f:\n",
    "        i = 0\n",
    "        for line in f:\n",
    "            if i == 0:\n",
    "                cols = ['ID'] + line.split('\\t')[1:]\n",
    "                cols = [x.rstrip() for x in cols]\n",
    "            if i > 0 :\n",
    "                table.append([x.rstrip() for x in line.split('\\t')])\n",
    "            i += 1\n",
    "\n",
    "    table = np.array(table)\n",
    "    return table\n",
    "\n",
    "table = read_HOMER_annotation(f_annot)\n",
    "table.shape"
   ]
  },
  {
   "cell_type": "code",
   "execution_count": 330,
   "metadata": {},
   "outputs": [],
   "source": [
    "peak_IDs = np.array([x[3] for x in peaks_all])\n",
    "\n",
    "def reorder_by_IDs(mat, IDs):\n",
    "    '''\n",
    "    '''\n",
    "    ## Create index dict\n",
    "    idx = {k:v for v,k in enumerate(IDs)}\n",
    "    \n",
    "    ## Initiate empty matrix\n",
    "    table = np.zeros(mat.shape, dtype=object)\n",
    "\n",
    "    ## Populate matrix\n",
    "    i = 0\n",
    "    for x in range(table.shape[0]):\n",
    "        table[idx[mat[x,0]],:] = mat[x,:]\n",
    "\n",
    "    return np.array(ntable)\n",
    "\n",
    "table = reorder_by_IDs(table, peak_IDs)"
   ]
  },
  {
   "cell_type": "code",
   "execution_count": 418,
   "metadata": {},
   "outputs": [],
   "source": [
    "## Save as dict    \n",
    "annot = {cols[i]: table[:,i] for i in range(table.shape[1])}"
   ]
  },
  {
   "cell_type": "code",
   "execution_count": 400,
   "metadata": {},
   "outputs": [
    {
     "name": "stderr",
     "output_type": "stream",
     "text": [
      "18:57:07 INFO     Finished job\n",
      "18:57:19 INFO     Finished job\n",
      "18:57:33 INFO     Finished job\n"
     ]
    }
   ],
   "source": [
    "def Count_peaks(cells, sample_dir, f_peaks):\n",
    "    '''\n",
    "    Count peaks\n",
    "    '''\n",
    "    Count_dict = {k: {} for k in cells}\n",
    "    peaks = BedTool(f_peaks)\n",
    "    i = 0\n",
    "    for x in cells:\n",
    "        try:\n",
    "            s, c = x.split(':')\n",
    "            f = os.path.join(sample_dir, s, 'fragments', f'{c}.tsv.gz')\n",
    "            cBed = BedTool(f)\n",
    "            pks = peaks.intersect(cBed, wa=True)\n",
    "\n",
    "            cDict = {}\n",
    "            for line in pks:\n",
    "                cDict[line[3]] = 1\n",
    "\n",
    "            Count_dict[x] = cDict\n",
    "            i += 1\n",
    "            if i%1000==0:\n",
    "                logging.info(f'Finished counting {i} cells')\n",
    "        except:\n",
    "            Count_dict[x] = []\n",
    "    logging.info('Finished job')\n",
    "    return Count_dict\n",
    "\n",
    "Count_dict1 = Count_peaks(ds.ca['CellID'][:10], config.paths.samples, fpeaks)\n",
    "Count_dict2 = Count_peaks(ds.ca['CellID'][10:20], config.paths.samples, fpeaks)\n",
    "Count_dict3 = Count_peaks(ds.ca['CellID'][20:30], config.paths.samples, fpeaks)\n",
    "dicts = [Count_dict1, Count_dict2, Count_dict3]\n",
    "Counts = {k: v for d in dicts for k, v in d.items()}"
   ]
  },
  {
   "cell_type": "code",
   "execution_count": 409,
   "metadata": {},
   "outputs": [],
   "source": [
    "r_dict = {k: v for v,k in enumerate(annot['ID'])}"
   ]
  },
  {
   "cell_type": "code",
   "execution_count": 110,
   "metadata": {},
   "outputs": [
    {
     "name": "stdout",
     "output_type": "stream",
     "text": [
      "{'Intergenic': 115048, 'TTS': 9270, 'exon': 14124, 'intron': 169168, 'promoter-TSS': 17874}\n"
     ]
    }
   ],
   "source": [
    "simple_annotation = np.array([x.split(' ')[0] for x in annot['Annotation']])\n",
    "\n",
    "counts = {}\n",
    "for x in np.unique(simple_annotation):\n",
    "    counts[x] = np.sum(simple_annotation == x)\n",
    "    \n",
    "print(counts)"
   ]
  },
  {
   "cell_type": "code",
   "execution_count": 415,
   "metadata": {},
   "outputs": [
    {
     "name": "stderr",
     "output_type": "stream",
     "text": [
      "09:43:45 INFO     Generating Sparse matrix\n"
     ]
    },
    {
     "data": {
      "text/plain": [
       "<229634x30 sparse matrix of type '<class 'numpy.int64'>'\n",
       "\twith 305655 stored elements in COOrdinate format>"
      ]
     },
     "execution_count": 415,
     "metadata": {},
     "output_type": "execute_result"
    }
   ],
   "source": [
    "from scipy import sparse\n",
    "logging.info(\"Generating Sparse matrix\")\n",
    "col = []\n",
    "row = []\n",
    "v = []\n",
    "\n",
    "cix = 0\n",
    "for cell in ds.ca['CellID'][:30]:\n",
    "\n",
    "    for key in (Counts[cell]):\n",
    "        col.append(cix)\n",
    "        row.append(r_dict[key])\n",
    "        v.append(Counts[cell][key])\n",
    "    cix+=1\n",
    "matrix = sparse.coo_matrix((v, (row,col)), shape=(len(r_dict.keys()), len(ds.ca['CellID'][:30])))\n"
   ]
  },
  {
   "cell_type": "code",
   "execution_count": null,
   "metadata": {},
   "outputs": [],
   "source": [
    "## Create loomfile\n",
    "logging.info(\"Constructing loomfile\")\n",
    "floom = f'{ds.filename.split(\".\")[0]}_peaks.loom'\n",
    "\n",
    "loompy.create(filename=floom, \n",
    "              layers=matrix, \n",
    "              row_attrs=annot, \n",
    "              col_attrs=dict(ds.ca),\n",
    "              file_attrs=dict(ds.attrs))\n",
    "self.loom = floom\n",
    "logging.info(\"Loom peaks file saved as {}\".format(floom))"
   ]
  },
  {
   "cell_type": "code",
   "execution_count": 427,
   "metadata": {},
   "outputs": [
    {
     "data": {
      "text/plain": [
       "{'CreationDate': '20191203T111617.063130Z',\n",
       " 'LOOM_SPEC_VERSION': '3.0.0',\n",
       " 'bin_max_cutoff': 6035.0,\n",
       " 'bin_min_cutoff': 431.0,\n",
       " 'bin_size': 5000,\n",
       " 'cellranger-atac_version': '1.2.0',\n",
       " 'level': 5000,\n",
       " 'radius': 0.42703993320465095,\n",
       " 'reference_assembly': 'GRCh38',\n",
       " 'reference_assembly_accession': 'GCA_000001405.15',\n",
       " 'reference_assembly_fasta_url': 'ftp://ftp.ncbi.nlm.nih.gov/genomes/all/GCA/000/001/405/GCA_000001405.15_GRCh38/seqs_for_alignment_pipelines.ucsc_ids/GCA_000001405.15_GRCh38_no_alt_analysis_set.fna.gz',\n",
       " 'reference_organism': 'Homo_sapiens',\n",
       " 'reference_version': '1.2',\n",
       " 'tissue': 'Cerebellum'}"
      ]
     },
     "execution_count": 427,
     "metadata": {},
     "output_type": "execute_result"
    }
   ],
   "source": [
    "dict(ds.attrs)"
   ]
  },
  {
   "cell_type": "code",
   "execution_count": 228,
   "metadata": {},
   "outputs": [
    {
     "data": {
      "image/png": "[encoded data removed]",
      "text/plain": [
       "<Figure size 864x720 with 1 Axes>"
      ]
     },
     "metadata": {},
     "output_type": "display_data"
    }
   ],
   "source": [
    "labels = 'Intergenic', 'Intron', 'Promoter-TSS', 'Exon', 'TTS'\n",
    "\n",
    "fig, ax = plt.subplots(figsize = (12,10))\n",
    "\n",
    "size = 0.4\n",
    "vals = np.array([counts['Intergenic'], counts['intron'], counts['promoter-TSS'], counts['exon'], counts['TTS']])\n",
    "\n",
    "cmap = plt.get_cmap(\"tab20c\")\n",
    "outer_colors = cmap(np.arange(2)*4 + 1)[[1,0],:]\n",
    "inner_colors = cmap(np.array([0,1,2,3,4]))[::-1,:]\n",
    "\n",
    "ax.pie([vals[0], sum(vals[1:])], radius=1, colors=outer_colors,\n",
    "       wedgeprops=dict(width=size, edgecolor='w'), startangle=90)\n",
    "\n",
    "def func(pct, allvals):\n",
    "    absolute = int(pct/100.*np.sum(allvals))\n",
    "    return \"{:.1f}%\\n({:d})\".format(pct, absolute)\n",
    "\n",
    "wedges, texts, autotexts = ax.pie(vals.flatten(), radius=1-size, colors=inner_colors, autopct=lambda pct: func(pct, vals), pctdistance=1.2, \n",
    "       wedgeprops=dict(width=size, edgecolor='w'), startangle=90)\n",
    "\n",
    "ax.set(aspect=\"equal\", title='Gene-associated vs. Intergenic Peaks')\n",
    "\n",
    "ax.legend(wedges, labels,\n",
    "          title=\"Regions\",\n",
    "          loc=\"center left\",\n",
    "          bbox_to_anchor=(1, 0, 0.5, 1))\n",
    "\n",
    "plt.show()"
   ]
  },
  {
   "cell_type": "code",
   "execution_count": 195,
   "metadata": {},
   "outputs": [
    {
     "name": "stdout",
     "output_type": "stream",
     "text": [
      "chr10\t86837375\t86837911\tchr10:86837374-86837911\n",
      " chr2\t424615\t425353\tchr2:424614-425353\n",
      " chr14\t68722398\t68722688\tchr14:68722397-68722688\n",
      " chr4\t39054312\t39054814\tchr4:39054311-39054814\n",
      " chr7\t1429990\t1430427\tchr7:1429989-1430427\n",
      " chr1\t99623401\t99623806\tchr1:99623349-99623806\n",
      " chr5\t92561993\t92562360\tchr5:92561992-92562360\n",
      " chr3\t11692204\t11692418\tchr3:11692203-11692418\n",
      " chr13\t31750556\t31751116\tchr13:31750555-31751116\n",
      " chr2\t219331481\t219332131\tchr2:219331480-219332903\n",
      " "
     ]
    }
   ],
   "source": [
    "enhancers = BedTool(os.path.join(config.paths.ref, 'regions', 'enhancer.bed'))\n",
    "peak_list = BedTool([(annot['Chr'][x], str(annot['Start'][x]), str(annot['End'][x]), str(annot['ID'][x])) for x in range(len(annot['Chr']))]).saveas()\n",
    "known_enhancers = peak_list.intersect(enhancers)\n",
    "known_enhancers.head()"
   ]
  },
  {
   "cell_type": "code",
   "execution_count": 200,
   "metadata": {},
   "outputs": [],
   "source": [
    "enh_peaks = [x[3] for x in known_enhancers]"
   ]
  },
  {
   "cell_type": "code",
   "execution_count": 210,
   "metadata": {},
   "outputs": [
    {
     "name": "stdout",
     "output_type": "stream",
     "text": [
      "Finished 0 out of 325484\n",
      "Finished 10000 out of 325484\n",
      "Finished 20000 out of 325484\n",
      "Finished 30000 out of 325484\n",
      "Finished 40000 out of 325484\n",
      "Finished 50000 out of 325484\n",
      "Finished 60000 out of 325484\n",
      "Finished 70000 out of 325484\n",
      "Finished 80000 out of 325484\n",
      "Finished 90000 out of 325484\n",
      "Finished 100000 out of 325484\n",
      "Finished 110000 out of 325484\n",
      "Finished 120000 out of 325484\n",
      "Finished 130000 out of 325484\n",
      "Finished 140000 out of 325484\n",
      "Finished 150000 out of 325484\n",
      "Finished 160000 out of 325484\n",
      "Finished 170000 out of 325484\n",
      "Finished 180000 out of 325484\n",
      "Finished 190000 out of 325484\n",
      "Finished 200000 out of 325484\n",
      "Finished 210000 out of 325484\n",
      "Finished 220000 out of 325484\n",
      "Finished 230000 out of 325484\n",
      "Finished 240000 out of 325484\n",
      "Finished 250000 out of 325484\n",
      "Finished 260000 out of 325484\n",
      "Finished 270000 out of 325484\n",
      "Finished 280000 out of 325484\n",
      "Finished 290000 out of 325484\n",
      "Finished 300000 out of 325484\n",
      "Finished 310000 out of 325484\n",
      "Finished 320000 out of 325484\n"
     ]
    }
   ],
   "source": [
    "regs = []\n",
    "nPeaks = len(annot['Annotation'])\n",
    "for i in range(len(annot['Annotation'])):\n",
    "    \n",
    "    if annot['ID'][i] in enh_peaks:\n",
    "        regs.append(annot['Annotation'][i])\n",
    "\n",
    "    if i%10000 == 0:\n",
    "        print(f'Finished {i} out of {nPeaks}')\n",
    "enh_annotation = np.array([x.split(' ')[0] for x in regs])"
   ]
  },
  {
   "cell_type": "code",
   "execution_count": 213,
   "metadata": {},
   "outputs": [
    {
     "name": "stdout",
     "output_type": "stream",
     "text": [
      "{'Intergenic': 52712, 'TTS': 3814, 'exon': 4691, 'intron': 77094, 'promoter-TSS': 2973}\n"
     ]
    }
   ],
   "source": [
    "regs = np.array([x.split(' ')[0] for x in regs])\n",
    "\n",
    "enh_counts = {}\n",
    "for x in np.unique(regs):\n",
    "    enh_counts[x] = np.sum(enh_annotation == x)\n",
    "    \n",
    "print(enh_counts)"
   ]
  },
  {
   "cell_type": "code",
   "execution_count": 230,
   "metadata": {},
   "outputs": [
    {
     "data": {
      "image/png": "[encoded data removed]",
      "text/plain": [
       "<Figure size 864x720 with 1 Axes>"
      ]
     },
     "metadata": {},
     "output_type": "display_data"
    }
   ],
   "source": [
    "labels = 'Intergenic', 'Intron', 'Promoter-TSS', 'Exon', 'TTS'\n",
    "\n",
    "fig, ax = plt.subplots(figsize = (12,10))\n",
    "\n",
    "size = 0.4\n",
    "vals = np.array([enh_counts['Intergenic'], enh_counts['intron'], enh_counts['promoter-TSS'], enh_counts['exon'], enh_counts['TTS']])\n",
    "\n",
    "cmap = plt.get_cmap(\"tab20c\")\n",
    "outer_colors = cmap(np.arange(2)*4 + 1)[[1,0],:]\n",
    "inner_colors = cmap(np.array([0,1,2,3,4]))[::-1,:]\n",
    "\n",
    "ax.pie([vals[0], sum(vals[1:])], radius=1, colors=outer_colors,\n",
    "       wedgeprops=dict(width=size, edgecolor='w'), startangle=90)\n",
    "\n",
    "def func(pct, allvals):\n",
    "    absolute = int(pct/100.*np.sum(allvals))\n",
    "    return \"{:.1f}%\\n({:d})\".format(pct, absolute)\n",
    "\n",
    "wedges, texts, autotexts = ax.pie(vals.flatten(), radius=1-size, colors=inner_colors, autopct=lambda pct: func(pct, vals), pctdistance=1.2, \n",
    "       wedgeprops=dict(width=size, edgecolor='w'), startangle=90)\n",
    "\n",
    "ax.set(aspect=\"equal\", title='Gene-associated vs. Intergenic Peaks')\n",
    "\n",
    "ax.legend(wedges, labels,\n",
    "          title=\"Regions\",\n",
    "          loc=\"center left\",\n",
    "          bbox_to_anchor=(1, 0, 0.5, 1))\n",
    "\n",
    "plt.show()"
   ]
  },
  {
   "cell_type": "code",
   "execution_count": 232,
   "metadata": {},
   "outputs": [
    {
     "data": {
      "text/plain": [
       "0.4581739795563591"
      ]
     },
     "execution_count": 232,
     "metadata": {},
     "output_type": "execute_result"
    }
   ],
   "source": [
    "enh_counts['Intergenic'] / counts['Intergenic']"
   ]
  },
  {
   "cell_type": "code",
   "execution_count": 250,
   "metadata": {},
   "outputs": [
    {
     "name": "stdout",
     "output_type": "stream",
     "text": [
      "29506\n"
     ]
    }
   ],
   "source": [
    "peak_list = BedTool([(annot['Chr'][x], str(annot['Start'][x]), str(annot['End'][x]), str(annot['ID'][x])) for x in range(len(annot['Chr']))]).saveas()\n",
    "\n",
    "for x in ['tss', 'transcripts', 'promoter', 'enhancer', 'dnase', 'ctcf', 'blacklist']:\n",
    "    sub = BedTool(os.path.join(config.paths.ref, 'regions', f'{x}.bed'))\n",
    "    peak_list = peak_list.subtract(sub, A=True)\n",
    "    \n",
    "for x in ['regulatory.gff', 'genes.gtf']:\n",
    "    sub = BedTool(os.path.join(config.paths.ref, 'genes', x))\n",
    "    peak_list = peak_list.subtract(sub, A=True)\n",
    "    \n",
    "peak_list.saveas()\n",
    "print(peak_list.count())"
   ]
  },
  {
   "cell_type": "code",
   "execution_count": 251,
   "metadata": {},
   "outputs": [],
   "source": [
    "unknown_peaks = [x[3] for x in peak_list]"
   ]
  },
  {
   "cell_type": "code",
   "execution_count": 252,
   "metadata": {},
   "outputs": [
    {
     "name": "stderr",
     "output_type": "stream",
     "text": [
      "11:35:21 INFO     Finished 0 out of 325484\n",
      "11:35:26 INFO     Finished 10000 out of 325484\n",
      "11:35:30 INFO     Finished 20000 out of 325484\n",
      "11:35:34 INFO     Finished 30000 out of 325484\n",
      "11:35:39 INFO     Finished 40000 out of 325484\n",
      "11:35:43 INFO     Finished 50000 out of 325484\n",
      "11:35:48 INFO     Finished 60000 out of 325484\n",
      "11:35:52 INFO     Finished 70000 out of 325484\n",
      "11:35:56 INFO     Finished 80000 out of 325484\n",
      "11:36:01 INFO     Finished 90000 out of 325484\n",
      "11:36:05 INFO     Finished 100000 out of 325484\n",
      "11:36:10 INFO     Finished 110000 out of 325484\n",
      "11:36:14 INFO     Finished 120000 out of 325484\n",
      "11:36:19 INFO     Finished 130000 out of 325484\n",
      "11:36:23 INFO     Finished 140000 out of 325484\n",
      "11:36:28 INFO     Finished 150000 out of 325484\n",
      "11:36:32 INFO     Finished 160000 out of 325484\n",
      "11:36:37 INFO     Finished 170000 out of 325484\n",
      "11:36:42 INFO     Finished 180000 out of 325484\n",
      "11:36:46 INFO     Finished 190000 out of 325484\n",
      "11:36:51 INFO     Finished 200000 out of 325484\n",
      "11:36:55 INFO     Finished 210000 out of 325484\n",
      "11:37:00 INFO     Finished 220000 out of 325484\n",
      "11:37:05 INFO     Finished 230000 out of 325484\n",
      "11:37:09 INFO     Finished 240000 out of 325484\n",
      "11:37:14 INFO     Finished 250000 out of 325484\n",
      "11:37:19 INFO     Finished 260000 out of 325484\n",
      "11:37:23 INFO     Finished 270000 out of 325484\n",
      "11:37:28 INFO     Finished 280000 out of 325484\n",
      "11:37:33 INFO     Finished 290000 out of 325484\n",
      "11:37:38 INFO     Finished 300000 out of 325484\n",
      "11:37:42 INFO     Finished 310000 out of 325484\n",
      "11:37:47 INFO     Finished 320000 out of 325484\n"
     ]
    }
   ],
   "source": [
    "regs = []\n",
    "nPeaks = len(annot['Annotation'])\n",
    "for i in range(len(annot['Annotation'])):\n",
    "    \n",
    "    if annot['ID'][i] in unknown_peaks:\n",
    "        regs.append(annot['Annotation'][i])\n",
    "\n",
    "    if i%10000 == 0:\n",
    "        logging.info(f'Finished {i} out of {nPeaks}')\n",
    "unknown_annotation = np.array([x.split(' ')[0] for x in regs])"
   ]
  },
  {
   "cell_type": "code",
   "execution_count": 253,
   "metadata": {},
   "outputs": [
    {
     "name": "stdout",
     "output_type": "stream",
     "text": [
      "{'Intergenic': 28622, 'TTS': 580, 'promoter-TSS': 304}\n"
     ]
    }
   ],
   "source": [
    "unk_counts = {}\n",
    "for x in np.unique(unknown_annotation):\n",
    "    unk_counts[x] = np.sum(unknown_annotation == x)\n",
    "    \n",
    "print(unk_counts)"
   ]
  },
  {
   "cell_type": "code",
   "execution_count": 254,
   "metadata": {},
   "outputs": [
    {
     "data": {
      "text/plain": [
       "0.24878311661219665"
      ]
     },
     "execution_count": 254,
     "metadata": {},
     "output_type": "execute_result"
    }
   ],
   "source": [
    "unk_counts['Intergenic'] / counts['Intergenic']"
   ]
  },
  {
   "cell_type": "code",
   "execution_count": 97,
   "metadata": {},
   "outputs": [
    {
     "name": "stdout",
     "output_type": "stream",
     "text": [
      "##gff-version 3\n",
      " #description: evidence-based annotation of the mouse genome (GRCm38), version M23 (Ensembl 98)\n",
      " #provider: GENCODE\n",
      " #contact: gencode-help@ebi.ac.uk\n",
      " #format: gff3\n",
      " #date: 2019-09-06\n",
      " ##sequence-region chr1 1 195471971\n",
      " chr1\tHAVANA\tgene\t3073253\t3074322\t.\t+\t.\tID=ENSMUSG00000102693.1;gene_id=ENSMUSG00000102693.1;gene_type=TEC;gene_name=4933401J01Rik;level=2;mgi_id=MGI:1918292;havana_gene=OTTMUSG00000049935.1\n",
      " chr1\tHAVANA\ttranscript\t3073253\t3074322\t.\t+\t.\tID=ENSMUST00000193812.1;Parent=ENSMUSG00000102693.1;gene_id=ENSMUSG00000102693.1;transcript_id=ENSMUST00000193812.1;gene_type=TEC;gene_name=4933401J01Rik;transcript_type=TEC;transcript_name=4933401J01Rik-201;level=2;transcript_support_level=NA;mgi_id=MGI:1918292;tag=basic;havana_gene=OTTMUSG00000049935.1;havana_transcript=OTTMUST00000127109.1\n",
      " chr1\tHAVANA\texon\t3073253\t3074322\t.\t+\t.\tID=exon:ENSMUST00000193812.1:1;Parent=ENSMUST00000193812.1;gene_id=ENSMUSG00000102693.1;transcript_id=ENSMUST00000193812.1;gene_type=TEC;gene_name=4933401J01Rik;transcript_type=TEC;transcript_name=4933401J01Rik-201;exon_number=1;exon_id=ENSMUSE00001343744.1;level=2;transcript_support_level=NA;mgi_id=MGI:1918292;tag=basic;havana_gene=OTTMUSG00000049935.1;havana_transcript=OTTMUST00000127109.1\n",
      " "
     ]
    }
   ],
   "source": [
    "# for x in Gencode[0]:\n",
    "#     print(x)\n",
    "# for x in ensemble[0]:\n",
    "#     print(x)\n",
    "Gencode.head()"
   ]
  },
  {
   "cell_type": "code",
   "execution_count": 99,
   "metadata": {},
   "outputs": [
    {
     "name": "stdout",
     "output_type": "stream",
     "text": [
      "155345     344326\n"
     ]
    },
    {
     "data": {
      "text/plain": [
       "Interval(chr1:3205900-3671498)"
      ]
     },
     "execution_count": 99,
     "metadata": {},
     "output_type": "execute_result"
    }
   ],
   "source": [
    "annot = Gencode.intersect(peaks_all, u=True)\n",
    "print(len(peaks_all), '   ', len(annot))\n",
    "annot[0] "
   ]
  },
  {
   "cell_type": "markdown",
   "metadata": {},
   "source": [
    "gene,transcript,exon,CDS,UTR,start_codon,stop_codon,Selenocysteine"
   ]
  },
  {
   "cell_type": "code",
   "execution_count": 100,
   "metadata": {},
   "outputs": [
    {
     "name": "stdout",
     "output_type": "stream",
     "text": [
      "['CDS' 'exon' 'five_prime_UTR' 'gene' 'start_codon' 'stop_codon'\n",
      " 'stop_codon_redefined_as_selenocysteine' 'three_prime_UTR' 'transcript']\n"
     ]
    }
   ],
   "source": [
    "feature = []\n",
    "for x in annot:\n",
    "    feature.append(x[2])\n",
    "    \n",
    "print(np.unique(feature))"
   ]
  },
  {
   "cell_type": "markdown",
   "metadata": {},
   "source": [
    "## Find Differentially accessible regions for the identified clusters"
   ]
  }
 ],
 "metadata": {
  "kernelspec": {
   "display_name": "Chromograph (py3.7)",
   "language": "python",
   "name": "chromograph"
  },
  "language_info": {
   "codemirror_mode": {
    "name": "ipython",
    "version": 3
   },
   "file_extension": ".py",
   "mimetype": "text/x-python",
   "name": "python",
   "nbconvert_exporter": "python",
   "pygments_lexer": "ipython3",
   "version": "3.7.4"
  }
 },
 "nbformat": 4,
 "nbformat_minor": 4
}
