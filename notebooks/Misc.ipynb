{
 "cells": [
  {
   "cell_type": "code",
   "execution_count": 2,
   "metadata": {},
   "outputs": [],
   "source": [
    "## Miscelaneous\n",
    "import numpy as np\n",
    "import os\n",
    "import sys\n",
    "import collections\n",
    "import matplotlib.pyplot as plt\n",
    "import loompy\n",
    "from collections import Counter\n",
    "from tqdm import tqdm\n",
    "\n",
    "import pybedtools\n",
    "from pybedtools import BedTool\n",
    "\n",
    "import subprocess\n",
    "\n",
    "import chromograph\n",
    "from chromograph.peak_calling.utils import *\n",
    "from chromograph.pipeline.utils import *\n",
    "from chromograph.plotting.marker_plot import marker_plot\n",
    "from chromograph.plotting.peak_annotation_plot import plot_peak_annotation_wheel\n",
    "from chromograph.pipeline import config\n",
    "\n",
    "import cytograph as cg\n",
    "from cytograph.plotting.colors import colorize\n",
    "from cytograph.enrichment import FeatureSelectionByMultilevelEnrichment\n",
    "from cytograph.species import Species\n",
    "\n",
    "import fisher\n",
    "\n",
    "from typing import *\n",
    "\n",
    "import matplotlib.pyplot as plt\n",
    "import matplotlib\n",
    "import numpy as np\n",
    "import scipy.stats as stats\n",
    "import scipy\n",
    "from statsmodels.sandbox.stats.multicomp import multipletests\n",
    "\n",
    "import logging\n",
    "logger = logging.getLogger()\n",
    "logging.basicConfig(\n",
    "    format='%(asctime)s %(levelname)-8s %(message)s',\n",
    "    level=logging.INFO,\n",
    "    datefmt='%H:%M:%S')\n",
    "\n",
    "config = config.load_config()"
   ]
  },
  {
   "cell_type": "code",
   "execution_count": 70,
   "metadata": {},
   "outputs": [
    {
     "data": {
      "text/plain": [
       "[]"
      ]
     },
     "execution_count": 70,
     "metadata": {},
     "output_type": "execute_result"
    }
   ],
   "source": [
    "a, b, c = [[],[],[]]\n",
    "a"
   ]
  },
  {
   "cell_type": "code",
   "execution_count": 30,
   "metadata": {},
   "outputs": [],
   "source": [
    "file_m = '/fish/other_tmp/camiel_tmp/Greenleaf/GSE129785_scATAC-Hematopoiesis-All.mtx'\n",
    "file_b = '/fish/other_tmp/camiel_tmp/Greenleaf/GSE129785_scATAC-Hematopoiesis-All.cell_barcodes.txt.gz'\n",
    "file_p = '/fish/other_tmp/camiel_tmp/Greenleaf/GSE129785_scATAC-Hematopoiesis-All.peaks.txt.gz'\n",
    "\n",
    "mat = scipy.io.mmread(file_m)"
   ]
  },
  {
   "cell_type": "code",
   "execution_count": 31,
   "metadata": {},
   "outputs": [],
   "source": [
    "import pandas as pd\n",
    "barcodes = pd.read_table(file_b)\n",
    "peaks = pd.read_csv(file_p)\n"
   ]
  },
  {
   "cell_type": "code",
   "execution_count": 32,
   "metadata": {},
   "outputs": [],
   "source": [
    "col_attrs = {k: np.array(barcodes[k]) for k in barcodes}\n",
    "del row_attrs\n",
    "\n",
    "for x in peaks['Feature']:\n",
    "    if 'row_attrs' not in locals():\n",
    "        row_attrs = {}\n",
    "        chrom, start, end = x.split('_')\n",
    "        row_attrs['ID'] = [f'{chrom}:{start}-{end}']\n",
    "        row_attrs['Chr'] = [chrom]\n",
    "        row_attrs['Start'] = [start]\n",
    "        row_attrs['End'] = [end]\n",
    "    else:\n",
    "        chrom, start, end = x.split('_')\n",
    "        row_attrs['ID'].append(f'{chrom}:{start}-{end}')\n",
    "        row_attrs['Chr'].append(chrom)\n",
    "        row_attrs['Start'].append(start)\n",
    "        row_attrs['End'].append(end)"
   ]
  },
  {
   "cell_type": "code",
   "execution_count": 33,
   "metadata": {},
   "outputs": [],
   "source": [
    "filename = '/fish/other_tmp/camiel_tmp/Greenleaf/Greenleaf_peaks.loom'\n",
    "\n",
    "loompy.create(filename, mat, row_attrs, col_attrs)"
   ]
  },
  {
   "cell_type": "code",
   "execution_count": 43,
   "metadata": {},
   "outputs": [
    {
     "name": "stderr",
     "output_type": "stream",
     "text": [
      "19:39:35 INFO     Calculate coverage metrics\n",
      "19:39:41 INFO     Convert to CPMs\n",
      "19:39:44 INFO     Binarize peak matrix\n",
      "100%|██████████| 31/31 [00:26<00:00,  1.15it/s]\n"
     ]
    }
   ],
   "source": [
    "from chromograph.peak_analysis.utils import *\n",
    "\n",
    "filename = '/fish/other_tmp/camiel_tmp/Greenleaf/Greenleaf_peaks.loom'\n",
    "out_file = '/fish/other_tmp/camiel_tmp/Greenleaf/Greenleaf_peaks.agg.loom'\n",
    "\n",
    "agg_spec = {\n",
    "    \"Group\": \"tally\",\n",
    "    \"Clusters\": \"first\",\n",
    "    \"FRIP\": \"mean\",\n",
    "    \"depth\": \"mean\"\n",
    "}\n",
    "\n",
    "with loompy.connect(filename) as ds:\n",
    "    ds.ca.Clusters = np.array([int(x.strip('Cluster')) for x in ds.ca.Clusters])\n",
    "    ds.aggregate(out_file, None, \"Clusters\", \"sum\", agg_spec)\n",
    "    \n",
    "    with loompy.connect(out_file) as dsout:\n",
    "\n",
    "        logging.info('Calculate coverage metrics')\n",
    "        dsout.ca.Total = dsout.map([np.sum], axis=1)[0]\n",
    "        dsout.ra.NCells = dsout.map([np.sum], axis=0)[0]\n",
    "\n",
    "        ## Normalize peak counts by total fragments per cluster\n",
    "        logging.info('Convert to CPMs')\n",
    "        dsout.layers['CPM'] = div0(dsout[''][:,:], dsout.ca.Total * 1e-6)\n",
    "\n",
    "        ## Call positive and negative peaks for every cluster\n",
    "        dsout['binary'], dsout.ca['CPM_thres'] = KneeBinarization(dsout)\n"
   ]
  },
  {
   "cell_type": "code",
   "execution_count": 109,
   "metadata": {},
   "outputs": [
    {
     "name": "stderr",
     "output_type": "stream",
     "text": [
      "14:37:01 INFO     Shape (571400, 31)\n"
     ]
    },
    {
     "data": {
      "text/plain": [
       "0"
      ]
     },
     "execution_count": 109,
     "metadata": {},
     "output_type": "execute_result"
    },
    {
     "data": {
      "image/png": "[encoded data removed]",
      "text/plain": [
       "<Figure size 432x288 with 1 Axes>"
      ]
     },
     "metadata": {
      "needs_background": "light"
     },
     "output_type": "display_data"
    }
   ],
   "source": [
    "threshold = 1\n",
    "\n",
    "out_file = '/fish/other_tmp/camiel_tmp/Greenleaf/Greenleaf_peaks.agg.loom'\n",
    "bed_file = '/fish/other_tmp/camiel_tmp/Greenleaf/active_elements.hg19.bed'\n",
    "lifted_file = '/fish/other_tmp/camiel_tmp/Greenleaf/active_elements.hg38.bed'\n",
    "unlifted = '/fish/other_tmp/camiel_tmp/Greenleaf/unlifted.bed'\n",
    "with loompy.connect(out_file) as dsagg:\n",
    "    logging.info(f'Shape {dsagg.shape}')\n",
    "    Valids = []\n",
    "    binary = dsagg['CPM'][:,:] > threshold\n",
    "    ON = np.sum(binary[:,:], axis=1)\n",
    "    Valids = ON > 0\n",
    "    plt.figure()\n",
    "    plt.title(f'Valid: {np.sum(Valids)}')\n",
    "    plt.hist(ON[Valids], bins= 30)\n",
    "    \n",
    "with loompy.connect(out_file) as ds:\n",
    "    enh = BedTool([(ds.ra['Chr'][x], str(ds.ra['Start'][x]), str(ds.ra['End'][x]), str(ds.ra['ID'][x])) for x in np.where(Valids)[0]]).saveas(bed_file)\n",
    "    \n",
    "subprocess.call(['/home/camiel/anaconda3/envs/DNA_tools/bin/liftOver', bed_file, '/data/proj/scATAC/ref/hg19ToHg38.over.chain.gz', lifted_file, unlifted])\n",
    "subprocess.call(['rm', unlifted])"
   ]
  },
  {
   "cell_type": "markdown",
   "metadata": {},
   "source": [
    "## Lake data"
   ]
  },
  {
   "cell_type": "code",
   "execution_count": null,
   "metadata": {},
   "outputs": [
    {
     "name": "stderr",
     "output_type": "stream",
     "text": [
      "18:57:01 INFO     Start on tissue: Fcx1\n",
      "19:03:05 INFO     2000\n",
      "19:09:24 INFO     4000\n",
      "19:15:27 INFO     6000\n",
      "19:20:52 INFO     8000\n",
      "19:20:57 INFO     Generating Sparse matrix\n",
      "19:21:01 INFO     Matrix has shape (287381, 6630) with 1190710 elements\n",
      "19:21:42 INFO     Saved file as /fish/other_tmp/camiel_tmp/Lake/Fcx1/Lake_Fcx1.loom\n",
      "19:21:42 INFO     Start on tissue: Occ1\n",
      "19:27:10 INFO     2000\n",
      "19:32:34 INFO     4000\n",
      "19:38:30 INFO     6000\n",
      "19:44:15 INFO     8000\n",
      "19:49:47 INFO     10000\n",
      "19:55:47 INFO     12000\n",
      "20:01:26 INFO     14000\n",
      "20:03:52 INFO     Generating Sparse matrix\n",
      "20:04:10 INFO     Matrix has shape (287381, 14870) with 8864408 elements\n"
     ]
    }
   ],
   "source": [
    "from scipy import sparse\n",
    "\n",
    "for Tissue in ['Fcx1', 'Occ1', 'Cbh1']:\n",
    "\n",
    "    logging.info(f'Start on tissue: {Tissue}')\n",
    "\n",
    "    ## Recovering matrix from bam files\n",
    "    f_dir = f'/fish/other_tmp/camiel_tmp/Lake/{Tissue}/bams'\n",
    "    files = os.listdir(f_dir)\n",
    "\n",
    "    barcodes = []\n",
    "    Counts = {}\n",
    "    peak_dict ={}\n",
    "\n",
    "    with open(os.path.join(f_dir, files[0])) as fi:\n",
    "        for i, line in enumerate(fi):\n",
    "            if i > 0:\n",
    "                peak_dict[line.split()[0]] = i - 1\n",
    "\n",
    "    cnt = 0\n",
    "    for f in files:\n",
    "        b = f'{f.split(\".\")[0]}_{f.split(\".\")[2].split(\"_\")[0]}'\n",
    "        if b.endswith('H'):\n",
    "            b = b.strip('H')\n",
    "        barcodes.append(b)\n",
    "        with open(os.path.join(f_dir, f)) as fi:\n",
    "            for i, line in enumerate(fi):\n",
    "                if i > 0:\n",
    "                    fields = line.split()\n",
    "                    count = int(fields[1])\n",
    "                    if count > 0:\n",
    "                        if b not in Counts:\n",
    "                            Counts[b] = {fields[0]:fields[1]}\n",
    "                        else:\n",
    "                            Counts[b][fields[0]] = fields[1]\n",
    "        cnt += 1\n",
    "        if cnt%2000==0:\n",
    "            logging.info(cnt)\n",
    "\n",
    "    annot = {'ID': np.array([x for x in peak_dict])}\n",
    "\n",
    "    c, s, e = [[],[],[]]\n",
    "    for x in annot['ID']:\n",
    "        chrom, loc = [k.split('-') for k in x.split(':')]\n",
    "        c.append(chrom[0])\n",
    "        s.append(loc[0])\n",
    "        e.append(loc[1])\n",
    "\n",
    "    annot['Chr'], annot['Start'], annot['End'] = [np.array(x) for x in [c, s, e]]\n",
    "\n",
    "    meta = np.loadtxt('/fish/other_tmp/camiel_tmp/Lake/Lake_metadata.csv', delimiter=';', skiprows=1, dtype=str)\n",
    "    cols = {'barcode':np.array(meta[:,0]), 'Shortname':np.array(meta[:,3]), 'Tissue':np.array(meta[:,4]), 'Clusters':np.array(meta[:,6]), 'Clusters2':np.array(meta[:,5])}\n",
    "\n",
    "    logging.info(\"Generating Sparse matrix\")\n",
    "    col = []\n",
    "    row = []\n",
    "    v = []\n",
    "    cix = 0\n",
    "    IDs = []\n",
    "    for cell in Counts:\n",
    "        if cell in cols['barcode']:\n",
    "            if len(Counts[cell]) > 0:\n",
    "                for key in (Counts[cell]):\n",
    "                    col.append(cix)\n",
    "                    row.append(peak_dict[key])\n",
    "                    v.append(np.int8(Counts[cell][key]))\n",
    "                cix+=1\n",
    "                IDs.append(cell)\n",
    "\n",
    "    matrix = sparse.coo_matrix((v, (row,col)), shape=(len(peak_dict.keys()), cix)).tocsc()\n",
    "    logging.info(f'Matrix has shape {matrix.shape} with {matrix.nnz} elements')\n",
    "\n",
    "    Valid = [x in IDs for x in cols['barcode']]\n",
    "    cols = {k: cols[k][Valid] for k in cols}\n",
    "    cols['CellID'] = np.array([f'{cols[\"Shortname\"][x]}:{cols[\"barcode\"][x]}' for x in range(len(cols['barcode']))])\n",
    "    ID_dict = {k: v for v, k in enumerate(IDs)}\n",
    "    reorder = [ID_dict[k] for k in cols['barcode']]\n",
    "    cols = {k: cols[k][reorder] for k in cols}\n",
    "\n",
    "    out_file = f'/fish/other_tmp/camiel_tmp/Lake/{Tissue}/Lake_{Tissue}.loom'\n",
    "    loompy.create(filename=out_file, \n",
    "                  layers=matrix, \n",
    "                  row_attrs=annot, \n",
    "                  col_attrs=cols)\n",
    "    logging.info(f'Saved file as {out_file}')"
   ]
  },
  {
   "cell_type": "code",
   "execution_count": null,
   "metadata": {},
   "outputs": [],
   "source": [
    "files = [os.path.join('/fish/other_tmp/camiel_tmp/Lake/', Tissue, f'Lake_{Tissue}.loom') for Tissue in ['Fcx1', 'Occ1', 'Cbh1']]\n",
    "merge_file = '/fish/other_tmp/camiel_tmp/Lake/Lake_scTHS_seq.loom'\n",
    "\n",
    "loompy.combine_faster(files, merge_file)"
   ]
  },
  {
   "cell_type": "code",
   "execution_count": null,
   "metadata": {},
   "outputs": [],
   "source": [
    "out_file = '/fish/other_tmp/camiel_tmp/Lake/Lake_scTHS_seq.agg.loom'\n",
    "merge_file = '/fish/other_tmp/camiel_tmp/Lake/Lake_scTHS_seq.loom'\n",
    "agg_spec = {\n",
    "    \"Group\": \"Tissue\",\n",
    "    \"Clusters\": \"first\",\n",
    "    \"ClusterNames\": \"first\",\n",
    "    \"Shortname\": \"tally\"\n",
    "}\n",
    "\n",
    "with loompy.connect(merge_file) as ds:\n",
    "    ds.ca.ClusterNames = ds.ca.Clusters\n",
    "    enum = {k:v for v, k in enumerate(np.unique(ds.ca.ClusterNames))}\n",
    "    ds.ca.Clusters = np.array([enum[x] for x in ds.ca.ClusterNames])\n",
    "    ds.aggregate(out_file, None, \"Clusters\", \"sum\", agg_spec)\n",
    "    \n",
    "    with loompy.connect(out_file) as dsout:\n",
    "\n",
    "        logging.info('Calculate coverage metrics')\n",
    "        dsout.ca.Total = dsout.map([np.sum], axis=1)[0]\n",
    "        dsout.ra.NCells = dsout.map([np.sum], axis=0)[0]\n",
    "\n",
    "        ## Normalize peak counts by total fragments per cluster\n",
    "        logging.info('Convert to CPMs')\n",
    "        dsout.layers['CPM'] = div0(dsout[''][:,:], dsout.ca.Total * 1e-6)\n",
    "\n",
    "        ## Call positive and negative peaks for every cluster\n",
    "        dsout['binary'], dsout.ca['CPM_thres'] = KneeBinarization(dsout)\n"
   ]
  },
  {
   "cell_type": "code",
   "execution_count": null,
   "metadata": {},
   "outputs": [],
   "source": [
    "threshold = 1\n",
    "\n",
    "out_file = '/fish/other_tmp/camiel_tmp/Lake/Lake_scTHS_seq.agg.loom'\n",
    "bed_file = '/fish/other_tmp/camiel_tmp/Lake/active_elements.hg38.bed'\n",
    "with loompy.connect(out_file) as dsagg:\n",
    "    logging.info(f'Shape {dsagg.shape}')\n",
    "    Valids = []\n",
    "    binary = dsagg['CPM'][:,:] > threshold\n",
    "    ON = np.sum(binary[:,:], axis=1)\n",
    "    Valids = ON > 0\n",
    "    plt.figure()\n",
    "    plt.title(f'Valid: {np.sum(Valids)}')\n",
    "    plt.hist(ON[Valids], bins= 30)\n",
    "    \n",
    "with loompy.connect(out_file) as ds:\n",
    "    enh = BedTool([(ds.ra['Chr'][x], str(ds.ra['Start'][x]), str(ds.ra['End'][x]), str(ds.ra['ID'][x])) for x in np.where(Valids)[0]]).saveas(bed_file)"
   ]
  },
  {
   "cell_type": "code",
   "execution_count": null,
   "metadata": {},
   "outputs": [],
   "source": [
    "with loompy.connect(out_file) as ds:\n",
    "    print(ds.ra.Chr[:10])"
   ]
  },
  {
   "cell_type": "code",
   "execution_count": 4,
   "metadata": {},
   "outputs": [
    {
     "data": {
      "image/png": "[encoded data removed]",
      "text/plain": [
       "<Figure size 432x288 with 1 Axes>"
      ]
     },
     "metadata": {
      "needs_background": "light"
     },
     "output_type": "display_data"
    }
   ],
   "source": [
    "out_file = '/fish/other_tmp/camiel_tmp/Greenleaf/Greenleaf_peaks.agg.loom'\n",
    "\n",
    "with loompy.connect(out_file) as dsagg:\n",
    "    plt.hist(dsagg.ra.End.astype('int') - dsagg.ra.Start.astype('int'), bins=30)"
   ]
  }
 ],
 "metadata": {
  "kernelspec": {
   "display_name": "Chromograph (py3.7)",
   "language": "python",
   "name": "chromo"
  },
  "language_info": {
   "codemirror_mode": {
    "name": "ipython",
    "version": 3
   },
   "file_extension": ".py",
   "mimetype": "text/x-python",
   "name": "python",
   "nbconvert_exporter": "python",
   "pygments_lexer": "ipython3",
   "version": "3.7.3"
  }
 },
 "nbformat": 4,
 "nbformat_minor": 4
}
