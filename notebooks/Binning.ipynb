{
 "cells": [
  {
   "cell_type": "code",
   "execution_count": 41,
   "metadata": {},
   "outputs": [],
   "source": [
    "import logging\n",
    "import warnings\n",
    "\n",
    "import numpy as np\n",
    "import os\n",
    "import sys\n",
    "import pybedtools\n",
    "from pybedtools import BedTool\n",
    "import collections\n",
    "import csv\n",
    "import matplotlib.pyplot as plt\n",
    "import gzip\n",
    "import loompy\n",
    "import scipy.sparse as sparse\n",
    "import json\n",
    "import urllib.request\n",
    "\n",
    "sys.path.append('/home/camiel/chromograph/')\n",
    "import chromograph\n",
    "from chromograph.preprocessing.utils import *\n",
    "from typing import Dict\n",
    "# from typing import Dict, List\n",
    "import sqlite3 as sqlite\n"
   ]
  },
  {
   "cell_type": "code",
   "execution_count": 42,
   "metadata": {},
   "outputs": [],
   "source": [
    "# fdir = '/data/proj/scATAC/samples/'                                                            \n",
    "\n",
    "# files = [os.path.join(fdir, x, f'{x}_GA.loom') for x in ['10XSF12017', '10XSF11964', '10XSF11956', '10XSF11949', '10XSF11612', '10XSF11331', '10XSF11215']]"
   ]
  },
  {
   "cell_type": "code",
   "execution_count": null,
   "metadata": {},
   "outputs": [],
   "source": [
    "# for f in files:\n",
    "#     with loompy.connect(f, 'r+') as ds:\n",
    "#         ds.ca.Targetnumcells = np.array([5000]* ds.shape[1])\n",
    "#         ds.ca.Pcrcycles = np.array([0]*ds.shape[1])\n",
    "#         ds.ca.DoubletFinderFlag = ds.ca.DoubletFinderFlag.astype(np.int64)"
   ]
  },
  {
   "cell_type": "code",
   "execution_count": 45,
   "metadata": {},
   "outputs": [
    {
     "name": "stderr",
     "output_type": "stream",
     "text": [
      "11:47:36 INFO     Genome not recognized\n"
     ]
    }
   ],
   "source": [
    "summary = {'reference_assembly': 'hg38'}\n",
    "genome_size = None\n",
    "# Get Chromosome sizes\n",
    "if genome_size == None:\n",
    "    chrom_size = get_chrom_sizes(summary['reference_assembly'])    \n",
    "else:\n",
    "    chrom_size = {}\n",
    "    with open(genome_size) as f:\n",
    "        for line in f:\n",
    "            x = line.split()\n",
    "            chrom_size[x[0]] = int(x[1])"
   ]
  },
  {
   "cell_type": "code",
   "execution_count": 46,
   "metadata": {},
   "outputs": [],
   "source": [
    "chrom_size"
   ]
  },
  {
   "cell_type": "code",
   "execution_count": 43,
   "metadata": {},
   "outputs": [
    {
     "name": "stdout",
     "output_type": "stream",
     "text": [
      "['Age', 'All_fc_analysis_id', 'Analysis', 'Bplength', 'Cdnalibcomment', 'Cdnalibok', 'CellID', 'Cellconc', 'Chemistry', 'Clusterdensity', 'Clusterpf', 'Clusters', 'ClustersModularity', 'ClustersSurprise', 'Comment', 'DNase_sensitive_region_fragments', 'Datecaptured', 'Dateseqlib', 'Donor', 'DoubletFinderFlag', 'DoubletFinderScore', 'Editat', 'Editby', 'Finalconc', 'GA_colsum', 'Id', 'Idxset', 'Inputmrna', 'Label', 'Method', 'Molarity', 'NBins', 'Name', 'Neuronprop', 'Ngperulcdna', 'Numpooledanimals', 'Outliers', 'OutliersModularity', 'OutliersSurprise', 'PCA', 'Pcrcycles', 'Plugdate', 'Project', 'Read1specificseq', 'Roi', 'Sampleok', 'Seqcomment', 'Seqlibcomment', 'Seqlibok', 'Sex', 'Shearing', 'Shortname', 'Species', 'Strain', 'TSNE', 'TSS_fragments', 'Targetnumcells', 'Tissue', 'Totcells', 'Totreads', 'Transcriptome', 'UMAP', 'UMAP3D', 'barcode', 'blacklist_region_fragments', 'cell_id', 'chimeric', 'duplicate', 'enhancer_region_fragments', 'is__cell_barcode', 'lowmapq', 'mitochondrial', 'on_target_fragments', 'passed_filters', 'peak_region_cutsites', 'peak_region_fragments', 'promoter_region_fragments', 'total', 'unmapped']\n"
     ]
    }
   ],
   "source": [
    "f = '/data/proj/scATAC/chromograph/Kriegstein_20200618/All/All.loom'\n",
    "\n",
    "with loompy.connect(f) as ds:\n",
    "    print(ds.ca.keys())"
   ]
  },
  {
   "cell_type": "code",
   "execution_count": 3,
   "metadata": {},
   "outputs": [
    {
     "name": "stderr",
     "output_type": "stream",
     "text": [
      "/home/camiel/anaconda3/envs/chromograph/lib/python3.7/site-packages/statsmodels/tools/_testing.py:19: FutureWarning: pandas.util.testing is deprecated. Use the functions in the public API at pandas.testing instead.\n",
      "  import pandas.util.testing as tm\n"
     ]
    }
   ],
   "source": [
    "# Description etc to be added\n",
    "\n",
    "import numpy as np\n",
    "import glob\n",
    "import os\n",
    "import sys\n",
    "import pybedtools\n",
    "from pybedtools import BedTool\n",
    "import collections\n",
    "import csv\n",
    "import matplotlib.pyplot as plt\n",
    "import gzip\n",
    "import loompy\n",
    "import scipy.sparse as sparse\n",
    "import json\n",
    "import urllib.request\n",
    "import logging\n",
    "import pickle\n",
    "import importlib\n",
    "\n",
    "sys.path.append('/home/camiel/chromograph/')\n",
    "from chromograph.pipeline import config\n",
    "from chromograph.preprocessing.utils import *\n",
    "from chromograph.features.feature_count import *\n",
    "from chromograph.preprocessing.doublet_finder import doublet_finder\n",
    "\n",
    "class Chromgen:\n",
    "    def __init__(self) -> None:\n",
    "        \"\"\"\n",
    "        Generate a binned loom file from scATAC-seq data\n",
    "        \n",
    "        Args:\n",
    "            steps                    Which steps to include in the analysis\n",
    "\n",
    "        Remarks:\n",
    "            # All parameters are obtained from the config object, which comes from the default config\n",
    "            # and can be overridden by the config in the current punchcard\n",
    "        \"\"\"\n",
    "        self.config = config.load_config()\n",
    "        pybedtools.helpers.set_bedtools_path(self.config.paths.bedtools)\n",
    "        logging.info(\"Chromgen initialised\")\n",
    "    \n",
    "    def fit(self, indir: str, input_type: str = 'cellranger', bsize: int = 5000, outdir: str = None, genome_size: str = None, blacklist: str = None) -> None:\n",
    "        ''''\n",
    "        Create a .loom file from 10X Genomics cellranger output with reads binned\n",
    "        Args:\n",
    "            indir (str):\t     path to the cellranger output folder (the one that contains 'outs')\n",
    "            input_type (str):    either 'cellranger' when running from cellranger output or 'bam'. If 'bam' make sure to add a summary.json file in the same folder.\n",
    "            bsize (int):\t     size of the bins (defaults to 5000/5kb)\n",
    "            outdir (str):\t     output folder wher the new loom file should be saved (default to indir)\n",
    "            genome_size (str):\t path to file containing chromosome sizes, usually derived from encode (i.e. 'hg19.chrom.sizes.tsv')\n",
    "            blacklist (str):\t path to bedfile containing blacklisted region (i.e. 'blacklist_hg19.bed')\n",
    "        Returns:\n",
    "            path (str):\t\tFull path to the created loom file.\n",
    "        Remarks:\n",
    "            The resulting file will be named ``{sampleID}.loom``, where the sampleID is the one given by cellranger.\n",
    "        '''\n",
    "        logging.info(\"Binning reads from {} into {} kb bins\".format(indir.split('/')[-1], (bsize/1000)))\n",
    "        \n",
    "        if input_type == 'cellranger':\n",
    "            logging.info(\"Reading from {}\".format(indir))\n",
    "            fb = indir + '/outs/singlecell.csv'\n",
    "            ff = indir + '/outs/fragments.tsv.gz'\n",
    "            fs = indir + '/outs/summary.json'\n",
    "        elif input_type == 'bam':\n",
    "            logging.info(\"Reading from {}\".format(indir))\n",
    "            ff = glob.glob(indir + '/*.bam')[0]\n",
    "            fs = indir + '/summary.json'\n",
    "            \n",
    "        sample = indir.split('/')[-1]\n",
    "\n",
    "        if len(sample.split('_')) > 2:\n",
    "            sample = '_'.join(sample.split('_')[:2])\n",
    "\n",
    "        if not os.path.isdir(outdir):\n",
    "            os.mkdir(outdir)\n",
    "   \n",
    "        logging.info(f'Reading summary for {sample} from Cellranger output {fs}')\n",
    "        with open(fs, \"r\") as f:\n",
    "            summary = json.load(f)\n",
    "\n",
    "            for k,v in summary.items():\n",
    "                summary[k] = str(v)\n",
    "        summary['bin_size'] = bsize\n",
    "        summary['level'] = self.config.params.level\n",
    "        \n",
    "        if input_type == 'cellranger':\n",
    "            logging.info(f'Reading metadata from cellranger output')\n",
    "            barcodes = np.genfromtxt(fb, delimiter=',', skip_header=2,\n",
    "                                     dtype={'names':('barcode','total','duplicate','chimeric','unmapped','lowmapq','mitochondrial','passed_filters','cell_id','is__cell_barcode',\n",
    "                                                       'TSS_fragments','DNase_sensitive_region_fragments','enhancer_region_fragments','promoter_region_fragments','on_target_fragments',\n",
    "                                                       'blacklist_region_fragments','peak_region_fragments','peak_region_cutsites'),\n",
    "                                             'formats':('U18', 'i8', 'i8', 'i8', 'i8', 'i8', 'i8', 'i8', 'U18', 'i8', 'i8', 'i8', 'i8', 'i8', 'i8', 'i8', 'i8', 'i8')})\n",
    "\n",
    "            ## Transfer metadata to dict format\n",
    "            meta = {}\n",
    "            passed = (barcodes['is__cell_barcode'] == 1) & (barcodes['passed_filters'] > self.config.params.level) & (barcodes['passed_filters'] < 100000)\n",
    "            for key in barcodes.dtype.names:\n",
    "                meta[key] = barcodes[key][passed]\n",
    "            meta['CellID'] = [f'{sample}:{x}' for x in meta['barcode']]\n",
    "            \n",
    "        elif input_type == 'bam':\n",
    "            bam = pysam.AlignmentFile(ff, 'rb')\n",
    "            bam_it = bam.fetch(until_eof = True)\n",
    "\n",
    "            meta = {}\n",
    "            meta['barcode'] = np.unique(np.array([b.get_tag('CB') for b in bam_it]))\n",
    "            meta['CellID'] = [f'{sample}:{x}' for x in meta['barcode']]\n",
    "            \n",
    "    \n",
    "        ## Retrieve sample metadata from SangerDB\n",
    "        logging.info(f'Retrieve metadata from {[self.config.paths.metadata, sample]}')\n",
    "        m =  load_sample_metadata(self.config.paths.metadata, sample)\n",
    "        for k,v in m.items():\n",
    "            meta[k] = np.array([v] * len(meta['barcode']))\n",
    "\n",
    "\n",
    "        logging.info(\"Total of {} valid cells\".format(len(meta['barcode'])))\n",
    "        \n",
    "        logging.info(\"Ref. assembly {}\".format(summary['reference_assembly']))\n",
    "\n",
    "        # Get Chromosome sizes\n",
    "        if genome_size == None:\n",
    "            chrom_size = get_chrom_sizes(summary['reference_assembly'])    \n",
    "        else:\n",
    "            chrom_size = {}\n",
    "            with open(genome_size) as f:\n",
    "                for line in f:\n",
    "                    x = line.split()\n",
    "                    chrom_size[x[0]] = int(x[1])\n",
    "\n",
    "        ## Read Fragments and generate size bins\n",
    "        logging.info(\"Read fragments into dict\")\n",
    "        frag_dict = read_fragments(ff)\n",
    "        \n",
    "        ## Split fragments to seperate files for fast indexing\n",
    "        logging.info(f\"Saving fragments to separate folder for fast indexing\")\n",
    "        fdir = os.path.join(outdir, 'fragments')\n",
    "        if not os.path.isdir(fdir):\n",
    "            os.mkdir(fdir)\n",
    "\n",
    "        ## Save fragments to folder\n",
    "        i = 0\n",
    "        for x in meta['barcode']:\n",
    "            f = os.path.join(fdir, f'{x}.tsv.gz')\n",
    "            frags = BedTool(frag_dict[x]).saveas(f)\n",
    "            i += 1\n",
    "            if i%1000 == 0:\n",
    "                logging.info(f'Finished separating fragments for {i} cells')\n",
    "                \n",
    "        del frags\n",
    "        \n",
    "        logging.info(\"Generate {} bins based on provided chromosome sizes\".format(str(int(bsize/1000)) + ' kb'))\n",
    "        chrom_bins = generate_bins(chrom_size, bsize)\n",
    "\n",
    "        ## Count fragments inside bins\n",
    "        logging.info(\"Count fragments overlapping with bins\")\n",
    "        Count_dict = count_bins(frag_dict, meta['barcode'], bsize)\n",
    "        logging.info(\"Finished counting fragments\")\n",
    "\n",
    "        logging.info(\"Loading blacklist\")\n",
    "        # Load Blacklist\n",
    "        if blacklist == None:\n",
    "            blacklist = get_blacklist(summary['reference_assembly'])    \n",
    "\n",
    "        logging.info(\"Remove bins that overlap with the ENCODE blacklist\")\n",
    "        black_list = BedTool(blacklist)\n",
    "        bins = [(k[0], str(k[1]), str(k[2])) for k in chrom_bins.keys()]\n",
    "        intervals = BedTool(bins)\n",
    "        cleaned = intervals.subtract(black_list, A=True)\n",
    "\n",
    "        keep = [(row['chrom'], int(row['start']), int(row['end'])) for row in cleaned.sort()] # Sort the bins to make downstream alignment with features easier\n",
    "        retain = [chrom_bins[x] for x in keep]\n",
    "        clean_bin = [bins[x] for x in retain]\n",
    "        \n",
    "        logging.info(\"Number of bins after cleaning: {}\".format(len(clean_bin)))\n",
    "\n",
    "        #####\n",
    "        # Construct loom file\n",
    "        #####\n",
    "        \n",
    "        # Create sparse matrix\n",
    "        \n",
    "        logging.info(\"Generating Sparse matrix\")\n",
    "        col = []\n",
    "        row = []\n",
    "        v = []\n",
    "\n",
    "        cix = 0\n",
    "        for cell in meta['barcode']:\n",
    "\n",
    "            for key in (Count_dict[cell]):\n",
    "                col.append(cix)\n",
    "                row.append(chrom_bins[key])\n",
    "                v.append(int(Count_dict[cell][key]))\n",
    "            cix+=1\n",
    "        matrix = sparse.coo_matrix((v, (row,col)), shape=(len(chrom_bins.keys()), len(meta['barcode'])))\n",
    "\n",
    "        ## Save a smaller section of the summary\n",
    "        keys = ['cellranger-atac_version', 'reference_assembly', 'reference_assembly_accession', 'reference_assembly_fasta_url', 'reference_organism', 'reference_version', 'bin_size']\n",
    "        small_summary = {k: summary[k] for k in keys}\n",
    "        \n",
    "        ## We retain only the bins that have no overlap with the ENCODE blacklist\n",
    "        cleaned_matrix = matrix.tocsc()[retain,:]\n",
    "        logging.info(\"Identified {} positive bins in {} cells before filtering blacklist\".format(len(v), len(meta['barcode'])))\n",
    "        logging.info(\"Identified {} positive bins in {} cells after filtering blacklist\".format(len(cleaned_matrix.nonzero()[0]), len(meta['barcode'])))\n",
    "\n",
    "        ## Create row attributes\n",
    "        chrom = [x[0] for x in clean_bin]\n",
    "        start = [x[1] for x in clean_bin]\n",
    "        end = [x[2] for x in clean_bin]\n",
    "\n",
    "        row_attrs = {'loc': np.array([f'{c}:{s}-{e}' for c,s,e in zip(chrom, start, end)]), \n",
    "                     'chrom': np.array(chrom), 'start': np.array(start), 'end': np.array(end)}\n",
    "\n",
    "        ## Create loomfile\n",
    "        logging.info(\"Constructing loomfile\")\n",
    "        sampleid = sample + '_' + str(int(bsize/1000)) + 'kb'\n",
    "        floom = os.path.join(outdir, sampleid + '.loom')\n",
    "\n",
    "        loompy.create(filename=floom, \n",
    "                      layers=cleaned_matrix, \n",
    "                      row_attrs=row_attrs, \n",
    "                      col_attrs=meta,\n",
    "                      file_attrs=small_summary)\n",
    "        self.loom = floom\n",
    "        logging.info(\"Loom bin file saved as {}\".format(floom))\n",
    "        \n",
    "        ## Cleanup\n",
    "        del black_list, Count_dict, chrom_bins, chrom_size, intervals, cleaned, keep, retain, clean_bin, matrix, cleaned_matrix, col, row, v\n",
    "        \n",
    "        ## Doublet detection\n",
    "        logging.info(f'Detecting doublets in loom file')\n",
    "\n",
    "        with loompy.connect(self.loom, 'r+') as ds:\n",
    "            ds.ca['DoubletFinderScore'], ds.ca['DoubletFinderFlag'] = doublet_finder(ds, proportion_artificial=.2, qc_dir = outdir, max_th=0.6)\n",
    "            meta['DoubletFinderScore'] = ds.ca['DoubletFinderScore']\n",
    "            meta['DoubletFinderFlag'] = ds.ca['DoubletFinderFlag']\n",
    "\n",
    "        ######\n",
    "        ## Generate Gene Accessibility Scores\n",
    "        ######\n",
    "        \n",
    "        logging.info('## Start generating Gene Acessibility Scores ##')\n",
    "        fragments = BedTool(ff)\n",
    "        \n",
    "        ## Saving fragments in cells\n",
    "        \n",
    "        logging.info('Load Genomic regions from reference')\n",
    "        gb = BedTool(os.path.join(chromograph.__path__[0], 'references/GRCh38_genes_2kbprom.bed')).saveas()\n",
    "        \n",
    "        logging.info('Intersecting fragments with Genomic regions')\n",
    "        inter = gb.intersect(fragments, wa=True, wb=True)\n",
    "        \n",
    "        logging.info('Count Gene body overlapping reads per barcode')\n",
    "        Count_dict = Count_genes(meta['barcode'], inter)\n",
    "        \n",
    "        logging.info('Reorder data and generate sparse matrix')\n",
    "        r_dict = {k: [] for k in ['Accession', 'Gene', 'loc', 'BPs']}\n",
    "        for x in gb:\n",
    "            r_dict['Accession'].append(x.attrs['gene_id'])\n",
    "            r_dict['Gene'].append(x.attrs['gene_name'])\n",
    "            r_dict['loc'].append(f'{x[0]}:{x[3]}-{x[4]}')\n",
    "            r_dict['BPs'].append(int(abs(int(x[3])-int(x[4]))))\n",
    "        \n",
    "        g_dict = {k: v for v,k in enumerate(r_dict['Accession'])}\n",
    "        \n",
    "        ## Create sparse matrix\n",
    "        col = []\n",
    "        row = []\n",
    "        v = []\n",
    "\n",
    "        cix = 0\n",
    "        for cell in meta['barcode']:\n",
    "\n",
    "            for key in (Count_dict[cell]):\n",
    "                col.append(cix)\n",
    "                row.append(g_dict[key])\n",
    "                v.append(float(Count_dict[cell][key]))\n",
    "            cix+=1\n",
    "\n",
    "        matrix = sparse.coo_matrix((v, (row,col)), shape=(len(g_dict.keys()), len(meta['barcode']))).tocsr()\n",
    "        logging.info(f'Shape matrix: {matrix.shape}. Number of elements: {matrix.nnz}')\n",
    "        \n",
    "        # Do some cleanup\n",
    "        pybedtools.helpers.cleanup()\n",
    "        del col, row, v, Count_dict, barcodes, bins, blacklist, frag_dict, fragments, g_dict, gb, inter, summary\n",
    "\n",
    "        ## Create loomfile\n",
    "        logging.info(\"Constructing loomfile\")\n",
    "        floom = os.path.join(outdir, sample + '_GA.loom')\n",
    "\n",
    "        loompy.create(filename=floom, \n",
    "                      layers=matrix, \n",
    "                      row_attrs=r_dict, \n",
    "                      col_attrs=meta,\n",
    "                      file_attrs=small_summary)\n",
    "        self.gloom = floom\n",
    "        \n",
    "        logging.info(\"Loom gene file saved as {}\".format(floom))\n",
    "\n"
   ]
  },
  {
   "cell_type": "code",
   "execution_count": 5,
   "metadata": {},
   "outputs": [],
   "source": [
    "import pysam\n",
    "\n",
    "f = glob.glob('/data/proj/tumor/Kriegstein/atac_bams/SF11215/*.bam')[0]\n",
    "sample = f.split('/')[-2]\n",
    "\n",
    "bam = pysam.AlignmentFile(f, 'rb')\n",
    "bam_it = bam.fetch(until_eof = True)\n",
    "\n",
    "meta = {}\n",
    "meta['barcode'] = np.unique(np.array([b.get_tag('CB') for b in bam_it]))\n",
    "meta['CellID'] = [f'{sample}:{x}' for x in meta['barcode']]"
   ]
  },
  {
   "cell_type": "code",
   "execution_count": 23,
   "metadata": {},
   "outputs": [
    {
     "ename": "AttributeError",
     "evalue": "'pysam.libcalignedsegment.AlignedSegment' object has no attribute 'mate'",
     "output_type": "error",
     "traceback": [
      "\u001b[0;31m---------------------------------------------------------------------------\u001b[0m",
      "\u001b[0;31mAttributeError\u001b[0m                            Traceback (most recent call last)",
      "\u001b[0;32m<ipython-input-23-97d2908bf767>\u001b[0m in \u001b[0;36m<module>\u001b[0;34m\u001b[0m\n\u001b[1;32m      3\u001b[0m \u001b[0mbam_it\u001b[0m \u001b[0;34m=\u001b[0m \u001b[0mbam\u001b[0m\u001b[0;34m.\u001b[0m\u001b[0mfetch\u001b[0m\u001b[0;34m(\u001b[0m\u001b[0muntil_eof\u001b[0m \u001b[0;34m=\u001b[0m \u001b[0;32mTrue\u001b[0m\u001b[0;34m)\u001b[0m\u001b[0;34m\u001b[0m\u001b[0m\n\u001b[1;32m      4\u001b[0m \u001b[0;32mfor\u001b[0m \u001b[0mr\u001b[0m \u001b[0;32min\u001b[0m \u001b[0mbam_it\u001b[0m\u001b[0;34m:\u001b[0m\u001b[0;34m\u001b[0m\u001b[0m\n\u001b[0;32m----> 5\u001b[0;31m     \u001b[0mprint\u001b[0m\u001b[0;34m(\u001b[0m\u001b[0mr\u001b[0m\u001b[0;34m.\u001b[0m\u001b[0mmate\u001b[0m\u001b[0;34m(\u001b[0m\u001b[0;34m)\u001b[0m\u001b[0;34m)\u001b[0m\u001b[0;34m\u001b[0m\u001b[0m\n\u001b[0m\u001b[1;32m      6\u001b[0m     \u001b[0mi\u001b[0m \u001b[0;34m+=\u001b[0m \u001b[0;36m1\u001b[0m\u001b[0;34m\u001b[0m\u001b[0m\n\u001b[1;32m      7\u001b[0m     \u001b[0;32mif\u001b[0m \u001b[0mi\u001b[0m\u001b[0;34m%\u001b[0m\u001b[0;36m5\u001b[0m\u001b[0;34m==\u001b[0m\u001b[0;36m0\u001b[0m\u001b[0;34m:\u001b[0m\u001b[0;34m\u001b[0m\u001b[0m\n",
      "\u001b[0;31mAttributeError\u001b[0m: 'pysam.libcalignedsegment.AlignedSegment' object has no attribute 'mate'"
     ]
    }
   ],
   "source": [
    "i = 0\n",
    "bam = pysam.AlignmentFile(f, 'rb')\n",
    "bam_it = bam.fetch(until_eof = True)\n",
    "for r in bam_it:\n",
    "    print(r.mate())\n",
    "    i += 1\n",
    "    if i%5==0:\n",
    "        break"
   ]
  },
  {
   "cell_type": "code",
   "execution_count": 21,
   "metadata": {},
   "outputs": [
    {
     "data": {
      "text/plain": [
       "\u001b[0;31mDocstring:\u001b[0m\n",
       "AlignmentFile.fetch(self, contig=None, start=None, stop=None, region=None, tid=None, until_eof=False, multiple_iterators=False, reference=None, end=None)\n",
       "fetch reads aligned in a :term:`region`.\n",
       "\n",
       "        See :meth:`~pysam.HTSFile.parse_region` for more information\n",
       "        on how genomic regions can be specified. :term:`reference` and\n",
       "        `end` are also accepted for backward compatiblity as synonyms\n",
       "        for :term:`contig` and `stop`, respectively.\n",
       "\n",
       "        Without a `contig` or `region` all mapped reads in the file\n",
       "        will be fetched. The reads will be returned ordered by reference\n",
       "        sequence, which will not necessarily be the order within the\n",
       "        file. This mode of iteration still requires an index. If there is\n",
       "        no index, use `until_eof=True`.\n",
       "\n",
       "        If only `contig` is set, all reads aligned to `contig`\n",
       "        will be fetched.\n",
       "\n",
       "        A :term:`SAM` file does not allow random access. If `region`\n",
       "        or `contig` are given, an exception is raised.\n",
       "\n",
       "        Parameters\n",
       "        ----------\n",
       "\n",
       "        until_eof : bool\n",
       "\n",
       "           If `until_eof` is True, all reads from the current file\n",
       "           position will be returned in order as they are within the\n",
       "           file. Using this option will also fetch unmapped reads.\n",
       "\n",
       "        multiple_iterators : bool\n",
       "\n",
       "           If `multiple_iterators` is True, multiple\n",
       "           iterators on the same file can be used at the same time. The\n",
       "           iterator returned will receive its own copy of a filehandle to\n",
       "           the file effectively re-opening the file. Re-opening a file\n",
       "           creates some overhead, so beware.\n",
       "\n",
       "        Returns\n",
       "        -------\n",
       "\n",
       "        An iterator over a collection of reads.\n",
       "\n",
       "        Raises\n",
       "        ------\n",
       "\n",
       "        ValueError\n",
       "            if the genomic coordinates are out of range or invalid or the\n",
       "            file does not permit random access to genomic coordinates.\n",
       "\n",
       "        \n",
       "\u001b[0;31mType:\u001b[0m      builtin_function_or_method\n"
      ]
     },
     "metadata": {},
     "output_type": "display_data"
    }
   ],
   "source": [
    "?bam.fetch"
   ]
  },
  {
   "cell_type": "code",
   "execution_count": null,
   "metadata": {},
   "outputs": [],
   "source": [
    "def read_bam(file):\n",
    "    '''\n",
    "    '''\n",
    "    bam = pysam.AlignmentFile(file, 'rb')\n",
    "    bam_it = bam.fetch(until_eof = True)\n",
    "\n",
    "    frag_dict = collections.OrderedDict()\n",
    "    new = 0\n",
    "    add = 0\n",
    "    for read in bam_it:\n",
    "        b = read.get_tag('CB')\n",
    "\n",
    "        if b not in frag_dict:\n",
    "            frag_dict[b] = [[r[0].decode(), int(r[1].decode()), int(r[2].decode())]]\n",
    "            new += 1\n",
    "        else:\n",
    "            frag_dict[b].append([r[0].decode(), int(r[1].decode()), int(r[2].decode())])\n",
    "            add += 1\n",
    "\n",
    "    logging.info('barcodes: {}   fragments: {}'.format(new, (new+add)))\n",
    "    return frag_dict;"
   ]
  },
  {
   "cell_type": "code",
   "execution_count": 2,
   "metadata": {},
   "outputs": [],
   "source": [
    "def load_sample_metadata(path: str, sample_id: str) -> Dict[str, str]:\n",
    "    if not os.path.exists(path):\n",
    "        raise ValueError(f\"Samples metadata file '{path}' not found.\")\n",
    "    if path.endswith(\".db\"):\n",
    "        # sqlite3\n",
    "        with sqlite.connect(path) as db:\n",
    "            cursor = db.cursor()\n",
    "            cursor.execute(\"SELECT * FROM sample WHERE name = ?\", (sample_id,))\n",
    "            keys = [x[0].capitalize() for x in cursor.description]\n",
    "            vals = cursor.fetchone()\n",
    "            if vals is not None:\n",
    "                return dict(zip(keys, vals))\n",
    "            raise ValueError(f\"SampleID '{sample_id}' was not found in the samples database.\")\n",
    "    else:\n",
    "        result = {}\n",
    "        with open(path) as f:\n",
    "            headers = [x.lower() for x in f.readline()[:-1].split(\"\\t\")]\n",
    "            if \"sampleid\" not in headers and 'name' not in headers:\n",
    "                raise ValueError(\"Required column 'SampleID' or 'Name' not found in sample metadata file\")\n",
    "            if \"sampleid\" in headers:\n",
    "                sample_metadata_key_idx = headers.index(\"sampleid\")\n",
    "            else:\n",
    "                sample_metadata_key_idx = headers.index(\"name\")\n",
    "            sample_found = False\n",
    "            for line in f:\n",
    "                items = line[:-1].split(\"\\t\")\n",
    "                if len(items) > sample_metadata_key_idx and items[sample_metadata_key_idx] == sample_id:\n",
    "                    for i, item in enumerate(items):\n",
    "                        result[headers[i]] = item\n",
    "                    sample_found = True\n",
    "        if not sample_found:\n",
    "            raise ValueError(f\"SampleID '{sample_id}' not found in sample metadata file\")\n",
    "        return result"
   ]
  },
  {
   "cell_type": "code",
   "execution_count": 2,
   "metadata": {},
   "outputs": [],
   "source": [
    "logger = logging.getLogger()\n",
    "logging.basicConfig(\n",
    "    format='%(asctime)s %(levelname)-8s %(message)s',\n",
    "    level=logging.INFO,\n",
    "    datefmt='%H:%M:%S')"
   ]
  },
  {
   "cell_type": "code",
   "execution_count": 10,
   "metadata": {},
   "outputs": [],
   "source": [
    "sampleid = 'MUV16'\n",
    "indir = f\"/data/proj/chromium/DIPG_scATAC/{sampleid}\"\n",
    "\n",
    "sample = indir.split('/')[-1]\n",
    "bsize = 5000\n",
    "genome_size = None\n",
    "f_blacklist = None\n",
    "level = 5000\n",
    "outdir = '/data/proj/scATAC/chromograph/tmp/{}'.format(indir.split('/')[-1])"
   ]
  },
  {
   "cell_type": "code",
   "execution_count": 11,
   "metadata": {},
   "outputs": [],
   "source": [
    "fb = indir + '/outs/singlecell.csv'\n",
    "ff = indir + '/outs/fragments.tsv.gz'\n",
    "fs = indir + '/outs/summary.json'\n",
    "\n",
    "if not os.path.isdir(outdir):\n",
    "    os.mkdir(outdir)\n",
    "\n",
    "with open(fs, \"r\") as f:\n",
    "    summary = json.load(f)\n",
    "    \n",
    "    for k,v in summary.items():\n",
    "        summary[k] = str(v)\n",
    "\n",
    "summary['bin_size'] = bsize\n",
    "summary['level'] = level\n",
    "\n",
    "barcodes = np.genfromtxt(fb, delimiter=',', skip_header=2,\n",
    "                         dtype={'names':('barcode','total','duplicate','chimeric','unmapped','lowmapq','mitochondrial','passed_filters','cell_id','is__cell_barcode',\n",
    "                                           'TSS_fragments','DNase_sensitive_region_fragments','enhancer_region_fragments','promoter_region_fragments','on_target_fragments',\n",
    "                                           'blacklist_region_fragments','peak_region_fragments','peak_region_cutsites'),\n",
    "                                 'formats':('U18', 'i8', 'i8', 'i8', 'i8', 'i8', 'i8', 'i8', 'U18', 'i8', 'i8', 'i8', 'i8', 'i8', 'i8', 'i8', 'i8', 'i8')})"
   ]
  },
  {
   "cell_type": "code",
   "execution_count": 14,
   "metadata": {},
   "outputs": [
    {
     "name": "stdout",
     "output_type": "stream",
     "text": [
      "1323\n"
     ]
    }
   ],
   "source": [
    "## Transfer metadata to dict format\n",
    "meta = {}\n",
    "for key in barcodes.dtype.names:\n",
    "    passed = np.logical_and(barcodes['is__cell_barcode'] == 1, barcodes['passed_filters'] > level)\n",
    "    meta[key] = barcodes[key][passed]\n",
    "print(np.sum(passed))"
   ]
  },
  {
   "cell_type": "code",
   "execution_count": 13,
   "metadata": {},
   "outputs": [
    {
     "data": {
      "text/plain": [
       "<matplotlib.collections.PathCollection at 0x2ab5c5178a58>"
      ]
     },
     "execution_count": 13,
     "metadata": {},
     "output_type": "execute_result"
    },
    {
     "data": {
      "image/png": "[encoded data removed]",
      "text/plain": [
       "<Figure size 1152x1152 with 1 Axes>"
      ]
     },
     "metadata": {
      "needs_background": "light"
     },
     "output_type": "display_data"
    }
   ],
   "source": [
    "plt.figure(figsize=(16,16))\n",
    "plt.scatter(np.log10(meta['passed_filters']), meta['promoter_region_fragments']/meta['passed_filters'], s=1)"
   ]
  },
  {
   "cell_type": "code",
   "execution_count": 5,
   "metadata": {},
   "outputs": [
    {
     "name": "stderr",
     "output_type": "stream",
     "text": [
      "11:35:05 INFO     Total of 9508 valid cells\n",
      "11:35:05 INFO     Loaded chromosome sizes for GRCh38\n"
     ]
    }
   ],
   "source": [
    "## Transfer metadata to dict format\n",
    "meta = {}\n",
    "for key in barcodes.dtype.names:\n",
    "    passed = np.logical_and(barcodes['is__cell_barcode'] == 1, barcodes['passed_filters'] > level)\n",
    "    meta[key] = barcodes[key][passed]\n",
    "    \n",
    "## Retrieve sample metadata from SangerDB\n",
    "m =  load_sample_metadata('/nfs/sanger-data/10X/DB/sqlite3_chromium.db', sample)\n",
    "for k,v in m.items():\n",
    "    meta[k] = np.array([v] * len(meta['barcode']))\n",
    "    \n",
    "logging.info(\"Total of {} valid cells\".format(len(meta['barcode'])))\n",
    "\n",
    "# Get Chromosome sizes\n",
    "if genome_size == None:\n",
    "    chrom_size = get_chrom_sizes(summary['reference_assembly'])    \n",
    "else:\n",
    "    chrom_size = {}\n",
    "    with open(genome_size) as f:\n",
    "        for line in f:\n",
    "            x = line.split()\n",
    "            chrom_size[x[0]] = int(x[1])"
   ]
  },
  {
   "cell_type": "code",
   "execution_count": 6,
   "metadata": {},
   "outputs": [
    {
     "data": {
      "text/plain": [
       "Config(batch_keys=[], bin_size=5000, clusterer='louvain', cov=1.75, factorization='PCA', k=25, k_pooling=10, max_fraction_MT_genes=0.05, min_fraction_good_cells=0.4, min_frags=5000, n_factors=50, nn_space='auto', passedQC=False, skip_metadata=False, skip_missing_samples=False)"
      ]
     },
     "execution_count": 6,
     "metadata": {},
     "output_type": "execute_result"
    }
   ],
   "source": [
    "from chromograph.pipeline import config\n",
    "\n",
    "config = config.load_config()\n",
    "config.params"
   ]
  },
  {
   "cell_type": "code",
   "execution_count": 10,
   "metadata": {},
   "outputs": [
    {
     "name": "stdout",
     "output_type": "stream",
     "text": [
      "['/data/proj/scATAC/samples/10X232_1/10X232_1_5kb.loom', '/data/proj/scATAC/samples/10X232_2/10X232_2_5kb.loom']\n"
     ]
    }
   ],
   "source": [
    "bsize = f'{int(config.params.bin_size/1000)}kb'\n",
    "samples = ['10X232_1', '10X232_2']\n",
    "files = [os.path.join(config.paths.samples, sample, sample + f\"_{bsize}.loom\") for sample in samples]\n",
    "print(files)"
   ]
  },
  {
   "cell_type": "code",
   "execution_count": 40,
   "metadata": {},
   "outputs": [
    {
     "name": "stderr",
     "output_type": "stream",
     "text": [
      "09:39:05 INFO     Read fragments into dict\n"
     ]
    },
    {
     "ename": "KeyboardInterrupt",
     "evalue": "",
     "output_type": "error",
     "traceback": [
      "\u001b[0;31m---------------------------------------------------------------------------\u001b[0m",
      "\u001b[0;31mKeyboardInterrupt\u001b[0m                         Traceback (most recent call last)",
      "\u001b[0;32m<ipython-input-40-cddedaedea2b>\u001b[0m in \u001b[0;36m<module>\u001b[0;34m\u001b[0m\n\u001b[1;32m      1\u001b[0m \u001b[0;31m## Read Fragments and generate size bins\u001b[0m\u001b[0;34m\u001b[0m\u001b[0;34m\u001b[0m\u001b[0;34m\u001b[0m\u001b[0m\n\u001b[1;32m      2\u001b[0m \u001b[0mlogging\u001b[0m\u001b[0;34m.\u001b[0m\u001b[0minfo\u001b[0m\u001b[0;34m(\u001b[0m\u001b[0;34m\"Read fragments into dict\"\u001b[0m\u001b[0;34m)\u001b[0m\u001b[0;34m\u001b[0m\u001b[0;34m\u001b[0m\u001b[0m\n\u001b[0;32m----> 3\u001b[0;31m \u001b[0mfrag_dict\u001b[0m \u001b[0;34m=\u001b[0m \u001b[0mread_fragments\u001b[0m\u001b[0;34m(\u001b[0m\u001b[0mff\u001b[0m\u001b[0;34m)\u001b[0m\u001b[0;34m\u001b[0m\u001b[0;34m\u001b[0m\u001b[0m\n\u001b[0m",
      "\u001b[0;32m~/chromograph/chromograph/preprocessing/utils.py\u001b[0m in \u001b[0;36mread_fragments\u001b[0;34m(file)\u001b[0m\n\u001b[1;32m     58\u001b[0m     \u001b[0mnew\u001b[0m \u001b[0;34m=\u001b[0m \u001b[0;36m0\u001b[0m\u001b[0;34m\u001b[0m\u001b[0;34m\u001b[0m\u001b[0m\n\u001b[1;32m     59\u001b[0m     \u001b[0madd\u001b[0m \u001b[0;34m=\u001b[0m \u001b[0;36m0\u001b[0m\u001b[0;34m\u001b[0m\u001b[0;34m\u001b[0m\u001b[0m\n\u001b[0;32m---> 60\u001b[0;31m     \u001b[0;32mwith\u001b[0m \u001b[0mgzip\u001b[0m\u001b[0;34m.\u001b[0m\u001b[0mopen\u001b[0m\u001b[0;34m(\u001b[0m\u001b[0mfile\u001b[0m\u001b[0;34m,\u001b[0m \u001b[0;34m'rb'\u001b[0m\u001b[0;34m)\u001b[0m \u001b[0;32mas\u001b[0m \u001b[0mf\u001b[0m\u001b[0;34m:\u001b[0m\u001b[0;34m\u001b[0m\u001b[0;34m\u001b[0m\u001b[0m\n\u001b[0m\u001b[1;32m     61\u001b[0m         \u001b[0;32mfor\u001b[0m \u001b[0mread\u001b[0m \u001b[0;32min\u001b[0m \u001b[0mf\u001b[0m\u001b[0;34m:\u001b[0m\u001b[0;34m\u001b[0m\u001b[0;34m\u001b[0m\u001b[0m\n\u001b[1;32m     62\u001b[0m             \u001b[0mr\u001b[0m \u001b[0;34m=\u001b[0m \u001b[0mread\u001b[0m\u001b[0;34m.\u001b[0m\u001b[0msplit\u001b[0m\u001b[0;34m(\u001b[0m\u001b[0;34m)\u001b[0m\u001b[0;34m\u001b[0m\u001b[0;34m\u001b[0m\u001b[0m\n",
      "\u001b[0;31mKeyboardInterrupt\u001b[0m: "
     ]
    }
   ],
   "source": [
    "## Read Fragments and generate size bins\n",
    "logging.info(\"Read fragments into dict\")\n",
    "frag_dict = read_fragments(ff)"
   ]
  },
  {
   "cell_type": "code",
   "execution_count": 40,
   "metadata": {},
   "outputs": [
    {
     "name": "stderr",
     "output_type": "stream",
     "text": [
      "15:43:34 INFO     Saving fragments to separate folder for fast indexing\n",
      "15:53:44 INFO     Finished separating fragments for 1000 cells\n",
      "16:04:38 INFO     Finished separating fragments for 2000 cells\n",
      "16:14:53 INFO     Finished separating fragments for 3000 cells\n",
      "16:25:00 INFO     Finished separating fragments for 4000 cells\n",
      "16:34:55 INFO     Finished separating fragments for 5000 cells\n"
     ]
    }
   ],
   "source": [
    "logging.info(f\"Saving fragments to separate folder for fast indexing\")\n",
    "\n",
    "fdir = os.path.join(outdir, 'fragments')\n",
    "\n",
    "if not os.path.isdir(fdir):\n",
    "    os.mkdir(fdir)\n",
    "\n",
    "i = 0\n",
    "for x in meta['barcode']:\n",
    "    f = os.path.join(fdir, f'{x}.tsv.gz')\n",
    "    frags = BedTool(frag_dict[x]).saveas(f)\n",
    "    i += 1\n",
    "    if i%1000 == 0:\n",
    "        logging.info(f'Finished separating fragments for {i} cells')\n",
    "# meta['fragments'] = [np.array(frag_dict[k]) for k in meta['barcode']]\n",
    "\n",
    "# logging.info(\"Saving fragments to dict\")\n",
    "# fpick = outdir + '/' + sampleid + '_frags.pkl'\n",
    "# pickle.dump(frag_dict, fpick)"
   ]
  },
  {
   "cell_type": "code",
   "execution_count": 6,
   "metadata": {},
   "outputs": [
    {
     "name": "stderr",
     "output_type": "stream",
     "text": [
      "11:48:13 INFO     Read fragments into dict\n"
     ]
    },
    {
     "ename": "KeyboardInterrupt",
     "evalue": "",
     "output_type": "error",
     "traceback": [
      "\u001b[0;31m---------------------------------------------------------------------------\u001b[0m",
      "\u001b[0;31mKeyboardInterrupt\u001b[0m                         Traceback (most recent call last)",
      "\u001b[0;32m<ipython-input-6-56c1df508b73>\u001b[0m in \u001b[0;36m<module>\u001b[0;34m\u001b[0m\n\u001b[1;32m      1\u001b[0m \u001b[0;31m## Read Fragments and generate size bins\u001b[0m\u001b[0;34m\u001b[0m\u001b[0;34m\u001b[0m\u001b[0;34m\u001b[0m\u001b[0m\n\u001b[1;32m      2\u001b[0m \u001b[0mlogging\u001b[0m\u001b[0;34m.\u001b[0m\u001b[0minfo\u001b[0m\u001b[0;34m(\u001b[0m\u001b[0;34m\"Read fragments into dict\"\u001b[0m\u001b[0;34m)\u001b[0m\u001b[0;34m\u001b[0m\u001b[0;34m\u001b[0m\u001b[0m\n\u001b[0;32m----> 3\u001b[0;31m \u001b[0mfrag_dict\u001b[0m \u001b[0;34m=\u001b[0m \u001b[0mread_fragments\u001b[0m\u001b[0;34m(\u001b[0m\u001b[0mff\u001b[0m\u001b[0;34m)\u001b[0m\u001b[0;34m\u001b[0m\u001b[0;34m\u001b[0m\u001b[0m\n\u001b[0m\u001b[1;32m      4\u001b[0m \u001b[0;34m\u001b[0m\u001b[0m\n\u001b[1;32m      5\u001b[0m \u001b[0;31m# logging.info(f\"Saving fragments as np.array\")\u001b[0m\u001b[0;34m\u001b[0m\u001b[0;34m\u001b[0m\u001b[0;34m\u001b[0m\u001b[0m\n",
      "\u001b[0;32m~/chromograph/chromograph/preprocessing/utils.py\u001b[0m in \u001b[0;36mread_fragments\u001b[0;34m(file)\u001b[0m\n\u001b[1;32m     58\u001b[0m     \u001b[0;32mwith\u001b[0m \u001b[0mgzip\u001b[0m\u001b[0;34m.\u001b[0m\u001b[0mopen\u001b[0m\u001b[0;34m(\u001b[0m\u001b[0mfile\u001b[0m\u001b[0;34m,\u001b[0m \u001b[0;34m'rb'\u001b[0m\u001b[0;34m)\u001b[0m \u001b[0;32mas\u001b[0m \u001b[0mf\u001b[0m\u001b[0;34m:\u001b[0m\u001b[0;34m\u001b[0m\u001b[0;34m\u001b[0m\u001b[0m\n\u001b[1;32m     59\u001b[0m         \u001b[0;32mfor\u001b[0m \u001b[0mread\u001b[0m \u001b[0;32min\u001b[0m \u001b[0mf\u001b[0m\u001b[0;34m:\u001b[0m\u001b[0;34m\u001b[0m\u001b[0;34m\u001b[0m\u001b[0m\n\u001b[0;32m---> 60\u001b[0;31m             \u001b[0mr\u001b[0m \u001b[0;34m=\u001b[0m \u001b[0mread\u001b[0m\u001b[0;34m.\u001b[0m\u001b[0msplit\u001b[0m\u001b[0;34m(\u001b[0m\u001b[0;34m)\u001b[0m\u001b[0;34m\u001b[0m\u001b[0;34m\u001b[0m\u001b[0m\n\u001b[0m\u001b[1;32m     61\u001b[0m             \u001b[0mb\u001b[0m \u001b[0;34m=\u001b[0m \u001b[0mr\u001b[0m\u001b[0;34m[\u001b[0m\u001b[0;36m3\u001b[0m\u001b[0;34m]\u001b[0m\u001b[0;34m.\u001b[0m\u001b[0mdecode\u001b[0m\u001b[0;34m(\u001b[0m\u001b[0;34m)\u001b[0m\u001b[0;34m\u001b[0m\u001b[0;34m\u001b[0m\u001b[0m\n\u001b[1;32m     62\u001b[0m \u001b[0;34m\u001b[0m\u001b[0m\n",
      "\u001b[0;31mKeyboardInterrupt\u001b[0m: "
     ]
    }
   ],
   "source": [
    "logging.info(\"Generate {} bins based on provided chromosome sizes\".format(str(int(bsize/1000)) + ' kb'))\n",
    "chrom_bins = generate_bins(chrom_size, bsize=bsize)"
   ]
  },
  {
   "cell_type": "markdown",
   "metadata": {},
   "source": [
    "## Count fragments inside bins based on cell barcodes"
   ]
  },
  {
   "cell_type": "code",
   "execution_count": 7,
   "metadata": {},
   "outputs": [
    {
     "name": "stderr",
     "output_type": "stream",
     "text": [
      "11:02:52 INFO     Counting fragments in bins\n",
      "11:04:28 INFO     Finished counting 500 cells\n",
      "11:05:54 INFO     Finished counting 1000 cells\n",
      "11:07:32 INFO     Finished counting 1500 cells\n",
      "11:09:10 INFO     Finished counting 2000 cells\n",
      "11:10:36 INFO     Finished counting 2500 cells\n",
      "11:12:14 INFO     Finished counting 3000 cells\n",
      "11:13:38 INFO     Finished counting 3500 cells\n",
      "11:15:09 INFO     Finished counting 4000 cells\n",
      "11:16:31 INFO     Finished counting 4500 cells\n",
      "11:17:56 INFO     Finished counting 5000 cells\n"
     ]
    }
   ],
   "source": [
    "logging.info(f\"Counting fragments in bins\")\n",
    "Count_dict = count_bins(frag_dict, meta['barcode'], summary['bin_size'])"
   ]
  },
  {
   "cell_type": "markdown",
   "metadata": {},
   "source": [
    "## Remove blacklisted regions"
   ]
  },
  {
   "cell_type": "code",
   "execution_count": null,
   "metadata": {},
   "outputs": [],
   "source": [
    "## Download Blacklist\n",
    "\n",
    "# Load Blacklist\n",
    "if f_blacklist == None:\n",
    "    f_blacklist = get_blacklist(summary['reference_assembly'])    \n",
    "\n",
    "blacklist = BedTool(f_blacklist)\n",
    "bins = [(k[0], str(k[1]), str(k[2])) for k in chrom_bins.keys()]\n",
    "intervals = pybedtools.BedTool(bins)\n",
    "cleaned = intervals.subtract(blacklist, A=True)\n",
    "\n",
    "keep = [(row['chrom'], int(row['start']), int(row['end'])) for row in cleaned]\n",
    "retain = [chrom_bins[x] for x in keep]\n",
    "clean_bin = [bins[x] for x in retain]\n",
    "\n",
    "print('Number of bins after cleaning: {}'.format(len(clean_bin)))"
   ]
  },
  {
   "cell_type": "markdown",
   "metadata": {},
   "source": [
    "## Construct loom file"
   ]
  },
  {
   "cell_type": "code",
   "execution_count": null,
   "metadata": {},
   "outputs": [],
   "source": [
    "## Create sparse matrix\n",
    "col = []\n",
    "row = []\n",
    "v = []\n",
    "\n",
    "cix = 0\n",
    "for cell in meta['barcode']:\n",
    "    \n",
    "    for key in (Count_dict[cell]):\n",
    "        col.append(cix)\n",
    "        row.append(chrom_bins[key])\n",
    "        v.append(Count_dict[cell][key])\n",
    "    cix+=1\n",
    "\n",
    "matrix = sparse.coo_matrix((v, (row,col)), shape=(len(chrom_bins.keys()), len(meta['barcode'])))\n",
    "\n",
    "## Save a smaller section of the summary\n",
    "keys = ['cellranger-atac_version', 'reference_assembly', 'reference_assembly_accession', 'reference_assembly_fasta_url', 'reference_organism', 'reference_version', 'bin_size']\n",
    "small_summary = {k: summary[k] for k in keys}\n",
    "\n",
    "## We retain only the bins that have no overlap with the ENCODE blacklist\n",
    "cleaned_matrix = matrix.tocsr()[retain,:]\n",
    "print('Identified {} positive bins in {} cells before filtering blacklist'.format(len(v), len(meta['barcode'])))\n",
    "print('Identified {} positive bins in {} cells after filtering blacklist'.format(len(cleaned_matrix.nonzero()[0]), len(meta['barcode'])))\n",
    "\n",
    "## Create row attributes\n",
    "chrom = [x[0] for x in clean_bin]\n",
    "start = [x[1] for x in clean_bin]\n",
    "end = [x[2] for x in clean_bin]\n",
    "\n",
    "row_attrs = {'chrom': chrom, 'start': start, 'end': end}"
   ]
  },
  {
   "cell_type": "code",
   "execution_count": null,
   "metadata": {},
   "outputs": [],
   "source": [
    "## Create loomfile\n",
    "sampleid = indir.split('/')[-1] + '_' + str(int(bsize/1000)) + 'kb'\n",
    "f = outdir + '/' + sampleid + '.loom'\n",
    "\n",
    "loompy.create(filename=f, \n",
    "              layers=cleaned_matrix, \n",
    "              row_attrs=row_attrs, \n",
    "              col_attrs=meta,\n",
    "              file_attrs=small_summary)"
   ]
  },
  {
   "cell_type": "code",
   "execution_count": null,
   "metadata": {},
   "outputs": [],
   "source": [
    "ds = loompy.connect(f)\n",
    "# ds.close()"
   ]
  },
  {
   "cell_type": "code",
   "execution_count": 15,
   "metadata": {},
   "outputs": [
    {
     "data": {
      "text/plain": [
       "(0, 1)"
      ]
     },
     "execution_count": 15,
     "metadata": {},
     "output_type": "execute_result"
    },
    {
     "data": {
      "image/png": "[encoded data removed]",
      "text/plain": [
       "<Figure size 864x864 with 1 Axes>"
      ]
     },
     "metadata": {
      "needs_background": "light"
     },
     "output_type": "display_data"
    }
   ],
   "source": [
    "UMIs = np.log10(ds.ca['passed_filters'] + 1)\n",
    "Prom_rat = (ds.ca['promoter_region_fragments'] + 1) / (ds.ca['passed_filters'] + 1)\n",
    "\n",
    "fig, ax = plt.subplots(figsize=(12,12))\n",
    "ax.scatter(UMIs, Prom_rat, s=1, c='grey')\n",
    "ax.set_xlabel('Log10 UMIs')\n",
    "ax.set_ylabel('Promoter Ratio')\n",
    "ax.set_xlim((0,6))\n",
    "ax.set_ylim((0,1))"
   ]
  },
  {
   "cell_type": "code",
   "execution_count": 25,
   "metadata": {},
   "outputs": [
    {
     "data": {
      "text/plain": [
       "array([2265.,  843.,  522., ...,  540.,  681.,  645.])"
      ]
     },
     "execution_count": 25,
     "metadata": {},
     "output_type": "execute_result"
    }
   ],
   "source": [
    "nnz = ds.map([np.count_nonzero], axis=1)[0]\n",
    "nnz"
   ]
  }
 ],
 "metadata": {
  "kernelspec": {
   "display_name": "Chromograph (py3.7)",
   "language": "python",
   "name": "chromograph"
  },
  "language_info": {
   "codemirror_mode": {
    "name": "ipython",
    "version": 3
   },
   "file_extension": ".py",
   "mimetype": "text/x-python",
   "name": "python",
   "nbconvert_exporter": "python",
   "pygments_lexer": "ipython3",
   "version": "3.7.0"
  }
 },
 "nbformat": 4,
 "nbformat_minor": 4
}
