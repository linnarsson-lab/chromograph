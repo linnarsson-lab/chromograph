{
 "cells": [
  {
   "cell_type": "code",
   "execution_count": 1,
   "metadata": {},
   "outputs": [],
   "source": [
    "import logging\n",
    "import warnings\n",
    "\n",
    "import numpy as np\n",
    "import os\n",
    "import sys\n",
    "import pybedtools\n",
    "from pybedtools import BedTool\n",
    "import collections\n",
    "import csv\n",
    "import matplotlib.pyplot as plt\n",
    "import gzip\n",
    "import loompy\n",
    "import scipy.sparse as sparse\n",
    "import json\n",
    "import urllib.request\n",
    "\n",
    "sys.path.append('/home/camiel/chromograph/')\n",
    "import chromograph\n",
    "from chromograph.preprocessing.utils import *\n",
    "\n",
    "# from .config import Config"
   ]
  },
  {
   "cell_type": "code",
   "execution_count": 2,
   "metadata": {},
   "outputs": [],
   "source": [
    "logger = logging.getLogger()\n",
    "logging.basicConfig(\n",
    "    format='%(asctime)s %(levelname)-8s %(message)s',\n",
    "    level=logging.INFO,\n",
    "    datefmt='%H:%M:%S')"
   ]
  },
  {
   "cell_type": "code",
   "execution_count": 34,
   "metadata": {},
   "outputs": [],
   "source": [
    "indir = '/data/proj/chromium/10X232_4'\n",
    "\n",
    "sample = indir.split('/')[-1]\n",
    "bsize = 10000\n",
    "genome_size = None\n",
    "f_blacklist = None\n",
    "min_frag = 500\n",
    "outdir = '/data/proj/scATAC/chromograph/{}'.format(indir.split('/')[-1])"
   ]
  },
  {
   "cell_type": "code",
   "execution_count": 35,
   "metadata": {},
   "outputs": [
    {
     "name": "stderr",
     "output_type": "stream",
     "text": [
      "19:27:00 INFO     Total of 3340 valid cells\n",
      "19:27:00 INFO     Loaded chromatin sizes for GRCh38\n"
     ]
    }
   ],
   "source": [
    "fb = indir + '/outs/singlecell.csv'\n",
    "ff = indir + '/outs/fragments.tsv.gz'\n",
    "fs = indir + '/outs/summary.json'\n",
    "\n",
    "if not os.path.isdir(outdir):\n",
    "    os.mkdir(outdir)\n",
    "\n",
    "with open(fs, \"r\") as f:\n",
    "    summary = json.load(f)\n",
    "    \n",
    "    for k,v in summary.items():\n",
    "        summary[k] = str(v)\n",
    "\n",
    "summary['bin_size'] = bsize\n",
    "\n",
    "# bamfile = pysam.AlignmentFile(fbam, \"rb\", index_filename=fi)\n",
    "barcodes = np.genfromtxt(fb, delimiter=',', skip_header=2,\n",
    "                         dtype={'names':('barcode','total','duplicate','chimeric','unmapped','lowmapq','mitochondrial','passed_filters','cell_id','is__cell_barcode',\n",
    "                                           'TSS_fragments','DNase_sensitive_region_fragments','enhancer_region_fragments','promoter_region_fragments','on_target_fragments',\n",
    "                                           'blacklist_region_fragments','peak_region_fragments','peak_region_cutsites'),\n",
    "                                 'formats':('U18', 'i8', 'i8', 'i8', 'i8', 'i8', 'i8', 'i8', 'U18', 'i8', 'i8', 'i8', 'i8', 'i8', 'i8', 'i8', 'i8', 'i8')})\n",
    "\n",
    "## Transfer metadata to dict format\n",
    "meta = {}\n",
    "for key in barcodes.dtype.names:\n",
    "    passed = np.logical_and(barcodes['is__cell_barcode'] == 1, barcodes['passed_filters'] > min_frag)\n",
    "    meta[key] = barcodes[key][passed]\n",
    "meta['sample'] = np.repeat(sample, len(meta['barcode']))\n",
    "logging.info(\"Total of {} valid cells\".format(len(meta['barcode'])))\n",
    "\n",
    "# Get Chromosome sizes\n",
    "if genome_size == None:\n",
    "    chrom_size = get_chrom_sizes(summary['reference_assembly'])    \n",
    "else:\n",
    "    chrom_size = {}\n",
    "    with open(genome_size) as f:\n",
    "        for line in f:\n",
    "            x = line.split()\n",
    "            chrom_size[x[0]] = int(x[1])"
   ]
  },
  {
   "cell_type": "code",
   "execution_count": 36,
   "metadata": {},
   "outputs": [
    {
     "name": "stderr",
     "output_type": "stream",
     "text": [
      "19:27:00 INFO     Read fragments into dict\n",
      "19:27:27 INFO     barcodes: 97989   fragments: 7567983\n",
      "19:27:31 INFO     Generate 10 kb bins based on provided chromosome sizes\n",
      "19:27:31 INFO     Number of bins: 308839\n"
     ]
    }
   ],
   "source": [
    "## Read Fragments and generate size bins\n",
    "logging.info(\"Read fragments into dict\")\n",
    "frag_dict = read_fragments(ff)\n",
    "logging.info(\"Generate {} bins based on provided chromosome sizes\".format(str(int(bsize/1000)) + ' kb'))\n",
    "chrom_bins = generate_bins(chrom_size, bsize=bsize)"
   ]
  },
  {
   "cell_type": "code",
   "execution_count": 37,
   "metadata": {},
   "outputs": [],
   "source": [
    "meta['fragments'] = [frag_dict[k] for k in meta['barcode']]"
   ]
  },
  {
   "cell_type": "markdown",
   "metadata": {},
   "source": [
    "## Count fragments inside bins based on cell barcodes"
   ]
  },
  {
   "cell_type": "code",
   "execution_count": 38,
   "metadata": {},
   "outputs": [],
   "source": [
    "Count_dict = count_fragments(frag_dict, meta['barcode'], summary['bin_size'])"
   ]
  },
  {
   "cell_type": "markdown",
   "metadata": {},
   "source": [
    "## Remove blacklisted regions"
   ]
  },
  {
   "cell_type": "code",
   "execution_count": 39,
   "metadata": {},
   "outputs": [
    {
     "name": "stderr",
     "output_type": "stream",
     "text": [
      "19:27:44 INFO     Retrieved blacklist for GRCh38\n"
     ]
    },
    {
     "name": "stdout",
     "output_type": "stream",
     "text": [
      "Number of bins after cleaning: 308818\n"
     ]
    }
   ],
   "source": [
    "## Download Blacklist\n",
    "\n",
    "# Load Blacklist\n",
    "if f_blacklist == None:\n",
    "    f_blacklist = get_blacklist(summary['reference_assembly'])    \n",
    "\n",
    "blacklist = BedTool(f_blacklist)\n",
    "bins = [(k[0], str(k[1]), str(k[2])) for k in chrom_bins.keys()]\n",
    "intervals = pybedtools.BedTool(bins)\n",
    "cleaned = intervals.subtract(blacklist, A=True)\n",
    "\n",
    "keep = [(row['chrom'], int(row['start']), int(row['end'])) for row in cleaned]\n",
    "retain = [chrom_bins[x] for x in keep]\n",
    "clean_bin = [bins[x] for x in retain]\n",
    "\n",
    "print('Number of bins after cleaning: {}'.format(len(clean_bin)))"
   ]
  },
  {
   "cell_type": "markdown",
   "metadata": {},
   "source": [
    "## Construct loom file"
   ]
  },
  {
   "cell_type": "code",
   "execution_count": 40,
   "metadata": {},
   "outputs": [
    {
     "name": "stdout",
     "output_type": "stream",
     "text": [
      "Identified 6230808 positive bins in 3340 cells before filtering blacklist\n",
      "Identified 6230171 positive bins in 3340 cells after filtering blacklist\n"
     ]
    }
   ],
   "source": [
    "## Create sparse matrix\n",
    "col = []\n",
    "row = []\n",
    "v = []\n",
    "\n",
    "cix = 0\n",
    "for cell in meta['barcode']:\n",
    "    \n",
    "    for key in (Count_dict[cell]):\n",
    "        col.append(cix)\n",
    "        row.append(chrom_bins[key])\n",
    "        v.append(Count_dict[cell][key])\n",
    "    cix+=1\n",
    "\n",
    "matrix = sparse.coo_matrix((v, (row,col)), shape=(len(chrom_bins.keys()), len(meta['barcode'])))\n",
    "\n",
    "## Save a smaller section of the summary\n",
    "keys = ['cellranger-atac_version', 'reference_assembly', 'reference_assembly_accession', 'reference_assembly_fasta_url', 'reference_organism', 'reference_version', 'bin_size']\n",
    "small_summary = {k: summary[k] for k in keys}\n",
    "\n",
    "## We retain only the bins that have no overlap with the ENCODE blacklist\n",
    "cleaned_matrix = matrix.tocsr()[retain,:]\n",
    "print('Identified {} positive bins in {} cells before filtering blacklist'.format(len(v), len(meta['barcode'])))\n",
    "print('Identified {} positive bins in {} cells after filtering blacklist'.format(len(cleaned_matrix.nonzero()[0]), len(meta['barcode'])))\n",
    "\n",
    "## Create row attributes\n",
    "chrom = [x[0] for x in clean_bin]\n",
    "start = [x[1] for x in clean_bin]\n",
    "end = [x[2] for x in clean_bin]\n",
    "\n",
    "row_attrs = {'chrom': chrom, 'start': start, 'end': end}"
   ]
  },
  {
   "cell_type": "code",
   "execution_count": 41,
   "metadata": {},
   "outputs": [],
   "source": [
    "## Create loomfile\n",
    "sampleid = indir.split('/')[-1] + '_' + str(int(bsize/1000)) + 'kb'\n",
    "f = outdir + '/' + sampleid + '.loom'\n",
    "\n",
    "loompy.create(filename=f, \n",
    "              layers=cleaned_matrix, \n",
    "              row_attrs=row_attrs, \n",
    "              col_attrs=meta,\n",
    "              file_attrs=small_summary)"
   ]
  },
  {
   "cell_type": "code",
   "execution_count": 42,
   "metadata": {},
   "outputs": [],
   "source": [
    "ds = loompy.connect(f)\n",
    "ds.close()"
   ]
  },
  {
   "cell_type": "code",
   "execution_count": 21,
   "metadata": {},
   "outputs": [
    {
     "data": {
      "text/plain": [
       "(0, 1)"
      ]
     },
     "execution_count": 21,
     "metadata": {},
     "output_type": "execute_result"
    },
    {
     "data": {
      "image/png": "[encoded data removed]",
      "text/plain": [
       "<Figure size 864x864 with 1 Axes>"
      ]
     },
     "metadata": {
      "needs_background": "light"
     },
     "output_type": "display_data"
    }
   ],
   "source": [
    "UMIs = np.log10(ds.ca['passed_filters'] + 1)\n",
    "Prom_rat = (ds.ca['promoter_region_fragments'] + 1) / (ds.ca['passed_filters'] + 1)\n",
    "\n",
    "fig, ax = plt.subplots(figsize=(12,12))\n",
    "ax.scatter(UMIs, Prom_rat, s=1, c='grey')\n",
    "ax.set_xlabel('Log10 UMIs')\n",
    "ax.set_ylabel('Promoter Ratio')\n",
    "ax.set_xlim((0,6))\n",
    "ax.set_ylim((0,1))"
   ]
  },
  {
   "cell_type": "code",
   "execution_count": 25,
   "metadata": {},
   "outputs": [
    {
     "data": {
      "text/plain": [
       "array([2265.,  843.,  522., ...,  540.,  681.,  645.])"
      ]
     },
     "execution_count": 25,
     "metadata": {},
     "output_type": "execute_result"
    }
   ],
   "source": [
    "nnz = ds.map([np.count_nonzero], axis=1)[0]\n",
    "nnz"
   ]
  },
  {
   "cell_type": "code",
   "execution_count": 40,
   "metadata": {},
   "outputs": [],
   "source": [
    "# class Chrombin:\n",
    "#     def __init__(self) -> None:\n",
    "#         \"\"\"\n",
    "#         Generate a binned loom file from scATAC-seq data\n",
    "        \n",
    "#         Args:\n",
    "#             steps                    Which steps to include in the analysis\n",
    "\n",
    "#         Remarks:\n",
    "#             --- PUNCHCARD SUPPORT NEEDS TO INTEGRATED, FOR NOW PASS PARAMETER TO FIT FUNCTION ---\n",
    "#             # All parameters are obtained from the config object, which comes from the default config\n",
    "#             # and can be overridden by the config in the current punchcard\n",
    "#         \"\"\"\n",
    "# #         self.config = config\n",
    "#         logging.info(\"Chrombin initialised\")\n",
    "    \n",
    "    \n",
    "#     def fit(self, indir: str, bsize: int = 5000, outdir: str = None, genome_size: str = None, blacklist: str = None) -> None:\n",
    "#         ''''\n",
    "#         Create a .loom file from 10X Genomics cellranger output with reads binned\n",
    "#         Args:\n",
    "#             indir (str):\tpath to the cellranger output folder (the one that contains 'outs')\n",
    "#             bsize (int):\tsize of the bins (defaults to 5000/5kb)\n",
    "#             outdir (str):\toutput folder wher the new loom file should be saved (default to indir)\n",
    "#             genome_size (str):\tpath to file containing chromosome sizes, usually derived from encode (i.e. 'hg19.chrom.sizes.tsv')\n",
    "#             blacklist (str):\tpath to bedfile containing blacklisted region (i.e. 'blacklist_hg19.bed')\n",
    "#         Returns:\n",
    "#             path (str):\t\tFull path to the created loom file.\n",
    "#         Remarks:\n",
    "#             The resulting file will be named ``{sampleID}.loom``, where the sampleID is the one given by cellranger.\n",
    "#         '''\n",
    "#         logging.info(\"Binning reads from {} into {} kb bins\".format(indir.split('/')[-1], (bsize/1000)))\n",
    "#         logging.info(\"Reading from dir {}\".format(indir))\n",
    "#         fb = indir + '/outs/singlecell.csv'\n",
    "#         ff = indir + '/outs/fragments.tsv.gz'\n",
    "#         fs = indir + '/outs/summary.json'\n",
    "\n",
    "#         if not os.path.isdir(outdir):\n",
    "#             os.mkdir(outdir)\n",
    "   \n",
    "#         logging.info(\"Reading metadata and summary from Cellranger output\")\n",
    "#         with open(fs, \"r\") as f:\n",
    "#             summary = json.load(f)\n",
    "\n",
    "#             for k,v in summary.items():\n",
    "#                 summary[k] = str(v)\n",
    "#         summary['bin_size'] = bsize\n",
    "        \n",
    "#         barcodes = np.genfromtxt(fb, delimiter=',', skip_header=2,\n",
    "#                                  dtype={'names':('barcode','total','duplicate','chimeric','unmapped','lowmapq','mitochondrial','passed_filters','cell_id','is__cell_barcode',\n",
    "#                                                    'TSS_fragments','DNase_sensitive_region_fragments','enhancer_region_fragments','promoter_region_fragments','on_target_fragments',\n",
    "#                                                    'blacklist_region_fragments','peak_region_fragments','peak_region_cutsites'),\n",
    "#                                          'formats':('U18', 'i8', 'i8', 'i8', 'i8', 'i8', 'i8', 'i8', 'U18', 'i8', 'i8', 'i8', 'i8', 'i8', 'i8', 'i8', 'i8', 'i8')})\n",
    "\n",
    "#         ## Transfer metadata to dict format\n",
    "#         meta = {}\n",
    "#         for key in barcodes.dtype.names:\n",
    "#             passed = np.logical_and(barcodes['is__cell_barcode'] == 1, barcodes['passed_filters'] > 1000)\n",
    "#             meta[key] = barcodes[key][passed]\n",
    "#         logging.info(\"Total of {} valid cells\".format(len(meta['barcode'])))\n",
    "\n",
    "#         # Get Chromosome sizes\n",
    "#         if genome_size == None:\n",
    "#             logging.info(\"Genome sizes not provided. Attempt download from ENCODE\")            \n",
    "#             chrom_size = download_chrom_sizes(summary['reference_assembly'])    \n",
    "#         else:\n",
    "#             chrom_size = {}\n",
    "#             with open(genome_size) as f:\n",
    "#                 for line in f:\n",
    "#                     x = line.split()\n",
    "#                     chrom_size[x[0]] = int(x[1])\n",
    "\n",
    "#         ## Read Fragments and generate size bins\n",
    "#         logging.info(\"Read fragments into dict\")\n",
    "#         frag_dict = read_fragments(ff)\n",
    "#         logging.info(\"Generate {} bins based on provided chromosome sizes\".format(str(int(bsize/1000)) + ' kb'))\n",
    "#         chrom_bins = generate_bins(chrom_size, bsize)\n",
    "#         logging.info(\"Saving Bed-files\")\n",
    "#         save_beds(frag_dict, outdir)\n",
    "\n",
    "#         ## Count fragments inside bins\n",
    "#         logging.info(\"Count fragments overlapping with bins\")\n",
    "#         Count_dict = count_fragments(frag_dict, meta['barcode'], bsize)\n",
    "\n",
    "#         # Load Blacklist\n",
    "#         if blacklist == None:\n",
    "#             logging.info(\"Blacklist not provided. Attempt download from ENCODE\")            \n",
    "#             blacklist = download_blacklist(summary['reference_assembly'])    \n",
    "\n",
    "#         logging.info(\"Remove bins that overlap with the ENCODE blacklist\")\n",
    "#         black_list = BedTool(blacklist)\n",
    "#         bins = [(k[0], str(k[1]), str(k[2])) for k in chrom_bins.keys()]\n",
    "#         intervals = pybedtools.BedTool(bins)\n",
    "#         cleaned = intervals.subtract(black_list, A=True)\n",
    "\n",
    "#         keep = [(row['chrom'], int(row['start']), int(row['end'])) for row in cleaned]\n",
    "#         retain = [chrom_bins[x] for x in keep]\n",
    "#         clean_bin = [bins[x] for x in retain]\n",
    "\n",
    "#         logging.info(\"Number of bins after cleaning: {}\".format(len(clean_bin)))\n",
    "\n",
    "#         ## Construct loom file\n",
    "\n",
    "#         ## Create sparse matrix\n",
    "        \n",
    "#         logging.info(\"Generating Sparse matrix\")\n",
    "#         col = []\n",
    "#         row = []\n",
    "#         v = []\n",
    "\n",
    "#         cix = 0\n",
    "#         for cell in meta['barcode']:\n",
    "\n",
    "#             for key in (Count_dict[cell]):\n",
    "#                 col.append(cix)\n",
    "#                 row.append(chrom_bins[key])\n",
    "#                 v.append(Count_dict[cell][key])\n",
    "#             cix+=1\n",
    "#         matrix = sparse.coo_matrix((v, (row,col)), shape=(len(chrom_bins.keys()), len(meta['barcode'])))\n",
    "\n",
    "#         ## We retain only the bins that have no overlap with the ENCODE blacklist\n",
    "#         cleaned_matrix = matrix.tocsr()[retain,:]\n",
    "#         logging.info(\"Identified {} positive bins in {} cells before filtering blacklist\".format(len(v), len(meta['barcode'])))\n",
    "#         logging.info(\"Identified {} positive bins in {} cells after filtering blacklist\".format(len(cleaned_matrix.nonzero()[0]), len(meta['barcode'])))\n",
    "\n",
    "#         ## Create row attributes\n",
    "#         chrom = [x[0] for x in clean_bin]\n",
    "#         start = [x[1] for x in clean_bin]\n",
    "#         end = [x[2] for x in clean_bin]\n",
    "\n",
    "#         row_attrs = {'chrom': chrom, 'start': start, 'end': end}\n",
    "\n",
    "#         ## Create loomfile\n",
    "#         logging.info(\"Constructing loomfile\")\n",
    "#         sampleid = indir.split('/')[-2] + '_' + str(int(bsize/1000)) + 'kb'\n",
    "#         f = outdir + '/' + sampleid + '.loom'\n",
    "\n",
    "#         loompy.create(filename=f, \n",
    "#                       layers=cleaned_matrix, \n",
    "#                       row_attrs=row_attrs, \n",
    "#                       col_attrs=meta,\n",
    "#                       file_attrs=summary)\n",
    "        \n",
    "#         logging.info(\"Loom file saved as {}\".format(f))\n",
    "    \n",
    "# def download_chrom_sizes(ref: str):\n",
    "#     '''\n",
    "#     '''\n",
    "\n",
    "#     url = 'https://www.encodeproject.org/files/male.{}.chrom.sizes/@@download/male.{}.chrom.sizes.tsv'.format(ref, ref)\n",
    "#     logging.info(\"url: {}\".format(url))\n",
    "\n",
    "#     tmp = urllib.request.urlopen(url)\n",
    "#     datatowrite = tmp.read()\n",
    "\n",
    "#     if not os.path.isdir('./tmp'):\n",
    "#         os.mkdir('tmp')\n",
    "\n",
    "#     with open('tmp/male.{}.chrom.sizes'.format(ref), 'wb') as f:\n",
    "#         f.write(datatowrite)\n",
    "\n",
    "#     chrom_size = {}\n",
    "#     with open('tmp/male.{}.chrom.sizes'.format(ref), 'rb') as f:\n",
    "#         for line in f:\n",
    "#             x = line.split()\n",
    "#             chrom_size[x[0].decode()] = int(x[1].decode())\n",
    "#     return chrom_size;\n",
    "\n",
    "# def download_blacklist(ref: str):\n",
    "#     '''\n",
    "#     '''\n",
    "\n",
    "#     if ref == 'hg19':\n",
    "#         url = 'https://www.encodeproject.org/files/ENCFF547MET/@@download/ENCFF547MET.bed.gz'.format(ref, ref)\n",
    "#         logging.info(\"url: {}\".format(url))\n",
    "#     elif ref == 'mm10':\n",
    "#         url = 'https://www.encodeproject.org/files/ENCFF001TDO/@@download/ENCFF001TDO.bed.gz'\n",
    "#         logging.info(\"url: {}\".format(url))        \n",
    "#     else:\n",
    "#         logging.info(\"Genome not recognised\")\n",
    "#         return\n",
    "    \n",
    "#     tmp = urllib.request.urlopen(url)\n",
    "#     datatowrite = tmp.read()\n",
    "\n",
    "#     if not os.path.isdir('./tmp'):\n",
    "#         os.mkdir('tmp')\n",
    "\n",
    "#     file = 'tmp/blacklist_{}.bed'.format(ref)\n",
    "        \n",
    "#     with open(file, 'wb') as f:\n",
    "#         f.write(datatowrite)\n",
    "\n",
    "#     return file;\n",
    "\n",
    "# def read_fragments(file):\n",
    "#     '''\n",
    "#     '''\n",
    "    \n",
    "#     frag_dict = collections.OrderedDict()\n",
    "#     new = 0\n",
    "#     add = 0\n",
    "#     with gzip.open(file, 'rb') as f:\n",
    "#         for read in f:\n",
    "#             r = read.split()\n",
    "#             b = r[3].decode()\n",
    "\n",
    "#             if b not in frag_dict:\n",
    "#                 frag_dict[b] = [[r[0].decode(), int(r[1].decode()), int(r[2].decode())]]\n",
    "#                 new += 1\n",
    "#             else:\n",
    "#                 frag_dict[b].append([r[0].decode(), int(r[1].decode()), int(r[2].decode())])\n",
    "#                 add += 1\n",
    "    \n",
    "#         logging.info(\"barcodes: {}   fragments: {}\".format(new, (new+add)))\n",
    "#         return frag_dict;\n",
    "    \n",
    "# def generate_bins(chrom_size, bsize):\n",
    "#     '''\n",
    "#     '''\n",
    "    \n",
    "#     chrom_bins = collections.OrderedDict();\n",
    "#     i = 0\n",
    "#     for x in chrom_size.keys():\n",
    "#         for start in range(1, chrom_size[x], bsize):\n",
    "#             end = min(start + bsize - 1, chrom_size[x]);\n",
    "#             bin = (x , start, end);\n",
    "#             chrom_bins[bin] = i;\n",
    "#             i += 1\n",
    "#     logging.info(\"Number of bins: {}\".format(len(chrom_bins.keys())))\n",
    "#     return chrom_bins;\n",
    "\n",
    "# def count_fragments(frag_dict, barcodes, bsize):\n",
    "#     '''\n",
    "#     '''\n",
    "    \n",
    "#     Count_dict = collections.OrderedDict()\n",
    "\n",
    "#     for bar in barcodes:    \n",
    "#         if bar in frag_dict:\n",
    "#             frags = frag_dict[bar]\n",
    "#             counts = {}\n",
    "#             for _frag in frags:\n",
    "\n",
    "#                 # If a fragment spans two bins we count it twice\n",
    "#                 for x in set([int(_frag[1]/bsize)*bsize+1, int(_frag[2]/bsize)*bsize+1]):\n",
    "#                     k = (_frag[0], x, x + bsize - 1)\n",
    "#                     if k not in counts.keys():\n",
    "#                         counts[k] = 1\n",
    "#                     else:\n",
    "#                         counts[k] += 1\n",
    "#             Count_dict[bar] = counts\n",
    "#         else:\n",
    "#             continue\n",
    "    \n",
    "#     return Count_dict;\n",
    "\n",
    "# def save_beds(frag_dict, barcodes, outdir):\n",
    "#     fdir = outdir + '/fragments/'\n",
    "\n",
    "#     if not os.path.isdir(fdir):\n",
    "#         os.mkdir(fdir)\n",
    "        \n",
    "#     if barcodes == None:\n",
    "#         barcodes = frag_dict.keys()\n",
    "    \n",
    "#     for bar in barcodes:\n",
    "#         frags = [(k[0], str(k[1]), str(k[2])) for k in frag_dict[bar]]\n",
    "#         bed = BedTool(frags)\n",
    "#         bed.saveas(fdir + bar + '.bed.gz')\n",
    "    \n",
    "#     logging.info(\"Saved bedfiles of cells to {}\".format(fdir))"
   ]
  },
  {
   "cell_type": "code",
   "execution_count": 13,
   "metadata": {},
   "outputs": [
    {
     "name": "stderr",
     "output_type": "stream",
     "text": [
      "INFO:root:Chrombin initialised\n",
      "INFO:root:Binning reads from atac_v1_E18_brain_fresh_5k_S1_cell_ranger into 10.0 kb bins\n",
      "INFO:root:Reading from dir /data/proj/scATAC/10X_test/atac_v1_E18_brain_fresh_5k_S1_cell_ranger\n",
      "INFO:root:Reading metadata and summary from Cellranger output\n",
      "INFO:root:Total of 4273 valid cells\n",
      "INFO:root:Genome sizes not provided. Attempt download from ENCODE\n",
      "INFO:root:url: https://www.encodeproject.org/files/male.mm10.chrom.sizes/@@download/male.mm10.chrom.sizes.tsv\n",
      "INFO:root:Read fragments into dict\n",
      "INFO:root:barcodes: 329571   fragments: 87541137\n",
      "INFO:root:Generate 10 kb bins based on provided chromosome sizes\n",
      "INFO:root:Number of bins: 272566\n",
      "INFO:root:Count fragments overlapping with bins\n",
      "INFO:root:Blacklist not provided. Attempt download from ENCODE\n",
      "INFO:root:url: https://www.encodeproject.org/files/ENCFF001TDO/@@download/ENCFF001TDO.bed.gz\n",
      "INFO:root:Remove bins that overlap with the ENCODE blacklist\n",
      "INFO:root:Number of bins after cleaning: 271145\n",
      "INFO:root:Generating Sparse matrix\n",
      "INFO:root:Identified 65421209 positive bins in 4273 cells before filtering blacklist\n",
      "INFO:root:Identified 65112333 positive bins in 4273 cells after filtering blacklist\n",
      "INFO:root:Constructing loomfile\n",
      "INFO:root:Converting to csc format\n",
      "INFO:root:Loom file saved as /data/proj/scATAC/chromograph/atac_v1_E18_brain_fresh_5k_test2/10X_test_10kb.loom\n"
     ]
    }
   ],
   "source": [
    "# chrombin = Chrombin()\n",
    "# chrombin.fit(indir = '/data/proj/scATAC/10X_test/atac_v1_E18_brain_fresh_5k_S1_cell_ranger', \n",
    "#              bsize = 10000, outdir = '/data/proj/scATAC/chromograph/atac_v1_E18_brain_fresh_5k_test2')"
   ]
  }
 ],
 "metadata": {
  "kernelspec": {
   "display_name": "Chromograph (py3.7)",
   "language": "python",
   "name": "chromograph"
  },
  "language_info": {
   "codemirror_mode": {
    "name": "ipython",
    "version": 3
   },
   "file_extension": ".py",
   "mimetype": "text/x-python",
   "name": "python",
   "nbconvert_exporter": "python",
   "pygments_lexer": "ipython3",
   "version": "3.7.4"
  }
 },
 "nbformat": 4,
 "nbformat_minor": 4
}
