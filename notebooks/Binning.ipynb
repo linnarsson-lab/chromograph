{
 "cells": [
  {
   "cell_type": "code",
   "execution_count": 1,
   "metadata": {},
   "outputs": [],
   "source": [
    "import logging\n",
    "import warnings\n",
    "\n",
    "import numpy as np\n",
    "import os\n",
    "import sys\n",
    "import pybedtools\n",
    "from pybedtools import BedTool\n",
    "import collections\n",
    "import csv\n",
    "import matplotlib.pyplot as plt\n",
    "import gzip\n",
    "import loompy\n",
    "import scipy.sparse as sparse\n",
    "import json\n",
    "import urllib.request\n",
    "\n",
    "sys.path.append('/home/camiel/chromograph/')\n",
    "import chromograph\n",
    "from chromograph.preprocessing.utils import *\n",
    "\n",
    "# from .config import Config"
   ]
  },
  {
   "cell_type": "code",
   "execution_count": 2,
   "metadata": {},
   "outputs": [],
   "source": [
    "logger = logging.getLogger()\n",
    "logging.basicConfig(\n",
    "    format='%(asctime)s %(levelname)-8s %(message)s',\n",
    "    level=logging.INFO,\n",
    "    datefmt='%H:%M:%S')"
   ]
  },
  {
   "cell_type": "code",
   "execution_count": 8,
   "metadata": {},
   "outputs": [],
   "source": [
    "sampleid = '10X232_3\n",
    "indir = f\"/data/proj/chromium/{sampleid}}\"\n",
    "\n",
    "sample = indir.split('/')[-1]\n",
    "bsize = 5000\n",
    "genome_size = None\n",
    "f_blacklist = None\n",
    "level = 5000\n",
    "outdir = '/data/proj/scATAC/chromograph/{}'.format(indir.split('/')[-1])"
   ]
  },
  {
   "cell_type": "code",
   "execution_count": 9,
   "metadata": {},
   "outputs": [
    {
     "name": "stderr",
     "output_type": "stream",
     "text": [
      "15:26:50 INFO     Total of 4681 valid cells\n",
      "15:26:50 INFO     Loaded chromatin sizes for GRCh38\n"
     ]
    }
   ],
   "source": [
    "fb = indir + '/outs/singlecell.csv'\n",
    "ff = indir + '/outs/fragments.tsv.gz'\n",
    "fs = indir + '/outs/summary.json'\n",
    "\n",
    "if not os.path.isdir(outdir):\n",
    "    os.mkdir(outdir)\n",
    "\n",
    "with open(fs, \"r\") as f:\n",
    "    summary = json.load(f)\n",
    "    \n",
    "    for k,v in summary.items():\n",
    "        summary[k] = str(v)\n",
    "\n",
    "summary['bin_size'] = bsize\n",
    "summary['level'] = level\n",
    "\n",
    "# bamfile = pysam.AlignmentFile(fbam, \"rb\", index_filename=fi)\n",
    "barcodes = np.genfromtxt(fb, delimiter=',', skip_header=2,\n",
    "                         dtype={'names':('barcode','total','duplicate','chimeric','unmapped','lowmapq','mitochondrial','passed_filters','cell_id','is__cell_barcode',\n",
    "                                           'TSS_fragments','DNase_sensitive_region_fragments','enhancer_region_fragments','promoter_region_fragments','on_target_fragments',\n",
    "                                           'blacklist_region_fragments','peak_region_fragments','peak_region_cutsites'),\n",
    "                                 'formats':('U18', 'i8', 'i8', 'i8', 'i8', 'i8', 'i8', 'i8', 'U18', 'i8', 'i8', 'i8', 'i8', 'i8', 'i8', 'i8', 'i8', 'i8')})\n",
    "\n",
    "## Transfer metadata to dict format\n",
    "meta = {}\n",
    "for key in barcodes.dtype.names:\n",
    "    passed = np.logical_and(barcodes['is__cell_barcode'] == 1, barcodes['passed_filters'] > level)\n",
    "    meta[key] = barcodes[key][passed]\n",
    "meta['sample'] = np.repeat(sample, len(meta['barcode']))\n",
    "logging.info(\"Total of {} valid cells\".format(len(meta['barcode'])))\n",
    "\n",
    "# Get Chromosome sizes\n",
    "if genome_size == None:\n",
    "    chrom_size = get_chrom_sizes(summary['reference_assembly'])    \n",
    "else:\n",
    "    chrom_size = {}\n",
    "    with open(genome_size) as f:\n",
    "        for line in f:\n",
    "            x = line.split()\n",
    "            chrom_size[x[0]] = int(x[1])"
   ]
  },
  {
   "cell_type": "code",
   "execution_count": 10,
   "metadata": {},
   "outputs": [
    {
     "name": "stderr",
     "output_type": "stream",
     "text": [
      "15:26:58 INFO     Read fragments into dict\n",
      "15:27:28 INFO     barcodes: 103957   fragments: 7593326\n",
      "15:27:28 INFO     Saving fragments as np.array\n",
      "15:27:35 INFO     Generate 5 kb bins based on provided chromosome sizes\n",
      "15:27:36 INFO     Number of bins: 617669\n"
     ]
    }
   ],
   "source": [
    "## Read Fragments and generate size bins\n",
    "logging.info(\"Read fragments into dict\")\n",
    "frag_dict = read_fragments(ff)\n",
    "\n",
    "# logging.info(f\"Saving fragments as np.array\")\n",
    "# meta['fragments'] = [np.array(frag_dict[k]) for k in meta['barcode']]\n",
    "\n",
    "logging.info(\"Saving fragments to dict\")\n",
    "fpick = outdir + '/' + sampleid + '_frags.pkl'\n",
    "pickle.dump(frag_dict, fpick)\n",
    "\n",
    "logging.info(\"Generate {} bins based on provided chromosome sizes\".format(str(int(bsize/1000)) + ' kb'))\n",
    "chrom_bins = generate_bins(chrom_size, bsize=bsize)"
   ]
  },
  {
   "cell_type": "markdown",
   "metadata": {},
   "source": [
    "## Count fragments inside bins based on cell barcodes"
   ]
  },
  {
   "cell_type": "code",
   "execution_count": 7,
   "metadata": {},
   "outputs": [
    {
     "name": "stderr",
     "output_type": "stream",
     "text": [
      "11:02:52 INFO     Counting fragments in bins\n",
      "11:04:28 INFO     Finished counting 500 cells\n",
      "11:05:54 INFO     Finished counting 1000 cells\n",
      "11:07:32 INFO     Finished counting 1500 cells\n",
      "11:09:10 INFO     Finished counting 2000 cells\n",
      "11:10:36 INFO     Finished counting 2500 cells\n",
      "11:12:14 INFO     Finished counting 3000 cells\n",
      "11:13:38 INFO     Finished counting 3500 cells\n",
      "11:15:09 INFO     Finished counting 4000 cells\n",
      "11:16:31 INFO     Finished counting 4500 cells\n",
      "11:17:56 INFO     Finished counting 5000 cells\n"
     ]
    }
   ],
   "source": [
    "logging.info(f\"Counting fragments in bins\")\n",
    "Count_dict = count_fragments(frag_dict, meta['barcode'], summary['bin_size'])"
   ]
  },
  {
   "cell_type": "markdown",
   "metadata": {},
   "source": [
    "## Remove blacklisted regions"
   ]
  },
  {
   "cell_type": "code",
   "execution_count": null,
   "metadata": {},
   "outputs": [],
   "source": [
    "## Download Blacklist\n",
    "\n",
    "# Load Blacklist\n",
    "if f_blacklist == None:\n",
    "    f_blacklist = get_blacklist(summary['reference_assembly'])    \n",
    "\n",
    "blacklist = BedTool(f_blacklist)\n",
    "bins = [(k[0], str(k[1]), str(k[2])) for k in chrom_bins.keys()]\n",
    "intervals = pybedtools.BedTool(bins)\n",
    "cleaned = intervals.subtract(blacklist, A=True)\n",
    "\n",
    "keep = [(row['chrom'], int(row['start']), int(row['end'])) for row in cleaned]\n",
    "retain = [chrom_bins[x] for x in keep]\n",
    "clean_bin = [bins[x] for x in retain]\n",
    "\n",
    "print('Number of bins after cleaning: {}'.format(len(clean_bin)))"
   ]
  },
  {
   "cell_type": "markdown",
   "metadata": {},
   "source": [
    "## Construct loom file"
   ]
  },
  {
   "cell_type": "code",
   "execution_count": null,
   "metadata": {},
   "outputs": [],
   "source": [
    "## Create sparse matrix\n",
    "col = []\n",
    "row = []\n",
    "v = []\n",
    "\n",
    "cix = 0\n",
    "for cell in meta['barcode']:\n",
    "    \n",
    "    for key in (Count_dict[cell]):\n",
    "        col.append(cix)\n",
    "        row.append(chrom_bins[key])\n",
    "        v.append(Count_dict[cell][key])\n",
    "    cix+=1\n",
    "\n",
    "matrix = sparse.coo_matrix((v, (row,col)), shape=(len(chrom_bins.keys()), len(meta['barcode'])))\n",
    "\n",
    "## Save a smaller section of the summary\n",
    "keys = ['cellranger-atac_version', 'reference_assembly', 'reference_assembly_accession', 'reference_assembly_fasta_url', 'reference_organism', 'reference_version', 'bin_size']\n",
    "small_summary = {k: summary[k] for k in keys}\n",
    "\n",
    "## We retain only the bins that have no overlap with the ENCODE blacklist\n",
    "cleaned_matrix = matrix.tocsr()[retain,:]\n",
    "print('Identified {} positive bins in {} cells before filtering blacklist'.format(len(v), len(meta['barcode'])))\n",
    "print('Identified {} positive bins in {} cells after filtering blacklist'.format(len(cleaned_matrix.nonzero()[0]), len(meta['barcode'])))\n",
    "\n",
    "## Create row attributes\n",
    "chrom = [x[0] for x in clean_bin]\n",
    "start = [x[1] for x in clean_bin]\n",
    "end = [x[2] for x in clean_bin]\n",
    "\n",
    "row_attrs = {'chrom': chrom, 'start': start, 'end': end}"
   ]
  },
  {
   "cell_type": "code",
   "execution_count": null,
   "metadata": {},
   "outputs": [],
   "source": [
    "## Create loomfile\n",
    "sampleid = indir.split('/')[-1] + '_' + str(int(bsize/1000)) + 'kb'\n",
    "f = outdir + '/' + sampleid + '.loom'\n",
    "\n",
    "loompy.create(filename=f, \n",
    "              layers=cleaned_matrix, \n",
    "              row_attrs=row_attrs, \n",
    "              col_attrs=meta,\n",
    "              file_attrs=small_summary)"
   ]
  },
  {
   "cell_type": "code",
   "execution_count": null,
   "metadata": {},
   "outputs": [],
   "source": [
    "ds = loompy.connect(f)\n",
    "# ds.close()"
   ]
  },
  {
   "cell_type": "code",
   "execution_count": 15,
   "metadata": {},
   "outputs": [
    {
     "data": {
      "text/plain": [
       "(0, 1)"
      ]
     },
     "execution_count": 15,
     "metadata": {},
     "output_type": "execute_result"
    },
    {
     "data": {
      "image/png": "[encoded data removed]",
      "text/plain": [
       "<Figure size 864x864 with 1 Axes>"
      ]
     },
     "metadata": {
      "needs_background": "light"
     },
     "output_type": "display_data"
    }
   ],
   "source": [
    "UMIs = np.log10(ds.ca['passed_filters'] + 1)\n",
    "Prom_rat = (ds.ca['promoter_region_fragments'] + 1) / (ds.ca['passed_filters'] + 1)\n",
    "\n",
    "fig, ax = plt.subplots(figsize=(12,12))\n",
    "ax.scatter(UMIs, Prom_rat, s=1, c='grey')\n",
    "ax.set_xlabel('Log10 UMIs')\n",
    "ax.set_ylabel('Promoter Ratio')\n",
    "ax.set_xlim((0,6))\n",
    "ax.set_ylim((0,1))"
   ]
  },
  {
   "cell_type": "code",
   "execution_count": 25,
   "metadata": {},
   "outputs": [
    {
     "data": {
      "text/plain": [
       "array([2265.,  843.,  522., ...,  540.,  681.,  645.])"
      ]
     },
     "execution_count": 25,
     "metadata": {},
     "output_type": "execute_result"
    }
   ],
   "source": [
    "nnz = ds.map([np.count_nonzero], axis=1)[0]\n",
    "nnz"
   ]
  }
 ],
 "metadata": {
  "kernelspec": {
   "display_name": "Chromograph (py3.7)",
   "language": "python",
   "name": "chromograph"
  },
  "language_info": {
   "codemirror_mode": {
    "name": "ipython",
    "version": 3
   },
   "file_extension": ".py",
   "mimetype": "text/x-python",
   "name": "python",
   "nbconvert_exporter": "python",
   "pygments_lexer": "ipython3",
   "version": "3.7.4"
  }
 },
 "nbformat": 4,
 "nbformat_minor": 4
}
