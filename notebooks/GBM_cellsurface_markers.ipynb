{
 "cells": [
  {
   "cell_type": "code",
   "execution_count": 232,
   "metadata": {},
   "outputs": [],
   "source": [
    "import loompy\n",
    "import numpy as np\n",
    "import logging\n",
    "import os\n",
    "import matplotlib.pyplot as plt\n",
    "from cytograph.preprocessing import Normalizer\n",
    "from cytograph.enrichment.binary_differential_expression import BinaryDifferentialExpression\n",
    "from diffxpy.api.test import pairwise\n",
    "from goatools import obo_parser\n",
    "import Bio\n",
    "\n",
    "import logging\n",
    "logger = logging.getLogger()\n",
    "logging.basicConfig(\n",
    "    format='%(asctime)s %(levelname)-8s %(message)s',\n",
    "    level=logging.INFO,\n",
    "    datefmt='%H:%M:%S')\n",
    "\n",
    "import pickle as pkl"
   ]
  },
  {
   "cell_type": "code",
   "execution_count": 54,
   "metadata": {},
   "outputs": [
    {
     "name": "stdout",
     "output_type": "stream",
     "text": [
      "CDH19: 5371\n",
      "KCNK10: 65272\n",
      "SYT6: 351\n",
      "SCN9A: 6323\n",
      "U91319.1: 729993\n",
      "ME1: 3845\n",
      "CTXND1: 100039239\n",
      "VGF: 3845\n",
      "SPOCK1: 4313\n",
      "GFRA1: 2100\n",
      "Retrieved 1 annotations for 10 genes\n"
     ]
    }
   ],
   "source": [
    "import sys\n",
    "from Bio import Entrez\n",
    "\n",
    "# *Always* tell NCBI who you are\n",
    "Entrez.email = \"john.doe@mail.com\"\n",
    " \n",
    "def retrieve_annotation(id_list):\n",
    " \n",
    "    \"\"\"Annotates Entrez Gene IDs using Bio.Entrez, in particular epost (to\n",
    "    submit the data to NCBI) and esummary to retrieve the information. \n",
    "    Returns a list of dictionaries with the annotations.\"\"\"\n",
    " \n",
    "    # This below tests for search by gene symbol\n",
    "    request = Entrez.epost(\"gene\",id=\",\".join(id_list))\n",
    "    try:\n",
    "        result = Entrez.read(request)\n",
    "    except RuntimeError as e:\n",
    "        #FIXME: How generate NAs instead of causing an error with invalid IDs?\n",
    "        print(\"An error occurred while retrieving the annotations.\")\n",
    "        print(\"The error returned was %s\" % e)\n",
    "        sys.exit(-1)\n",
    " \n",
    "    webEnv = result[\"WebEnv\"]\n",
    "    queryKey = result[\"QueryKey\"]\n",
    "    data = Entrez.esummary(db=\"gene\", webenv=webEnv, query_key =\n",
    "            queryKey)\n",
    "    annotations = Entrez.read(data)\n",
    " \n",
    "    print(\"Retrieved %d annotations for %d genes\" % (len(annotations), len(id_list)))\n",
    "    return annotations\n",
    "\n",
    "with loompy.connect(f) as ds:\n",
    "    #Search for Gene ID, then find annotation\n",
    "    id_list = []\n",
    "    for x in ds.ra.Gene[:10]:\n",
    "        sterm = x + \"Homo Sapiens\"\n",
    "        handle = Entrez.esearch(db=\"gene\", retmode = \"xml\", term = x )\n",
    "        record = Entrez.read(handle)\n",
    "        if len(record) > 0:\n",
    "            IDArray = record[\"IdList\"]\n",
    "            toString = str(IDArray[0])\n",
    "            print(f'{x}: {toString}')\n",
    "            id_list.append(toString)\n",
    "\n",
    "    annotation = retrieve_annotation(id_list)\n",
    "    annotation = annotation['DocumentSummarySet']['DocumentSummary']"
   ]
  },
  {
   "cell_type": "code",
   "execution_count": 53,
   "metadata": {},
   "outputs": [
    {
     "name": "stdout",
     "output_type": "stream",
     "text": [
      "PML nuclear body scaffold\n",
      "potassium two pore domain channel subfamily K member 10\n",
      "amyloid beta precursor protein\n",
      "sodium voltage-gated channel alpha subunit 1\n",
      "shisa family member 9\n",
      "KRAS proto-oncogene, GTPase\n",
      "predicted gene 2115\n",
      "KRAS proto-oncogene, GTPase\n",
      "matrix metallopeptidase 2\n",
      "estrogen receptor 2\n"
     ]
    }
   ],
   "source": [
    "for k in annotation:\n",
    "#     print(k.keys())\n",
    "    print(k['NomenclatureName'])"
   ]
  },
  {
   "cell_type": "code",
   "execution_count": 233,
   "metadata": {},
   "outputs": [],
   "source": [
    "f_dir = '/proj/GBM/FRESH_20210607'\n",
    "f_GBM = os.path.join(f_dir, 'data' , 'GBM.loom')\n",
    "f_agg = os.path.join(f_dir, 'data' , 'GBM.agg.loom')"
   ]
  },
  {
   "cell_type": "code",
   "execution_count": 30,
   "metadata": {},
   "outputs": [
    {
     "name": "stdout",
     "output_type": "stream",
     "text": [
      "['CDH19' 'KCNK10' 'SYT6' 'SCN9A' 'U91319.1' 'ME1' 'CTXND1' 'VGF' 'SPOCK1'\n",
      " 'GFRA1']\n"
     ]
    }
   ],
   "source": [
    "with loompy.connect(f_GBM) as ds:\n",
    "    print(ds.ra.Gene[:10])"
   ]
  },
  {
   "cell_type": "code",
   "execution_count": 172,
   "metadata": {},
   "outputs": [
    {
     "name": "stdout",
     "output_type": "stream",
     "text": [
      "['GATA2' 'TNFRSF9' 'SPATA9' 'RGS13' 'RAB37']\n",
      "['ENSG00000179348' 'ENSG00000049249' 'ENSG00000145757' 'ENSG00000127074'\n",
      " 'ENSG00000172794']\n"
     ]
    }
   ],
   "source": [
    "with loompy.connect(f_GBM) as ds:\n",
    "    print(ds.ra.Gene[:5])\n",
    "    print(ds.ra.Accession[:5])\n",
    "#     with loompy.connect(f_agg) as dsagg:        \n",
    "#         Tumor_clusters = np.unique(ds.ca.Clusters[np.where(ds.ca.Subset=='Tumor')[0]])\n",
    "#         print(dsagg.ca.AutoAnnotation[Tumor_clusters])"
   ]
  },
  {
   "cell_type": "code",
   "execution_count": 173,
   "metadata": {},
   "outputs": [],
   "source": [
    "with loompy.connect(f_GBM) as ds:\n",
    "    Tumor_clusters = np.unique(ds.ca.Clusters[np.where(ds.ca.Subset=='Tumor')[0]])\n",
    "    labels = np.array(['Tumor' if x in Tumor_clusters else 'Control' for x in ds.ca.Clusters])\n",
    "    \n",
    "#     BDE = BinaryDifferentialExpression()\n",
    "#     logging.info(f'Fitting data')\n",
    "#     BDE.fit(ds, labels)\n",
    "#     logging.info(f'Calculate differential expression')\n",
    "#     selected = BDE.select('Tumor', 'Control')\n",
    "    \n",
    "#     with open('/proj/GBM/FRESH_20210607/misc/differntial.pkl', \"wb\") as output_file:\n",
    "#         pkl.dump([selected, BDE], output_file)\n",
    "\n",
    "selected, BDE = pkl.load(open('/proj/GBM/FRESH_20210607/misc/differntial.pkl', 'rb'))"
   ]
  },
  {
   "cell_type": "code",
   "execution_count": 182,
   "metadata": {},
   "outputs": [
    {
     "data": {
      "text/plain": [
       "<matplotlib.collections.PathCollection at 0x2b57034254c0>"
      ]
     },
     "execution_count": 182,
     "metadata": {},
     "output_type": "execute_result"
    },
    {
     "data": {
      "image/png": "[encoded data removed]",
      "text/plain": [
       "<Figure size 432x288 with 1 Axes>"
      ]
     },
     "metadata": {
      "needs_background": "light"
     },
     "output_type": "display_data"
    }
   ],
   "source": [
    "log2fc = np.log2((BDE.mu[:,1]+1)/(BDE.mu[:,0]+1))\n",
    "\n",
    "plt.scatter(np.log2(BDE.mu[:,0] + 1), np.log2(BDE.mu[:,1] + 1), s=1, c='lightgrey')\n",
    "plt.scatter(np.log2(BDE.mu[selected,0] + 1), np.log2(BDE.mu[selected,1] + 1), s=1, c='red')"
   ]
  },
  {
   "cell_type": "code",
   "execution_count": 239,
   "metadata": {},
   "outputs": [
    {
     "name": "stdout",
     "output_type": "stream",
     "text": [
      "['BBOX1' 'SEMA3A' 'DGKB' 'ADGRL3' 'PPAT' 'APCDD1' 'NKAIN4' 'FIBIN' 'RGS6'\n",
      " 'PHKG1' 'FAT3' 'GRIA1' 'RNF180' 'CHST9' 'SOX13' 'KCND2' 'LHFPL3' 'CSPG5'\n",
      " 'FGF12' 'UNC80' 'CSMD1' 'MEGF11' 'NTRK3' 'LRRTM4' 'SNTG1' 'CFAP54' 'CA3'\n",
      " 'ID1' 'ARHGEF4' 'TIMP4' 'TRIL' 'ALDH1L1' 'FADS2' 'RGMA' 'ATP1B2' 'F3'\n",
      " 'AEBP1' 'AQP4' 'CADPS' 'NRG3' 'GJA1' 'PTPN14' 'IGFBP5' 'SLC24A3' 'CDKN2B'\n",
      " 'EGFR' 'SORCS3' 'EFEMP1' 'ARSJ' 'GAP43' 'RDH10' 'IGFBP2' 'SCG2' 'RGS17'\n",
      " 'NRN1' 'HILPDA' 'AKAP12' 'AL035446.1' 'NQO1' 'NNMT' 'PTX3' 'FJX1' 'TSHZ2'\n",
      " 'FABP7' 'AC073050.1' 'EMID1' 'FXYD1' 'MIR3681HG' 'LINC01965' 'MYBPC1'\n",
      " 'IGF2BP2' 'CACNB2' 'HAS2' 'COL1A2' 'COL6A1' 'TMEM45A' 'TPM2' 'COL8A1'\n",
      " 'LINC01748' 'ZNF273' 'LINC02588' 'TOM1L1' 'BCHE' 'AC016205.1' 'MAP2'\n",
      " 'KIAA1211' 'SHC3' 'GRIK2' 'GSTA4' 'CNTN1' 'TMEM100' 'AC021088.1' 'BMP7'\n",
      " 'EEF1A2' 'ALDH7A1' 'ADORA1' 'TRIM9' 'PSPH' 'TRIB2' 'RAD18']\n",
      "819\n"
     ]
    },
    {
     "data": {
      "image/png": "[encoded data removed]",
      "text/plain": [
       "<Figure size 432x288 with 1 Axes>"
      ]
     },
     "metadata": {
      "needs_background": "light"
     },
     "output_type": "display_data"
    }
   ],
   "source": [
    "with loompy.connect(f_GBM) as ds:\n",
    "    targets = selected & (log2fc > 0)\n",
    "    Selected_genes = ds.ra.Gene[targets]\n",
    "    plt.hist(log2fc[x])\n",
    "print(Selected_genes[:100])\n",
    "print(np.sum(targets))"
   ]
  },
  {
   "cell_type": "code",
   "execution_count": 449,
   "metadata": {},
   "outputs": [
    {
     "name": "stdout",
     "output_type": "stream",
     "text": [
      "['Age', 'Agetext', 'Ageunit', 'All_fc_analysis_id', 'Analysis', 'BpLength', 'CDNAConc', 'CellConc', 'CellCycle', 'CellCycle_G1', 'CellCycle_G2M', 'CellCycle_S', 'CellID', 'Cellconc', 'Chemistry', 'Clusters', 'ClustersModularity', 'ClustersSurprise', 'Cmobarcodes', 'Comment', 'CreationDate', 'Datecaptured', 'Donor', 'DoubletFinderFlag', 'DoubletFinderScore', 'Editat', 'Editby', 'FinalConc', 'Id', 'IsCycling', 'Label', 'MT_ratio', 'MeanTotalUMI', 'Method', 'NGenes', 'Name', 'Neuronprop', 'Numpooledanimals', 'Outliers', 'OutliersModularity', 'OutliersSurprise', 'PCA', 'PCRCycles', 'Plugdate', 'Project', 'RegionOfInterest', 'Roi', 'SampleID', 'SampleName', 'Sampleok', 'Sex', 'Shortname', 'Species', 'Strain', 'Subset', 'TSNE', 'TargetNumCells', 'Targetnumcells', 'Tissue', 'TotalUMI', 'Transcriptome', 'UMAP', 'UMAP3D', '_X', '_Y', 'passedQC', 'unspliced_ratio', 'velocyto.__version__', 'velocyto.logic']\n",
      "[3.06880789]\n",
      "[[0.02908945 0.51944925]]\n",
      "[7.89110426]\n",
      "['EGFR', 'SRR', 'AR', 'BCR', 'LIFR', 'SH3BGR', 'C1R', 'APTR', 'MINCR', 'LDLR', 'OSMR', 'F2R']\n"
     ]
    },
    {
     "data": {
      "image/png": "[encoded data removed]",
      "text/plain": [
       "<Figure size 432x288 with 1 Axes>"
      ]
     },
     "metadata": {
      "needs_background": "light"
     },
     "output_type": "display_data"
    }
   ],
   "source": [
    "gene = 'AQP4'\n",
    "with loompy.connect(f_GBM) as ds:\n",
    "    print(ds.ca.keys())\n",
    "    x = np.where([x in Tumor_clusters for x in ds.ca.Clusters])[0]\n",
    "    plt.hist(ds[np.where(ds.ra.Gene==gene)[0],:][:,x].flatten(), bins=20, range=(0,20), alpha=.5, density=True)\n",
    "    x = np.where([x not in Tumor_clusters for x in ds.ca.Clusters])[0]\n",
    "    plt.hist(ds[np.where(ds.ra.Gene==gene)[0],:][:,x].flatten(), bins=20, range=(0,20), alpha=.5, density=True)\n",
    "    print(log2fc[ds.ra.Gene==gene])\n",
    "    print(BDE.fnnz[ds.ra.Gene==gene,:])\n",
    "    print(mu_[ds.ra.Gene==gene])\n",
    "print([x for x in Selected_genes if x[-1] == 'R'])"
   ]
  },
  {
   "cell_type": "code",
   "execution_count": 457,
   "metadata": {},
   "outputs": [
    {
     "name": "stdout",
     "output_type": "stream",
     "text": [
      "Fraction where AQP4 higher in reference: [0.]\n",
      "Number of genes higher in reference: 21221\n",
      "[7.89110426]\n",
      "Fraction where AQP4 higher in reference: [0.]\n",
      "Number of genes higher in reference: 10746\n",
      "[7.89110426]\n",
      "(58833, 21)\n",
      "Fraction where AQP4 higher in reference: [0.]\n",
      "Number of genes higher in reference: 17939\n",
      "(58833, 35)\n",
      "Fraction where AQP4 higher in reference: [0.]\n",
      "Number of genes higher in reference: 25890\n",
      "Fraction where AQP4 higher in reference: [0.]\n",
      "Number of genes higher in reference: 4019\n",
      "[7.89110426]\n",
      "37797\n"
     ]
    },
    {
     "data": {
      "image/png": "[encoded data removed]",
      "text/plain": [
       "<Figure size 1728x576 with 2 Axes>"
      ]
     },
     "metadata": {
      "needs_background": "light"
     },
     "output_type": "display_data"
    }
   ],
   "source": [
    "kim = ['/proj/human_adult/20210611/alldonors/PoolSplit/data/alldonors_A.agg.loom',\n",
    "       '/proj/human_adult/20210611/alldonors/PoolSplit/data/alldonors_B.agg.loom']\n",
    "\n",
    "Tabula = ['/proj/loom/TabulaSapiens/aggregated/TS_Spleen.agg.loom',\n",
    "         '/proj/loom/TabulaSapiens/aggregated/TS_Lung.agg.loom']\n",
    "f_Payen = '/proj/DEV_ATAC/RNA/LIVER_20210709/data/All.agg.loom'\n",
    "\n",
    "\n",
    "invalid = []\n",
    "n_exclude = .1\n",
    "mu_ = BDE.mu[:,1]\n",
    "\n",
    "fig, ax = plt.subplots(1,2, figsize=(24,8))\n",
    "ax = ax.flatten()\n",
    "\n",
    "for f in kim:\n",
    "    with loompy.connect(f_GBM, 'r') as dsG:\n",
    "        with loompy.connect(f, 'r') as ds:\n",
    "            ## \n",
    "            X = ds[''][:,:]\n",
    "\n",
    "            match = {k:v for k, v in zip(dsG.ra.Gene, mu_)}\n",
    "            mu = np.array([match[x] for x in ds.ra.Gene])\n",
    "            higher = np.mean(X>mu[:,np.newaxis], axis=1)\n",
    "            ax[0].hist(higher, bins=30, alpha=.5)\n",
    "            invalid.append(ds.ra.Gene[higher > n_exclude])\n",
    "            print(f'Fraction where {gene} higher in reference: {higher[ds.ra.Gene==gene]}')\n",
    "            print(f'Number of genes higher in reference: {np.sum(higher > n_exclude)}')\n",
    "            print(mu[ds.ra.Gene==gene])\n",
    "\n",
    "            dat = X[ds.ra.Gene==gene,:].reshape(-1)\n",
    "            ax[1].hist(dat, bins=20, range=(0,20), alpha=.5, density=True)\n",
    "        \n",
    "for f in Tabula:\n",
    "    with loompy.connect(f_GBM, 'r') as dsG:\n",
    "        with loompy.connect(f, 'r') as ds:\n",
    "            print(ds.shape)\n",
    "            X = ds[''][:,:]\n",
    "\n",
    "            match = {k:v for k, v in zip(dsG.ra.Gene, mu_)}\n",
    "            for k in ds.ra.gene_symbol:\n",
    "                if k not in match:\n",
    "                    match[k] = 0\n",
    "            mu = np.array([match[x] for x in ds.ra.gene_symbol])\n",
    "            higher = np.mean(X>mu[:,np.newaxis], axis=1)\n",
    "            ax[0].hist(higher, bins=30, alpha=.5)\n",
    "            invalid.append(ds.ra.gene_symbol[higher > n_exclude])\n",
    "            print(f'Fraction where {gene} higher in reference: {higher[ds.ra.gene_symbol==gene]}')\n",
    "            print(f'Number of genes higher in reference: {np.sum(higher > n_exclude)}')\n",
    "\n",
    "            dat = X[ds.ra.gene_symbol==gene,:].reshape(-1)\n",
    "            ax[1].hist(dat, bins=20, range=(0,20), alpha=.5, density=True)\n",
    "    \n",
    "with loompy.connect(f_GBM, 'r') as dsG:\n",
    "    with loompy.connect(f_Payen, 'r') as ds:\n",
    "        ## \n",
    "        X = ds[''][:,:]\n",
    "\n",
    "        match = {k:v for k, v in zip(dsG.ra.Gene, mu_)}\n",
    "        for k in ds.ra.Gene:\n",
    "            if k not in match:\n",
    "                match[k] = 0\n",
    "        mu = np.array([match[x] for x in ds.ra.Gene])\n",
    "        higher = np.mean(X>mu[:,np.newaxis], axis=1)\n",
    "        ax[0].hist(higher, bins=30, alpha=.5)\n",
    "        invalid.append(ds.ra.Gene[higher > n_exclude])\n",
    "        print(f'Fraction where {gene} higher in reference: {higher[ds.ra.Gene==gene]}')\n",
    "        print(f'Number of genes higher in reference: {np.sum(higher > n_exclude)}')\n",
    "        print(mu[ds.ra.Gene==gene])\n",
    "\n",
    "        dat = X[ds.ra.Gene==gene,:].reshape(-1)\n",
    "        ax[1].hist(dat, bins=20, range=(0,20), alpha=.5, density=True)\n",
    "    \n",
    "ax[1].set_title(gene)\n",
    "            \n",
    "invalid = np.unique([x for s in invalid for x in s])\n",
    "print(len(invalid))"
   ]
  },
  {
   "cell_type": "code",
   "execution_count": 458,
   "metadata": {},
   "outputs": [
    {
     "name": "stdout",
     "output_type": "stream",
     "text": [
      "252\n",
      "['BBOX1' 'NKAIN4' 'PHKG1' 'CSPG5' 'CA3' 'ID1' 'TIMP4' 'TRIL' 'FADS2'\n",
      " 'RGMA' 'ATP1B2' 'F3' 'AQP4' 'IGFBP5' 'CDKN2B' 'EGFR' 'EFEMP1' 'ARSJ'\n",
      " 'RDH10' 'IGFBP2' 'HILPDA' 'AKAP12' 'AL035446.1' 'NQO1' 'PTX3' 'FJX1'\n",
      " 'FABP7' 'EMID1' 'MIR3681HG' 'LINC01965' 'MYBPC1' 'IGF2BP2' 'HAS2'\n",
      " 'COL1A2' 'COL8A1' 'LINC02588' 'AC016205.1' 'AC021088.1' 'BMP7' 'ALDH7A1'\n",
      " 'PSPH' 'TUBG1' 'FERMT2' 'MIR4458HG' 'SRR' 'PCDHB4' 'AC092958.1' 'LYPD1'\n",
      " 'BLM' 'ITGA7' 'ETV1' 'ELOVL2' 'ARHGEF26' 'BRCA1' 'PTGFRN' 'AGMO' 'UHRF1'\n",
      " 'RND2' 'BCAN' 'LAPTM4B' 'LINC00511' 'C1QL1' 'FIRRE' 'RBP1' 'AC125613.1'\n",
      " 'FHL1' 'KIF9' 'TCTN1' 'SPACA9' 'CETN2' 'CAPS' 'IFT22' 'EFHC1' 'DNALI1'\n",
      " 'SPATA17' 'MORN2' 'CCDC173' 'AC105942.1' 'RFX4' 'EVA1C' 'SALL3' 'PRAF2'\n",
      " 'SYTL4' 'HEPACAM' 'HEPN1' 'WLS' 'FUZ' 'BAALC-AS1' 'SOX9' 'TRIM47' 'P2RY1'\n",
      " 'ID4' 'SOX2' 'ACKR3' 'LINC01896' 'CRISPLD1' 'AC234582.1' 'RHPN2'\n",
      " 'GNG12-AS1' 'PARD6G-AS1' 'TCF7L1' 'ZIC1' 'LIFR' 'FAM181B' 'MLC1' 'PRRX1'\n",
      " 'EMP1' 'TGFB2' 'ARRDC4' 'SH3BGR' 'NMB' 'IGFBP7' 'SPARCL1' 'SLC44A3'\n",
      " 'HEY1' 'LRRC8A' 'CDC42EP4' 'ENHO' 'GLDC' 'KLHL4' 'DPF3' 'CCDC28B'\n",
      " 'KLHDC8A' 'POU3F2' 'NES' 'SRPX' 'URB1-AS1' 'PTPRZ1' 'POU3F3' 'WEE1'\n",
      " 'KCNE4' 'FREM2' 'PRR7' 'TMEM237' 'FBLN7' 'MCM4' 'NCAPG2' 'DENND2A' 'PLAT'\n",
      " 'DONSON' 'COQ8B' 'AC008267.5' 'WSCD1' 'RGS22' 'AC004943.2' 'EYA2' 'CA13'\n",
      " 'AC078846.1' 'COL28A1' 'AP4M1' 'ADAMTS9' 'MALRD1' 'WDR34' 'APTR' 'SCARA3'\n",
      " 'BAALC' 'HNF4G' 'MINCR' 'LRWD1' 'INAFM1' 'GNG12' 'SMOX' 'TRIP6' 'PEX10'\n",
      " 'CD320' 'CPSF4' 'TMEM158' 'HOPX' 'OSMR-AS1' 'TNC' 'C1RL' 'E2F5' 'DPYSL3'\n",
      " 'AL355974.2' 'CYR61' 'PPP1R3F' 'S100A16' 'GADD45A' 'MSI1' 'HRH1' 'CNN3'\n",
      " 'ALKBH2' 'FLNA' 'YAP1' 'TUBB2B' 'C17orf58' 'WWTR1' 'LRRC42' 'PPIL1'\n",
      " 'ARRDC1-AS1' 'TUBB6' 'AL807761.4' 'PLOD2' 'TAF6' 'ITGB8' 'OSMR'\n",
      " 'SMC5-AS1' 'CXCL14' 'PDLIM4' 'CA12' 'METTL7B' 'RASSF8-AS1' 'RFC5' 'GMNN'\n",
      " 'TYMS' 'TMEM106C' 'TIPIN' 'CRNDE' 'CBR3' 'FBLN1' 'SLC2A4RG' 'IFI27L1'\n",
      " 'MELTF-AS1' 'TCTEX1D2' 'MDK' 'ZMYND19' 'SYNE2' 'AC135586.2' 'CENPK'\n",
      " 'RFC4' 'MESP1' 'LRRCC1' 'CDKN2C' 'GINS2' 'MCM3' 'CSRP2' 'ABCC3' 'CAV1'\n",
      " 'GFPT2' 'SERPINE2' 'TCIM' 'TNFAIP6' 'RND3' 'RCN1' 'GEM' 'RASD1' 'ARC'\n",
      " 'AC084033.3' 'AC004540.2' 'LINC01003' 'SRPX2' 'ADAM12' 'PTTG1' 'DCBLD2'\n",
      " 'CDCA7L' 'MSX1' 'NOL3' 'SFRP4' 'ARHGAP42' 'C11orf96' 'HES1' 'TIMP3']\n"
     ]
    }
   ],
   "source": [
    "filtered_targets = Selected_genes[[x not in invalid for x in Selected_genes]]\n",
    "print(len(filtered_targets))\n",
    "print(filtered_targets)\n",
    "np.savetxt(\"/proj/GBM/FRESH_20210607/misc/GBM_markers.csv\",filtered_targets, delimiter =\" \",  fmt ='% s')"
   ]
  },
  {
   "cell_type": "code",
   "execution_count": 326,
   "metadata": {},
   "outputs": [
    {
     "name": "stdout",
     "output_type": "stream",
     "text": [
      "['MINCR', 'F2R']\n"
     ]
    }
   ],
   "source": [
    "print([x for x in filtered_targets if x[-1] == 'R'])"
   ]
  },
  {
   "cell_type": "code",
   "execution_count": 438,
   "metadata": {},
   "outputs": [
    {
     "name": "stdout",
     "output_type": "stream",
     "text": [
      "['Anatomical Information', 'Annotation', 'Clusters', 'Compartment', 'Donor', 'Manually Annotated', 'Method', 'Organ', 'Predictability', 'X_umap', 'obs_names']\n",
      "['ensembl_id', 'gene_length', 'gene_symbol', 'var_names']\n",
      "['cd4-positive, alpha-beta memory t cell'\n",
      " 'cd8-positive, alpha-beta memory t cell'\n",
      " 'cd8-positive, alpha-beta t cell' 'classical monocyte'\n",
      " 'conventional dendritic cell type i'\n",
      " 'conventional dendritic cell type ii' 'endothelial cell' 'erythrocyte'\n",
      " 'innate lymphoid cell' 'macrophage' 'mature nk t cell' 'memory b cell'\n",
      " 'naive b cell' 'naive thymus-derived cd4-positive, alpha-beta t cell'\n",
      " 'naive thymus-derived cd8-positive, alpha-beta t cell'\n",
      " 'natural killer cell' 'neutrophil' 'plasma cell'\n",
      " 'plasmacytoid dendritic cell' 'platelet' 'regulatory t cell']\n"
     ]
    }
   ],
   "source": [
    "with loompy.connect('/proj/loom/TabulaSapiens/TS_Spleen.loom') as ds:\n",
    "    print(ds.ca.keys())\n",
    "    print(ds.ra.keys())\n",
    "    print(np.unique(ds.ca.Annotation))"
   ]
  },
  {
   "cell_type": "code",
   "execution_count": 437,
   "metadata": {},
   "outputs": [
    {
     "name": "stderr",
     "output_type": "stream",
     "text": [
      "17:13:19 INFO     Aggregating clusters\n",
      "17:13:30 INFO     Aggregating clusters\n"
     ]
    }
   ],
   "source": [
    "Tabula = ['/proj/loom/TabulaSapiens/TS_Spleen.loom',\n",
    "         '/proj/loom/TabulaSapiens/TS_Lung.loom']\n",
    "\n",
    "for f in Tabula:\n",
    "    out_file = os.path.join('/', *f.split('/')[:-1], 'aggregated', f.split('/')[-1].split('.')[0] + '.agg.loom')\n",
    "    with loompy.connect(f) as ds:\n",
    "        if not 'Clusters' in ds.ca:\n",
    "            match = {k:v for v,k in enumerate(np.unique(ds.ca.Annotation))}\n",
    "            ds.ca.Clusters = np.array([match[x] for x in ds.ca.Annotation])\n",
    "        agg_spec = {\n",
    "            \"Annotation\": \"first\",\n",
    "            \"Clusters\": \"first\",\n",
    "            \"Sex\": \"tally\",\n",
    "            \"Organ\": \"tally\",\n",
    "            \"Donor\": \"tally\",\n",
    "            \"Method\": \"tally\",\n",
    "            \"Compartment\": \"tally\",\n",
    "            \"Anatomical Information\": \"tally\"\n",
    "        }\n",
    "        labels = ds.col_attrs[\"Annotation\"]\n",
    "        n_labels = len(set(labels))\n",
    "\n",
    "        logging.info(\"Aggregating clusters\")\n",
    "        ds.aggregate(out_file, None, \"Clusters\", \"mean\", agg_spec)"
   ]
  },
  {
   "cell_type": "code",
   "execution_count": 18,
   "metadata": {},
   "outputs": [
    {
     "name": "stderr",
     "output_type": "stream",
     "text": [
      "17:03:19 INFO     32 relevant terms out of 47230\n"
     ]
    }
   ],
   "source": [
    "obo_path = '/datb/sl/camiel/tumor/ref/go-basic.obo'\n",
    "\n",
    "go = obo_parser.GODag(obo_path)\n",
    "\n",
    "relevant_terms = []\n",
    "key_word = 'cell surface'\n",
    "\n",
    "for go_term in go:\n",
    "    if key_word in go[go_term].name:\n",
    "        relevant_terms.append(go_term)\n",
    "        \n",
    "logging.info(f'{len(relevant_terms)} relevant terms out of {len(go.keys())}')"
   ]
  }
 ],
 "metadata": {
  "kernelspec": {
   "display_name": "cytograph",
   "language": "python",
   "name": "cytograph"
  },
  "language_info": {
   "codemirror_mode": {
    "name": "ipython",
    "version": 3
   },
   "file_extension": ".py",
   "mimetype": "text/x-python",
   "name": "python",
   "nbconvert_exporter": "python",
   "pygments_lexer": "ipython3",
   "version": "3.9.5"
  }
 },
 "nbformat": 4,
 "nbformat_minor": 4
}
