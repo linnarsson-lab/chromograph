{
 "cells": [
  {
   "cell_type": "code",
   "execution_count": 4,
   "metadata": {},
   "outputs": [],
   "source": [
    "#Imports\n",
    "import numpy as np\n",
    "import os\n",
    "import sys\n",
    "import collections\n",
    "import matplotlib.pyplot as plt\n",
    "import loompy\n",
    "\n",
    "sys.path.append('/home/camiel/chromograph/')\n",
    "import chromograph\n",
    "from chromograph.peak_calling.utils import *\n",
    "from chromograph.pipeline.utils import *\n",
    "from chromograph.plotting.marker_plot import marker_plot\n",
    "\n",
    "import loompy\n",
    "from cytograph.species import Species\n",
    "from cytograph.annotation import AutoAnnotator, AutoAutoAnnotator\n",
    "from cytograph.enrichment import FeatureSelectionByMultilevelEnrichment, Trinarizer\n",
    "from cytograph.manifold import GraphSkeletonizer\n",
    "from typing import *\n",
    "\n",
    "import scipy.cluster.hierarchy as hc\n",
    "from scipy.spatial.distance import pdist\n",
    "\n",
    "import logging\n",
    "logger = logging.getLogger()\n",
    "logging.basicConfig(\n",
    "    format='%(asctime)s %(levelname)-8s %(message)s',\n",
    "    level=logging.INFO,\n",
    "    datefmt='%H:%M:%S')"
   ]
  },
  {
   "cell_type": "code",
   "execution_count": 5,
   "metadata": {},
   "outputs": [],
   "source": [
    "f_atac = '/data/proj/scATAC/chromograph/build_20200511/Midbrain/Midbrain_GA2.agg.loom'\n",
    "\n",
    "f_rna = '/proj/human_development/Regions_20200225/data/MidbrainV2.agg.loom'"
   ]
  },
  {
   "cell_type": "code",
   "execution_count": null,
   "metadata": {},
   "outputs": [],
   "source": [
    "N_align = 300\n",
    "\n",
    "with loompy.connect(f_atac, 'r+') as dsa:\n",
    "    with loompy.connect(f_rna, 'r') as dsr:\n",
    "        atac_genes = [dsa.ra.Gene[dsa['enrichment'][:,i].argsort()[::-1][:N_align]].tolist() for i in range(dsa.shape[1])]\n",
    "        atac_genes = np.unique([x for s in atac_genes for x in s])\n",
    "        \n",
    "        rna_genes = [dsr.ra.Gene[dsr['enrichment'][:,i].argsort()[::-1][:N_align]].tolist() for i in range(dsr.shape[1])]\n",
    "        rna_genes = np.unique([x for s in rna_genes for x in s])\n",
    "        \n",
    "        intersection = [gene for gene in atac_genes if gene in rna_genes]\n",
    "        \n",
    "        logging.info(f'Overlapping marker genes are {len(intersection)} for {len(rna_genes)} rna markers and {len(atac_genes)} markers')\n",
    "        \n",
    "        atac = np.zeros((len(intersection), dsa.shape[1]))\n",
    "        rna = np.zeros((len(intersection), dsr.shape[1]))\n",
    "        \n",
    "        gene_list = []\n",
    "        mat = []\n",
    "        for ds in [dsa]:\n",
    "            valid = [gene in intersection for gene in ds.ra.Gene]\n",
    "            data = ds[:,:][valid,:]\n",
    "            \n",
    "            ## Reorder\n",
    "            genes = ds.ra.Gene[valid]\n",
    "            idx = [i for (v, i) in sorted((v, i) for (i, v) in enumerate(genes))]\n",
    "            mat.append(data[idx,:])\n",
    "            \n",
    "            gene_list = genes[idx]\n",
    "            \n",
    "        logging.info(f'Shapes: {mat[0].shape}, {mat[1].shape}')"
   ]
  },
  {
   "cell_type": "code",
   "execution_count": null,
   "metadata": {},
   "outputs": [],
   "source": [
    "        from collections import Counter\n",
    "        cnt = Counter(atac_genes)"
   ]
  },
  {
   "cell_type": "code",
   "execution_count": 27,
   "metadata": {},
   "outputs": [
    {
     "ename": "ValueError",
     "evalue": "shapes (1811,35) and (176,1807) not aligned: 35 (dim 1) != 176 (dim 0)",
     "output_type": "error",
     "traceback": [
      "\u001b[0;31m---------------------------------------------------------------------------\u001b[0m",
      "\u001b[0;31mValueError\u001b[0m                                Traceback (most recent call last)",
      "\u001b[0;32m<ipython-input-27-21fe69b9bb24>\u001b[0m in \u001b[0;36m<module>\u001b[0;34m\u001b[0m\n\u001b[1;32m     11\u001b[0m     \u001b[0;32mreturn\u001b[0m \u001b[0mnp\u001b[0m\u001b[0;34m.\u001b[0m\u001b[0mdot\u001b[0m\u001b[0;34m(\u001b[0m\u001b[0mA_mA\u001b[0m\u001b[0;34m,\u001b[0m \u001b[0mB_mB\u001b[0m\u001b[0;34m.\u001b[0m\u001b[0mT\u001b[0m\u001b[0;34m)\u001b[0m \u001b[0;34m/\u001b[0m \u001b[0mnp\u001b[0m\u001b[0;34m.\u001b[0m\u001b[0msqrt\u001b[0m\u001b[0;34m(\u001b[0m\u001b[0mnp\u001b[0m\u001b[0;34m.\u001b[0m\u001b[0mdot\u001b[0m\u001b[0;34m(\u001b[0m\u001b[0mssA\u001b[0m\u001b[0;34m[\u001b[0m\u001b[0;34m:\u001b[0m\u001b[0;34m,\u001b[0m \u001b[0;32mNone\u001b[0m\u001b[0;34m]\u001b[0m\u001b[0;34m,\u001b[0m\u001b[0mssB\u001b[0m\u001b[0;34m[\u001b[0m\u001b[0;32mNone\u001b[0m\u001b[0;34m]\u001b[0m\u001b[0;34m)\u001b[0m\u001b[0;34m)\u001b[0m\u001b[0;34m\u001b[0m\u001b[0m\n\u001b[1;32m     12\u001b[0m \u001b[0;34m\u001b[0m\u001b[0m\n\u001b[0;32m---> 13\u001b[0;31m \u001b[0mout\u001b[0m \u001b[0;34m=\u001b[0m \u001b[0mcorr2_coeff\u001b[0m\u001b[0;34m(\u001b[0m\u001b[0mmat\u001b[0m\u001b[0;34m[\u001b[0m\u001b[0;36m0\u001b[0m\u001b[0;34m]\u001b[0m\u001b[0;34m,\u001b[0m \u001b[0mmat\u001b[0m\u001b[0;34m[\u001b[0m\u001b[0;36m1\u001b[0m\u001b[0;34m]\u001b[0m\u001b[0;34m)\u001b[0m\u001b[0;34m\u001b[0m\u001b[0m\n\u001b[0m\u001b[1;32m     14\u001b[0m \u001b[0;34m\u001b[0m\u001b[0m\n\u001b[1;32m     15\u001b[0m \u001b[0mplt\u001b[0m\u001b[0;34m.\u001b[0m\u001b[0mimshow\u001b[0m\u001b[0;34m(\u001b[0m\u001b[0mout\u001b[0m\u001b[0;34m)\u001b[0m\u001b[0;34m\u001b[0m\u001b[0m\n",
      "\u001b[0;32m<ipython-input-27-21fe69b9bb24>\u001b[0m in \u001b[0;36mcorr2_coeff\u001b[0;34m(A, B)\u001b[0m\n\u001b[1;32m      9\u001b[0m \u001b[0;34m\u001b[0m\u001b[0m\n\u001b[1;32m     10\u001b[0m     \u001b[0;31m# Finally get corr coeff\u001b[0m\u001b[0;34m\u001b[0m\u001b[0;34m\u001b[0m\u001b[0m\n\u001b[0;32m---> 11\u001b[0;31m     \u001b[0;32mreturn\u001b[0m \u001b[0mnp\u001b[0m\u001b[0;34m.\u001b[0m\u001b[0mdot\u001b[0m\u001b[0;34m(\u001b[0m\u001b[0mA_mA\u001b[0m\u001b[0;34m,\u001b[0m \u001b[0mB_mB\u001b[0m\u001b[0;34m.\u001b[0m\u001b[0mT\u001b[0m\u001b[0;34m)\u001b[0m \u001b[0;34m/\u001b[0m \u001b[0mnp\u001b[0m\u001b[0;34m.\u001b[0m\u001b[0msqrt\u001b[0m\u001b[0;34m(\u001b[0m\u001b[0mnp\u001b[0m\u001b[0;34m.\u001b[0m\u001b[0mdot\u001b[0m\u001b[0;34m(\u001b[0m\u001b[0mssA\u001b[0m\u001b[0;34m[\u001b[0m\u001b[0;34m:\u001b[0m\u001b[0;34m,\u001b[0m \u001b[0;32mNone\u001b[0m\u001b[0;34m]\u001b[0m\u001b[0;34m,\u001b[0m\u001b[0mssB\u001b[0m\u001b[0;34m[\u001b[0m\u001b[0;32mNone\u001b[0m\u001b[0;34m]\u001b[0m\u001b[0;34m)\u001b[0m\u001b[0;34m)\u001b[0m\u001b[0;34m\u001b[0m\u001b[0m\n\u001b[0m\u001b[1;32m     12\u001b[0m \u001b[0;34m\u001b[0m\u001b[0m\n\u001b[1;32m     13\u001b[0m \u001b[0mout\u001b[0m \u001b[0;34m=\u001b[0m \u001b[0mcorr2_coeff\u001b[0m\u001b[0;34m(\u001b[0m\u001b[0mmat\u001b[0m\u001b[0;34m[\u001b[0m\u001b[0;36m0\u001b[0m\u001b[0;34m]\u001b[0m\u001b[0;34m,\u001b[0m \u001b[0mmat\u001b[0m\u001b[0;34m[\u001b[0m\u001b[0;36m1\u001b[0m\u001b[0;34m]\u001b[0m\u001b[0;34m)\u001b[0m\u001b[0;34m\u001b[0m\u001b[0m\n",
      "\u001b[0;32m<__array_function__ internals>\u001b[0m in \u001b[0;36mdot\u001b[0;34m(*args, **kwargs)\u001b[0m\n",
      "\u001b[0;31mValueError\u001b[0m: shapes (1811,35) and (176,1807) not aligned: 35 (dim 1) != 176 (dim 0)"
     ]
    }
   ],
   "source": [
    "def corr2_coeff(A, B):\n",
    "    # Rowwise mean of input arrays & subtract from input arrays themeselves\n",
    "    A_mA = A - A.mean(1)[:, None]\n",
    "    B_mB = B - B.mean(1)[:, None]\n",
    "\n",
    "    # Sum of squares across rows\n",
    "    ssA = (A_mA**2).sum(1)\n",
    "    ssB = (B_mB**2).sum(1)\n",
    "\n",
    "    # Finally get corr coeff\n",
    "    return np.dot(A_mA, B_mB.T) / np.sqrt(np.dot(ssA[:, None],ssB[None]))\n",
    "\n",
    "out = corr2_coeff(mat[0], mat[1])\n",
    "\n",
    "plt.imshow(out)"
   ]
  },
  {
   "cell_type": "code",
   "execution_count": 35,
   "metadata": {},
   "outputs": [
    {
     "name": "stdout",
     "output_type": "stream",
     "text": [
      "['ENSG00000230549.3' 'ENSG00000205086.6' 'ENSG00000213934.7'\n",
      " 'ENSG00000176219.3' 'ENSG00000174236.3' 'ENSG00000214285.2'\n",
      " 'ENSG00000215545.1' 'ENSG00000269028.3' 'ENSG00000212899.2'\n",
      " 'ENSG00000180644.7']\n",
      "['ENSG00000188107' 'ENSG00000100604' 'ENSG00000257913' 'ENSG00000136267'\n",
      " 'ENSG00000229891' 'ENSG00000169213' 'ENSG00000255178' 'ENSG00000214140'\n",
      " 'ENSG00000188175' 'ENSG00000070729']\n"
     ]
    }
   ],
   "source": [
    "with loompy.connect(f_atac, 'r+') as dsa:\n",
    "    with loompy.connect(f_rna, 'r') as dsr:\n",
    "        print(dsa.ra.Accession[:10])\n",
    "        print(dsr.ra.Accession[:10])"
   ]
  }
 ],
 "metadata": {
  "kernelspec": {
   "display_name": "Chromograph (py3.7)",
   "language": "python",
   "name": "chromograph"
  },
  "language_info": {
   "codemirror_mode": {
    "name": "ipython",
    "version": 3
   },
   "file_extension": ".py",
   "mimetype": "text/x-python",
   "name": "python",
   "nbconvert_exporter": "python",
   "pygments_lexer": "ipython3",
   "version": "3.7.0"
  }
 },
 "nbformat": 4,
 "nbformat_minor": 4
}
