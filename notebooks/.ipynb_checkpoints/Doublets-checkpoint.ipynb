{
 "cells": [
  {
   "cell_type": "code",
   "execution_count": 1,
   "metadata": {},
   "outputs": [
    {
     "ename": "ModuleNotFoundError",
     "evalue": "No module named 'chromograph'",
     "output_type": "error",
     "traceback": [
      "\u001b[0;31m---------------------------------------------------------------------------\u001b[0m",
      "\u001b[0;31mModuleNotFoundError\u001b[0m                       Traceback (most recent call last)",
      "\u001b[0;32m<ipython-input-1-fd5d6bcdea20>\u001b[0m in \u001b[0;36m<module>\u001b[0;34m\u001b[0m\n\u001b[1;32m     23\u001b[0m \u001b[0;34m\u001b[0m\u001b[0m\n\u001b[1;32m     24\u001b[0m \u001b[0;34m\u001b[0m\u001b[0m\n\u001b[0;32m---> 25\u001b[0;31m \u001b[0;32mfrom\u001b[0m \u001b[0mchromograph\u001b[0m\u001b[0;34m.\u001b[0m\u001b[0mplotting\u001b[0m\u001b[0;34m.\u001b[0m\u001b[0mQC_plot\u001b[0m \u001b[0;32mimport\u001b[0m \u001b[0mQC_plot\u001b[0m\u001b[0;34m\u001b[0m\u001b[0;34m\u001b[0m\u001b[0m\n\u001b[0m\u001b[1;32m     26\u001b[0m \u001b[0;34m\u001b[0m\u001b[0m\n\u001b[1;32m     27\u001b[0m \u001b[0;32mfrom\u001b[0m \u001b[0mumap\u001b[0m \u001b[0;32mimport\u001b[0m \u001b[0mUMAP\u001b[0m\u001b[0;34m\u001b[0m\u001b[0;34m\u001b[0m\u001b[0m\n",
      "\u001b[0;31mModuleNotFoundError\u001b[0m: No module named 'chromograph'"
     ]
    }
   ],
   "source": [
    "import numpy as np\n",
    "import os\n",
    "import sys\n",
    "import collections\n",
    "import matplotlib.pyplot as plt\n",
    "import gzip\n",
    "import loompy\n",
    "import scipy.sparse as sparse\n",
    "import urllib.request\n",
    "import pybedtools\n",
    "import warnings\n",
    "from sklearn.neighbors import NearestNeighbors\n",
    "from matplotlib.collections import LineCollection\n",
    "\n",
    "import cytograph as cg\n",
    "from cytograph.decomposition import HPF\n",
    "from scipy.stats import poisson\n",
    "from cytograph.manifold import BalancedKNN\n",
    "from cytograph.metrics import jensen_shannon_distance\n",
    "# from cytograph.embedding import tsne\n",
    "from cytograph.clustering import PolishedLouvain, PolishedSurprise\n",
    "from cytograph.plotting import manifold\n",
    "\n",
    "\n",
    "from chromograph.plotting.QC_plot import QC_plot\n",
    "\n",
    "from umap import UMAP\n",
    "import sklearn.metrics\n",
    "from scipy.spatial import distance\n",
    "import community\n",
    "import networkx as nx\n",
    "from scipy import sparse\n",
    "from typing import *\n",
    "\n",
    "from sklearn.decomposition import IncrementalPCA"
   ]
  },
  {
   "cell_type": "code",
   "execution_count": null,
   "metadata": {},
   "outputs": [],
   "source": [
    "f = '/Users/camima/data/scATAC/"
   ]
  }
 ],
 "metadata": {
  "kernelspec": {
   "display_name": "Chromograph (py3.6)",
   "language": "python",
   "name": "chromograph"
  },
  "language_info": {
   "codemirror_mode": {
    "name": "ipython",
    "version": 3
   },
   "file_extension": ".py",
   "mimetype": "text/x-python",
   "name": "python",
   "nbconvert_exporter": "python",
   "pygments_lexer": "ipython3",
   "version": "3.6.9"
  }
 },
 "nbformat": 4,
 "nbformat_minor": 2
}
