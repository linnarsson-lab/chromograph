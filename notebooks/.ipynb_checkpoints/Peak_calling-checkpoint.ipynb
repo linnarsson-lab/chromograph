{
 "cells": [
  {
   "cell_type": "markdown",
   "metadata": {},
   "source": [
    "## Identify peaks per cluster"
   ]
  },
  {
   "cell_type": "code",
   "execution_count": 7,
   "metadata": {},
   "outputs": [],
   "source": [
    "import numpy as np\n",
    "import os\n",
    "import sys\n",
    "import logging\n",
    "import collections\n",
    "import matplotlib.pyplot as plt\n",
    "import gzip\n",
    "import glob\n",
    "import loompy\n",
    "import scipy.sparse as sparsourse\n",
    "import urllib.request\n",
    "import pybedtools\n",
    "from pybedtools import BedTool\n",
    "import MACS2\n",
    "\n",
    "import sklearn.metrics\n",
    "from scipy.spatial import distance\n",
    "import community\n",
    "import networkx as nx\n",
    "from scipy import sparse\n",
    "from typing import *\n",
    "\n",
    "sys.path.append('/home/camiel/chromograph/')\n",
    "from chromograph.peak_calling.utils import *\n",
    "\n",
    "## Parameters\n",
    "indir = '/data/proj/scATAC/chromograph/mouse_test2/'\n",
    "f = os.path.join(indir, '10X_test_10kb.loom')\n",
    "pf = os.path.join(indir, 'peaks')\n",
    "macs_path = '/home/camiel/anaconda3/envs/chromograph/bin/macs2'\n",
    "gf = None\n",
    "    \n",
    "logger = logging.getLogger()\n",
    "logger.setLevel(logging.INFO)\n",
    "\n",
    "if not os.path.isdir(pf):\n",
    "    os.mkdir(pf)"
   ]
  },
  {
   "cell_type": "code",
   "execution_count": 3,
   "metadata": {},
   "outputs": [
    {
     "name": "stdout",
     "output_type": "stream",
     "text": [
      "(271145, 4273)\n"
     ]
    }
   ],
   "source": [
    "ds = loompy.connect(f)\n",
    "print(ds.shape)\n",
    "\n",
    "if ds.attrs['reference_organism'] == 'Homo_sapiens':\n",
    "    g = 'hs'\n",
    "elif ds.attrs['reference_organism'] == 'Mus_musculus':\n",
    "    g = 'mm'"
   ]
  },
  {
   "cell_type": "code",
   "execution_count": 5,
   "metadata": {},
   "outputs": [],
   "source": [
    "ds.close()"
   ]
  },
  {
   "cell_type": "code",
   "execution_count": 5,
   "metadata": {},
   "outputs": [
    {
     "name": "stdout",
     "output_type": "stream",
     "text": [
      "7 7\n"
     ]
    },
    {
     "data": {
      "image/png": "[encoded data removed]",
      "text/plain": [
       "<Figure size 432x288 with 1 Axes>"
      ]
     },
     "metadata": {
      "needs_background": "light"
     },
     "output_type": "display_data"
    }
   ],
   "source": [
    "data = [ds.ca['passed_filters'][ds.ca['Clusters'] == x] for x in np.unique(ds.ca['Clusters'])]\n",
    "# data = [np.log10(ds.ca['passed_filters'][ds.ca['Clusters'] == x]) for x in np.unique(ds.ca['Clusters'])]\n",
    "print(len(data), len(np.unique(ds.ca['Clusters'])))\n",
    "plt.violinplot(data, positions=np.unique(ds.ca['Clusters']), showmeans=True);"
   ]
  },
  {
   "cell_type": "code",
   "execution_count": 6,
   "metadata": {},
   "outputs": [
    {
     "name": "stdout",
     "output_type": "stream",
     "text": [
      "13374967\n"
     ]
    }
   ],
   "source": [
    "# for clus in np.unique(ds.ca['Clusters']):\n",
    "#     cas = ds.ca['fragments'][ds.ca['Clusters'] == clus]\n",
    "#     frags = [strFrags_to_list(x) for x in cas]\n",
    "#     frags = [x for l in frags for x in l]\n",
    "#     logging.info(\"Total fragments in cluster {}:  {}\".format(clus, len(frags)))\n",
    "\n",
    "#     fbed = os.path.join(pf, \"fragments_cluster_{}.bed.gz\".format(clus))\n",
    "#     fpeaks = os.path.join(pf, \"cluster_{}\".format(clus))\n",
    "\n",
    "#     print(g, fpeaks)\n",
    "#     bed = BedTool(frags)\n",
    "#     bed.saveas(fbed)\n",
    "\n",
    "#     ## Call Peaks\n",
    "#     cmd = \"{} callpeak -t {} -f BEDPE -g {} --nomodel --shift 100 --ext 200 --qval 5e-2 -B --SPMR -n {}\".format(macs_path, fbed, g, fpeaks)\n",
    "#     os.system(cmd)\n",
    "\n",
    "#     logging.info('Called peaks for cluster {} out of {}'.format(clus, np.unique(ds.ca['Clusters'])))\n",
    "    \n",
    "#     ## We only need the narrowPeak file, so clean up the rest\n",
    "#     os.system(\"rm {}\".format(os.path.join(pf, 'cluster_' + str(clus) + '_peaks.xls'))\n",
    "#     os.system(\"rm {}\".format(os.path.join(pf, 'cluster_' + str(clus) + '_control_lambda.bdg'))\n",
    "#     os.system(\"rm {}\".format(os.path.join(pf, 'cluster_' + str(clus) + '_summits.bed'))"
   ]
  },
  {
   "cell_type": "code",
   "execution_count": null,
   "metadata": {},
   "outputs": [],
   "source": [
    "# clus = 0\n",
    "\n",
    "# cas = ds.ca['fragments'][ds.ca['Clusters'] == clus]\n",
    "# frags = [strFrags_to_list(x) for x in cas]\n",
    "# frags = [x for l in frags for x in l]\n",
    "# logging.info(\"Total fragments in cluster {}:  {}\".format(clus, len(frags)))\n",
    "\n",
    "# fbed = os.path.join(pf, \"fragments_cluster_{}.bed.gz\".format(clus))\n",
    "# fpeaks = os.path.join(pf, \"cluster_{}\".format(clus))\n",
    "\n",
    "# print(g, fpeaks)\n",
    "# bed = BedTool(frags)\n",
    "# bed.saveas(fbed)\n",
    "\n",
    "# ## Call Peaks\n",
    "# cmd = \"{} callpeak -t {} -f BEDPE -g {} --nomodel --shift 100 --ext 200 --qval 5e-2 -B --SPMR -n {}\".format(macs_path, fbed, g, fpeaks)\n",
    "# os.system(cmd)\n",
    "\n",
    "# ## We only need the narrowPeak file, so clean up the rest\n",
    "# os.system(\"rm {}\".format(os.path.join(pf, 'cluster_' + str(clus) + '_peaks.xls'))\n",
    "# os.system(\"rm {}\".format(os.path.join(pf, 'cluster_' + str(clus) + '_control_lambda.bdg'))\n",
    "# os.system(\"rm {}\".format(os.path.join(pf, 'cluster_' + str(clus) + '_summits.bed'))\n",
    "\n",
    "# peaks = BedTool(fpeaks + '_peaks.narrowPeak')\n",
    "# peaks[0]"
   ]
  },
  {
   "cell_type": "markdown",
   "metadata": {},
   "source": [
    "## Generate compound peak list and count peaks"
   ]
  },
  {
   "cell_type": "code",
   "execution_count": 40,
   "metadata": {},
   "outputs": [
    {
     "name": "stderr",
     "output_type": "stream",
     "text": [
      "INFO:root:Identified on average 61746 peaks per cluster\n"
     ]
    }
   ],
   "source": [
    "## Get all the narrowPeak files\n",
    "\n",
    "peaks = [BedTool(x) for x in glob.glob(os.path.join(pf, '*.narrowPeak'))]\n",
    "logging.info('Identified on average {} peaks per cluster'.format(np.int(np.mean([len(x) for x in peaks]))))\n",
    "peaks_all = peaks[0].cat(*peaks[1:])\n",
    "logging.info('Identified {} peaks after compounding list'.format(len(peaks_all)))"
   ]
  },
  {
   "cell_type": "code",
   "execution_count": 1,
   "metadata": {},
   "outputs": [],
   "source": [
    "## Annotate peaks\n",
    "\n",
    "## Import GENCODE\n",
    "\n",
    "## Overlap peaks with GENCODE elements\n",
    "\n",
    "## Calls peaks for every cell"
   ]
  },
  {
   "cell_type": "code",
   "execution_count": 47,
   "metadata": {},
   "outputs": [
    {
     "data": {
      "text/plain": [
       "'GCA_000001635.5'"
      ]
     },
     "execution_count": 47,
     "metadata": {},
     "output_type": "execute_result"
    }
   ],
   "source": [
    "ds.attrs['reference_assembly_accession']"
   ]
  },
  {
   "cell_type": "code",
   "execution_count": 43,
   "metadata": {},
   "outputs": [
    {
     "data": {
      "text/plain": [
       "['CreationDate',\n",
       " 'LOOM_SPEC_VERSION',\n",
       " 'annotated_cells',\n",
       " 'available_gb',\n",
       " 'bases_in_peaks',\n",
       " 'bc_q30_bases',\n",
       " 'bc_q30_bases_fract',\n",
       " 'bc_tot_bases',\n",
       " 'bin_size',\n",
       " 'bulk_estimated_saturation',\n",
       " 'bulk_total_library_complexity',\n",
       " 'bulk_unique_fragments_at_30000000_reads',\n",
       " 'cell_threshold',\n",
       " 'cellranger-atac_version',\n",
       " 'cells_detected',\n",
       " 'ctcf_enrichment_score',\n",
       " 'downsample_succeeded',\n",
       " 'estimated_cells_present',\n",
       " 'estimated_fraction_cells_annotated',\n",
       " 'fitted_dispersion_noise',\n",
       " 'fitted_dispersion_signal',\n",
       " 'fitted_mean_noise',\n",
       " 'fitted_mean_signal',\n",
       " 'frac_cut_fragments_in_peaks',\n",
       " 'frac_fragments_nfr',\n",
       " 'frac_fragments_nfr_or_nuc',\n",
       " 'frac_fragments_nuc',\n",
       " 'frac_fragments_overlapping_blacklist',\n",
       " 'frac_fragments_overlapping_dnase',\n",
       " 'frac_fragments_overlapping_enhancer',\n",
       " 'frac_fragments_overlapping_peaks',\n",
       " 'frac_fragments_overlapping_promoter',\n",
       " 'frac_fragments_overlapping_targets',\n",
       " 'frac_fragments_overlapping_tss',\n",
       " 'frac_mapped_confidently',\n",
       " 'frac_valid_barcode',\n",
       " 'frac_valid_noncell',\n",
       " 'frac_waste_cell_nondup',\n",
       " 'frac_waste_chimeric',\n",
       " 'frac_waste_duplicate',\n",
       " 'frac_waste_lowmapq',\n",
       " 'frac_waste_mitochondrial',\n",
       " 'frac_waste_no_barcode',\n",
       " 'frac_waste_non_cell_barcode',\n",
       " 'frac_waste_overall_nondup',\n",
       " 'frac_waste_total',\n",
       " 'frac_waste_unmapped',\n",
       " 'fraction_cell_calling_noise',\n",
       " 'fraction_of_genome_within_2000bp_of_peaks',\n",
       " 'goodness_of_fit',\n",
       " 'insert_nucleosome_period',\n",
       " 'insert_twist_period',\n",
       " 'mean_fragments_per_cell',\n",
       " 'mean_fragments_per_noncell',\n",
       " 'median_fragments_per_cell',\n",
       " 'median_fragments_per_noncell',\n",
       " 'median_per_cell_estimated_saturation',\n",
       " 'median_per_cell_total_library_complexity',\n",
       " 'median_per_cell_unique_fragments_at_10000_HQ_RPC',\n",
       " 'median_per_cell_unique_fragments_at_10000_RRPC',\n",
       " 'median_per_cell_unique_fragments_at_30000_HQ_RPC',\n",
       " 'median_per_cell_unique_fragments_at_30000_RRPC',\n",
       " 'median_per_cell_unique_fragments_at_50000_HQ_RPC',\n",
       " 'median_per_cell_unique_fragments_at_50000_RRPC',\n",
       " 'min_fragments_per_cell',\n",
       " 'num_fragments',\n",
       " 'num_reads',\n",
       " 'number_of_low_targeting_barcodes',\n",
       " 'peakcaller_alpha_bg_noise',\n",
       " 'peakcaller_frac_bg_noise',\n",
       " 'peakcaller_frac_zero_noise',\n",
       " 'peakcaller_mean_bg_noise',\n",
       " 'peakcaller_p_signal',\n",
       " 'peakcaller_p_zero_noise',\n",
       " 'peakcaller_threshold',\n",
       " 'post_downsample_gb',\n",
       " 'r1_q30_bases',\n",
       " 'r1_q30_bases_fract',\n",
       " 'r1_tot_bases',\n",
       " 'r2_q30_bases',\n",
       " 'r2_q30_bases_fract',\n",
       " 'r2_tot_bases',\n",
       " 'radius',\n",
       " 'reference_annotation',\n",
       " 'reference_annotation_gtf_url',\n",
       " 'reference_assembly',\n",
       " 'reference_assembly_accession',\n",
       " 'reference_assembly_fasta_url',\n",
       " 'reference_organism',\n",
       " 'reference_version',\n",
       " 'requested_gb',\n",
       " 'requested_rate',\n",
       " 'si_q30_bases',\n",
       " 'si_q30_bases_fract',\n",
       " 'si_tot_bases',\n",
       " 'stdev_fragments_per_cell',\n",
       " 'total_passed_filter_fragments',\n",
       " 'total_peaks_detected',\n",
       " 'total_usable_fragments',\n",
       " 'tss_enrichment_score',\n",
       " 'waste_cell_dup_fragments',\n",
       " 'waste_cell_lowmapq_fragments',\n",
       " 'waste_cell_mito_fragments',\n",
       " 'waste_cell_unmapped_fragments',\n",
       " 'waste_chimeric_fragments',\n",
       " 'waste_duplicate_fragments',\n",
       " 'waste_lowmapq_fragments',\n",
       " 'waste_mitochondrial_fragments',\n",
       " 'waste_no_barcode_fragments',\n",
       " 'waste_non_cell_barcode_fragments',\n",
       " 'waste_ratio_dup_cells',\n",
       " 'waste_ratio_dup_noncells',\n",
       " 'waste_ratio_lowmapq_cells',\n",
       " 'waste_ratio_lowmapq_noncells',\n",
       " 'waste_ratio_mito_cells',\n",
       " 'waste_ratio_mito_noncells',\n",
       " 'waste_ratio_unmapped_cells',\n",
       " 'waste_ratio_unmapped_noncells',\n",
       " 'waste_total_fragments',\n",
       " 'waste_unmapped_fragments']"
      ]
     },
     "execution_count": 43,
     "metadata": {},
     "output_type": "execute_result"
    }
   ],
   "source": [
    "ds.attrs.keys()"
   ]
  },
  {
   "cell_type": "markdown",
   "metadata": {},
   "source": [
    "## Find Differentially accessible regions for the identified clusters"
   ]
  },
  {
   "cell_type": "code",
   "execution_count": null,
   "metadata": {},
   "outputs": [],
   "source": []
  },
  {
   "cell_type": "code",
   "execution_count": null,
   "metadata": {},
   "outputs": [],
   "source": []
  },
  {
   "cell_type": "code",
   "execution_count": 26,
   "metadata": {},
   "outputs": [
    {
     "name": "stderr",
     "output_type": "stream",
     "text": [
      "INFO:root:url: https://www.encodeproject.org/files/gencode.vM4.annotation/@@download/gencode.vM4.annotation.gtf.gz\n",
      "INFO:root:downloaded: tmp/GENCODE_vM4.gtf.gz\n"
     ]
    },
    {
     "data": {
      "text/plain": [
       "Interval(chr1:3073252-3074322)"
      ]
     },
     "execution_count": 26,
     "metadata": {},
     "output_type": "execute_result"
    }
   ],
   "source": [
    "## Get GENCODE annotion\n",
    "gf = None\n",
    "\n",
    "def download_GENCODE(ref: str):\n",
    "    '''\n",
    "    '''\n",
    "\n",
    "    if ref == 'GRCh38':\n",
    "        url = 'ftp://ftp.ebi.ac.uk/pub/databases/gencode/Gencode_human/release_32/gencode.v32.annotation.gtf.gz'\n",
    "        logging.info(\"url: {}\".format(url))\n",
    "        ver = 'v32'\n",
    "    elif ref == 'hg19':\n",
    "        url = 'https://www.encodeproject.org/files/gencode.v19.annotation/@@download/gencode.v19.annotation.gtf.gz'        \n",
    "        logging.info(\"url: {}\".format(url))\n",
    "        ver = 'v19'\n",
    "    elif ref == 'mm10':\n",
    "        url = 'https://www.encodeproject.org/files/gencode.vM4.annotation/@@download/gencode.vM4.annotation.gtf.gz'\n",
    "        logging.info(\"url: {}\".format(url))\n",
    "        ver = 'vM4'\n",
    "    else:\n",
    "        logging.info(\"Genome not recognised\")\n",
    "        return\n",
    "    \n",
    "    tmp = urllib.request.urlopen(url)\n",
    "    datatowrite = tmp.read()\n",
    "\n",
    "    if not os.path.isdir('./tmp'):\n",
    "        os.mkdir('tmp')\n",
    "\n",
    "    file = 'tmp/GENCODE_{}.gtf.gz'.format(ver)\n",
    "        \n",
    "    with open(file, 'wb') as f:\n",
    "        f.write(datatowrite)\n",
    "\n",
    "    return file;\n",
    "\n",
    "if gf == None:\n",
    "    gf = download_GENCODE(ds.attrs['reference_assembly'])\n",
    "    logging.info(\"downloaded: {}\".format(gf))\n",
    "    \n",
    "GENCODE = BedTool(gf)\n",
    "GENCODE[0]"
   ]
  }
 ],
 "metadata": {
  "kernelspec": {
   "display_name": "Chromograph (py3.7)",
   "language": "python",
   "name": "chromograph"
  },
  "language_info": {
   "codemirror_mode": {
    "name": "ipython",
    "version": 3
   },
   "file_extension": ".py",
   "mimetype": "text/x-python",
   "name": "python",
   "nbconvert_exporter": "python",
   "pygments_lexer": "ipython3",
   "version": "3.7.4"
  }
 },
 "nbformat": 4,
 "nbformat_minor": 4
}
