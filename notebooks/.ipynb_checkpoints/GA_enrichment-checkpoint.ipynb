{
 "cells": [
  {
   "cell_type": "code",
   "execution_count": 105,
   "metadata": {},
   "outputs": [],
   "source": [
    "#Imports\n",
    "import numpy as np\n",
    "import os\n",
    "import sys\n",
    "import collections\n",
    "import matplotlib.pyplot as plt\n",
    "import loompy\n",
    "\n",
    "sys.path.append('/home/camiel/chromograph/')\n",
    "import chromograph\n",
    "from chromograph.peak_calling.utils import *\n",
    "from chromograph.pipeline.utils import *\n",
    "from chromograph.plotting.marker_plot import marker_plot\n",
    "\n",
    "import loompy\n",
    "from cytograph.species import Species\n",
    "from cytograph.annotation import AutoAnnotator, AutoAutoAnnotator\n",
    "from cytograph.enrichment import FeatureSelectionByMultilevelEnrichment, Trinarizer\n",
    "from cytograph.manifold import GraphSkeletonizer\n",
    "from typing import *\n",
    "\n",
    "import scipy.cluster.hierarchy as hc\n",
    "from scipy.spatial.distance import pdist\n",
    "\n",
    "import logging\n",
    "logger = logging.getLogger()\n",
    "logging.basicConfig(\n",
    "    format='%(asctime)s %(levelname)-8s %(message)s',\n",
    "    level=logging.INFO,\n",
    "    datefmt='%H:%M:%S')"
   ]
  },
  {
   "cell_type": "code",
   "execution_count": 138,
   "metadata": {},
   "outputs": [],
   "source": [
    "class GA_Aggregator:\n",
    "    def __init__(self, *, f: Union[float, List[float]] = 0.5) -> None:\n",
    "        self.f = f\n",
    "        self.config = load_config() # Generic config, just to get the paths\n",
    "\n",
    "    def fit(self, ds: loompy.LoomConnection, *, out_file: str, agg_spec: Dict[str, str] = None) -> None:\n",
    "        '''\n",
    "        Aggregate the Gene-Accessibility signal, find markers and call the auto-annotater\n",
    "        \n",
    "        Args:\n",
    "            ds\n",
    "        '''\n",
    "        if agg_spec is None:\n",
    "            agg_spec = {\n",
    "                \"Age\": \"tally\",\n",
    "                \"Clusters\": \"first\",\n",
    "                \"Class\": \"mode\",\n",
    "                \"Total\": \"mean\",\n",
    "                \"Sex\": \"tally\",\n",
    "                \"Tissue\": \"tally\",\n",
    "                \"SampleID\": \"tally\",\n",
    "                \"TissuePool\": \"first\",\n",
    "                \"Outliers\": \"mean\",\n",
    "                \"PCW\": \"mean\"\n",
    "            }\n",
    "        cells = ds.col_attrs[\"Clusters\"] >= 0\n",
    "        labels = ds.col_attrs[\"Clusters\"][cells]\n",
    "        n_labels = len(set(labels))\n",
    "\n",
    "        logging.info(\"Aggregating clusters\")\n",
    "        ds.aggregate(out_file, None, \"Clusters\", \"mean\", agg_spec)\n",
    "        with loompy.connect(out_file) as dsout:\n",
    "\n",
    "            if n_labels <= 1:\n",
    "                return\n",
    "\n",
    "            logging.info(\"Computing cluster gene enrichment scores\")\n",
    "            self.mask = Species.detect(ds).mask(dsout, (\"cellcycle\", \"sex\", \"ieg\", \"mt\"))\n",
    "            fe = FeatureSelectionByMultilevelEnrichment(mask=self.mask)\n",
    "            markers = fe.fit(ds)\n",
    "            dsout.layers[\"enrichment\"] = fe.enrichment\n",
    "\n",
    "            dsout.ca.NCells = np.bincount(labels, minlength=n_labels)\n",
    "\n",
    "            # Renumber the clusters\n",
    "            logging.info(\"Renumbering clusters by similarity, and permuting columns\")\n",
    "\n",
    "            data = np.log(dsout[:, :] + 1)[markers, :].T\n",
    "            D = pdist(data, 'correlation')\n",
    "            Z = hc.linkage(D, 'ward', optimal_ordering=True)\n",
    "            ordering = hc.leaves_list(Z)\n",
    "\n",
    "            # Permute the aggregated file, and renumber\n",
    "            dsout.permute(ordering, axis=1)\n",
    "            dsout.ca.Clusters = np.arange(n_labels)\n",
    "\n",
    "            # Redo the Ward's linkage just to get a tree that corresponds with the new ordering\n",
    "            data = np.log(dsout[:, :] + 1)[markers, :].T\n",
    "            D = pdist(data, 'correlation')\n",
    "            dsout.attrs.linkage = hc.linkage(D, 'ward', optimal_ordering=True)\n",
    "\n",
    "            # Renumber the original file, and permute\n",
    "            d = dict(zip(ordering, np.arange(n_labels)))\n",
    "            new_clusters = np.array([d[x] if x in d else -1 for x in ds.ca.Clusters])\n",
    "            ds.ca.Clusters = new_clusters\n",
    "            ds.permute(np.argsort(ds.col_attrs[\"Clusters\"]), axis=1)\n",
    "\n",
    "            # Reorder the genes, markers first, ordered by enrichment in clusters\n",
    "            logging.info(\"Permuting rows\")\n",
    "            mask = np.zeros(ds.shape[0], dtype=bool)\n",
    "            mask[markers] = True\n",
    "            # fetch enrichment from the aggregated file, so we get it already permuted on the column axis\n",
    "            gene_order = np.zeros(ds.shape[0], dtype='int')\n",
    "            gene_order[mask] = np.argmax(dsout.layer[\"enrichment\"][mask, :], axis=1)\n",
    "            gene_order[~mask] = np.argmax(dsout.layer[\"enrichment\"][~mask, :], axis=1) + dsout.shape[1]\n",
    "            gene_order = np.argsort(gene_order)\n",
    "            ds.permute(gene_order, axis=0)\n",
    "            dsout.permute(gene_order, axis=0)\n",
    "\n",
    "            if n_labels > 300:\n",
    "                dsout.ca.MarkerGenes = np.empty(n_labels, dtype='str')\n",
    "                dsout.ca.AutoAnnotation = np.empty(n_labels, dtype='str')\n",
    "                return\n",
    "\n",
    "            logging.info(\"Trinarizing\")\n",
    "            if type(self.f) is list or type(self.f) is tuple:\n",
    "                for ix, f in enumerate(self.f):  # type: ignore\n",
    "                    trinaries = Trinarizer(f=f).fit(ds)\n",
    "                    if ix == 0:\n",
    "                        dsout.layers[\"trinaries\"] = trinaries\n",
    "                    else:\n",
    "                        dsout.layers[f\"trinaries_{f}\"] = trinaries\n",
    "            else:\n",
    "                trinaries = Trinarizer(f=self.f).fit(ds)  # type:ignore\n",
    "                dsout.layers[\"trinaries\"] = trinaries\n",
    "\n",
    "            logging.info(\"Computing auto-annotation\")\n",
    "            AutoAnnotator(root=config.paths.autoannotation, ds=dsout).annotate(dsout)\n",
    "\n",
    "            logging.info(\"Computing auto-auto-annotation\")\n",
    "            AutoAutoAnnotator(n_genes=6).annotate(dsout)\n",
    "\n",
    "            if \"skeletonize\" in config.steps:\n",
    "                logging.info(\"Graph skeletonization\")\n",
    "                GraphSkeletonizer(min_pct=1).abstract(ds, dsout)"
   ]
  },
  {
   "cell_type": "code",
   "execution_count": 173,
   "metadata": {},
   "outputs": [
    {
     "name": "stdout",
     "output_type": "stream",
     "text": [
      "0\n",
      "['10X250_2:GCTGAGCTCAGGCGCT-1' '10X250_2:AAATGCCCACCTGGTG-1'\n",
      " '10X250_1:ATGGATCCAAGTCTGT-1' '10X250_2:TACATGGCAGCCACGT-1'\n",
      " '10X250_1:TGTACAGCAAATTCCG-1']\n",
      "['10X250_2:GCTGAGCTCAGGCGCT-1' '10X250_2:AAATGCCCACCTGGTG-1'\n",
      " '10X250_1:ATGGATCCAAGTCTGT-1' '10X250_2:TACATGGCAGCCACGT-1'\n",
      " '10X250_1:TGTACAGCAAATTCCG-1']\n"
     ]
    }
   ],
   "source": [
    "fdir = '/data/proj/scATAC/chromograph/build_20200426/Cerebellum'\n",
    "GAfile = os.path.join(fdir, 'Cerebellum_GA.loom')\n",
    "binfile = os.path.join(fdir, 'Cerebellum.loom')\n",
    "\n",
    "with loompy.connect(GAfile, 'r') as ds:\n",
    "    with loompy.connect(binfile, 'r') as ds2:\n",
    "        match = {k:v for v, k in enumerate(ds.ca.CellID)}\n",
    "        new_index = np.array([match[x] for x in ds2.ca.CellID]).argsort()\n"
   ]
  },
  {
   "cell_type": "code",
   "execution_count": 143,
   "metadata": {},
   "outputs": [],
   "source": [
    "fdir = '/data/proj/scATAC/chromograph/build_20200426/All'\n",
    "file = os.path.join(fdir, 'All_GA.loom')\n",
    "out_file = os.path.join(fdir, 'All_GA.agg.loom')\n",
    "\n",
    "agg_spec = {\n",
    "    \"Age\": \"tally\",\n",
    "    \"Clusters\": \"first\",\n",
    "    \"Class\": \"mode\",\n",
    "    \"Total\": \"mean\",\n",
    "    \"Sex\": \"tally\",\n",
    "    \"Tissue\": \"tally\",\n",
    "    \"SampleID\": \"tally\",\n",
    "    \"TissuePool\": \"first\",\n",
    "    \"Outliers\": \"mean\",\n",
    "    \"PCW\": \"mean\"\n",
    "}"
   ]
  },
  {
   "cell_type": "code",
   "execution_count": 139,
   "metadata": {},
   "outputs": [
    {
     "name": "stderr",
     "output_type": "stream",
     "text": [
      "13:00:14 INFO     Aggregating clusters\n",
      "13:01:06 INFO     No NaN or INF: True\n",
      "13:04:57 INFO     Computing cluster gene enrichment scores\n",
      "13:04:58 INFO     Multilevel marker selection with 97 clusters at the leaf level\n",
      "13:04:58 INFO     Analyzing 4 higher levels with [25, 10, 5, 2] clusters\n",
      "13:04:58 INFO     Computing enrichment statistic\n",
      "13:14:51 INFO     Identifying valid genes\n",
      "13:15:48 INFO     Found 970 marker genes at level 0 (leaves)\n",
      "13:15:48 INFO     Computing enrichment statistic\n",
      "13:25:26 INFO     Found 250 marker genes at level 1\n",
      "13:25:26 INFO     Computing enrichment statistic\n",
      "13:35:04 INFO     Found 100 marker genes at level 2\n",
      "13:35:04 INFO     Computing enrichment statistic\n",
      "13:44:32 INFO     Found 50 marker genes at level 3\n",
      "13:44:32 INFO     Computing enrichment statistic\n",
      "13:53:44 INFO     Found 20 marker genes at level 4\n",
      "13:53:44 INFO     Renumbering clusters by similarity, and permuting columns\n",
      "14:13:01 INFO     Permuting rows\n"
     ]
    }
   ],
   "source": [
    "with loompy.connect(file) as ds:\n",
    "    cells = ds.col_attrs[\"Clusters\"] >= 0\n",
    "    labels = ds.col_attrs[\"Clusters\"][cells]\n",
    "    n_labels = len(set(labels))\n",
    "\n",
    "    logging.info(\"Aggregating clusters\")\n",
    "    logging.info(f'No NaN or INF: {np.isfinite(ds[\"\"][:,:]).all()}')\n",
    "    ds.aggregate(out_file, None, \"Clusters\", \"mean\", agg_spec)\n",
    "    \n",
    "    with loompy.connect(out_file) as dsout:\n",
    "#          if n_labels <= 1:\n",
    "#             return\n",
    "        logging.info(\"Computing cluster gene enrichment scores\")\n",
    "        \n",
    "        mask = Species.detect(ds).mask(dsout, (\"cellcycle\", \"sex\", \"ieg\", \"mt\"))\n",
    "        fe = FeatureSelectionByMultilevelEnrichment(mask=mask)\n",
    "        markers = fe.fit(ds)\n",
    "        dsout.layers[\"enrichment\"] = fe.enrichment\n",
    "        dsout.ca.NCells = np.bincount(labels, minlength=n_labels)\n",
    "\n",
    "        # Renumber the clusters\n",
    "        logging.info(\"Renumbering clusters by similarity, and permuting columns\")\n",
    "\n",
    "        data = np.log(dsout[:, :] + 1)[markers, :].T\n",
    "        D = pdist(data, 'correlation')\n",
    "        Z = hc.linkage(D, 'ward', optimal_ordering=True)\n",
    "        ordering = hc.leaves_list(Z)\n",
    "\n",
    "        # Permute the aggregated file, and renumber\n",
    "        dsout.permute(ordering, axis=1)\n",
    "        dsout.ca.Clusters = np.arange(n_labels)\n",
    "\n",
    "        # Redo the Ward's linkage just to get a tree that corresponds with the new ordering\n",
    "        data = np.log(dsout[:, :] + 1)[markers, :].T\n",
    "        D = pdist(data, 'correlation')\n",
    "        dsout.attrs.linkage = hc.linkage(D, 'ward', optimal_ordering=True)\n",
    "\n",
    "        # Renumber the original file, and permute\n",
    "        d = dict(zip(ordering, np.arange(n_labels)))\n",
    "        new_clusters = np.array([d[x] if x in d else -1 for x in ds.ca.Clusters])\n",
    "        ds.ca.Clusters = new_clusters\n",
    "        ds.permute(np.argsort(ds.col_attrs[\"Clusters\"]), axis=1)\n",
    "\n",
    "        # Reorder the genes, markers first, ordered by enrichment in clusters\n",
    "        logging.info(\"Permuting rows\")\n",
    "        mask = np.zeros(ds.shape[0], dtype=bool)\n",
    "        mask[markers] = True\n",
    "        # fetch enrichment from the aggregated file, so we get it already permuted on the column axis\n",
    "        gene_order = np.zeros(ds.shape[0], dtype='int')\n",
    "        gene_order[mask] = np.argmax(dsout.layer[\"enrichment\"][mask, :], axis=1)\n",
    "        gene_order[~mask] = np.argmax(dsout.layer[\"enrichment\"][~mask, :], axis=1) + dsout.shape[1]\n",
    "        gene_order = np.argsort(gene_order)\n",
    "        ds.permute(gene_order, axis=0)\n",
    "        dsout.permute(gene_order, axis=0)\n",
    "\n",
    "        if n_labels > 300:\n",
    "            dsout.ca.MarkerGenes = np.empty(n_labels, dtype='str')\n",
    "            dsout.ca.AutoAnnotation = np.empty(n_labels, dtype='str')"
   ]
  },
  {
   "cell_type": "code",
   "execution_count": null,
   "metadata": {},
   "outputs": [],
   "source": [
    "temp_f = [0.65]\n",
    "\n",
    "with loompy.connect(file) as ds:\n",
    "    cells = ds.col_attrs[\"Clusters\"] >= 0\n",
    "    labels = ds.col_attrs[\"Clusters\"][cells]\n",
    "    n_labels = len(set(labels))\n",
    "\n",
    "    with loompy.connect(out_file) as dsout:\n",
    "        \n",
    "        logging.info(\"Trinarizing\")\n",
    "        if type(temp_f) is list or type(temp_f) is tuple:\n",
    "            for ix, f in enumerate(temp_f):  # type: ignore\n",
    "                logging.info(f'Using f {f}')\n",
    "                trinaries = Trinarizer(f=f).fit(ds)\n",
    "                if ix == 0:\n",
    "                    dsout.layers[\"trinaries\"] = trinaries\n",
    "                else:\n",
    "                    dsout.layers[f\"trinaries_{f}\"] = trinaries\n",
    "        else:\n",
    "            trinaries = Trinarizer(f=self.f).fit(ds)  # type:ignore\n",
    "            dsout.layers[\"trinaries\"] = trinaries\n",
    "\n",
    "        logging.info(\"Computing auto-annotation\")\n",
    "        AutoAnnotator(root=\"/home/camiel/auto-annotation/Human\", ds=dsout).annotate(dsout)\n",
    "\n",
    "        logging.info(\"Computing auto-auto-annotation\")\n",
    "        AutoAutoAnnotator(n_genes=6).annotate(dsout)\n",
    "\n",
    "        print(dsout.ca.AutoAnnotation)\n",
    "#         if \"skeletonize\" in config.steps:\n",
    "#             logging.info(\"Graph skeletonization\")\n",
    "#             GraphSkeletonizer(min_pct=1).abstract(ds, dsout)\n",
    "\n",
    "#         logging.info(\"Graph skeletonization\")\n",
    "#         GraphSkeletonizer(min_pct=1).abstract(ds, dsout)"
   ]
  },
  {
   "cell_type": "code",
   "execution_count": 183,
   "metadata": {},
   "outputs": [
    {
     "name": "stdout",
     "output_type": "stream",
     "text": [
      "['', 'enrichment', 'trinaries', 'trinaries_0.2', 'trinaries_0.35', 'trinaries_0.5', 'trinaries_0.65', 'trinaries_0.8']\n",
      "['P-PALL P-PALL-M' 'NBL P-PALL P-PALL-M P-VLGE'\n",
      " 'P-FP1 P-PALL P-PALL-M P-VLGE' 'P-FP1 P-PALL P-PALL-M P-VLGE' 'P-FP1'\n",
      " 'P-FP1' 'P-FP1' 'P-FP1' 'NBL P-FP1 P-PALL P-PALL-M P-VLGE'\n",
      " 'E-SCHWL M-PER NP-TRH P-FP1 P-PALL P-PALL-M' 'P-FP1 P-PALL P-PALL-M' ''\n",
      " 'M-PER P-FP1' 'P-FP1' '' '' 'P-FP1' '' 'P-FP1' '' '' '' '' '' 'P-FP1' ''\n",
      " '' '' 'NBL P-PALL P-PALL-M' 'NBL P-PALL P-PALL-M'\n",
      " 'NBL NP-TRH P-PALL P-PALL-M P-VLGE'\n",
      " 'E-SCHWL NBL NP-POMC NP-TRH P-FPL P-PALL P-PALL-M P-VLGE'\n",
      " 'P-FP1 P-PALL P-PALL-M' 'P-FP1' '' 'P-PALL' '' 'NT-GABA P-PALL P-PALL-M'\n",
      " 'NT-GLY NT-VGLUT1 P-PALL P-PALL-M' ''\n",
      " 'NEUR NT-GLY NT-VGLUT1 P-PALL P-PALL-M' 'NEUR NT-GABA' ''\n",
      " 'P-PALL P-PALL-M' 'NBL NT-GLY NT-VGLUT1 NT-VGLUT2 P-PALL P-PALL-M S-CC'\n",
      " 'NBL NT-GLY NT-VGLUT1 NT-VGLUT2 P-DLGE P-PALL P-PALL-M S-CC' 'NT-VGLUT2'\n",
      " '' '' 'NT-VGLUT1 NT-VGLUT2 NT-VGLUT3'\n",
      " 'E-SCHWL NBL NP-TRH NT-GLY NT-NOR NT-VGLUT1 NT-VGLUT2 P-PALL P-PALL-M S-CC S-G1S TH-RETN'\n",
      " 'E-SCHWL NP-TRH NT-GLY NT-VGLUT1 NT-VGLUT2 P-PALL S-CC S-G1S'\n",
      " 'M-VLMC NP-HCRT NP-TRH NT-GLY NT-VGLUT1 P-DLGE P-PALL P-PALL-M S-CC S-G1S'\n",
      " 'E-SCHWL M-VLMC NP-AVP NP-POMC NP-TRH NT-ADR NT-DA NT-GLY NT-NOR NT-VGLUT1 O-COP P-DLGE P-PALL P-PALL-M S-CC S-G1S S-G2M TH-RETN'\n",
      " 'E-SCHWL NBL NP-HCRT NP-POMC NP-TRH NT-GLY NT-VGLUT1 NT-VGLUT2 O-COP P-DLGE P-MGE-PO P-PALL P-PALL-M S-CC S-G1S S-G2M TH-RETN'\n",
      " 'E-SCHWL NP-AVP NP-HCRT NP-POMC NP-TRH NT-ADR NT-DA NT-GLY NT-NOR NT-VGLUT1 NT-VGLUT2 O-COP P-DLGE P-MGE-PO P-PALL P-PALL-M S-CC S-G1S S-G2M TH-RETN'\n",
      " 'E-SCHWL NP-TRH NT-DA NT-GLY NT-NOR NT-VGLUT1 NT-VGLUT2 P-DLGE P-PALL P-PALL-M S-CC S-G1S TH-RETN'\n",
      " 'E-SCHWL M-VLMC NBL NP-HCRT NP-POMC NP-TRH NT-GLY NT-VGLUT1 NT-VGLUT2 O-COP P-DLGE P-PALL P-PALL-M S-CC S-G1S S-G2M TH-RETN'\n",
      " 'E-SCHWL NBL NP-POMC NP-TRH NT-ADR NT-DA NT-GLY NT-NOR NT-VGLUT1 NT-VGLUT2 O-COP P-DLGE P-MGE-PO P-PALL P-PALL-M S-CC S-G1S S-G2M TH-RETN'\n",
      " 'E-SCHWL NBL NP-POMC NP-TRH NT-GLY NT-NOR NT-VGLUT1 NT-VGLUT2 P-DLGE P-PALL P-PALL-M S-CC S-G1S TH-RETN'\n",
      " 'NT-VGLUT2' 'NT-VGLUT2'\n",
      " 'E-SCHWL M-VLMC NP-AVP NP-HCRT NP-POMC NP-TRH NT-ADR NT-DA NT-GLY NT-NOR NT-VGLUT1 NT-VGLUT2 O-COP P-DLGE P-MGE-PO P-PALL P-PALL-M S-CC S-G1S S-G2M TH-RETN'\n",
      " 'NT-VGLUT2' '' ''\n",
      " 'E-SCHWL NBL NP-HCRT NP-POMC NP-TRH NT-GLY NT-VGLUT1 NT-VGLUT2 O-COP P-DLGE P-PALL P-PALL-M S-CC S-G1S S-G2M TH-RETN'\n",
      " 'E-SCHWL M-VLMC NBL NP-HCRT NP-POMC NP-TRH NT-ADR NT-DA NT-GLY NT-NOR NT-VGLUT1 NT-VGLUT2 O-COP P-DLGE P-MGE-PO P-PALL P-PALL-M S-CC S-G1S S-G2M TH-RETN'\n",
      " 'NT-VGLUT1 P-DLGE P-PALL P-PALL-M S-CC S-G1S TH-RETN'\n",
      " 'E-SCHWL M-VLMC NP-HCRT NP-POMC NP-TRH NT-VGLUT1 O-COP P-DLGE P-MGE-PO P-PALL P-PALL-M S-CC S-G1S S-G2M TH-RETN'\n",
      " 'M-VLMC NP-POMC NP-TRH NT-VGLUT1 O-COP P-DLGE P-HYP P-MGE-PO P-PALL P-PALL-M RGL S-CC S-G1S S-G2M TH-RETN'\n",
      " 'E-SCHWL M-VLMC NP-HCRT NP-POMC NP-TRH NT-GABA NT-VGLUT1 O-COP P-DLGE P-MGE-PO P-PALL P-PALL-M RGL S-CC S-G1S S-G2M TH-RETN'\n",
      " 'E-SCHWL M-VLMC NP-POMC NP-TRH NT-GLY NT-VGLUT1 O-COP P-DLGE P-MGE-PO P-PALL P-PALL-M S-CC S-G1S S-G2M TH-RETN'\n",
      " 'E-SCHWL M-PER M-VLMC NP-HCRT NP-POMC NP-TRH NT-ADR NT-DA NT-GLY NT-NOR NT-VGLUT1 O-COP P-DLGE P-HYP P-MGE-PO P-PALL P-PALL-M RGL S-CC S-G1S S-G2M TH-RETN'\n",
      " 'NT-VGLUT1 P-PALL P-PALL-M S-CC' '' ''\n",
      " 'NT-VGLUT1 P-DLGE P-PALL P-PALL-M S-CC S-G1S TH-RETN'\n",
      " 'NT-VGLUT1 P-DLGE S-CC' '' 'P-PALL P-PALL-M' '' 'P-PALL RGL' 'RGL'\n",
      " 'NT-VGLUT1 P-DLGE P-PALL P-PALL-M RGL'\n",
      " 'NT-VGLUT1 P-DLGE P-MGE-PO P-PALL P-PALL-M RGL TH-RETN' '' ''\n",
      " 'NT-VGLUT1 O-HEM P-PALL P-PALL-M RGL' 'P-FP1' 'NT-VGLUT1' '' '' '' ''\n",
      " 'E-SCHWL M-ENDO M-PER M-VLMC NT-VGLUT1 P-DLGE P-PALL P-PALL-M S-CC S-G1S S-G2M'\n",
      " 'NT-VGLUT1']\n"
     ]
    },
    {
     "data": {
      "image/png": "[encoded data removed]",
      "text/plain": [
       "<Figure size 432x288 with 1 Axes>"
      ]
     },
     "metadata": {
      "needs_background": "light"
     },
     "output_type": "display_data"
    },
    {
     "data": {
      "image/png": "[encoded data removed]",
      "text/plain": [
       "<Figure size 432x288 with 1 Axes>"
      ]
     },
     "metadata": {
      "needs_background": "light"
     },
     "output_type": "display_data"
    },
    {
     "data": {
      "image/png": "[encoded data removed]",
      "text/plain": [
       "<Figure size 432x288 with 1 Axes>"
      ]
     },
     "metadata": {
      "needs_background": "light"
     },
     "output_type": "display_data"
    },
    {
     "data": {
      "image/png": "[encoded data removed]",
      "text/plain": [
       "<Figure size 432x288 with 1 Axes>"
      ]
     },
     "metadata": {
      "needs_background": "light"
     },
     "output_type": "display_data"
    },
    {
     "data": {
      "image/png": "[encoded data removed]",
      "text/plain": [
       "<Figure size 432x288 with 1 Axes>"
      ]
     },
     "metadata": {
      "needs_background": "light"
     },
     "output_type": "display_data"
    },
    {
     "data": {
      "image/png": "[encoded data removed]",
      "text/plain": [
       "<Figure size 432x288 with 1 Axes>"
      ]
     },
     "metadata": {
      "needs_background": "light"
     },
     "output_type": "display_data"
    },
    {
     "data": {
      "image/png": "[encoded data removed]",
      "text/plain": [
       "<Figure size 432x288 with 1 Axes>"
      ]
     },
     "metadata": {
      "needs_background": "light"
     },
     "output_type": "display_data"
    },
    {
     "data": {
      "image/png": "[encoded data removed]",
      "text/plain": [
       "<Figure size 432x288 with 1 Axes>"
      ]
     },
     "metadata": {
      "needs_background": "light"
     },
     "output_type": "display_data"
    }
   ],
   "source": [
    "with loompy.connect(out_file) as dsout:\n",
    "    print(dsout.layers.keys())\n",
    "    print(dsout.ca.AutoAnnotation)\n",
    "    for layer in dsout.layers:\n",
    "        plt.figure()\n",
    "        plt.hist(dsout[layer][dsout.ra.Gene=='FABP7',:][0])\n",
    "        plt.title(layer)"
   ]
  },
  {
   "cell_type": "code",
   "execution_count": null,
   "metadata": {},
   "outputs": [],
   "source": []
  }
 ],
 "metadata": {
  "kernelspec": {
   "display_name": "Chromograph (py3.7)",
   "language": "python",
   "name": "chromograph"
  },
  "language_info": {
   "codemirror_mode": {
    "name": "ipython",
    "version": 3
   },
   "file_extension": ".py",
   "mimetype": "text/x-python",
   "name": "python",
   "nbconvert_exporter": "python",
   "pygments_lexer": "ipython3",
   "version": "3.7.4"
  }
 },
 "nbformat": 4,
 "nbformat_minor": 4
}
