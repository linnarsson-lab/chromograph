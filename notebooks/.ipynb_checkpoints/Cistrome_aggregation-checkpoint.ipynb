{
 "cells": [
  {
   "cell_type": "code",
   "execution_count": 1,
   "metadata": {},
   "outputs": [],
   "source": [
    "import numpy as np\n",
    "import os\n",
    "import sys\n",
    "import collections\n",
    "import matplotlib.pyplot as plt\n",
    "import gzip\n",
    "import pybedtools\n",
    "from pybedtools import BedTool\n",
    "import warnings\n",
    "\n",
    "sys.path.append('/home/camiel/chromograph/')\n",
    "import chromograph\n",
    "from chromograph.peak_calling.utils import *\n",
    "\n",
    "import cytograph as cg\n",
    "from typing import *\n",
    "\n",
    "import logging\n",
    "logger = logging.getLogger()\n",
    "logging.basicConfig(\n",
    "    format='%(asctime)s %(levelname)-8s %(message)s',\n",
    "    level=logging.INFO,\n",
    "    datefmt='%H:%M:%S')"
   ]
  },
  {
   "cell_type": "code",
   "execution_count": 2,
   "metadata": {},
   "outputs": [],
   "source": [
    "cdir = '/data/proj/scATAC/chromograph/cistromes/cistrome_hg38'"
   ]
  },
  {
   "cell_type": "code",
   "execution_count": 3,
   "metadata": {},
   "outputs": [],
   "source": [
    "cisdir = os.path.join(cdir, os.listdir(cdir)[1])\n",
    "motifdir = os.path.join(cdir, os.listdir(cdir)[2])"
   ]
  },
  {
   "cell_type": "code",
   "execution_count": 4,
   "metadata": {},
   "outputs": [
    {
     "name": "stderr",
     "output_type": "stream",
     "text": [
      "17:35:44 INFO     Genes kept: 260   Genes discarded: 339\n"
     ]
    }
   ],
   "source": [
    "files = os.listdir(cisdir)\n",
    "genes = np.unique([x.split('.')[0] for x in files])\n",
    "\n",
    "valid = []\n",
    "for gene in genes:\n",
    "    if f\"{gene}.A.bed\" in files:\n",
    "        valid.append(gene)\n",
    "    elif f\"{gene}.B.bed\" in files:\n",
    "        valid.append(gene)\n",
    "        \n",
    "discarded = [x for x in genes if x not in valid]\n",
    "logging.info(f\"Genes kept: {len(valid)}   Genes discarded: {len(discarded)}\")"
   ]
  },
  {
   "cell_type": "code",
   "execution_count": 5,
   "metadata": {},
   "outputs": [],
   "source": [
    "# for gene in genes:\n",
    "#     for x in ['A','B','C','D']:\n",
    "#         try:\n",
    "#             cis = BedTool(os.path.join(cisdir, f\"{gene}_HUMAN.{x}.bed\"))\n",
    "#             print(f\"{gene}_{x} {len(cis)}\")\n",
    "#         except:\n",
    "#             print(f\"{gene}_{x} does not exist\")"
   ]
  },
  {
   "cell_type": "code",
   "execution_count": 6,
   "metadata": {},
   "outputs": [
    {
     "name": "stdout",
     "output_type": "stream",
     "text": [
      "MEIS2_A does not exist\n",
      "MEIS2_B does not exist\n",
      "MEIS2_D does not exist\n"
     ]
    }
   ],
   "source": [
    "for gene in ['MEIS2']:\n",
    "    for x in ['A','B','C','D']:\n",
    "        if f\"{gene}.{x}.bed\" in files:\n",
    "            cis = BedTool(os.path.join(cisdir, f\"{gene}_HUMAN.{x}.bed\"))\n",
    "            if len(cis) > 1000\n",
    "        except:\n",
    "            print(f\"{gene}_{x} does not exist\")"
   ]
  },
  {
   "cell_type": "code",
   "execution_count": 7,
   "metadata": {},
   "outputs": [
    {
     "data": {
      "text/plain": [
       "1589"
      ]
     },
     "execution_count": 7,
     "metadata": {},
     "output_type": "execute_result"
    }
   ],
   "source": [
    "len(cis)"
   ]
  },
  {
   "cell_type": "code",
   "execution_count": 20,
   "metadata": {},
   "outputs": [
    {
     "name": "stdout",
     "output_type": "stream",
     "text": [
      "chr1\t8197657\t8197957\ttest\n",
      " chr1\t8818311\t8818639\ttest\n",
      " chr1\t8879833\t8880133\ttest\n",
      " chr1\t11262706\t11263006\ttest\n",
      " chr1\t15780470\t15780770\ttest\n",
      " chr1\t15795277\t15795577\ttest\n",
      " chr1\t15964151\t15964471\ttest\n",
      " chr1\t16367653\t16367970\ttest\n",
      " chr1\t17911851\t17912235\ttest\n",
      " chr1\t24381479\t24381779\ttest\n",
      " "
     ]
    }
   ],
   "source": [
    "from pybedtools.featurefuncs import *\n",
    "\n",
    "def add_gene(f, gene):\n",
    "    \"\"\"\n",
    "    adds name to feature\n",
    "    \"\"\"\n",
    "    f.name = gene\n",
    "    return f\n",
    "\n",
    "y = cis.each(extend_fields, 4).each(add_gene, gene).saveas()\n",
    "\n",
    "y.head()"
   ]
  },
  {
   "cell_type": "code",
   "execution_count": 19,
   "metadata": {},
   "outputs": [
    {
     "data": {
      "text/plain": [
       "\u001b[0;31mSignature:\u001b[0m \u001b[0mcis\u001b[0m\u001b[0;34m.\u001b[0m\u001b[0msaveas\u001b[0m\u001b[0;34m(\u001b[0m\u001b[0;34m*\u001b[0m\u001b[0margs\u001b[0m\u001b[0;34m,\u001b[0m \u001b[0;34m**\u001b[0m\u001b[0mkwargs\u001b[0m\u001b[0;34m)\u001b[0m\u001b[0;34m\u001b[0m\u001b[0;34m\u001b[0m\u001b[0m\n",
       "\u001b[0;31mDocstring:\u001b[0m\n",
       "Make a copy of the BedTool.\n",
       "\n",
       "Optionally adds `trackline` to the beginning of the file.\n",
       "\n",
       "Optionally compresses output using gzip.\n",
       "\n",
       "if the filename extension is .gz, or compressed=True,\n",
       "the output is compressed using gzip\n",
       "\n",
       "Returns a new BedTool for the newly saved file.\n",
       "\n",
       "A newline is automatically added to the trackline if it does not\n",
       "already have one.\n",
       "\n",
       "Example usage:\n",
       "\n",
       ">>> a = pybedtools.example_bedtool('a.bed')\n",
       ">>> b = a.saveas('other.bed')\n",
       ">>> b.fn\n",
       "'other.bed'\n",
       ">>> print(b == a)\n",
       "True\n",
       "\n",
       ">>> b = a.saveas('other.bed', trackline=\"name='test run' color=0,55,0\")\n",
       ">>> open(b.fn).readline()\n",
       "\"name='test run' color=0,55,0\\n\"\n",
       ">>> if os.path.exists('other.bed'):\n",
       "...     os.unlink('other.bed')\n",
       "\u001b[0;31mFile:\u001b[0m      ~/anaconda3/envs/chromograph/lib/python3.7/site-packages/pybedtools/bedtool.py\n",
       "\u001b[0;31mType:\u001b[0m      method\n"
      ]
     },
     "metadata": {},
     "output_type": "display_data"
    }
   ],
   "source": [
    "?cis.saveas"
   ]
  }
 ],
 "metadata": {
  "kernelspec": {
   "display_name": "Chromograph (py3.7)",
   "language": "python",
   "name": "chromograph"
  },
  "language_info": {
   "codemirror_mode": {
    "name": "ipython",
    "version": 3
   },
   "file_extension": ".py",
   "mimetype": "text/x-python",
   "name": "python",
   "nbconvert_exporter": "python",
   "pygments_lexer": "ipython3",
   "version": "3.7.4"
  }
 },
 "nbformat": 4,
 "nbformat_minor": 4
}
