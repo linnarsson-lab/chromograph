{
 "cells": [
  {
   "cell_type": "code",
   "execution_count": 1,
   "metadata": {},
   "outputs": [],
   "source": [
    "import numpy as np\n",
    "import os\n",
    "import sys\n",
    "import collections\n",
    "import matplotlib.pyplot as plt\n",
    "import gzip\n",
    "import pybedtools\n",
    "from pybedtools import BedTool\n",
    "import warnings\n",
    "\n",
    "sys.path.append('/home/camiel/chromograph/')\n",
    "import chromograph\n",
    "from chromograph.peak_calling.utils import *\n",
    "\n",
    "import cytograph as cg\n",
    "from typing import *\n",
    "\n",
    "import logging\n",
    "logger = logging.getLogger()\n",
    "logging.basicConfig(\n",
    "    format='%(asctime)s %(levelname)-8s %(message)s',\n",
    "    level=logging.INFO,\n",
    "    datefmt='%H:%M:%S')"
   ]
  },
  {
   "cell_type": "code",
   "execution_count": 2,
   "metadata": {},
   "outputs": [],
   "source": [
    "cdir = '/data/proj/scATAC/chromograph/cistromes/cistrome_hg38'\n",
    "cisdir = os.path.join(cdir, os.listdir(cdir)[1])\n",
    "motifdir = os.path.join(cdir, os.listdir(cdir)[2])"
   ]
  },
  {
   "cell_type": "code",
   "execution_count": 4,
   "metadata": {},
   "outputs": [
    {
     "name": "stderr",
     "output_type": "stream",
     "text": [
      "11:12:49 INFO     Genes kept: 496   Genes discarded: 103\n"
     ]
    }
   ],
   "source": [
    "files = os.listdir(cisdir)\n",
    "TFs = np.unique([x.split('.')[0] for x in files])\n",
    "\n",
    "valid = []\n",
    "for gene in genes:\n",
    "    if f\"{gene}.A.bed\" in files:\n",
    "        valid.append(gene)\n",
    "    elif f\"{gene}.B.bed\" in files:\n",
    "        valid.append(gene)\n",
    "    elif f\"{gene}.C.bed\" in files:\n",
    "        valid.append(gene)\n",
    "        \n",
    "discarded = [x for x in genes if x not in valid]\n",
    "logging.info(f\"TFs kept: {len(valid)}   TFs discarded: {len(discarded)}\")"
   ]
  },
  {
   "cell_type": "code",
   "execution_count": 6,
   "metadata": {},
   "outputs": [],
   "source": [
    "from pybedtools.featurefuncs import *\n",
    "\n",
    "def add_gene(f, gene):\n",
    "    \"\"\"\n",
    "    adds name to feature\n",
    "    \"\"\"\n",
    "    f.name = gene\n",
    "    return f\n",
    "\n",
    "def add_reliability(f, x):\n",
    "    \"\"\"\n",
    "    Adds reliability as 'score' metric in bed.\n",
    "    Reliability scores should correspond to:\n",
    "    A: 3\n",
    "    B: 2\n",
    "    C: 1\n",
    "    D: 0\n",
    "    \"\"\"\n",
    "    f.score = x\n",
    "    return f"
   ]
  },
  {
   "cell_type": "code",
   "execution_count": null,
   "metadata": {},
   "outputs": [
    {
     "name": "stderr",
     "output_type": "stream",
     "text": [
      "11:13:32 INFO     Finished 10 out of 496\n",
      "11:14:40 INFO     Finished 20 out of 496\n",
      "11:15:35 INFO     Finished 30 out of 496\n",
      "11:16:52 INFO     Finished 40 out of 496\n",
      "11:18:06 INFO     Finished 50 out of 496\n",
      "11:18:31 INFO     Finished 60 out of 496\n",
      "11:19:09 INFO     Finished 70 out of 496\n",
      "11:20:10 INFO     Finished 80 out of 496\n",
      "11:21:14 INFO     Finished 90 out of 496\n",
      "11:22:59 INFO     Finished 100 out of 496\n",
      "11:24:15 INFO     Finished 110 out of 496\n",
      "11:26:09 INFO     Finished 120 out of 496\n",
      "11:28:28 INFO     Finished 130 out of 496\n",
      "11:31:43 INFO     Finished 140 out of 496\n",
      "11:33:22 INFO     Finished 150 out of 496\n",
      "11:34:43 INFO     Finished 160 out of 496\n",
      "11:36:37 INFO     Finished 170 out of 496\n",
      "11:39:01 INFO     Finished 180 out of 496\n",
      "11:40:35 INFO     Finished 190 out of 496\n",
      "11:42:00 INFO     Finished 200 out of 496\n",
      "11:43:32 INFO     Finished 210 out of 496\n",
      "11:45:48 INFO     Finished 220 out of 496\n",
      "11:48:26 INFO     Finished 230 out of 496\n",
      "11:51:18 INFO     Finished 240 out of 496\n",
      "11:54:35 INFO     Finished 250 out of 496\n",
      "11:56:30 INFO     Finished 260 out of 496\n",
      "11:59:34 INFO     Finished 270 out of 496\n",
      "12:01:23 INFO     Finished 280 out of 496\n",
      "12:04:39 INFO     Finished 290 out of 496\n",
      "12:07:33 INFO     Finished 300 out of 496\n",
      "12:10:06 INFO     Finished 310 out of 496\n",
      "12:12:40 INFO     Finished 320 out of 496\n",
      "12:15:02 INFO     Finished 330 out of 496\n",
      "12:18:17 INFO     Finished 340 out of 496\n",
      "12:21:33 INFO     Finished 350 out of 496\n"
     ]
    }
   ],
   "source": [
    "## Merge beds to reference of TF binding sites\n",
    "\n",
    "rel_dict = {'A': 3, 'B': 2, 'C': 1, 'D': 0}\n",
    "\n",
    "rel = {}\n",
    "i = 0\n",
    "\n",
    "for TF in valid:\n",
    "    for x in ['A','B','C']:\n",
    "        if f\"{TF}.{x}.bed\" in files:\n",
    "            cis = BedTool(os.path.join(motifdir, f\"{TF}.{x}.bed\")).saveas()\n",
    "            cis = cis.each(extend_fields, 5).each(add_gene, TF).each(add_reliability, rel_dict[x]).saveas()\n",
    "            try:\n",
    "                M = M.cat(cis).saveas()\n",
    "            except:\n",
    "                M = cis.saveas()\n",
    "            try:\n",
    "                rel[TF] += 1\n",
    "            except:\n",
    "                rel[TF] = 1\n",
    "    i += 1\n",
    "    if i%10 == 0:\n",
    "        logging.info(f\"Finished {i} out of {len(valid)}\")\n",
    "logging.info(f\"Total length: {len(M)} for {len(rel)} Motifs \")"
   ]
  }
 ],
 "metadata": {
  "kernelspec": {
   "display_name": "Chromograph (py3.7)",
   "language": "python",
   "name": "chromo"
  },
  "language_info": {
   "codemirror_mode": {
    "name": "ipython",
    "version": 3
   },
   "file_extension": ".py",
   "mimetype": "text/x-python",
   "name": "python",
   "nbconvert_exporter": "python",
   "pygments_lexer": "ipython3",
   "version": "3.7.3"
  }
 },
 "nbformat": 4,
 "nbformat_minor": 4
}
