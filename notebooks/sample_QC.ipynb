{
 "cells": [
  {
   "cell_type": "code",
   "execution_count": 10,
   "metadata": {},
   "outputs": [],
   "source": [
    "import os, sys, glob\n",
    "\n",
    "import numpy as np\n",
    "import matplotlib.pyplot as plt\n",
    "import pandas as pd\n",
    "import loompy\n",
    "import logging\n",
    "\n",
    "logger = logging.getLogger()\n",
    "logging.basicConfig(\n",
    "    format='%(asctime)s %(levelname)-8s %(message)s',\n",
    "    level=logging.INFO,\n",
    "    datefmt='%H:%M:%S')"
   ]
  },
  {
   "cell_type": "code",
   "execution_count": 5,
   "metadata": {},
   "outputs": [],
   "source": [
    "samples = np.loadtxt('/home/camiel/ID_samples.txt')"
   ]
  },
  {
   "cell_type": "code",
   "execution_count": 34,
   "metadata": {},
   "outputs": [
    {
     "name": "stderr",
     "output_type": "stream",
     "text": [
      "14:23:56 INFO     Using cellranger output: /data/proj/chromium/10X232_1_AB_2\n"
     ]
    }
   ],
   "source": [
    "def get_metadata(cell_ranger, sample):\n",
    "    dirs = glob.glob(f'{cell_ranger}/{sample}*')\n",
    "    if len(dirs) > 0:\n",
    "        dirs = np.array([d for d in dirs if os.path.isdir(d)])\n",
    "        dirs = dirs[[len(d.split('_')) == 4 for d in dirs]]\n",
    "        n_flowcells = [len(d.split('_')[-2]) for d in dirs]\n",
    "        dirs = np.array(dirs)[np.where(n_flowcells==np.max(n_flowcells))[0]]\n",
    "        ID = [int(d.split('_')[-1]) for d in dirs]\n",
    "\n",
    "        indir = dirs[np.where(ID==np.max(ID))[0]][0]\n",
    "        logging.info(f'Using cellranger output: {indir}')\n",
    "        \n",
    "#         fs = glob.glob(os.path.join(indir, 'outs/summary*'))\n",
    "        fs = os.path.join(indir, 'outs/summary.csv')\n",
    "        return pd.read_csv(fs)\n",
    "    \n",
    "X = get_metadata('/data/proj/chromium', f'10X232_1')"
   ]
  },
  {
   "cell_type": "code",
   "execution_count": 36,
   "metadata": {},
   "outputs": [
    {
     "data": {
      "text/plain": [
       "Index(['Sample ID', 'Genome', 'Pipeline version', 'Estimated number of cells',\n",
       "       'Confidently mapped read pairs', 'Estimated bulk library complexity',\n",
       "       'Fraction of genome in peaks',\n",
       "       'Fraction of high-quality fragments in cells',\n",
       "       'Fraction of high-quality fragments overlapping TSS',\n",
       "       'Fraction of high-quality fragments overlapping peaks',\n",
       "       'Fraction of transposition events in peaks in cells',\n",
       "       'Fragments flanking a single nucleosome',\n",
       "       'Fragments in nucleosome-free regions', 'Mean raw read pairs per cell',\n",
       "       'Median high-quality fragments per cell', 'Non-nuclear read pairs',\n",
       "       'Number of peaks', 'Percent duplicates', 'Q30 bases in barcode',\n",
       "       'Q30 bases in read 1', 'Q30 bases in read 2',\n",
       "       'Q30 bases in sample index i1', 'Sequenced read pairs',\n",
       "       'Sequencing saturation', 'TSS enrichment score', 'Unmapped read pairs',\n",
       "       'Valid barcodes'],\n",
       "      dtype='object')"
      ]
     },
     "execution_count": 36,
     "metadata": {},
     "output_type": "execute_result"
    }
   ],
   "source": [
    "X.columns"
   ]
  }
 ],
 "metadata": {
  "kernelspec": {
   "display_name": "Chromograph (py3.7)",
   "language": "python",
   "name": "chromo"
  },
  "language_info": {
   "codemirror_mode": {
    "name": "ipython",
    "version": 3
   },
   "file_extension": ".py",
   "mimetype": "text/x-python",
   "name": "python",
   "nbconvert_exporter": "python",
   "pygments_lexer": "ipython3",
   "version": "3.7.8"
  }
 },
 "nbformat": 4,
 "nbformat_minor": 4
}
