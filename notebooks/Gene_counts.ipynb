{
 "cells": [
  {
   "cell_type": "markdown",
   "metadata": {},
   "source": [
    "## Gene body counts"
   ]
  },
  {
   "cell_type": "code",
   "execution_count": 8,
   "metadata": {},
   "outputs": [],
   "source": [
    "import numpy as np\n",
    "import os\n",
    "import sys\n",
    "import collections\n",
    "import matplotlib.pyplot as plt\n",
    "import gzip\n",
    "import loompy\n",
    "# import scipy.sparse as sparse\n",
    "import urllib.request\n",
    "import pybedtools\n",
    "from pybedtools import BedTool\n",
    "import warnings\n",
    "from sklearn.neighbors import NearestNeighbors\n",
    "from matplotlib.collections import LineCollection\n",
    "\n",
    "sys.path.append('/home/camiel/chromograph/')\n",
    "# from chromograph.plotting.UMI_plot import UMI_plot\n",
    "import chromograph\n",
    "\n",
    "from umap import UMAP\n",
    "import sklearn.metrics\n",
    "from scipy.spatial import distance\n",
    "import community\n",
    "import networkx as nx\n",
    "from scipy import sparse\n",
    "from typing import *"
   ]
  },
  {
   "cell_type": "code",
   "execution_count": 5,
   "metadata": {},
   "outputs": [],
   "source": [
    "## Import path to the relevant 10X reference dataset\n",
    "\n",
    "ref = '/data/ref/cellranger-atac/refdata-cellranger-atac-GRCh38-1.1.0'\n",
    "indir = '/data/proj/scATAC/chromograph/mouse_test2/'\n",
    "f = os.path.join(indir, '10X_test_10kb.loom')"
   ]
  },
  {
   "cell_type": "code",
   "execution_count": 6,
   "metadata": {},
   "outputs": [
    {
     "name": "stdout",
     "output_type": "stream",
     "text": [
      "(271145, 4273)\n"
     ]
    }
   ],
   "source": [
    "## Connect to loompy session\n",
    "ds = loompy.connect(f)\n",
    "print(ds.shape)"
   ]
  },
  {
   "cell_type": "code",
   "execution_count": 9,
   "metadata": {},
   "outputs": [
    {
     "name": "stdout",
     "output_type": "stream",
     "text": [
      "chr1\t11868\t14409\tDDX11L1\t.\t+\ttranscribed_unprocessed_pseudogene\n",
      " chr1\t12009\t13670\tDDX11L1\t.\t+\ttranscribed_unprocessed_pseudogene\n",
      " chr1\t14403\t29570\tWASH7P\t.\t-\tunprocessed_pseudogene\n",
      " chr1\t17368\t17436\tMIR6859-1\t.\t-\tmiRNA\n",
      " chr1\t29553\t31097\tRP11-34P13.3\t.\t+\tlincRNA\n",
      " chr1\t30266\t31109\tRP11-34P13.3\t.\t+\tlincRNA\n",
      " chr1\t30365\t30503\tMIR1302-2\t.\t+\tmiRNA\n",
      " chr1\t34553\t36081\tFAM138A\t.\t-\tlincRNA\n",
      " chr1\t52472\t53312\tOR4G4P\t.\t+\tunprocessed_pseudogene\n",
      " chr1\t57597\t64116\tOR4G11P\t.\t+\ttranscribed_unprocessed_pseudogene\n",
      " "
     ]
    }
   ],
   "source": [
    "genes = BedTool(os.path.join(ref, 'regions', 'transcripts.bed'))\n",
    "genes.head()"
   ]
  },
  {
   "cell_type": "code",
   "execution_count": 25,
   "metadata": {},
   "outputs": [
    {
     "name": "stdout",
     "output_type": "stream",
     "text": [
      "chr1\t65418\t71585\tOR4F5\t.\t+\tprotein_coding\n",
      " chr1\t69054\t70108\tOR4F5\t.\t+\tprotein_coding\n",
      " chr1\t450702\t451697\tOR4F29\t.\t-\tprotein_coding\n",
      " chr1\t685678\t686673\tOR4F16\t.\t-\tprotein_coding\n",
      " chr1\t925737\t944575\tSAMD11\t.\t+\tprotein_coding\n",
      " chr1\t925740\t944581\tSAMD11\t.\t+\tprotein_coding\n",
      " chr1\t944203\t959290\tNOC2L\t.\t-\tprotein_coding\n",
      " chr1\t960586\t965715\tKLHL17\t.\t+\tprotein_coding\n",
      " chr1\t960638\t965602\tKLHL17\t.\t+\tprotein_coding\n",
      " chr1\t966496\t975108\tPLEKHN1\t.\t+\tprotein_coding\n",
      " "
     ]
    }
   ],
   "source": [
    "coding = []\n",
    "\n",
    "for x in genes:\n",
    "    if x[6] == 'protein_coding':\n",
    "        coding.append(x)\n",
    "\n",
    "coding = BedTool(coding)\n",
    "coding.head()"
   ]
  },
  {
   "cell_type": "code",
   "execution_count": 13,
   "metadata": {},
   "outputs": [
    {
     "name": "stdout",
     "output_type": "stream",
     "text": [
      "['3prime_overlapping_ncRNA' 'IG_C_gene' 'IG_C_pseudogene' 'IG_D_gene'\n",
      " 'IG_J_gene' 'IG_J_pseudogene' 'IG_V_gene' 'IG_V_pseudogene'\n",
      " 'IG_pseudogene' 'Mt_rRNA' 'Mt_tRNA' 'TEC' 'TR_C_gene' 'TR_D_gene'\n",
      " 'TR_J_gene' 'TR_J_pseudogene' 'TR_V_gene' 'TR_V_pseudogene' 'antisense'\n",
      " 'bidirectional_promoter_lncRNA' 'lincRNA' 'macro_lncRNA' 'miRNA'\n",
      " 'misc_RNA' 'non_coding' 'polymorphic_pseudogene' 'processed_pseudogene'\n",
      " 'processed_transcript' 'protein_coding' 'pseudogene' 'rRNA' 'ribozyme'\n",
      " 'sRNA' 'scRNA' 'scaRNA' 'sense_intronic' 'sense_overlapping' 'snRNA'\n",
      " 'snoRNA' 'transcribed_processed_pseudogene'\n",
      " 'transcribed_unitary_pseudogene' 'transcribed_unprocessed_pseudogene'\n",
      " 'translated_processed_pseudogene' 'unitary_pseudogene'\n",
      " 'unprocessed_pseudogene' 'vaultRNA']\n"
     ]
    }
   ],
   "source": [
    "feature = []\n",
    "for x in genes:\n",
    "    feature.append(x[6])\n",
    "    \n",
    "print(np.unique(feature))"
   ]
  },
  {
   "cell_type": "code",
   "execution_count": null,
   "metadata": {},
   "outputs": [],
   "source": [
    "def count_fragments(frag_dict, barcodes, bsize):\n",
    "    '''\n",
    "    '''\n",
    "    \n",
    "    Count_dict = collections.OrderedDict()\n",
    "\n",
    "    for bar in barcodes:    \n",
    "        if bar in frag_dict:\n",
    "            frags = frag_dict[bar]\n",
    "            counts = {}\n",
    "            for _frag in frags:\n",
    "\n",
    "                # If a fragment spans two bins we count it twice\n",
    "                for x in set([int(_frag[1]/bsize)*bsize+1, int(_frag[2]/bsize)*bsize+1]):\n",
    "                    k = (_frag[0], x, x + bsize - 1)\n",
    "                    if k not in counts.keys():\n",
    "                        counts[k] = 1\n",
    "                    else:\n",
    "                        counts[k] += 1\n",
    "            Count_dict[bar] = counts\n",
    "        else:\n",
    "            continue\n",
    "    \n",
    "    return Count_dict;\n"
   ]
  }
 ],
 "metadata": {
  "kernelspec": {
   "display_name": "Chromograph (py3.7)",
   "language": "python",
   "name": "chromograph"
  },
  "language_info": {
   "codemirror_mode": {
    "name": "ipython",
    "version": 3
   },
   "file_extension": ".py",
   "mimetype": "text/x-python",
   "name": "python",
   "nbconvert_exporter": "python",
   "pygments_lexer": "ipython3",
   "version": "3.7.4"
  }
 },
 "nbformat": 4,
 "nbformat_minor": 4
}
