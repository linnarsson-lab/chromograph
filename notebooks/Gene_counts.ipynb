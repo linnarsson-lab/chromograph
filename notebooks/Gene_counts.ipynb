{
 "cells": [
  {
   "cell_type": "markdown",
   "metadata": {},
   "source": [
    "## Gene body counts"
   ]
  },
  {
   "cell_type": "code",
   "execution_count": null,
   "metadata": {},
   "outputs": [],
   "source": [
    "import numpy as np\n",
    "import os\n",
    "import sys\n",
    "import collections\n",
    "import matplotlib.pyplot as plt\n",
    "import gzip\n",
    "import loompy\n",
    "# import scipy.sparse as sparse\n",
    "import urllib.request\n",
    "import pybedtools\n",
    "import warnings\n",
    "from sklearn.neighbors import NearestNeighbors\n",
    "from matplotlib.collections import LineCollection\n",
    "\n",
    "# import cytograph as cg\n",
    "# from cytograph.decomposition import HPF\n",
    "# from scipy.stats import poisson\n",
    "# from cytograph.manifold import BalancedKNN\n",
    "# from cytograph.metrics import jensen_shannon_distance\n",
    "# from cytograph.embedding import tsne\n",
    "# from cytograph.clustering import PolishedLouvain, PolishedSurprise\n",
    "# from cytograph.plotting import manifold\n",
    "\n",
    "sys.path.append('/home/camiel/chromograph/')\n",
    "# from chromograph.plotting.UMI_plot import UMI_plot\n",
    "\n",
    "from umap import UMAP\n",
    "import sklearn.metrics\n",
    "from scipy.spatial import distance\n",
    "import community\n",
    "import networkx as nx\n",
    "from scipy import sparse\n",
    "from typing import *"
   ]
  },
  {
   "cell_type": "code",
   "execution_count": 2,
   "metadata": {},
   "outputs": [],
   "source": [
    "## Import a list of marker genes from corresponding scRNA-seq data and overlap \n",
    "## fragments with GENCODE ranges of markers\n"
   ]
  },
  {
   "cell_type": "code",
   "execution_count": null,
   "metadata": {},
   "outputs": [],
   "source": []
  }
 ],
 "metadata": {
  "kernelspec": {
   "display_name": "Chromograph (py3.7)",
   "language": "python",
   "name": "chromograph"
  },
  "language_info": {
   "codemirror_mode": {
    "name": "ipython",
    "version": 3
   },
   "file_extension": ".py",
   "mimetype": "text/x-python",
   "name": "python",
   "nbconvert_exporter": "python",
   "pygments_lexer": "ipython3",
   "version": "3.7.4"
  }
 },
 "nbformat": 4,
 "nbformat_minor": 4
}
