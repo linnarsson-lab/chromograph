{
 "cells": [
  {
   "cell_type": "code",
   "execution_count": 67,
   "metadata": {},
   "outputs": [],
   "source": [
    "import numpy as np\n",
    "import os\n",
    "import sys\n",
    "import pybedtools\n",
    "from pybedtools import BedTool\n",
    "import collections\n",
    "import csv\n",
    "import matplotlib.pyplot as plt\n",
    "import gzip\n",
    "import loompy\n",
    "import scipy.sparse as sparse\n",
    "import json\n",
    "import urllib.request\n",
    "import logging\n",
    "import pickle\n",
    "import importlib\n",
    "import multiprocessing as mp\n",
    "import tqdm\n",
    "import gc\n",
    "\n",
    "from chromograph.pipeline import config\n",
    "from chromograph.preprocessing.utils import *\n",
    "from chromograph.features.feature_count import *\n",
    "from chromograph.preprocessing.doublet_finder import doublet_finder"
   ]
  },
  {
   "cell_type": "code",
   "execution_count": 5,
   "metadata": {},
   "outputs": [],
   "source": [
    "indir_rnaXatac = '/data/proj/chromium/10X290_1_ABCD_1'\n",
    "indir_atac = '/data/proj/chromium/10X291_2_AB_1'"
   ]
  },
  {
   "cell_type": "code",
   "execution_count": 28,
   "metadata": {},
   "outputs": [],
   "source": [
    "fb = indir_rnaXatac + '/outs/per_barcode_metrics.csv'\n",
    "ff = indir_rnaXatac + '/outs/atac_fragments.tsv.gz'\n",
    "fs = indir_rnaXatac + '/outs/summary.csv'"
   ]
  },
  {
   "cell_type": "code",
   "execution_count": null,
   "metadata": {},
   "outputs": [],
   "source": [
    "barcode,gex_barcode,atac_barcode,is_cell,excluded_reason,gex_raw_reads,gex_mapped_reads,gex_conf_intergenic_reads,gex_conf_exonic_reads,gex_conf_intronic_reads,gex_conf_exonic_unique_reads,gex_conf_exonic_antisense_reads,gex_conf_exonic_dup_reads,gex_exonic_umis,gex_conf_intronic_unique_reads,gex_conf_intronic_antisense_reads,gex_conf_intronic_dup_reads,gex_intronic_umis,gex_conf_txomic_unique_reads,gex_umis_count,gex_genes_count,atac_raw_reads,atac_unmapped_reads,atac_lowmapq,atac_dup_reads,atac_chimeric_reads,atac_mitochondrial_reads,atac_fragments,atac_TSS_fragments,atac_peak_region_fragments,atac_peak_region_cutsites"
   ]
  },
  {
   "cell_type": "code",
   "execution_count": null,
   "metadata": {},
   "outputs": [],
   "source": [
    "barcodes = np.genfromtxt(fb, delimiter=',', skip_header=2,\n",
    "                         dtype={'names':('barcode','total','duplicate','chimeric','unmapped','lowmapq','mitochondrial','passed_filters','cell_id','is__cell_barcode',\n",
    "                                           'TSS_fragments','DNase_sensitive_region_fragments','enhancer_region_fragments','promoter_region_fragments','on_target_fragments',\n",
    "                                           'blacklist_region_fragments','peak_region_fragments','peak_region_cutsites'),\n",
    "                                 'formats':('U18', 'i8', 'i8', 'i8', 'i8', 'i8', 'i8', 'i8', 'U18', 'i8', 'i8', 'i8', 'i8', 'i8', 'i8', 'i8', 'i8', 'i8')})\n"
   ]
  },
  {
   "cell_type": "code",
   "execution_count": 51,
   "metadata": {},
   "outputs": [
    {
     "data": {
      "text/plain": [
       "array(['ACAGCGGGTGTGTTAC-1', 'ACAGCGGGTCCTCCAT-1', 'ACAGCGGGTCATGGTT-1',\n",
       "       ..., 'CGTACTTCAATACCGA-1', 'CGTACTTCAAGGCCAT-1',\n",
       "       'CGTACTTCAACCCTTG-1'], dtype='<U18')"
      ]
     },
     "execution_count": 51,
     "metadata": {},
     "output_type": "execute_result"
    }
   ],
   "source": [
    "barcodes = np.genfromtxt(fb, delimiter=',', skip_header=1,\n",
    "                         dtype={'names':('barcode','gex_barcode','atac_barcode','is__cell_barcode','excluded_reason','gex_raw_reads','gex_mapped_reads','gex_conf_intergenic_reads',\n",
    "                                         'gex_conf_exonic_reads','gex_conf_intronic_reads','gex_conf_exonic_unique_reads','gex_conf_exonic_antisense_reads',\n",
    "                                         'gex_conf_exonic_dup_reads','gex_exonic_umis','gex_conf_intronic_unique_reads','gex_conf_intronic_antisense_reads',\n",
    "                                         'gex_conf_intronic_dup_reads','gex_intronic_umis','gex_conf_txomic_unique_reads','gex_umis_count','gex_genes_count',\n",
    "                                         'total','unmapped','lowmapq','duplicate','chimeric','mitochondrial',\n",
    "                                         'passed_filters','TSS_fragments','peak_region_fragments','peak_region_cutsites'),\n",
    "                                 'formats':('U18', 'U18', 'U18', 'i8', 'i8', 'i8', 'i8', 'i8', \n",
    "                                            'i8', 'i8', 'i8', 'i8', \n",
    "                                            'i8', 'i8', 'i8', 'i8', \n",
    "                                            'i8', 'i8', 'i8', 'i8', 'i8',\n",
    "                                            'i8', 'i8', 'i8', 'i8', 'i8', 'i8', \n",
    "                                            'i8', 'i8', 'i8', 'i8')})\n",
    "barcodes['barcode'] = barcodes['atac_barcode']\n",
    "barcodes['barcode']"
   ]
  },
  {
   "cell_type": "code",
   "execution_count": 18,
   "metadata": {},
   "outputs": [
    {
     "name": "stdout",
     "output_type": "stream",
     "text": [
      "31 31\n"
     ]
    }
   ],
   "source": [
    "X =['barcode','gex_barcode','atac_barcode','is_cell','excluded_reason','gex_raw_reads','gex_mapped_reads','gex_conf_intergenic_reads','gex_conf_exonic_reads',\n",
    " 'gex_conf_intronic_reads','gex_conf_exonic_unique_reads','gex_conf_exonic_antisense_reads','gex_conf_exonic_dup_reads','gex_exonic_umis','gex_conf_intronic_unique_reads','gex_conf_intronic_antisense_reads',\n",
    " 'gex_conf_intronic_dup_reads','gex_intronic_umis','gex_conf_txomic_unique_reads','gex_umis_count','gex_genes_count',\n",
    " 'atac_raw_reads','atac_unmapped_reads','atac_lowmapq','atac_dup_reads','atac_chimeric_reads','atac_mitochondrial_reads',\n",
    " 'atac_fragments','atac_TSS_fragments','atac_peak_region_fragments','atac_peak_region_cutsites']\n",
    "# X\n",
    "Y = ['U18', 'U18', 'U18', 'i8', 'i8', 'i8', 'i8', 'i8', 'i8', 'i8', 'i8', 'i8', 'i8', 'i8', 'i8', 'i8', 'i8', 'i8', 'i8', 'i8', 'i8', 'i8', 'i8', 'i8', 'i8', 'i8', 'i8', 'i8', 'i8', 'i8', 'i8']\n",
    "print(len(X), len(Y))"
   ]
  },
  {
   "cell_type": "code",
   "execution_count": 20,
   "metadata": {},
   "outputs": [
    {
     "data": {
      "text/plain": [
       "['AAACAGCCAAACAACA-1', 'AAACAGCCAAACAACA-1', 'ACAGCGGGTGTGTTAC-1']"
      ]
     },
     "execution_count": 20,
     "metadata": {},
     "output_type": "execute_result"
    }
   ],
   "source": [
    "X1 - ['AAACAGCCAAACAACA-1','AAACAGCCAAACAACA-1','ACAGCGGGTGTGTTAC-1']\n",
    "X2 = ['AAACAGCCAAACAACA-1','AAACAGCCAAACAACA-1','ACAGCGGGTGTGTTAC-1']"
   ]
  },
  {
   "cell_type": "code",
   "execution_count": 36,
   "metadata": {},
   "outputs": [],
   "source": [
    "summary = np.genfromtxt(fs, dtype=str, delimiter=',')"
   ]
  },
  {
   "cell_type": "code",
   "execution_count": 65,
   "metadata": {},
   "outputs": [
    {
     "data": {
      "text/plain": [
       "array([['Sample ID', 'Pipeline version', 'Genome',\n",
       "        'Estimated number of cells',\n",
       "        'ATAC Confidently mapped read pairs',\n",
       "        'ATAC Fraction of genome in peaks',\n",
       "        'ATAC Fraction of high-quality fragments in cells',\n",
       "        'ATAC Fraction of high-quality fragments overlapping TSS',\n",
       "        'ATAC Fraction of high-quality fragments overlapping peaks',\n",
       "        'ATAC Fraction of transposition events in peaks in cells',\n",
       "        'ATAC Mean raw read pairs per cell',\n",
       "        'ATAC Median high-quality fragments per cell',\n",
       "        'ATAC Non-nuclear read pairs', 'ATAC Number of peaks',\n",
       "        'ATAC Percent duplicates', 'ATAC Q30 bases in barcode',\n",
       "        'ATAC Q30 bases in read 1', 'ATAC Q30 bases in read 2',\n",
       "        'ATAC Q30 bases in sample index i1', 'ATAC Sequenced read pairs',\n",
       "        'ATAC TSS enrichment score', 'ATAC Unmapped read pairs',\n",
       "        'ATAC Valid barcodes', 'Feature linkages detected',\n",
       "        'GEX Fraction of transcriptomic reads in cells',\n",
       "        'GEX Mean raw reads per cell', 'GEX Median UMI counts per cell',\n",
       "        'GEX Median genes per cell', 'GEX Percent duplicates',\n",
       "        'GEX Q30 bases in UMI', 'GEX Q30 bases in barcode',\n",
       "        'GEX Q30 bases in read 2', 'GEX Q30 bases in sample index i1',\n",
       "        'GEX Q30 bases in sample index i2',\n",
       "        'GEX Reads mapped antisense to gene',\n",
       "        'GEX Reads mapped confidently to exonic regions',\n",
       "        'GEX Reads mapped confidently to genome',\n",
       "        'GEX Reads mapped confidently to intergenic regions',\n",
       "        'GEX Reads mapped confidently to intronic regions',\n",
       "        'GEX Reads mapped confidently to transcriptome',\n",
       "        'GEX Reads mapped to genome', 'GEX Reads with TSO',\n",
       "        'GEX Sequenced read pairs', 'GEX Total genes detected',\n",
       "        'GEX Valid UMIs', 'GEX Valid barcodes', 'Linked genes',\n",
       "        'Linked peaks'],\n",
       "       ['10X290_1_ABCD_1', 'cellranger-arc-1.0.0', 'GRCh38', '4351',\n",
       "        '0.91464', '0.02924', '0.72174', '0.33086', '0.49907', '0.47327',\n",
       "        '112856.59573', '32033', '0.00039', '99538', '0.54745',\n",
       "        '0.90236', '0.95976', '0.95741', '0.94423', '491039048',\n",
       "        '7.34571', '0.0123', '0.97663', '129903', '0.84934',\n",
       "        '106977.19329', '4073', '2240', '0.91195', '0.94154', '0.94451',\n",
       "        '0.91215', '0.93616', '0.91734', '0.2393', '0.35751', '0.93855',\n",
       "        '0.04737', '0.53367', '0.64334', '0.96855', '0.10168',\n",
       "        '465457768', '30656', '0.99818', '0.95009', '6748', '35962']],\n",
       "      dtype='<U57')"
      ]
     },
     "execution_count": 65,
     "metadata": {},
     "output_type": "execute_result"
    }
   ],
   "source": [
    "summary"
   ]
  },
  {
   "cell_type": "code",
   "execution_count": 44,
   "metadata": {},
   "outputs": [],
   "source": [
    "d = {str(k): str(v) for k, v in zip(summary[0,:], summary[1,:])}\n",
    "d['binsize'] = 5000"
   ]
  },
  {
   "cell_type": "code",
   "execution_count": 56,
   "metadata": {},
   "outputs": [],
   "source": [
    "meta = {}\n",
    "\n",
    "passed = (barcodes['is__cell_barcode'] == 1) & (barcodes['passed_filters'] > 5000) & (barcodes['passed_filters'] < 100000)\n",
    "for key in barcodes.dtype.names:\n",
    "    meta[key] = barcodes[key][passed]"
   ]
  },
  {
   "cell_type": "code",
   "execution_count": 57,
   "metadata": {},
   "outputs": [
    {
     "name": "stdout",
     "output_type": "stream",
     "text": [
      "[]\n",
      "[0]\n"
     ]
    }
   ],
   "source": [
    "b = 'ACAGCGGGTGTCCTGA-1'\n",
    "\n",
    "print(np.where(meta['gex_barcode'] == b)[0])\n",
    "print(np.where(meta['atac_barcode'] == b)[0])\n"
   ]
  },
  {
   "cell_type": "code",
   "execution_count": 64,
   "metadata": {},
   "outputs": [],
   "source": [
    "samples = ['10X291_2', '10X291_3']\n",
    "\n",
    "for sample in samples:\n",
    "    f = os.path.join('/datb/sl/camiel/scATAC/samples/', sample, f'{sample}_5kb.loom')\n",
    "    with loompy.connect(f) as ds:\n",
    "        ds.ca.Tissue = np.repeat('Cortex', ds.shape[1])"
   ]
  }
 ],
 "metadata": {
  "kernelspec": {
   "display_name": "Chromograph (py3.7)",
   "language": "python",
   "name": "chromo"
  },
  "language_info": {
   "codemirror_mode": {
    "name": "ipython",
    "version": 3
   },
   "file_extension": ".py",
   "mimetype": "text/x-python",
   "name": "python",
   "nbconvert_exporter": "python",
   "pygments_lexer": "ipython3",
   "version": "3.7.8"
  }
 },
 "nbformat": 4,
 "nbformat_minor": 4
}
