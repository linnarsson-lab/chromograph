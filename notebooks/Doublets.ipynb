{
 "cells": [
  {
   "cell_type": "code",
   "execution_count": 1,
   "metadata": {},
   "outputs": [],
   "source": [
    "import numpy as np\n",
    "import os\n",
    "import sys\n",
    "import collections\n",
    "import matplotlib.pyplot as plt\n",
    "import gzip\n",
    "import loompy\n",
    "import scipy.sparse as sparse\n",
    "import urllib.request\n",
    "import pybedtools\n",
    "import warnings\n",
    "from sklearn.neighbors import NearestNeighbors\n",
    "from matplotlib.collections import LineCollection\n",
    "\n",
    "import cytograph as cg\n",
    "from cytograph.decomposition import HPF\n",
    "from scipy.stats import poisson\n",
    "from cytograph.manifold import BalancedKNN\n",
    "from cytograph.metrics import jensen_shannon_distance\n",
    "# from cytograph.embedding import tsne\n",
    "from cytograph.clustering import PolishedLouvain, PolishedSurprise\n",
    "from cytograph.plotting import manifold\n",
    "\n",
    "sys.path.append('/Users/camima/Documents/py_proj/chromograph')\n",
    "from chromograph.plotting.QC_plot import QC_plot\n",
    "from chromograph.pipeline.TF_IDF import TF_IDF\n",
    "\n",
    "from umap import UMAP\n",
    "import sklearn.metrics\n",
    "from scipy.spatial import distance\n",
    "import community\n",
    "import networkx as nx\n",
    "from scipy import sparse\n",
    "from typing import *\n",
    "\n",
    "from sklearn.decomposition import IncrementalPCA\n",
    "\n",
    "import logging\n",
    "\n",
    "logger = logging.getLogger()\n",
    "logging.basicConfig(\n",
    "    format='%(asctime)s %(levelname)-8s %(message)s',\n",
    "    level=logging.INFO,\n",
    "    datefmt='%H:%M:%S')"
   ]
  },
  {
   "cell_type": "code",
   "execution_count": null,
   "metadata": {},
   "outputs": [
    {
     "name": "stderr",
     "output_type": "stream",
     "text": [
      "14:00:36 INFO     Creating data\n",
      "14:00:39 INFO     0 completed\n",
      "14:02:24 INFO     100 completed\n",
      "14:04:06 INFO     200 completed\n",
      "14:05:53 INFO     300 completed\n",
      "14:07:40 INFO     400 completed\n",
      "14:09:31 INFO     500 completed\n",
      "14:11:22 INFO     600 completed\n",
      "14:13:12 INFO     700 completed\n"
     ]
    }
   ],
   "source": [
    "f = '/Users/camima/data/scATAC/10X242_1_5kb.loom'\n",
    "with loompy.connect(f, 'r') as ds:    \n",
    "    ## Create n doublets\n",
    "    n_doublets = 1000\n",
    "    doublets = np.zeros((ds.shape[0], n_doublets))\n",
    "    db_tot = np.zeros(n_doublets)\n",
    "    \n",
    "    logging.info('Creating data')\n",
    "    ## Create doublets\n",
    "    for i in range(n_doublets):\n",
    "        a = np.random.choice(ds.shape[1])\n",
    "        b = np.random.choice(ds.shape[1])\n",
    "        doublets[:, i] = ds[:, a] + ds[:, b]\n",
    "        db_tot[i] = ds.ca['passed_filters'][a] + ds.ca['passed_filters'][b]\n",
    "        if i%100 ==0:\n",
    "            logging.info(f'{i} completed')\n",
    "            \n",
    "    ## Use only Q25 top bins\n",
    "    loggin.info(f'Calculating row wise nonzero rate')\n",
    "    NCells = ds.map([np.count_nonzero], axis=0)[0]\n",
    "    q = np.quantile(NCells, .75)\n",
    "    logging.info(f'Using only bins present in more than {q} cells')\n",
    "    valid = NCells > q\n",
    "    \n",
    "    data = np.concatenate((ds[valid,:], doublets[valid,:]), axis=1)\n",
    "    logging.info(f'Test data has {data.shape} shape')"
   ]
  },
  {
   "cell_type": "code",
   "execution_count": 24,
   "metadata": {},
   "outputs": [
    {
     "name": "stdout",
     "output_type": "stream",
     "text": [
      "AbstractSet\t Any\t AnyStr\t AsyncContextManager\t AsyncGenerator\t AsyncIterable\t AsyncIterator\t Awaitable\t BalancedKNN\t \n",
      "ByteString\t Callable\t ChainMap\t ClassVar\t Collection\t Container\t ContextManager\t Coroutine\t Counter\t \n",
      "DefaultDict\t Deque\t Dict\t FrozenSet\t Generator\t Generic\t GenericMeta\t HPF\t Hashable\t \n",
      "IncrementalPCA\t ItemsView\t Iterable\t Iterator\t KeysView\t LineCollection\t List\t Mapping\t MappingView\t \n",
      "MutableMapping\t MutableSequence\t MutableSet\t NCells\t NamedTuple\t NearestNeighbors\t NewType\t Optional\t PolishedLouvain\t \n",
      "PolishedSurprise\t QC_plot\t Reversible\t Sequence\t Set\t Sized\t SupportsAbs\t SupportsBytes\t SupportsComplex\t \n",
      "SupportsFloat\t SupportsInt\t SupportsRound\t TYPE_CHECKING\t Text\t Tuple\t Type\t TypeVar\t UMAP\t \n",
      "Union\t ValuesView\t a\t ax\t b\t bin_dbs\t cast\t cg\t collections\t \n",
      "community\t db_tot\t dbs\t distance\t doublets\t doubs\t ds\t en_bin\t en_dbs\t \n",
      "f\t fig\t get_type_hints\t gzip\t i\t jensen_shannon_distance\t logger\t logging\t loompy\t \n",
      "m1\t m2\t manifold\t n_doublets\t no_type_check\t no_type_check_decorator\t np\t nx\t os\t \n",
      "overload\t plt\t poisson\t pybedtools\t q\t sklearn\t sparse\t sys\t urllib\t \n",
      "valid\t warnings\t \n"
     ]
    }
   ],
   "source": [
    "%who"
   ]
  },
  {
   "cell_type": "code",
   "execution_count": null,
   "metadata": {},
   "outputs": [],
   "source": [
    "## Calculate TF_IDF and fit PCA\n",
    "\n",
    "logging.info(f'Performing TF-IDF')\n",
    "tf_idf = TF_IDF()\n",
    "tf_idf.fit(data)\n",
    "X = tf_idf.transform(data)\n",
    "\n",
    "# X = np.zeros(data.shape)\n",
    "# for (ix, selection, view) in ds.scan(axis=1):\n",
    "#     X[:,selection] = tf_idf.transform(view[:,:], selection)\n",
    "#     logging.info(f'transformed {max(selection)} cells')\n",
    "ds.layers['TF_IDF'] = X.astype('float16')\n",
    "self.blayer = 'TF_IDF'"
   ]
  },
  {
   "cell_type": "code",
   "execution_count": null,
   "metadata": {},
   "outputs": [],
   "source": [
    "k = None\n",
    "use_pca = True\n",
    "\n",
    "if k is None:\n",
    "    k = int(np.min([100, ds.shape[1] * 0.01]))\n",
    "\n",
    "logging.info(f\"Initialize NN structure with k = {k}\")\n",
    "if use_pca:\n",
    "    knn_result = NearestNeighbors(n_neighbors=k, metric='euclidean', n_jobs=4)\n",
    "    knn_result.fit(pca)\n",
    "    knn_dist, knn_idx = knn_result.kneighbors(X=pca, return_distance=True)\n",
    "\n",
    "    num = ds.shape[1]\n",
    "    knn_result1 = NearestNeighbors(n_neighbors=k, metric='euclidean', n_jobs=4)\n",
    "    knn_result1.fit(pca[0:num, :])\n",
    "    knn_dist1, knn_idx1 = knn_result1.kneighbors(X=pca[num + 1:, :], n_neighbors=10)\n",
    "    knn_dist_rc, knn_idx_rc = knn_result1.kneighbors(X=pca[0:num, :], return_distance=True)"
   ]
  }
 ],
 "metadata": {
  "kernelspec": {
   "display_name": "Chromograph (py3.6)",
   "language": "python",
   "name": "chromograph"
  },
  "language_info": {
   "codemirror_mode": {
    "name": "ipython",
    "version": 3
   },
   "file_extension": ".py",
   "mimetype": "text/x-python",
   "name": "python",
   "nbconvert_exporter": "python",
   "pygments_lexer": "ipython3",
   "version": "3.6.9"
  }
 },
 "nbformat": 4,
 "nbformat_minor": 2
}
