{
 "cells": [
  {
   "cell_type": "markdown",
   "metadata": {},
   "source": [
    "## Identify enriched motifs"
   ]
  },
  {
   "cell_type": "code",
   "execution_count": 2,
   "metadata": {},
   "outputs": [],
   "source": [
    "## Possible packages to implement are: Homer, chromVAR, cisTOPIC"
   ]
  },
  {
   "cell_type": "code",
   "execution_count": 1,
   "metadata": {},
   "outputs": [],
   "source": [
    "import numpy as np\n",
    "import os\n",
    "import sys\n",
    "import collections\n",
    "import matplotlib.pyplot as plt\n",
    "import gzip\n",
    "import loompy\n",
    "# import scipy.sparse as sparse\n",
    "import urllib.request\n",
    "import pybedtools\n",
    "from pybedtools import BedTool\n",
    "import warnings\n",
    "# from sklearn.neighbors import NearestNeighbors\n",
    "# from matplotlib.collections import LineCollection\n",
    "# import pickle\n",
    "\n",
    "sys.path.append('/home/camiel/chromograph/')\n",
    "# from chromograph.plotting.UMI_plot import UMI_plot\n",
    "import chromograph\n",
    "from chromograph.peak_calling.utils import *\n",
    "from chromograph.preprocessing.utils import *\n",
    "\n",
    "import cytograph as cg\n",
    "\n",
    "# from umap import UMAP\n",
    "# import sklearn.metrics\n",
    "# from scipy.spatial import distance\n",
    "# import community\n",
    "# import networkx as nx\n",
    "from scipy import sparse\n",
    "from typing import *\n",
    "\n",
    "import logging\n",
    "logger = logging.getLogger()\n",
    "logging.basicConfig(\n",
    "    format='%(asctime)s %(levelname)-8s %(message)s',\n",
    "    level=logging.INFO,\n",
    "    datefmt='%H:%M:%S')"
   ]
  },
  {
   "cell_type": "code",
   "execution_count": 4,
   "metadata": {},
   "outputs": [
    {
     "data": {
      "text/plain": [
       "'/var/lib/condor/execute/dir_14603'"
      ]
     },
     "execution_count": 4,
     "metadata": {},
     "output_type": "execute_result"
    }
   ],
   "source": [
    "## Motif alignment\n",
    "\n",
    "pybedtools.helpers.get_tempdir()"
   ]
  },
  {
   "cell_type": "code",
   "execution_count": null,
   "metadata": {},
   "outputs": [],
   "source": []
  }
 ],
 "metadata": {
  "kernelspec": {
   "display_name": "Chromograph (py3.7)",
   "language": "python",
   "name": "chromograph"
  },
  "language_info": {
   "codemirror_mode": {
    "name": "ipython",
    "version": 3
   },
   "file_extension": ".py",
   "mimetype": "text/x-python",
   "name": "python",
   "nbconvert_exporter": "python",
   "pygments_lexer": "ipython3",
   "version": "3.7.4"
  }
 },
 "nbformat": 4,
 "nbformat_minor": 4
}
