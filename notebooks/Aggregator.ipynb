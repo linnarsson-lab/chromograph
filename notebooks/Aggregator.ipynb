{
 "cells": [
  {
   "cell_type": "code",
   "execution_count": 18,
   "metadata": {},
   "outputs": [],
   "source": [
    "import logging\n",
    "import sys\n",
    "from typing import Dict, List, Union\n",
    "\n",
    "import numpy as np\n",
    "import scipy.cluster.hierarchy as hc\n",
    "from scipy.spatial.distance import pdist\n",
    "\n",
    "import loompy\n",
    "from cytograph.annotation import AutoAnnotator, AutoAutoAnnotator\n",
    "from cytograph.enrichment import FeatureSelectionByMultilevelEnrichment, Trinarizer\n",
    "from cytograph.manifold import GraphSkeletonizer\n",
    "\n",
    "sys.path.append('/home/camiel/chromograph')\n",
    "from chromograph.pipeline import config\n",
    "\n",
    "logger = logging.getLogger()\n",
    "logging.basicConfig(\n",
    "    format='%(asctime)s %(levelname)-8s %(message)s',\n",
    "    level=logging.INFO,\n",
    "    datefmt='%H:%M:%S')\n",
    "\n",
    "# class Aggregator:\n",
    "#     def __init__(self, *, f: Union[float, List[float]] = 0.2, mask: np.ndarray = None) -> None:\n",
    "#         self.f = f\n",
    "#         self.mask = mask\n",
    "#         self.config = config.load_config()\n",
    "\n",
    "#     def aggregate(self, ds: loompy.LoomConnection, *, out_file: str, agg_spec: Dict[str, str] = None) -> None:\n",
    "#         if agg_spec is None:\n",
    "#             agg_spec = {\n",
    "#                 \"Age\": \"tally\",\n",
    "#                 \"Clusters\": \"first\",\n",
    "#                 \"NPeaks\": \"mean\",\n",
    "#                 \"NBins\": \"mean\",\n",
    "#                 \"Sex\": \"tally\",\n",
    "#                 \"Tissue\": \"tally\",\n",
    "#                 \"SampleID\": \"tally\",\n",
    "#                 \"Outliers\": \"mean\",\n",
    "#             }\n",
    "#         cells = ds.col_attrs[\"Clusters\"] >= 0\n",
    "#         labels = ds.col_attrs[\"Clusters\"][cells]\n",
    "#         n_labels = len(set(labels))"
   ]
  },
  {
   "cell_type": "code",
   "execution_count": 19,
   "metadata": {},
   "outputs": [
    {
     "name": "stdout",
     "output_type": "stream",
     "text": [
      "['Age_6_6w', 'Clusters', 'NBins', 'NPeaks', 'Outliers', 'Sex_', 'Tissue_Midbrain']\n"
     ]
    }
   ],
   "source": [
    "f = '/data/proj/scATAC/chromograph/build_20200220_Midbrain/Midbrain_peaks.loom'\n",
    "outfile = '/data/proj/scATAC/chromograph/build_20200220_Midbrain/Midbrain_peaks.agg.loom'\n",
    "with loompy.connect(f, 'r') as ds:\n",
    "    agg_spec = {\n",
    "        \"Age\": \"tally\",\n",
    "        \"Clusters\": \"first\",\n",
    "        \"NPeaks\": \"mean\",\n",
    "        \"NBins\": \"mean\",\n",
    "        \"Sex\": \"tally\",\n",
    "        \"Tissue\": \"tally\",\n",
    "        \"SampleID\": \"tally\",\n",
    "        \"Outliers\": \"mean\"\n",
    "    }\n",
    "    \n",
    "    cells = ds.col_attrs[\"Clusters\"] >= 0\n",
    "    labels = ds.col_attrs[\"Clusters\"][cells]\n",
    "    n_labels = len(set(labels))\n",
    "\n",
    "    logging.info(\"Aggregating clusters\")\n",
    "    \n",
    "    ds.aggregate(outfile, None, \"Clusters\", \"mean\", agg_spec)\n",
    "    with loompy.connect(outfile) as dsout:\n",
    "        print(dsout.ca.keys())\n",
    "#         if n_labels <= 1:\n",
    "#             return"
   ]
  },
  {
   "cell_type": "code",
   "execution_count": null,
   "metadata": {},
   "outputs": [],
   "source": []
  }
 ],
 "metadata": {
  "kernelspec": {
   "display_name": "Chromograph (py3.7)",
   "language": "python",
   "name": "chromograph"
  },
  "language_info": {
   "codemirror_mode": {
    "name": "ipython",
    "version": 3
   },
   "file_extension": ".py",
   "mimetype": "text/x-python",
   "name": "python",
   "nbconvert_exporter": "python",
   "pygments_lexer": "ipython3",
   "version": "3.7.4"
  }
 },
 "nbformat": 4,
 "nbformat_minor": 4
}
