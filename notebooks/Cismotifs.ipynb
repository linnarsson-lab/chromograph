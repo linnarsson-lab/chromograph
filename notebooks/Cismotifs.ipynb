{
 "cells": [
  {
   "cell_type": "code",
   "execution_count": 1,
   "metadata": {},
   "outputs": [],
   "source": [
    "import numpy as np\n",
    "import os\n",
    "import sys\n",
    "import collections\n",
    "import matplotlib.pyplot as plt\n",
    "import gzip\n",
    "import pybedtools\n",
    "from pybedtools import BedTool\n",
    "import warnings\n",
    "\n",
    "sys.path.append('/home/camiel/chromograph/')\n",
    "import chromograph\n",
    "from chromograph.peak_calling.utils import *\n",
    "\n",
    "import cytograph as cg\n",
    "from typing import *\n",
    "\n",
    "import logging\n",
    "logger = logging.getLogger()\n",
    "logging.basicConfig(\n",
    "    format='%(asctime)s %(levelname)-8s %(message)s',\n",
    "    level=logging.INFO,\n",
    "    datefmt='%H:%M:%S')"
   ]
  },
  {
   "cell_type": "code",
   "execution_count": 2,
   "metadata": {},
   "outputs": [],
   "source": [
    "cdir = '/data/proj/scATAC/chromograph/cistromes/cistrome_hg38'\n",
    "motifdir = os.path.join(cdir, os.listdir(cdir)[2])"
   ]
  },
  {
   "cell_type": "code",
   "execution_count": 11,
   "metadata": {},
   "outputs": [
    {
     "name": "stderr",
     "output_type": "stream",
     "text": [
      "14:09:53 INFO     TFs kept: 372   TFs discarded: 72\n"
     ]
    }
   ],
   "source": [
    "files = os.listdir(motifdir)\n",
    "TFs = np.unique([x.split('.')[0] for x in files])\n",
    "\n",
    "valid = []\n",
    "for TF in TFs:\n",
    "    if f\"{TF}.A.bed\" in files:\n",
    "        valid.append(TF)\n",
    "    elif f\"{TF}.B.bed\" in files:\n",
    "        valid.append(TF)\n",
    "    elif f\"{TF}.C.bed\" in files:\n",
    "        valid.append(TF)\n",
    "        \n",
    "discarded = [x for x in TFs if x not in valid]\n",
    "logging.info(f\"TFs kept: {len(valid)}   TFs discarded: {len(discarded)}\")"
   ]
  },
  {
   "cell_type": "code",
   "execution_count": 12,
   "metadata": {},
   "outputs": [],
   "source": [
    "from pybedtools.featurefuncs import *\n",
    "\n",
    "def add_gene(f, gene):\n",
    "    \"\"\"\n",
    "    adds name to feature\n",
    "    \"\"\"\n",
    "    f.name = gene\n",
    "    return f\n",
    "\n",
    "def add_reliability(f, x):\n",
    "    \"\"\"\n",
    "    Adds reliability as 'score' metric in bed.\n",
    "    Reliability scores should correspond to:\n",
    "    A: 3\n",
    "    B: 2\n",
    "    C: 1\n",
    "    D: 0\n",
    "    \"\"\"\n",
    "    f.score = x\n",
    "    return f"
   ]
  },
  {
   "cell_type": "code",
   "execution_count": null,
   "metadata": {},
   "outputs": [
    {
     "name": "stderr",
     "output_type": "stream",
     "text": [
      "16:28:26 INFO     Finished 10 out of 372\n",
      "16:29:29 INFO     Finished 20 out of 372\n",
      "16:30:50 INFO     Finished 30 out of 372\n",
      "16:33:05 INFO     Finished 40 out of 372\n",
      "16:35:45 INFO     Finished 50 out of 372\n",
      "16:38:42 INFO     Finished 60 out of 372\n",
      "16:42:26 INFO     Finished 70 out of 372\n",
      "16:47:39 INFO     Finished 80 out of 372\n",
      "16:52:08 INFO     Finished 90 out of 372\n",
      "16:58:06 INFO     Finished 100 out of 372\n"
     ]
    }
   ],
   "source": [
    "## Merge beds to reference of TF binding sites\n",
    "\n",
    "rel_dict = {'A': 3, 'B': 2, 'C': 1, 'D': 0}\n",
    "\n",
    "rel = {}\n",
    "i = 0\n",
    "M = None\n",
    "\n",
    "for TF in TFs:\n",
    "    for x in ['A','B','C']:\n",
    "        if f\"{TF}.{x}.bed\" in files:\n",
    "            cis = BedTool(os.path.join(motifdir, f\"{TF}.{x}.bed\")).saveas()\n",
    "            cis = cis.each(extend_fields, 5).each(add_gene, TF.split('_')[0]).each(add_reliability, rel_dict[x]).saveas()\n",
    "            if M != None:\n",
    "                M = M.cat(*[cis], postmerge=False).saveas()\n",
    "            else:\n",
    "                M = cis.saveas()\n",
    "            try:\n",
    "                rel[TF] += 1\n",
    "            except:\n",
    "                rel[TF] = 1\n",
    "    i += 1\n",
    "    if i%10 == 0:\n",
    "        logging.info(f\"Finished {i} out of {len(valid)}\")\n",
    "logging.info(f\"Total length: {len(M)} for {len(rel)} Motifs \")\n",
    "M.head()"
   ]
  },
  {
   "cell_type": "code",
   "execution_count": null,
   "metadata": {},
   "outputs": [],
   "source": [
    "M.saveas('/data/proj/scATAC/chromograph/cistromes/cistrome_hg38/cismotifs_merge.bed')"
   ]
  }
 ],
 "metadata": {
  "kernelspec": {
   "display_name": "Chromograph (py3.6)",
   "language": "python",
   "name": "chromograph"
  },
  "language_info": {
   "codemirror_mode": {
    "name": "ipython",
    "version": 3
   },
   "file_extension": ".py",
   "mimetype": "text/x-python",
   "name": "python",
   "nbconvert_exporter": "python",
   "pygments_lexer": "ipython3",
   "version": "3.6.9"
  }
 },
 "nbformat": 4,
 "nbformat_minor": 4
}
