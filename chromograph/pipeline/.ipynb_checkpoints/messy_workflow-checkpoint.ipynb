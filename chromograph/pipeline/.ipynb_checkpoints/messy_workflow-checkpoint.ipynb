{
 "cells": [
  {
   "cell_type": "code",
   "execution_count": 2,
   "metadata": {},
   "outputs": [],
   "source": [
    "import numpy as np\n",
    "import os\n",
    "import sys\n",
    "import collections\n",
    "import matplotlib.pyplot as plt\n",
    "import gzip\n",
    "import loompy\n",
    "import scipy.sparse as sparse\n",
    "import urllib.request\n",
    "import warnings\n",
    "\n",
    "sys.path.append('/home/camiel/chromograph/')\n",
    "\n",
    "from chromograph.pipeline.config import load_config"
   ]
  },
  {
   "cell_type": "code",
   "execution_count": 6,
   "metadata": {},
   "outputs": [],
   "source": [
    "ds = loompy.connect('/data/proj/scATAC/chromograph/build_20191104/Midbrain.loom')"
   ]
  },
  {
   "cell_type": "code",
   "execution_count": 9,
   "metadata": {},
   "outputs": [
    {
     "data": {
      "text/plain": [
       "'Midbrain'"
      ]
     },
     "execution_count": 9,
     "metadata": {},
     "output_type": "execute_result"
    }
   ],
   "source": [
    "ds.attrs['tissue']"
   ]
  },
  {
   "cell_type": "code",
   "execution_count": 30,
   "metadata": {},
   "outputs": [],
   "source": [
    "data = np.array([[1,0,1,1],\n",
    "                 [0,0,1,2],\n",
    "                 [1,1,5,1],\n",
    "                 [0,3,2,4],\n",
    "                 [0,2,1,1]])\n",
    "(cmeans, cstd) = np.mean(data, axis=0), np.std(data, axis=0)\n",
    "(rmeans, rstd) = np.mean(data, axis=1), np.std(data, axis=1)\n",
    "norm = np.divide((data - cmeans), cstd)\n",
    "norm = np.divide((norm.T - rmeans), rstd)\n",
    "norm = norm.T"
   ]
  },
  {
   "cell_type": "code",
   "execution_count": 34,
   "metadata": {},
   "outputs": [
    {
     "data": {
      "text/plain": [
       "array([[ True, False, False, False],\n",
       "       [False, False, False,  True],\n",
       "       [ True, False,  True, False],\n",
       "       [False,  True,  True,  True],\n",
       "       [False,  True, False, False]])"
      ]
     },
     "execution_count": 34,
     "metadata": {},
     "output_type": "execute_result"
    }
   ],
   "source": [
    "norm > np.quantile(norm, 0.6, axis=0)"
   ]
  }
 ],
 "metadata": {
  "kernelspec": {
   "display_name": "Chromograph (py3.7)",
   "language": "python",
   "name": "chromograph"
  },
  "language_info": {
   "codemirror_mode": {
    "name": "ipython",
    "version": 3
   },
   "file_extension": ".py",
   "mimetype": "text/x-python",
   "name": "python",
   "nbconvert_exporter": "python",
   "pygments_lexer": "ipython3",
   "version": "3.7.4"
  }
 },
 "nbformat": 4,
 "nbformat_minor": 4
}
